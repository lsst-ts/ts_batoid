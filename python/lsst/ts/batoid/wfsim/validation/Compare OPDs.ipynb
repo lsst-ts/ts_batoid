{
 "cells": [
  {
   "cell_type": "code",
   "execution_count": null,
   "id": "00498edb-595b-45fc-b3c0-a9f2f613e36a",
   "metadata": {
    "tags": []
   },
   "outputs": [],
   "source": [
    "import matplotlib.pyplot as plt\n",
    "import ipywidgets\n",
    "import astropy.io.fits as fits\n",
    "import numpy as np\n",
    "import galsim"
   ]
  },
  {
   "cell_type": "code",
   "execution_count": null,
   "id": "0ab67c69-75da-4fc0-af67-b12c80cf900c",
   "metadata": {
    "tags": []
   },
   "outputs": [],
   "source": [
    "def get_zk(opd):\n",
    "    xs = np.linspace(-1, 1, opd.shape[0])\n",
    "    ys = np.linspace(-1, 1, opd.shape[1])\n",
    "    xs, ys = np.meshgrid(xs, ys)\n",
    "    w = ~opd.mask\n",
    "    basis = galsim.zernike.zernikeBasis(22, xs[w], ys[w], R_inner=0.61)\n",
    "    zk, *_ = np.linalg.lstsq(basis.T, opd[w], rcond=None)\n",
    "    return zk"
   ]
  },
  {
   "cell_type": "code",
   "execution_count": null,
   "id": "c8c68a9c-f024-4ccd-8f4f-33ddf1e4b54d",
   "metadata": {
    "tags": []
   },
   "outputs": [],
   "source": [
    "def sub_ptt(opd):\n",
    "    xs = np.linspace(-1, 1, opd.shape[0])\n",
    "    ys = np.linspace(-1, 1, opd.shape[1])\n",
    "    xs, ys = np.meshgrid(xs, ys)\n",
    "    zk = get_zk(opd)\n",
    "    opd -= galsim.zernike.Zernike(zk[:4], R_inner=0.61)(xs, ys)\n",
    "    return opd"
   ]
  },
  {
   "cell_type": "code",
   "execution_count": null,
   "id": "9caa93da-e052-4077-b9b9-c6169f20b6a1",
   "metadata": {
    "tags": []
   },
   "outputs": [],
   "source": [
    "def getdata(imode, ifield):\n",
    "    wfsim_opd = fits.getdata(f\"wfsim_opds/opd/opd_mode_{imode}_field_{ifield}.fits.gz\")\n",
    "    wfsim_opd = np.ma.masked_array(wfsim_opd, mask=(wfsim_opd==0))\n",
    "    \n",
    "    wfsim_simple_opd = fits.getdata(f\"wfsim_simple_opds/opd/opd_mode_{imode}_field_{ifield}.fits.gz\")\n",
    "    wfsim_simple_opd = np.ma.masked_array(wfsim_simple_opd, mask=(wfsim_simple_opd==0))\n",
    "\n",
    "    ts_phosim_opd = fits.getdata(f\"ts_phosim_opds/opd/opd_mode_{imode}_field_{ifield}.fits.gz\")\n",
    "    ts_phosim_opd = np.ma.masked_array(ts_phosim_opd, mask=(ts_phosim_opd==0))\n",
    "\n",
    "    wfsim_opd -= fits.getdata(f\"wfsim_opds/opd/opd_nominal_field_{ifield}.fits.gz\")\n",
    "    wfsim_simple_opd -= fits.getdata(f\"wfsim_simple_opds/opd/opd_nominal_field_{ifield}.fits.gz\")\n",
    "    ts_phosim_opd -= fits.getdata(f\"ts_phosim_opds/opd/opd_nominal_field_{ifield}.fits.gz\")\n",
    "    \n",
    "    return sub_ptt(wfsim_opd), sub_ptt(wfsim_simple_opd), sub_ptt(ts_phosim_opd)"
   ]
  },
  {
   "cell_type": "code",
   "execution_count": null,
   "id": "b324c642-6ad4-406f-abcd-5e71f2f7e594",
   "metadata": {
    "tags": []
   },
   "outputs": [],
   "source": [
    "@ipywidgets.interact(\n",
    "    imode=ipywidgets.BoundedIntText(value=0, min=0, max=49),\n",
    "    ifield=ipywidgets.BoundedIntText(value=0, min=0, max=34),\n",
    ")\n",
    "def f(imode, ifield):\n",
    "    wfsim_opd, wfsim_simple_opd, ts_phosim_opd = getdata(imode, ifield)\n",
    "    sensM = fits.getdata(\"sensM.fits\")\n",
    "    fig, axes = plt.subplots(nrows=2, ncols=3, figsize=(10, 6))\n",
    "    vmax = np.max(np.abs(ts_phosim_opd))\n",
    "    ims = []\n",
    "    ims.append(axes[0,0].imshow(wfsim_opd, vmin=-vmax, vmax=vmax, cmap='seismic'))\n",
    "    ims.append(axes[0,1].imshow(wfsim_simple_opd, vmin=-vmax, vmax=vmax, cmap='seismic'))\n",
    "    ims.append(axes[0,2].imshow(ts_phosim_opd, vmin=-vmax, vmax=vmax, cmap='seismic'))\n",
    "    \n",
    "    vmax *= 0.01\n",
    "    zk = sensM[ifield, :, imode]\n",
    "    Z = galsim.zernike.Zernike([0]*4+zk.tolist(), R_inner=0.61)\n",
    "    opd = np.zeros_like(ts_phosim_opd)\n",
    "    xs = np.linspace(-1, 1, opd.shape[0])\n",
    "    ys = np.linspace(-1, 1, opd.shape[1])\n",
    "    xs, ys = np.meshgrid(xs, ys)\n",
    "    w = ~opd.mask\n",
    "    opd[w] = Z(xs[w], ys[w])\n",
    "    \n",
    "    ims.append(axes[1,0].imshow(wfsim_opd-opd, vmin=-vmax, vmax=vmax, cmap='seismic'))\n",
    "    ims.append(axes[1,1].imshow(wfsim_simple_opd-opd, vmin=-vmax, vmax=vmax, cmap='seismic'))\n",
    "    ims.append(axes[1,2].imshow(ts_phosim_opd-opd, vmin=-vmax, vmax=vmax, cmap='seismic'))\n",
    "\n",
    "    for i, im in enumerate(ims):\n",
    "        plt.colorbar(im, ax=axes.ravel()[i])\n",
    "    axes[0,0].set_title(\"wfsim\")\n",
    "    axes[0,1].set_title(\"wfsim_simple\")    \n",
    "    axes[0,2].set_title(\"ts_phosim\")    \n",
    "    plt.tight_layout()\n",
    "    plt.show()\n",
    "    \n",
    "    wfsim_zk = get_zk(wfsim_opd)\n",
    "    wfsim_simple_zk = get_zk(wfsim_simple_opd)\n",
    "    ts_phosim_zk = get_zk(ts_phosim_opd)\n",
    "    \n",
    "    print(\" j        sensM          full        simple     ts_phosim      d(full)     d(simple)    d(ts_phosim)\")\n",
    "    print(\"=\"*100)\n",
    "    for j in range(4, 23):\n",
    "        out = f\"{j:2d} {zk[j-4]*1e3:12.4f}  \"\n",
    "        out += f\"{wfsim_zk[j]*1e3:12.4f}  {wfsim_simple_zk[j]*1e3:12.4f}  {ts_phosim_zk[j]*1e3:12.4f}\"\n",
    "        out += f\" {(wfsim_zk[j]-zk[j-4])*1e3:12.4f}  {(wfsim_simple_zk[j]-zk[j-4])*1e3:12.4f}\"\n",
    "        out += f\"    {(ts_phosim_zk[j]-zk[j-4])*1e3:12.4f}\"\n",
    "        print(out)\n",
    "    print(\"=\"*100)\n",
    "    out = \"rss\"\n",
    "    out += f\"{np.sqrt(np.sum(np.square(zk*1e3))):12.4f}\"\n",
    "    out += f\"  {np.sqrt(np.sum(np.square(wfsim_zk[4:]*1e3))):12.4f}\"\n",
    "    out += f\"  {np.sqrt(np.sum(np.square(wfsim_simple_zk[4:]*1e3))):12.4f}\"\n",
    "    out += f\"  {np.sqrt(np.sum(np.square(ts_phosim_zk[4:]*1e3))):12.4f}\"\n",
    "    out += f\" {np.sqrt(np.sum(np.square((wfsim_zk[4:]-zk)*1e3))):12.4f}\"\n",
    "    out += f\"  {np.sqrt(np.sum(np.square((wfsim_simple_zk[4:]-zk)*1e3))):12.4f}\"\n",
    "    out += f\"    {np.sqrt(np.sum(np.square((ts_phosim_zk[4:]-zk)*1e3))):12.4f}\"\n",
    "    print(out)\n",
    "    out = \"rssr/rss\"\n",
    "    out += \" \"*50\n",
    "    out += f\"{np.sqrt(np.sum(np.square(wfsim_zk[4:]-zk)))/np.sqrt(np.sum(np.square(zk))):12.4f}\"\n",
    "    out += f\"  {np.sqrt(np.sum(np.square(wfsim_simple_zk[4:]-zk)))/np.sqrt(np.sum(np.square(zk))):12.4f}\"\n",
    "    out += f\"    {np.sqrt(np.sum(np.square(ts_phosim_zk[4:]-zk)))/np.sqrt(np.sum(np.square(zk))):12.4f}\"\n",
    "    print(out)\n",
    "    \n",
    "    # rss = np.sqrt(np.sum(np.square(ts_phosim_zk[4:])))\n",
    "    # rssr_wfsim = np.sqrt(np.sum(np.square(wfsim_zk[4:]-ts_phosim_zk[4:])))\n",
    "    # rssr_wfsim_simple = np.sqrt(np.sum(np.square(wfsim_simple_zk[4:]-ts_phosim_zk[4:])))\n",
    "    # print(f\"wfsim fractional rss residual = {rssr_wfsim/rss:10.6f}\")\n",
    "    # print(f\"simple fractional rss residual = {rssr_wfsim_simple/rss:10.6f}\")"
   ]
  },
  {
   "cell_type": "code",
   "execution_count": null,
   "id": "76e42112-cb21-48f3-a6d7-f3556df0cac8",
   "metadata": {},
   "outputs": [],
   "source": []
  }
 ],
 "metadata": {
  "kernelspec": {
   "display_name": "Python 3 (ipykernel)",
   "language": "python",
   "name": "python3"
  },
  "language_info": {
   "codemirror_mode": {
    "name": "ipython",
    "version": 3
   },
   "file_extension": ".py",
   "mimetype": "text/x-python",
   "name": "python",
   "nbconvert_exporter": "python",
   "pygments_lexer": "ipython3",
   "version": "3.8.12"
  }
 },
 "nbformat": 4,
 "nbformat_minor": 5
}
