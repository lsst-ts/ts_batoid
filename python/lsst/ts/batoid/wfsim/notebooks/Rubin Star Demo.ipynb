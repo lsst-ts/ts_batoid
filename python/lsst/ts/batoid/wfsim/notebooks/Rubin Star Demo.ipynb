{
 "cells": [
  {
   "cell_type": "code",
   "execution_count": null,
   "id": "dd999061-b448-4be4-ab5d-004446b6a3c6",
   "metadata": {
    "tags": []
   },
   "outputs": [],
   "source": [
    "%load_ext autoreload\n",
    "%autoreload 2"
   ]
  },
  {
   "cell_type": "code",
   "execution_count": null,
   "id": "4910d693-1794-401a-b0c1-cbf627d00d9a",
   "metadata": {
    "tags": []
   },
   "outputs": [],
   "source": [
    "import numpy as np\n",
    "import yaml\n",
    "from tqdm.notebook import tqdm\n",
    "import galsim\n",
    "import batoid\n",
    "import wfsim\n",
    "import matplotlib.pyplot as plt"
   ]
  },
  {
   "cell_type": "code",
   "execution_count": null,
   "id": "532fbd28-4090-429a-8998-ffc257bfe325",
   "metadata": {
    "tags": []
   },
   "outputs": [],
   "source": [
    "# Some initial setup\n",
    "# We'll do r-band for this demo.\n",
    "bandpass = galsim.Bandpass(\"LSST_r.dat\", wave_type='nm')\n",
    "telescope = batoid.Optic.fromYaml(\"LSST_r.yaml\")\n",
    "pixel_scale = 10e-6"
   ]
  },
  {
   "cell_type": "code",
   "execution_count": null,
   "id": "ba323e9f-422b-45d9-b3bf-605e2b12af02",
   "metadata": {
    "tags": []
   },
   "outputs": [],
   "source": [
    "bandpass.effective_wavelength"
   ]
  },
  {
   "cell_type": "code",
   "execution_count": null,
   "id": "683d1787-5071-4485-b981-ca3cfcc95506",
   "metadata": {
    "tags": []
   },
   "outputs": [],
   "source": [
    "# Setup observation parameters.  Making ~plausible stuff up.\n",
    "observation = {\n",
    "    'zenith': 30 * galsim.degrees,\n",
    "    'raw_seeing': 0.7 * galsim.arcsec,  # zenith 500nm seeing\n",
    "    'wavelength': bandpass.effective_wavelength,\n",
    "    'exptime': 15.0,  # seconds\n",
    "    'temperature': 293.,  # Kelvin\n",
    "    'pressure': 69.,  #kPa\n",
    "    'H2O_pressure': 1.0  #kPa\n",
    "}"
   ]
  },
  {
   "cell_type": "code",
   "execution_count": null,
   "id": "ee8aa4f6-224d-49ba-9f87-5baf747eedf2",
   "metadata": {
    "tags": []
   },
   "outputs": [],
   "source": [
    "# Setup atmospheric parameters\n",
    "atm_kwargs = {\n",
    "    'screen_size': 819.2,\n",
    "    'screen_scale': 0.1,\n",
    "    'nproc': 6  # create screens in parallel using this many CPUs\n",
    "}"
   ]
  },
  {
   "cell_type": "code",
   "execution_count": null,
   "id": "1e62880a-5f2f-4c2d-a8e4-dda3de775c2b",
   "metadata": {
    "tags": []
   },
   "outputs": [],
   "source": [
    "# We loaded the fiducial telescope, but we actually want to perturb it \n",
    "# out of alignment a bit and misfigure the mirrors a bit.\n",
    "# The big question is how much to perturb each potential \n",
    "# degree-of-freedom.  Let's not dwell on that at the moment though; for\n",
    "# demonstration, the following will do.\n",
    "\n",
    "rng = np.random.default_rng()\n",
    "\n",
    "# Misalignments of M2 and camera first\n",
    "M2_offset = np.array([\n",
    "    rng.uniform(-0.0001, 0.0001),  # meters\n",
    "    rng.uniform(-0.0001, 0.0001),\n",
    "    rng.uniform(-0.00001, 0.00001),\n",
    "])    \n",
    "M2_tilt = (\n",
    "    batoid.RotX(np.deg2rad(rng.uniform(-0.01, 0.01)/60)) @\n",
    "    batoid.RotY(np.deg2rad(rng.uniform(-0.01, 0.01)/60))\n",
    ")\n",
    "\n",
    "camera_offset = np.array([\n",
    "    rng.uniform(-0.001, 0.001),  # meters\n",
    "    rng.uniform(-0.001, 0.001),\n",
    "    rng.uniform(-0.00001, 0.00001),    \n",
    "])\n",
    "camera_tilt = (\n",
    "    batoid.RotX(np.deg2rad(rng.uniform(-0.01, 0.01)/60)) @\n",
    "    batoid.RotY(np.deg2rad(rng.uniform(-0.01, 0.01)/60))\n",
    ")\n",
    "\n",
    "perturbed = (\n",
    "    telescope\n",
    "    .withGloballyShiftedOptic(\"M2\", M2_offset)\n",
    "    .withLocallyRotatedOptic(\"M2\", M2_tilt)\n",
    "    .withGloballyShiftedOptic(\"LSSTCamera\", camera_offset)\n",
    "    .withLocallyRotatedOptic(\"LSSTCamera\", camera_tilt)\n",
    ")\n",
    "\n",
    "# Now let's perturb the mirrors, we should use the actual mirror modes\n",
    "# here, but for now we'll just use Zernike polynomials.  \n",
    "\n",
    "M1M3_modes = rng.uniform(-0.05, 0.05, size=25) # waves\n",
    "M1M3_modes *= bandpass.effective_wavelength*1e-9 # -> meters\n",
    "# M1M3 bends coherently, so use a single Zernike perturbation for both,\n",
    "# Set the outer radius to the M1 radius so the polynomial doesn't \n",
    "# explode.  It's fine to use a circular Zernike here though (no inner \n",
    "# radius).\n",
    "\n",
    "M1M3_surface_perturbation = batoid.Zernike(\n",
    "    M1M3_modes,\n",
    "    R_outer=telescope['M1'].obscuration.original.outer,\n",
    ")\n",
    "perturbed = perturbed.withSurface(\n",
    "    \"M1\",\n",
    "    batoid.Sum([\n",
    "        telescope['M1'].surface,\n",
    "        M1M3_surface_perturbation\n",
    "    ])\n",
    ")\n",
    "perturbed = perturbed.withSurface(\n",
    "    \"M3\",\n",
    "    batoid.Sum([\n",
    "        telescope['M3'].surface,\n",
    "        M1M3_surface_perturbation\n",
    "    ])\n",
    ")\n",
    "\n",
    "# M2 gets independent perturbations from M1M3\n",
    "M2_modes = rng.uniform(-0.05, 0.05, size=25) # waves\n",
    "M2_modes *= bandpass.effective_wavelength*1e-9 # -> meters\n",
    "\n",
    "M2_surface_perturbation = batoid.Zernike(\n",
    "    M2_modes,\n",
    "    R_outer=telescope['M2'].obscuration.original.outer,\n",
    ")\n",
    "perturbed = perturbed.withSurface(\n",
    "    \"M2\",\n",
    "    batoid.Sum([\n",
    "        telescope['M2'].surface,\n",
    "        M2_surface_perturbation\n",
    "    ])\n",
    ")"
   ]
  },
  {
   "cell_type": "code",
   "execution_count": null,
   "id": "02485e45-f8c3-4815-ab4d-fecd7af6c980",
   "metadata": {
    "tags": []
   },
   "outputs": [],
   "source": [
    "# We can take a quick look at how we've perturbed the optics by making \n",
    "# a spot diagram.  The batoid.spot tool returns points in meters, so\n",
    "# we divide by pixel_scale to get pixels.  We also look in a few points\n",
    "# around the field of view to get a global picture.\n",
    "\n",
    "for thx, thy in [(0,0), (-1.5, 0), (1.5, 0), (0, -1.5), (0, 1.5)]:\n",
    "    sx, sy = batoid.spot(\n",
    "        perturbed, \n",
    "        np.deg2rad(thx), np.deg2rad(thy), \n",
    "        bandpass.effective_wavelength*1e-9, \n",
    "        nx=128\n",
    "    )\n",
    "    plt.figure()\n",
    "    plt.scatter(sx/pixel_scale, sy/pixel_scale, s=1)\n",
    "    plt.show()"
   ]
  },
  {
   "cell_type": "code",
   "execution_count": null,
   "id": "2d31742e-11e0-407a-b3e8-c7f7f578576f",
   "metadata": {
    "tags": []
   },
   "outputs": [],
   "source": [
    "simulator = wfsim.SimpleSimulator(\n",
    "    observation,\n",
    "    atm_kwargs,\n",
    "    perturbed,\n",
    "    bandpass,\n",
    "    shape=(4096, 4096),\n",
    "    rng=rng\n",
    ")"
   ]
  },
  {
   "cell_type": "code",
   "execution_count": null,
   "id": "ae1e9db9-99f8-4ed2-b070-2a4f4c811eca",
   "metadata": {
    "tags": []
   },
   "outputs": [],
   "source": [
    "catalog = wfsim.MockStarCatalog()"
   ]
  },
  {
   "cell_type": "code",
   "execution_count": null,
   "id": "fca2bbd8-8ab8-4a39-b00c-60d4ff3ffb4f",
   "metadata": {
    "tags": []
   },
   "outputs": [],
   "source": [
    "def corners():\n",
    "    import lsst.sphgeom as sphgeom\n",
    "    center = sphgeom.UnitVector3d(1, 0, 0)\n",
    "    # Get a random direction for a corner:\n",
    "    axis1 = sphgeom.UnitVector3d.orthogonalTo(center)\n",
    "    axis2 = sphgeom.UnitVector3d.orthogonalTo(center, axis1)\n",
    "    angle = sphgeom.Angle.fromDegrees(4200*0.2/3600/2)\n",
    "    bottom = center.rotatedAround(axis1, -angle)\n",
    "    top = center.rotatedAround(axis1, angle)\n",
    "    corner1 = bottom.rotatedAround(axis2, -angle)    \n",
    "    corner2 = bottom.rotatedAround(axis2, angle)    \n",
    "    corner3 = top.rotatedAround(axis2, -angle)    \n",
    "    corner4 = top.rotatedAround(axis2, angle)    \n",
    "    poly = sphgeom.ConvexPolygon([corner1, corner2, corner3, corner4])\n",
    "    return poly"
   ]
  },
  {
   "cell_type": "code",
   "execution_count": null,
   "id": "6cdc5240-2fd1-435f-8c8b-fc068619350d",
   "metadata": {
    "tags": []
   },
   "outputs": [],
   "source": [
    "xyz, mag = catalog.get_stars(corners())\n",
    "ra = np.arctan2(xyz[:,1], xyz[:,0])\n",
    "dec = np.arcsin(xyz[:,2], np.hypot(xyz[:,0], xyz[:,1]))\n",
    "phot = (32.36 * 15 * 10**(-0.4*(mag-24.0))).astype(int)  # Using WeakLensingDeblending zeropoints\n",
    "print(f\"{np.sum(phot):_d} photons\")"
   ]
  },
  {
   "cell_type": "code",
   "execution_count": null,
   "id": "7041c9bf-518c-4aa0-ab64-9802a3ffca34",
   "metadata": {
    "tags": []
   },
   "outputs": [],
   "source": [
    "with tqdm(total=np.sum(phot), unit_scale=True) as pbar:\n",
    "    for ra_, dec_, phot_ in zip(ra, dec, phot):\n",
    "        star_T = rng.uniform(4000, 10000)\n",
    "        sed = wfsim.BBSED(star_T)\n",
    "        simulator.add_star(ra_, dec_, sed, phot_, rng)\n",
    "        pbar.update(phot_)"
   ]
  },
  {
   "cell_type": "code",
   "execution_count": null,
   "id": "8bd045f3-c524-4b4a-bbfb-ee3901276af0",
   "metadata": {
    "tags": []
   },
   "outputs": [],
   "source": [
    "skymag = 20.5  # Also WLD value\n",
    "skyphot_arcsec = (32.36 * 15 * 10**(-0.4*(skymag-24.0)))\n",
    "skyphot_pixel = skyphot_arcsec * 0.2**2"
   ]
  },
  {
   "cell_type": "code",
   "execution_count": null,
   "id": "623bfd7d-9da1-412e-9d46-564a0c5e0812",
   "metadata": {
    "tags": []
   },
   "outputs": [],
   "source": [
    "simulator.add_background(skyphot_pixel, rng)"
   ]
  },
  {
   "cell_type": "code",
   "execution_count": null,
   "id": "e501fe17-d953-428d-9df6-938162a2b672",
   "metadata": {
    "tags": []
   },
   "outputs": [],
   "source": [
    "%matplotlib widget\n",
    "plt.figure(figsize=(7, 7))\n",
    "plt.imshow(simulator.image.array, vmin=-30, vmax=300, cmap='Greys_r')\n",
    "plt.show()"
   ]
  },
  {
   "cell_type": "code",
   "execution_count": null,
   "id": "b0871f8d-29ff-41c2-a1bb-016e44848e79",
   "metadata": {
    "tags": []
   },
   "outputs": [],
   "source": [
    "# Repeat with intrafocal\n",
    "intra_telescope = perturbed.withGloballyShiftedOptic(\"Detector\", [0,0,-0.0015])"
   ]
  },
  {
   "cell_type": "code",
   "execution_count": null,
   "id": "5634c8d7-0bea-463d-aff4-fa6717a12288",
   "metadata": {
    "tags": []
   },
   "outputs": [],
   "source": [
    "intra_simulator = wfsim.SimpleSimulator(\n",
    "    observation,\n",
    "    atm_kwargs,\n",
    "    intra_telescope,\n",
    "    bandpass,\n",
    "    shape=(4096, 4096),\n",
    "    rng=rng\n",
    ")"
   ]
  },
  {
   "cell_type": "code",
   "execution_count": null,
   "id": "475058f2-b09f-433f-b687-68ee223d958c",
   "metadata": {
    "tags": []
   },
   "outputs": [],
   "source": [
    "with tqdm(total=np.sum(phot), unit_scale=True) as pbar:\n",
    "    for ra_, dec_, phot_ in zip(ra, dec, phot):\n",
    "        star_T = rng.uniform(4000, 10000)\n",
    "        sed = wfsim.BBSED(star_T)\n",
    "        intra_simulator.add_star(ra_, dec_, sed, phot_, rng)\n",
    "        pbar.update(phot_)"
   ]
  },
  {
   "cell_type": "code",
   "execution_count": null,
   "id": "c24652fb-488e-4da5-ba7a-4184fd27082f",
   "metadata": {
    "tags": []
   },
   "outputs": [],
   "source": [
    "intra_simulator.add_background(skyphot_pixel, rng)"
   ]
  },
  {
   "cell_type": "code",
   "execution_count": null,
   "id": "a20ba0f4-3006-4927-a117-307f851b618b",
   "metadata": {
    "tags": []
   },
   "outputs": [],
   "source": [
    "plt.figure(figsize=(7, 7))\n",
    "# plt.imshow(intra_simulator.image.array, vmin=-30, vmax=300, cmap='Greys_r')\n",
    "plt.imshow(np.arcsinh(intra_simulator.image.array), vmin=-3, vmax=9, cmap='Greys_r')\n",
    "plt.show()"
   ]
  },
  {
   "cell_type": "code",
   "execution_count": null,
   "id": "19cb7f5a-dccb-4bfa-bb15-6d0be1620f00",
   "metadata": {},
   "outputs": [],
   "source": []
  }
 ],
 "metadata": {
  "kernelspec": {
   "display_name": "Python 3 (ipykernel)",
   "language": "python",
   "name": "python3"
  },
  "language_info": {
   "codemirror_mode": {
    "name": "ipython",
    "version": 3
   },
   "file_extension": ".py",
   "mimetype": "text/x-python",
   "name": "python",
   "nbconvert_exporter": "python",
   "pygments_lexer": "ipython3",
   "version": "3.8.12"
  }
 },
 "nbformat": 4,
 "nbformat_minor": 5
}
