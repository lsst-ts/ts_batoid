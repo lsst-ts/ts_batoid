{
 "cells": [
  {
   "cell_type": "code",
   "execution_count": null,
   "id": "4910d693-1794-401a-b0c1-cbf627d00d9a",
   "metadata": {
    "tags": []
   },
   "outputs": [],
   "source": [
    "import numpy as np\n",
    "import yaml\n",
    "from tqdm.notebook import tqdm\n",
    "import galsim\n",
    "import batoid\n",
    "import wfsim\n",
    "import matplotlib.pyplot as plt"
   ]
  },
  {
   "cell_type": "code",
   "execution_count": null,
   "id": "532fbd28-4090-429a-8998-ffc257bfe325",
   "metadata": {},
   "outputs": [],
   "source": [
    "# Some initial setup\n",
    "# We'll do r-band for this demo.\n",
    "bandpass = galsim.Bandpass(\"LSST_r.dat\", wave_type='nm')\n",
    "telescope = batoid.Optic.fromYaml(\"LSST_r.yaml\")\n",
    "pixel_scale = 10e-6"
   ]
  },
  {
   "cell_type": "code",
   "execution_count": null,
   "id": "ba323e9f-422b-45d9-b3bf-605e2b12af02",
   "metadata": {},
   "outputs": [],
   "source": [
    "bandpass.effective_wavelength"
   ]
  },
  {
   "cell_type": "code",
   "execution_count": null,
   "id": "683d1787-5071-4485-b981-ca3cfcc95506",
   "metadata": {},
   "outputs": [],
   "source": [
    "# Setup observation parameters.  Making ~plausible stuff up.\n",
    "observation = {\n",
    "    'zenith': 30 * galsim.degrees,\n",
    "    'raw_seeing': 0.7 * galsim.arcsec,  # zenith 500nm seeing\n",
    "    'wavelength': bandpass.effective_wavelength,\n",
    "    'exptime': 15.0,  # seconds\n",
    "    'temperature': 293.,  # Kelvin\n",
    "    'pressure': 69.,  #kPa\n",
    "    'H2O_pressure': 1.0  #kPa\n",
    "}"
   ]
  },
  {
   "cell_type": "code",
   "execution_count": null,
   "id": "ee8aa4f6-224d-49ba-9f87-5baf747eedf2",
   "metadata": {},
   "outputs": [],
   "source": [
    "# Setup atmospheric parameters\n",
    "atm_kwargs = {\n",
    "    'screen_size': 819.2,\n",
    "    'screen_scale': 0.1,\n",
    "    'nproc': 6  # create screens in parallel using this many CPUs\n",
    "}"
   ]
  },
  {
   "cell_type": "code",
   "execution_count": null,
   "id": "1e62880a-5f2f-4c2d-a8e4-dda3de775c2b",
   "metadata": {
    "tags": []
   },
   "outputs": [],
   "source": [
    "# We loaded the fiducial telescope, but we actually want to perturb it \n",
    "# out of alignment a bit and misfigure the mirrors a bit.\n",
    "# The big question is how much to perturb each potential \n",
    "# degree-of-freedom.  Let's not dwell on that at the moment though; for\n",
    "# demonstration, the following will do.\n",
    "\n",
    "rng = np.random.default_rng()\n",
    "\n",
    "# Misalignments of M2 and camera first\n",
    "M2_offset = np.array([\n",
    "    rng.uniform(-0.0001, 0.0001),  # meters\n",
    "    rng.uniform(-0.0001, 0.0001),\n",
    "    rng.uniform(-0.00001, 0.00001),\n",
    "])    \n",
    "M2_tilt = (\n",
    "    batoid.RotX(np.deg2rad(rng.uniform(-0.01, 0.01)/60)) @\n",
    "    batoid.RotY(np.deg2rad(rng.uniform(-0.01, 0.01)/60))\n",
    ")\n",
    "\n",
    "camera_offset = np.array([\n",
    "    rng.uniform(-0.001, 0.001),  # meters\n",
    "    rng.uniform(-0.001, 0.001),\n",
    "    rng.uniform(-0.00001, 0.00001),    \n",
    "])\n",
    "camera_tilt = (\n",
    "    batoid.RotX(np.deg2rad(rng.uniform(-0.01, 0.01)/60)) @\n",
    "    batoid.RotY(np.deg2rad(rng.uniform(-0.01, 0.01)/60))\n",
    ")\n",
    "\n",
    "perturbed = (\n",
    "    telescope\n",
    "    .withGloballyShiftedOptic(\"M2\", M2_offset)\n",
    "    .withLocallyRotatedOptic(\"M2\", M2_tilt)\n",
    "    .withGloballyShiftedOptic(\"LSSTCamera\", camera_offset)\n",
    "    .withLocallyRotatedOptic(\"LSSTCamera\", camera_tilt)\n",
    ")\n",
    "\n",
    "# Now let's perturb the mirrors, we should use the actual mirror modes\n",
    "# here, but for now we'll just use Zernike polynomials.  \n",
    "\n",
    "M1M3_modes = rng.uniform(-0.05, 0.05, size=25) # waves\n",
    "M1M3_modes *= bandpass.effective_wavelength*1e-9 # -> meters\n",
    "# M1M3 bends coherently, so use a single Zernike perturbation for both,\n",
    "# Set the outer radius to the M1 radius so the polynomial doesn't \n",
    "# explode.  It's fine to use a circular Zernike here though (no inner \n",
    "# radius).\n",
    "\n",
    "M1M3_surface_perturbation = batoid.Zernike(\n",
    "    M1M3_modes,\n",
    "    R_outer=telescope['M1'].obscuration.original.outer,\n",
    ")\n",
    "perturbed = perturbed.withSurface(\n",
    "    \"M1\",\n",
    "    batoid.Sum([\n",
    "        telescope['M1'].surface,\n",
    "        M1M3_surface_perturbation\n",
    "    ])\n",
    ")\n",
    "perturbed = perturbed.withSurface(\n",
    "    \"M3\",\n",
    "    batoid.Sum([\n",
    "        telescope['M3'].surface,\n",
    "        M1M3_surface_perturbation\n",
    "    ])\n",
    ")\n",
    "\n",
    "# M2 gets independent perturbations from M1M3\n",
    "M2_modes = rng.uniform(-0.05, 0.05, size=25) # waves\n",
    "M2_modes *= bandpass.effective_wavelength*1e-9 # -> meters\n",
    "\n",
    "M2_surface_perturbation = batoid.Zernike(\n",
    "    M2_modes,\n",
    "    R_outer=telescope['M2'].obscuration.original.outer,\n",
    ")\n",
    "perturbed = perturbed.withSurface(\n",
    "    \"M2\",\n",
    "    batoid.Sum([\n",
    "        telescope['M2'].surface,\n",
    "        M2_surface_perturbation\n",
    "    ])\n",
    ")"
   ]
  },
  {
   "cell_type": "code",
   "execution_count": null,
   "id": "02485e45-f8c3-4815-ab4d-fecd7af6c980",
   "metadata": {
    "tags": []
   },
   "outputs": [],
   "source": [
    "# We can take a quick look at how we've perturbed the optics by making \n",
    "# a spot diagram.  The batoid.spot tool returns points in meters, so\n",
    "# we divide by pixel_scale to get pixels.  We also look in a few points\n",
    "# around the field of view to get a global picture.\n",
    "\n",
    "for thx, thy in [(0,0), (-1.5, 0), (1.5, 0), (0, -1.5), (0, 1.5)]:\n",
    "    sx, sy = batoid.spot(\n",
    "        perturbed, \n",
    "        np.deg2rad(thx), np.deg2rad(thy), \n",
    "        bandpass.effective_wavelength*1e-9, \n",
    "        nx=128\n",
    "    )\n",
    "    plt.figure()\n",
    "    plt.scatter(sx/pixel_scale, sy/pixel_scale, s=1)\n",
    "    plt.show()"
   ]
  },
  {
   "cell_type": "code",
   "execution_count": null,
   "id": "688cf017-1395-413e-8249-47a0b3744c4d",
   "metadata": {},
   "outputs": [],
   "source": [
    "# To make donuts, we need to be intra-focal or extra-focal.\n",
    "# To simulate normal science operations mode, shift the detector:\n",
    "intra = perturbed.withGloballyShiftedOptic(\n",
    "    \"Detector\", [0, 0, -0.0015]\n",
    ")\n",
    "extra = perturbed.withGloballyShiftedOptic(\n",
    "    \"Detector\", [0, 0, +0.0015]\n",
    ")"
   ]
  },
  {
   "cell_type": "code",
   "execution_count": null,
   "id": "2d31742e-11e0-407a-b3e8-c7f7f578576f",
   "metadata": {
    "tags": []
   },
   "outputs": [],
   "source": [
    "intra_simulator = wfsim.SimpleSimulator(\n",
    "    observation,\n",
    "    atm_kwargs,\n",
    "    intra,\n",
    "    bandpass,\n",
    "    shape=(512, 512),\n",
    "    rng=rng\n",
    ")"
   ]
  },
  {
   "cell_type": "code",
   "execution_count": null,
   "id": "c65faea4-707c-4723-ad98-9b2fe5f8380e",
   "metadata": {
    "tags": []
   },
   "outputs": [],
   "source": [
    "# Now we can choose some parameters for a star and start simulating\n",
    "# First, choose a field angle.  At the moment, the simulator code only \n",
    "# works close to the boresight direction, so just use that.  I'll \n",
    "# extend that soon.\n",
    "thx = np.deg2rad(0.0)\n",
    "thy = np.deg2rad(0.0)"
   ]
  },
  {
   "cell_type": "code",
   "execution_count": null,
   "id": "4f431110-a6bb-4fe4-bcee-eda833e086b7",
   "metadata": {
    "tags": []
   },
   "outputs": [],
   "source": [
    "# We also want to simulate chromatically.  We could fetch an actual \n",
    "# stellar SED for this, but it's easier and probably always good enough\n",
    "# to just use a black body with a reasonable temperature.\n",
    "star_T = rng.uniform(4000, 10000)\n",
    "sed = wfsim.BBSED(star_T)"
   ]
  },
  {
   "cell_type": "code",
   "execution_count": null,
   "id": "fe144c8a-545a-4116-829b-904f66012a83",
   "metadata": {
    "tags": []
   },
   "outputs": [],
   "source": [
    "# We also need a flux (which needs to be an integer):\n",
    "flux = int(rng.uniform(1_000_000, 2_000_000))"
   ]
  },
  {
   "cell_type": "code",
   "execution_count": null,
   "id": "82de8a41-5c57-45be-b1e9-955b9ab24914",
   "metadata": {
    "tags": []
   },
   "outputs": [],
   "source": [
    "intra_simulator.add_star(thx, thy, sed, flux, rng)"
   ]
  },
  {
   "cell_type": "code",
   "execution_count": null,
   "id": "92a9f683-d315-4d96-b4b8-49f97d874ad5",
   "metadata": {
    "tags": []
   },
   "outputs": [],
   "source": [
    "# We can look at our star now:\n",
    "plt.figure()\n",
    "plt.imshow(intra_simulator.image.array)\n",
    "plt.show()"
   ]
  },
  {
   "cell_type": "code",
   "execution_count": null,
   "id": "7c124855-2b21-4419-9efb-9ec3ad99ca09",
   "metadata": {},
   "outputs": [],
   "source": [
    "# Our image doesn't have any sky background noise in it yet.  \n",
    "# Here we add some.\n",
    "intra_simulator.add_background(1000.0, rng)"
   ]
  },
  {
   "cell_type": "code",
   "execution_count": null,
   "id": "3f84ce92-8b7c-4912-b5b5-76a8b60def3a",
   "metadata": {},
   "outputs": [],
   "source": [
    "# Here's our final star\n",
    "plt.figure()\n",
    "plt.imshow(intra_simulator.image.array)\n",
    "plt.show()"
   ]
  },
  {
   "cell_type": "code",
   "execution_count": null,
   "id": "397b36bc-2fa9-453c-8ac8-6065e79264d9",
   "metadata": {
    "tags": []
   },
   "outputs": [],
   "source": [
    "# Finally, what were the actual Zernike's for the perturbed telescope\n",
    "# we generated?  Get that using batoid.zernike:\n",
    "zs = batoid.zernike(\n",
    "    perturbed, \n",
    "    thx, thy, \n",
    "    bandpass.effective_wavelength*1e-9  # batoid wants meters,\n",
    ")\n",
    "zs *= bandpass.effective_wavelength # waves -> nm\n",
    "for j in range(4, 23):\n",
    "    print(f\"{j:>2d}  {zs[j]:6.1f} nm\")"
   ]
  },
  {
   "cell_type": "code",
   "execution_count": null,
   "id": "9952ff6b-8a22-4243-9cc3-a284282d252c",
   "metadata": {
    "tags": []
   },
   "outputs": [],
   "source": [
    "# TODO items:\n",
    "# - let image cover non-central regions of the focal plane\n",
    "# - allow easy reuse of the generated atmosphere, but with different\n",
    "#   perturbed telescopes\n",
    "# - allow easy resetting of the accumulated image\n",
    "# - get chip coords from obs_lsst?\n",
    "# - add tech to use phase screen with target Zernikes in front of \n",
    "#   telescope"
   ]
  }
 ],
 "metadata": {
  "kernelspec": {
   "display_name": "Python 3 (ipykernel)",
   "language": "python",
   "name": "python3"
  },
  "language_info": {
   "codemirror_mode": {
    "name": "ipython",
    "version": 3
   },
   "file_extension": ".py",
   "mimetype": "text/x-python",
   "name": "python",
   "nbconvert_exporter": "python",
   "pygments_lexer": "ipython3",
   "version": "3.8.12"
  }
 },
 "nbformat": 4,
 "nbformat_minor": 5
}
