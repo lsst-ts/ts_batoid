{
 "cells": [
  {
   "cell_type": "code",
   "execution_count": 1,
   "metadata": {},
   "outputs": [],
   "source": [
    "import os\n",
    "import argparse\n",
    "\n",
    "from lsst.ts.wep.Utility import FilterType\n",
    "from lsst.ts.ofc.Utility import InstName\n",
    "from lsst.ts.ofc.ctrlIntf.OFCCalculationFactory import OFCCalculationFactory\n",
    "\n",
    "from lsst.ts.phosim.telescope.TeleFacade import TeleFacade\n",
    "from lsst.ts.phosim.PhosimCmpt import PhosimCmpt\n",
    "from lsst.ts.phosim.Utility import getPhoSimPath, getAoclcOutputPath\n",
    "from lsst.ts.phosim.PlotUtil import plotFwhmOfIters\n"
   ]
  },
  {
   "cell_type": "code",
   "execution_count": 3,
   "metadata": {},
   "outputs": [
    {
     "name": "stdout",
     "output_type": "stream",
     "text": [
      "CPU times: user 6min 16s, sys: 5.55 s, total: 6min 21s\n",
      "Wall time: 6min 23s\n"
     ]
    }
   ],
   "source": [
    "%%time\n",
    "\n",
    "\n",
    "#generic default setups \n",
    "numPro = 1\n",
    "iterNum = 5 \n",
    "rotCamInDeg=0.0\n",
    "\n",
    "# Survey parameters\n",
    "filterType = FilterType.REF\n",
    "\n",
    "# Prepare the components \n",
    "\n",
    "#############################\n",
    "#### _preparePhosimCmpt #####\n",
    "#############################\n",
    "\n",
    "#phosimCmpt = _preparePhosimCmpt(phosimDir, filterType, 0.0, numPro)\n",
    "# part of \n",
    "#_preparePhosimCmpt(phosimDir, filterType, rotAngInDeg, numPro)\n",
    "rotAngInDeg = 0 # default \n",
    "numPro = 1 # default \n",
    "# Set the Telescope facade class\n",
    "tele = TeleFacade()\n",
    "tele.addSubSys(addCam=True, addM1M3=True, addM2=True)\n",
    "\n",
    "# set phosim path variable name, by default its phosimPathVar = \"PHOSIMPATH\"\n",
    "# so it returns os.environ[\"PHOSIMPATH\"], \n",
    "# i.e. points to dir set by setup_aos.bash\n",
    "# '/astro/store/epyc/projects/lsst_comm/phosim_syseng4/'\n",
    "phosimDir = getPhoSimPath()\n",
    "tele.setPhoSimDir(phosimDir)\n"
   ]
  },
  {
   "cell_type": "markdown",
   "metadata": {},
   "source": [
    "amazing that the cell above takes so long to work out ! "
   ]
  },
  {
   "cell_type": "code",
   "execution_count": 5,
   "metadata": {},
   "outputs": [
    {
     "name": "stdout",
     "output_type": "stream",
     "text": [
      "CPU times: user 4.05 ms, sys: 2 µs, total: 4.05 ms\n",
      "Wall time: 3.84 ms\n"
     ]
    }
   ],
   "source": [
    "%%time\n",
    "\n",
    "numPro = 1\n",
    "#iterNum = 5 \n",
    "#rotCamInDeg=0.0\n",
    "\n",
    "# Prepare the phosim component\n",
    "phosimCmpt = PhosimCmpt(tele)\n",
    "\n",
    "# Set the telescope survey parameters\n",
    "boresight = (0, 0)\n",
    "zAngleInDeg = 27.0912\n",
    "phosimCmpt.setSurveyParam(filterType=filterType, boresight=boresight,\n",
    "                          zAngleInDeg=zAngleInDeg, rotAngInDeg=rotAngInDeg)\n",
    "\n",
    "# Update the number of processor if necessary\n",
    "\n",
    "if (numPro > 1):\n",
    "    settingFile = phosimCmpt.getSettingFile()\n",
    "    settingFile.updateSetting(\"numPro\", numPro)\n",
    "\n",
    "# Set the seed number for M1M3 surface\n",
    "seedNum = 6\n",
    "phosimCmpt.setSeedNum(seedNum)\n",
    "\n"
   ]
  },
  {
   "cell_type": "code",
   "execution_count": 6,
   "metadata": {},
   "outputs": [
    {
     "name": "stdout",
     "output_type": "stream",
     "text": [
      "CPU times: user 16.6 s, sys: 556 ms, total: 17.1 s\n",
      "Wall time: 17.7 s\n"
     ]
    }
   ],
   "source": [
    "%%time\n",
    "\n",
    "#############################\n",
    "##### _prepareOfcCalc #####\n",
    "#############################\n",
    "\n",
    "# prepare OFC calculation\n",
    "ofcCalc = OFCCalculationFactory.getCalculator(InstName.COMCAM)\n",
    "ofcCalc.setFilter(filterType)\n",
    "ofcCalc.setRotAng(rotAngInDeg)\n",
    "ofcCalc.setGainByPSSN()"
   ]
  },
  {
   "cell_type": "code",
   "execution_count": 7,
   "metadata": {},
   "outputs": [
    {
     "name": "stdout",
     "output_type": "stream",
     "text": [
      "CPU times: user 1.27 ms, sys: 9 µs, total: 1.28 ms\n",
      "Wall time: 1.01 ms\n"
     ]
    }
   ],
   "source": [
    "%%time\n",
    "# Set the telescope state to be the same as the OFC\n",
    "state0 = ofcCalc.getStateAggregated()\n",
    "phosimCmpt.setDofInUm(state0)"
   ]
  },
  {
   "cell_type": "markdown",
   "metadata": {},
   "source": [
    "check how long one iteration takes "
   ]
  },
  {
   "cell_type": "code",
   "execution_count": 10,
   "metadata": {},
   "outputs": [
    {
     "name": "stdout",
     "output_type": "stream",
     "text": [
      "Calculated PSSN is [0.59515269 0.59006253 0.59086933 0.59333341 0.58535632 0.58658711\n",
      " 0.59610244 0.58819379 0.58696264].\n",
      "GQ effective FWHM is 0.5429.\n"
     ]
    },
    {
     "ename": "NameError",
     "evalue": "name '_getComCamSensorNameList' is not defined",
     "output_type": "error",
     "traceback": [
      "\u001b[0;31m---------------------------------------------------------------------------\u001b[0m",
      "\u001b[0;31mNameError\u001b[0m                                 Traceback (most recent call last)",
      "\u001b[0;32m<timed exec>\u001b[0m in \u001b[0;36m<module>\u001b[0;34m\u001b[0m\n",
      "\u001b[0;31mNameError\u001b[0m: name '_getComCamSensorNameList' is not defined"
     ]
    }
   ],
   "source": [
    "%%time\n",
    "\n",
    "# Do the iteration\n",
    "obsId = 9006000\n",
    "opdZkFileName = \"opd.zer\"\n",
    "opdPssnFileName = \"PSSN.txt\"\n",
    "outputDirName = \"pert\"\n",
    "outputImgDirName = \"img\"\n",
    "iterDefaultDirName = \"iter\"\n",
    "dofInUmFileName = \"dofPertInNextIter.mat\"\n",
    "baseOutputDir = ''\n",
    "\n",
    "iterNum = 1\n",
    "rotCamInDeg=0.0\n",
    "\n",
    "\n",
    "#for iterCount in range(iterNum):\n",
    "\n",
    "# Set the observation Id\n",
    "phosimCmpt.setSurveyParam(obsId=obsId)\n",
    "\n",
    "# The iteration directory\n",
    "iterDirName = \"%s%d\" % (iterDefaultDirName, iterCount)\n",
    "\n",
    "# Set the output directory\n",
    "outputDir = os.path.join(baseOutputDir, iterDirName, outputDirName)\n",
    "phosimCmpt.setOutputDir(outputDir)\n",
    "\n",
    "# Set the output image directory\n",
    "outputImgDir = os.path.join(baseOutputDir, iterDirName,\n",
    "                                outputImgDirName)\n",
    "phosimCmpt.setOutputImgDir(outputImgDir)\n",
    "\n",
    "# Generate the OPD image\n",
    "argString = phosimCmpt.getComCamOpdArgsAndFilesForPhoSim()\n",
    "phosimCmpt.runPhoSim(argString)\n",
    "\n",
    "# Analyze the OPD data\n",
    "# Rotate OPD in the reversed direction of camera\n",
    "phosimCmpt.analyzeComCamOpdData(zkFileName=opdZkFileName,\n",
    "                                rotOpdInDeg=-rotCamInDeg,\n",
    "                                pssnFileName=opdPssnFileName)\n",
    "\n",
    "# Get the PSSN from file\n",
    "pssn = phosimCmpt.getOpdPssnFromFile(opdPssnFileName)\n",
    "print(\"Calculated PSSN is %s.\" % pssn)\n",
    "\n",
    "# Get the GQ effective FWHM from file\n",
    "gqEffFwhm = phosimCmpt.getOpdGqEffFwhmFromFile(opdPssnFileName)\n",
    "print(\"GQ effective FWHM is %.4f.\" % gqEffFwhm)\n",
    "\n",
    "    "
   ]
  },
  {
   "cell_type": "code",
   "execution_count": 12,
   "metadata": {},
   "outputs": [
    {
     "data": {
      "text/plain": [
       "'/data/epyc/projects/lsst_comm/iter0/pert/opd.inst -i lsst -e 1 -c /data/epyc/projects/lsst_comm/iter0/pert/opd.cmd -o /data/epyc/projects/lsst_comm/iter0/img > /data/epyc/projects/lsst_comm/iter0/img/opdPhoSim.log 2>&1'"
      ]
     },
     "execution_count": 12,
     "metadata": {},
     "output_type": "execute_result"
    }
   ],
   "source": [
    "argString"
   ]
  },
  {
   "cell_type": "code",
   "execution_count": 11,
   "metadata": {},
   "outputs": [],
   "source": [
    "###################################\n",
    "#### _getComCamSensorNameList #####\n",
    "###################################\n",
    "\n",
    "# Set the FWHM data\n",
    "#refSensorNameList = _getComCamSensorNameList()\n",
    "refSensorNameList = [\"R22_S00\", \"R22_S01\", \"R22_S02\", \"R22_S10\", \"R22_S11\",\n",
    "                      \"R22_S12\", \"R22_S20\", \"R22_S21\", \"R22_S22\"]\n",
    "###################################\n",
    "\n",
    "listOfFWHMSensorData = phosimCmpt.getListOfFwhmSensorData(\n",
    "    opdPssnFileName, refSensorNameList)\n",
    "ofcCalc.setFWHMSensorDataOfCam(listOfFWHMSensorData)\n",
    "\n",
    "# Simulate to get the wavefront sensor data from WEP and calculate\n",
    "# the DOF\n",
    "listOfWfErr = phosimCmpt.mapOpdDataToListOfWfErr(\n",
    "    opdZkFileName, refSensorNameList)\n",
    "ofcCalc.calculateCorrections(listOfWfErr)\n",
    "\n",
    "# Set the new aggregated DOF to phosimCmpt\n",
    "dofInUm = ofcCalc.getStateAggregated()\n",
    "phosimCmpt.setDofInUm(dofInUm)\n",
    "\n",
    "# Save the DOF file\n",
    "phosimCmpt.saveDofInUmFileForNextIter(\n",
    "    dofInUm, dofInUmFileName=dofInUmFileName)\n",
    "\n",
    "# Add the observation ID by 1\n",
    "obsId += 1\n"
   ]
  },
  {
   "cell_type": "code",
   "execution_count": null,
   "metadata": {},
   "outputs": [],
   "source": []
  },
  {
   "cell_type": "code",
   "execution_count": null,
   "metadata": {},
   "outputs": [],
   "source": []
  },
  {
   "cell_type": "code",
   "execution_count": null,
   "metadata": {},
   "outputs": [],
   "source": []
  }
 ],
 "metadata": {
  "kernelspec": {
   "display_name": "lsst_phosim",
   "language": "python",
   "name": "lsst_phosim"
  },
  "language_info": {
   "codemirror_mode": {
    "name": "ipython",
    "version": 3
   },
   "file_extension": ".py",
   "mimetype": "text/x-python",
   "name": "python",
   "nbconvert_exporter": "python",
   "pygments_lexer": "ipython3",
   "version": "3.7.3"
  }
 },
 "nbformat": 4,
 "nbformat_minor": 2
}
