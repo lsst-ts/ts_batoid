{
 "cells": [
  {
   "cell_type": "markdown",
   "metadata": {},
   "source": [
    "# Simulate arrows and letters for corner sensors with PhoSim "
   ]
  },
  {
   "cell_type": "code",
   "execution_count": null,
   "metadata": {},
   "outputs": [],
   "source": [
    "import os\n",
    "import numpy as np \n",
    "import matplotlib.pyplot as plt\n",
    "from astropy.table import Table\n",
    "%matplotlib inline\n",
    "\n",
    "\n",
    "from lsst.ts.phosim.SkySim import SkySim\n",
    "\n",
    "# Survey information\n",
    "mjd = 57648  # arbitrary observation date \n",
    "raInDeg = 0 # boresight in degrees \n",
    "declInDeg = 0\n",
    "rotSkyPos = 0 # rotation angle in degrees \n",
    "starMag = 15 # star magnitude "
   ]
  },
  {
   "cell_type": "code",
   "execution_count": null,
   "metadata": {},
   "outputs": [],
   "source": [
    "import sys\n",
    "sys.path.append('/epyc/users/suberlak/Commissioning/aos/ts_phosim/notebooks/analysis_tools/')\n",
    "import analysisTools as at\n",
    "\n",
    "\n",
    "xPxIntra = np.zeros(0)\n",
    "yPxIntra = np.zeros(0)\n",
    "\n",
    "xPxExtra = np.zeros(0)\n",
    "yPxExtra = np.zeros(0)\n",
    "\n",
    "\n",
    "# arrow\n",
    "xPxArrow, yPxArrow = at.pixel_arrow(x_vertex=1500, y_vertex=3000, width=1100, \n",
    "                spacing=300, diag_spacing=200, xmin=0, xmax=2000,\n",
    "                ymin=0, ymax=4072, xy_offset=1300, print_shape=False )\n",
    "\n",
    "\n",
    "\n",
    "# letters\n",
    "xPxI, yPxI\n",
    "\n",
    "xPxE, yPxE\n",
    "\n",
    "\n",
    "\n",
    "\n",
    "# Make a new instance of SkySim: \n",
    "skySim = SkySim()\n",
    "skySim.setObservationMetaData(raInDeg, declInDeg, rotSkyPos, mjd)\n",
    "\n",
    "# Add the interested stars\n",
    "sensorName = [\"R44_S00_C0\", \"R00_S22_C1\", \"R44_S00_C1\", \"R00_S22_C0\",\n",
    "              \"R04_S20_C1\", \"R40_S02_C0\", \"R04_S20_C0\", \"R40_S02_C1\"]\n",
    "starMag = 15\n",
    "starId = 0\n",
    "for sensor in sensorName:\n",
    "    for ii in range(len(xPx)):\n",
    "        skySim.addStarByChipPos(sensor, starId, xPx[ii],\n",
    "                                yPx[ii], starMag)\n",
    "        starId += 1\n",
    "\n"
   ]
  }
 ],
 "metadata": {
  "kernelspec": {
   "display_name": "lsst-aos",
   "language": "python",
   "name": "lsst-aos"
  },
  "language_info": {
   "codemirror_mode": {
    "name": "ipython",
    "version": 3
   },
   "file_extension": ".py",
   "mimetype": "text/x-python",
   "name": "python",
   "nbconvert_exporter": "python",
   "pygments_lexer": "ipython3",
   "version": "3.7.8"
  }
 },
 "nbformat": 4,
 "nbformat_minor": 4
}
