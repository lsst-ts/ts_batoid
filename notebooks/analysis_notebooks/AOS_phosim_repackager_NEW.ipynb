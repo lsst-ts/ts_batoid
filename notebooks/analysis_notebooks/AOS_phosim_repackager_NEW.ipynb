{
 "cells": [
  {
   "cell_type": "markdown",
   "metadata": {},
   "source": [
    "# AOS phosim_repackager  (NEW)"
   ]
  },
  {
   "cell_type": "code",
   "execution_count": 3,
   "metadata": {},
   "outputs": [],
   "source": [
    "import os\n",
    "import sys\n",
    "import glob\n",
    "import time\n",
    "from collections import defaultdict\n",
    "import astropy.io.fits as fits\n",
    "import astropy.time\n",
    "from lsst.obs.lsst import LsstCam\n",
    "\n",
    "def noao_section_keyword(bbox, flipx=False, flipy=False):\n",
    "    \"\"\"\n",
    "    Convert bounding boxes into NOAO section keywords.\n",
    "    Parameters\n",
    "    ----------\n",
    "    bbox : lsst.afw.geom.Box2I\n",
    "        Bounding box.\n",
    "    flipx : bool\n",
    "        Flag to indicate that data should be flipped in the x-direction.\n",
    "    flipy : bool\n",
    "        Flag to indicate that data should be flipped in the y-direction.\n",
    "    \"\"\"\n",
    "    xmin, xmax = bbox.getMinX()+1, bbox.getMaxX()+1\n",
    "    ymin, ymax = bbox.getMinY()+1, bbox.getMaxY()+1\n",
    "    if flipx:\n",
    "        xmin, xmax = xmax, xmin\n",
    "    if flipy:\n",
    "        ymin, ymax = ymax, ymin\n",
    "    return '[%i:%i,%i:%i]' % (xmin, xmax, ymin, ymax)\n",
    "\n",
    "\n",
    "# class PhoSimRepackager:\n",
    "#     \"\"\"\n",
    "#     Class to repackage phosim amplifier files into single sensor\n",
    "#     MEFs with one HDU per amp.\n",
    "#     \"\"\"\n",
    "\n",
    "\n",
    "# need to abandon that : the amp info is not the same for \n",
    "# the main rafts as for corner rafts ... \n",
    "# def __init__(self):\n",
    "#         self.amp_info_records = list(list(PhosimMapper().camera)[0])\n",
    "\n",
    "# def process_visit(self, visit_dir, out_dir=None, prefix='lsst', verbose=False):\n",
    "#     \"\"\"\n",
    "#     Parameters\n",
    "#     ----------\n",
    "#     visit_dir: str\n",
    "#         Directory containing the phosim amplifier for a given visit.\n",
    "#     out_dir: str [None]\n",
    "#         Output directory for MEF files. If None, then a directory\n",
    "#         with name v<visit #>-<band> will be created in the cwd.\n",
    "#     prefix: str ['lsst']\n",
    "#         Prefix to use to find PhoSim amplifier files in visit_dir.\n",
    "#     verbose: bool [False]\n",
    "#         Set to True to print out time for processing each sensor.\n",
    "#     \"\"\"\n",
    "    \n",
    "rootDir  = '/epyc/users/suberlak/Commissioning/aos/ts_phosim/notebooks/analysis_scripts/results_wfs/arrowStarsLetters_2020_44/'\n",
    "phosimOutputDir = os.path.join(rootDir, 'iter0/img/')\n",
    "rawImgDir = os.path.join(phosimOutputDir, 'intra/')\n",
    "visit_dir   = rawImgDir\n",
    "prefix='lsst'\n",
    "\n",
    "\n",
    "# this is fine : phosim names are unchanged.... \n",
    "phosim_amp_files \\\n",
    "    = sorted(glob.glob(os.path.join(visit_dir, f'{prefix}_a_*')))\n",
    "amp_files = defaultdict(list)\n",
    "for item in phosim_amp_files:\n",
    "    sensor_id = '_'.join(os.path.basename(item).split('_')[4:6])\n",
    "    amp_files[sensor_id].append(item)\n",
    "    \n",
    "out_dir = '.'\n",
    "if out_dir is None:\n",
    "    tokens = os.path.basename(phosim_amp_files[0]).split('_')\n",
    "    out_dir = 'v%07i-%s' % (int(tokens[2]), 'ugrizy'[int(tokens[3][1])])\n",
    "    print(out_dir)\n",
    "# if not os.path.isdir(out_dir):\n",
    "#     os.mkdir(out_dir)\n"
   ]
  },
  {
   "cell_type": "code",
   "execution_count": 14,
   "metadata": {},
   "outputs": [
    {
     "data": {
      "text/plain": [
       "dict_keys(['R00_S22', 'R04_S20', 'R40_S02', 'R44_S00'])"
      ]
     },
     "execution_count": 14,
     "metadata": {},
     "output_type": "execute_result"
    }
   ],
   "source": [
    "amp_files.keys()"
   ]
  },
  {
   "cell_type": "code",
   "execution_count": 40,
   "metadata": {},
   "outputs": [],
   "source": [
    "#amp_files['R00_S22']"
   ]
  },
  {
   "cell_type": "code",
   "execution_count": 9,
   "metadata": {},
   "outputs": [
    {
     "data": {
      "text/plain": [
       "'/epyc/users/suberlak/Commissioning/aos/ts_phosim/notebooks/analysis_scripts/results_wfs/arrowStarsLetters_2020_44/iter0/img/intra/lsst_a_9006002_f1_R44_S00_C00_E000.fits.gz'"
      ]
     },
     "execution_count": 9,
     "metadata": {},
     "output_type": "execute_result"
    }
   ],
   "source": [
    "amp_files[sensor_id][0]"
   ]
  },
  {
   "cell_type": "code",
   "execution_count": null,
   "metadata": {},
   "outputs": [],
   "source": [
    " segments = dict()\n",
    "        for fn in phosim_amp_files:\n",
    "            # Get the channel id from the filename written by phosim.\n",
    "            # This is the incorrect channel id, so correct it when\n",
    "            # filling the segments dictionary.\n",
    "            phosim_channel = os.path.basename(fn).split('_')[6][1:]\n",
    "            segments[ch_map[phosim_channel]] = fits.open(fn)[0]\n"
   ]
  },
  {
   "cell_type": "code",
   "execution_count": 7,
   "metadata": {},
   "outputs": [],
   "source": [
    "def mef_filename(phosim_amp_file, out_dir='.'):\n",
    "    \"\"\"\n",
    "    Construct the filename of the output MEF file based\n",
    "    on a phosim single amplifier filename.\n",
    "    \"\"\"\n",
    "    tokens = os.path.basename(phosim_amp_file).split('_')\n",
    "    # Remove the channel identifier.\n",
    "    outfile = '_'.join(tokens[:6] + tokens[7:])\n",
    "    outfile = os.path.join(out_dir, outfile)\n",
    "    # astropy's gzip compression is very slow, so remove any .gz\n",
    "    # extension from the computed output filename and gzip the\n",
    "    # files later.\n",
    "    if outfile.endswith('.gz'):\n",
    "        outfile = outfile[:-len('.gz')]\n",
    "    return outfile\n",
    "\n",
    "\n",
    "for sensor_id in amp_files:\n",
    "    amp_files[sensor_id][0]\n",
    "    #t0 = time.time()\n",
    "    # Skip already-processed and compressed files.\n",
    "    #gzip_file = mef_filename(amp_files[sensor_id][0],\n",
    "    #                              out_dir=out_dir) + '.gz'\n",
    "    #if os.path.isfile(gzip_file):\n",
    "    #    continue\n",
    "    #print(\"repackaging\", gzip_file)\n",
    "    #self.repackage(amp_files[sensor_id], out_dir=out_dir)\n",
    "    #if verbose:\n",
    "    #    print(time.time() - t0)\n",
    "    #    sys.stdout.flush()"
   ]
  },
  {
   "cell_type": "code",
   "execution_count": 39,
   "metadata": {},
   "outputs": [
    {
     "ename": "SyntaxError",
     "evalue": "invalid syntax (<ipython-input-39-fa36b0c0fb86>, line 18)",
     "output_type": "error",
     "traceback": [
      "\u001b[0;36m  File \u001b[0;32m\"<ipython-input-39-fa36b0c0fb86>\"\u001b[0;36m, line \u001b[0;32m18\u001b[0m\n\u001b[0;31m    raft =\u001b[0m\n\u001b[0m           ^\u001b[0m\n\u001b[0;31mSyntaxError\u001b[0m\u001b[0;31m:\u001b[0m invalid syntax\n"
     ]
    }
   ],
   "source": [
    "# new\n",
    "# mef_filename()\n",
    "# BOT  pattern : MC_C_20200825_000032_R00_SW0.fits \n",
    "\n",
    "# Make sure that the outfile name follows the desired pattern:\n",
    "# https://jira.lsstcorp.org/browse/DM-26836 : \n",
    "\n",
    "# We repackage the amplifier images by PhoSim to mimic the output by camera control system (CCS)\n",
    "\n",
    "# The image name consists of 4 parts (e.g. MC_C_20200906_000371_R04_SW1.fits), \n",
    "# where MC=Main Camera, C=CCS (who is in control, CCS or OCS), \n",
    "# 20200906 = obsdate, 000371 = sequence number within obsdate. \n",
    "# The exposure time is not in the file name, but should be in the primary header(s).\n",
    "\n",
    "\n",
    "phosim_amp_file  = amp_files[sensor_id][0]\n",
    "tokens = os.path.basename(phosim_amp_file).split('_')\n",
    "raft = \n",
    "ccd = \n",
    "obsdate = \n",
    "\n",
    "new_outfile  = 'MC_C_%s_%s_%s_%s.fits'%(obsdate, str(sequence).zfill(6), \n",
    "                                       raft,ccd)\n",
    "print(new_outfile)"
   ]
  },
  {
   "cell_type": "code",
   "execution_count": 13,
   "metadata": {},
   "outputs": [
    {
     "data": {
      "text/plain": [
       "'/epyc/users/suberlak/Commissioning/aos/ts_phosim/notebooks/analysis_scripts/results_wfs/arrowStarsLetters_2020_44/iter0/img/intra/lsst_a_9006002_f1_R44_S00_C00_E000.fits.gz'"
      ]
     },
     "execution_count": 13,
     "metadata": {},
     "output_type": "execute_result"
    }
   ],
   "source": [
    "phosim_amp_file"
   ]
  },
  {
   "cell_type": "code",
   "execution_count": 12,
   "metadata": {},
   "outputs": [
    {
     "data": {
      "text/plain": [
       "'./lsst_a_9006002_f1_R44_S00_E000.fits.gz'"
      ]
     },
     "execution_count": 12,
     "metadata": {},
     "output_type": "execute_result"
    }
   ],
   "source": [
    "\n",
    "# Remove the channel identifier.\n",
    "outfile = '_'.join(tokens[:6] + tokens[7:])\n",
    "outfile = os.path.join(out_dir, outfile)\n",
    "outfile"
   ]
  },
  {
   "cell_type": "markdown",
   "metadata": {},
   "source": [
    "# It's getting too complicated to try to edit T-W's code ... perhaps better write a new one  :"
   ]
  },
  {
   "cell_type": "code",
   "execution_count": 41,
   "metadata": {},
   "outputs": [],
   "source": [
    "# 1) read all raw phosim output files to a dictionary \n",
    "rootDir  = '/epyc/users/suberlak/Commissioning/aos/ts_phosim/notebooks/analysis_scripts/results_wfs/arrowStarsLetters_2020_44/'\n",
    "phosimOutputDir = os.path.join(rootDir, 'iter0/img/')\n",
    "rawImgDir = os.path.join(phosimOutputDir, 'intra/')\n",
    "visit_dir   = rawImgDir\n",
    "prefix='lsst'\n",
    "\n",
    "\n",
    "# this is fine : phosim names are unchanged.... \n",
    "phosim_amp_files \\\n",
    "    = sorted(glob.glob(os.path.join(visit_dir, f'{prefix}_a_*')))\n",
    "amp_files = defaultdict(list)\n",
    "for item in phosim_amp_files:\n",
    "    sensor_id = '_'.join(os.path.basename(item).split('_')[4:6])\n",
    "    amp_files[sensor_id].append(item)\n",
    "    \n",
    "out_dir = '.'\n",
    "if out_dir is None:\n",
    "    tokens = os.path.basename(phosim_amp_files[0]).split('_')\n",
    "    out_dir = 'v%07i-%s' % (int(tokens[2]), 'ugrizy'[int(tokens[3][1])])\n",
    "    print(out_dir)"
   ]
  },
  {
   "cell_type": "code",
   "execution_count": 42,
   "metadata": {},
   "outputs": [
    {
     "data": {
      "text/plain": [
       "defaultdict(list,\n",
       "            {'R00_S22': ['/epyc/users/suberlak/Commissioning/aos/ts_phosim/notebooks/analysis_scripts/results_wfs/arrowStarsLetters_2020_44/iter0/img/intra/lsst_a_9006002_f1_R00_S22_C00_E000.fits.gz',\n",
       "              '/epyc/users/suberlak/Commissioning/aos/ts_phosim/notebooks/analysis_scripts/results_wfs/arrowStarsLetters_2020_44/iter0/img/intra/lsst_a_9006002_f1_R00_S22_C01_E000.fits.gz',\n",
       "              '/epyc/users/suberlak/Commissioning/aos/ts_phosim/notebooks/analysis_scripts/results_wfs/arrowStarsLetters_2020_44/iter0/img/intra/lsst_a_9006002_f1_R00_S22_C02_E000.fits.gz',\n",
       "              '/epyc/users/suberlak/Commissioning/aos/ts_phosim/notebooks/analysis_scripts/results_wfs/arrowStarsLetters_2020_44/iter0/img/intra/lsst_a_9006002_f1_R00_S22_C03_E000.fits.gz',\n",
       "              '/epyc/users/suberlak/Commissioning/aos/ts_phosim/notebooks/analysis_scripts/results_wfs/arrowStarsLetters_2020_44/iter0/img/intra/lsst_a_9006002_f1_R00_S22_C04_E000.fits.gz',\n",
       "              '/epyc/users/suberlak/Commissioning/aos/ts_phosim/notebooks/analysis_scripts/results_wfs/arrowStarsLetters_2020_44/iter0/img/intra/lsst_a_9006002_f1_R00_S22_C05_E000.fits.gz',\n",
       "              '/epyc/users/suberlak/Commissioning/aos/ts_phosim/notebooks/analysis_scripts/results_wfs/arrowStarsLetters_2020_44/iter0/img/intra/lsst_a_9006002_f1_R00_S22_C06_E000.fits.gz',\n",
       "              '/epyc/users/suberlak/Commissioning/aos/ts_phosim/notebooks/analysis_scripts/results_wfs/arrowStarsLetters_2020_44/iter0/img/intra/lsst_a_9006002_f1_R00_S22_C07_E000.fits.gz',\n",
       "              '/epyc/users/suberlak/Commissioning/aos/ts_phosim/notebooks/analysis_scripts/results_wfs/arrowStarsLetters_2020_44/iter0/img/intra/lsst_a_9006002_f1_R00_S22_C10_E000.fits.gz',\n",
       "              '/epyc/users/suberlak/Commissioning/aos/ts_phosim/notebooks/analysis_scripts/results_wfs/arrowStarsLetters_2020_44/iter0/img/intra/lsst_a_9006002_f1_R00_S22_C11_E000.fits.gz',\n",
       "              '/epyc/users/suberlak/Commissioning/aos/ts_phosim/notebooks/analysis_scripts/results_wfs/arrowStarsLetters_2020_44/iter0/img/intra/lsst_a_9006002_f1_R00_S22_C12_E000.fits.gz',\n",
       "              '/epyc/users/suberlak/Commissioning/aos/ts_phosim/notebooks/analysis_scripts/results_wfs/arrowStarsLetters_2020_44/iter0/img/intra/lsst_a_9006002_f1_R00_S22_C13_E000.fits.gz',\n",
       "              '/epyc/users/suberlak/Commissioning/aos/ts_phosim/notebooks/analysis_scripts/results_wfs/arrowStarsLetters_2020_44/iter0/img/intra/lsst_a_9006002_f1_R00_S22_C14_E000.fits.gz',\n",
       "              '/epyc/users/suberlak/Commissioning/aos/ts_phosim/notebooks/analysis_scripts/results_wfs/arrowStarsLetters_2020_44/iter0/img/intra/lsst_a_9006002_f1_R00_S22_C15_E000.fits.gz',\n",
       "              '/epyc/users/suberlak/Commissioning/aos/ts_phosim/notebooks/analysis_scripts/results_wfs/arrowStarsLetters_2020_44/iter0/img/intra/lsst_a_9006002_f1_R00_S22_C16_E000.fits.gz',\n",
       "              '/epyc/users/suberlak/Commissioning/aos/ts_phosim/notebooks/analysis_scripts/results_wfs/arrowStarsLetters_2020_44/iter0/img/intra/lsst_a_9006002_f1_R00_S22_C17_E000.fits.gz'],\n",
       "             'R04_S20': ['/epyc/users/suberlak/Commissioning/aos/ts_phosim/notebooks/analysis_scripts/results_wfs/arrowStarsLetters_2020_44/iter0/img/intra/lsst_a_9006002_f1_R04_S20_C00_E000.fits.gz',\n",
       "              '/epyc/users/suberlak/Commissioning/aos/ts_phosim/notebooks/analysis_scripts/results_wfs/arrowStarsLetters_2020_44/iter0/img/intra/lsst_a_9006002_f1_R04_S20_C01_E000.fits.gz',\n",
       "              '/epyc/users/suberlak/Commissioning/aos/ts_phosim/notebooks/analysis_scripts/results_wfs/arrowStarsLetters_2020_44/iter0/img/intra/lsst_a_9006002_f1_R04_S20_C02_E000.fits.gz',\n",
       "              '/epyc/users/suberlak/Commissioning/aos/ts_phosim/notebooks/analysis_scripts/results_wfs/arrowStarsLetters_2020_44/iter0/img/intra/lsst_a_9006002_f1_R04_S20_C03_E000.fits.gz',\n",
       "              '/epyc/users/suberlak/Commissioning/aos/ts_phosim/notebooks/analysis_scripts/results_wfs/arrowStarsLetters_2020_44/iter0/img/intra/lsst_a_9006002_f1_R04_S20_C04_E000.fits.gz',\n",
       "              '/epyc/users/suberlak/Commissioning/aos/ts_phosim/notebooks/analysis_scripts/results_wfs/arrowStarsLetters_2020_44/iter0/img/intra/lsst_a_9006002_f1_R04_S20_C05_E000.fits.gz',\n",
       "              '/epyc/users/suberlak/Commissioning/aos/ts_phosim/notebooks/analysis_scripts/results_wfs/arrowStarsLetters_2020_44/iter0/img/intra/lsst_a_9006002_f1_R04_S20_C06_E000.fits.gz',\n",
       "              '/epyc/users/suberlak/Commissioning/aos/ts_phosim/notebooks/analysis_scripts/results_wfs/arrowStarsLetters_2020_44/iter0/img/intra/lsst_a_9006002_f1_R04_S20_C07_E000.fits.gz',\n",
       "              '/epyc/users/suberlak/Commissioning/aos/ts_phosim/notebooks/analysis_scripts/results_wfs/arrowStarsLetters_2020_44/iter0/img/intra/lsst_a_9006002_f1_R04_S20_C10_E000.fits.gz',\n",
       "              '/epyc/users/suberlak/Commissioning/aos/ts_phosim/notebooks/analysis_scripts/results_wfs/arrowStarsLetters_2020_44/iter0/img/intra/lsst_a_9006002_f1_R04_S20_C11_E000.fits.gz',\n",
       "              '/epyc/users/suberlak/Commissioning/aos/ts_phosim/notebooks/analysis_scripts/results_wfs/arrowStarsLetters_2020_44/iter0/img/intra/lsst_a_9006002_f1_R04_S20_C12_E000.fits.gz',\n",
       "              '/epyc/users/suberlak/Commissioning/aos/ts_phosim/notebooks/analysis_scripts/results_wfs/arrowStarsLetters_2020_44/iter0/img/intra/lsst_a_9006002_f1_R04_S20_C13_E000.fits.gz',\n",
       "              '/epyc/users/suberlak/Commissioning/aos/ts_phosim/notebooks/analysis_scripts/results_wfs/arrowStarsLetters_2020_44/iter0/img/intra/lsst_a_9006002_f1_R04_S20_C14_E000.fits.gz',\n",
       "              '/epyc/users/suberlak/Commissioning/aos/ts_phosim/notebooks/analysis_scripts/results_wfs/arrowStarsLetters_2020_44/iter0/img/intra/lsst_a_9006002_f1_R04_S20_C15_E000.fits.gz',\n",
       "              '/epyc/users/suberlak/Commissioning/aos/ts_phosim/notebooks/analysis_scripts/results_wfs/arrowStarsLetters_2020_44/iter0/img/intra/lsst_a_9006002_f1_R04_S20_C16_E000.fits.gz',\n",
       "              '/epyc/users/suberlak/Commissioning/aos/ts_phosim/notebooks/analysis_scripts/results_wfs/arrowStarsLetters_2020_44/iter0/img/intra/lsst_a_9006002_f1_R04_S20_C17_E000.fits.gz'],\n",
       "             'R40_S02': ['/epyc/users/suberlak/Commissioning/aos/ts_phosim/notebooks/analysis_scripts/results_wfs/arrowStarsLetters_2020_44/iter0/img/intra/lsst_a_9006002_f1_R40_S02_C00_E000.fits.gz',\n",
       "              '/epyc/users/suberlak/Commissioning/aos/ts_phosim/notebooks/analysis_scripts/results_wfs/arrowStarsLetters_2020_44/iter0/img/intra/lsst_a_9006002_f1_R40_S02_C01_E000.fits.gz',\n",
       "              '/epyc/users/suberlak/Commissioning/aos/ts_phosim/notebooks/analysis_scripts/results_wfs/arrowStarsLetters_2020_44/iter0/img/intra/lsst_a_9006002_f1_R40_S02_C02_E000.fits.gz',\n",
       "              '/epyc/users/suberlak/Commissioning/aos/ts_phosim/notebooks/analysis_scripts/results_wfs/arrowStarsLetters_2020_44/iter0/img/intra/lsst_a_9006002_f1_R40_S02_C03_E000.fits.gz',\n",
       "              '/epyc/users/suberlak/Commissioning/aos/ts_phosim/notebooks/analysis_scripts/results_wfs/arrowStarsLetters_2020_44/iter0/img/intra/lsst_a_9006002_f1_R40_S02_C04_E000.fits.gz',\n",
       "              '/epyc/users/suberlak/Commissioning/aos/ts_phosim/notebooks/analysis_scripts/results_wfs/arrowStarsLetters_2020_44/iter0/img/intra/lsst_a_9006002_f1_R40_S02_C05_E000.fits.gz',\n",
       "              '/epyc/users/suberlak/Commissioning/aos/ts_phosim/notebooks/analysis_scripts/results_wfs/arrowStarsLetters_2020_44/iter0/img/intra/lsst_a_9006002_f1_R40_S02_C06_E000.fits.gz',\n",
       "              '/epyc/users/suberlak/Commissioning/aos/ts_phosim/notebooks/analysis_scripts/results_wfs/arrowStarsLetters_2020_44/iter0/img/intra/lsst_a_9006002_f1_R40_S02_C07_E000.fits.gz',\n",
       "              '/epyc/users/suberlak/Commissioning/aos/ts_phosim/notebooks/analysis_scripts/results_wfs/arrowStarsLetters_2020_44/iter0/img/intra/lsst_a_9006002_f1_R40_S02_C10_E000.fits.gz',\n",
       "              '/epyc/users/suberlak/Commissioning/aos/ts_phosim/notebooks/analysis_scripts/results_wfs/arrowStarsLetters_2020_44/iter0/img/intra/lsst_a_9006002_f1_R40_S02_C11_E000.fits.gz',\n",
       "              '/epyc/users/suberlak/Commissioning/aos/ts_phosim/notebooks/analysis_scripts/results_wfs/arrowStarsLetters_2020_44/iter0/img/intra/lsst_a_9006002_f1_R40_S02_C12_E000.fits.gz',\n",
       "              '/epyc/users/suberlak/Commissioning/aos/ts_phosim/notebooks/analysis_scripts/results_wfs/arrowStarsLetters_2020_44/iter0/img/intra/lsst_a_9006002_f1_R40_S02_C13_E000.fits.gz',\n",
       "              '/epyc/users/suberlak/Commissioning/aos/ts_phosim/notebooks/analysis_scripts/results_wfs/arrowStarsLetters_2020_44/iter0/img/intra/lsst_a_9006002_f1_R40_S02_C14_E000.fits.gz',\n",
       "              '/epyc/users/suberlak/Commissioning/aos/ts_phosim/notebooks/analysis_scripts/results_wfs/arrowStarsLetters_2020_44/iter0/img/intra/lsst_a_9006002_f1_R40_S02_C15_E000.fits.gz',\n",
       "              '/epyc/users/suberlak/Commissioning/aos/ts_phosim/notebooks/analysis_scripts/results_wfs/arrowStarsLetters_2020_44/iter0/img/intra/lsst_a_9006002_f1_R40_S02_C16_E000.fits.gz',\n",
       "              '/epyc/users/suberlak/Commissioning/aos/ts_phosim/notebooks/analysis_scripts/results_wfs/arrowStarsLetters_2020_44/iter0/img/intra/lsst_a_9006002_f1_R40_S02_C17_E000.fits.gz'],\n",
       "             'R44_S00': ['/epyc/users/suberlak/Commissioning/aos/ts_phosim/notebooks/analysis_scripts/results_wfs/arrowStarsLetters_2020_44/iter0/img/intra/lsst_a_9006002_f1_R44_S00_C00_E000.fits.gz',\n",
       "              '/epyc/users/suberlak/Commissioning/aos/ts_phosim/notebooks/analysis_scripts/results_wfs/arrowStarsLetters_2020_44/iter0/img/intra/lsst_a_9006002_f1_R44_S00_C01_E000.fits.gz',\n",
       "              '/epyc/users/suberlak/Commissioning/aos/ts_phosim/notebooks/analysis_scripts/results_wfs/arrowStarsLetters_2020_44/iter0/img/intra/lsst_a_9006002_f1_R44_S00_C02_E000.fits.gz',\n",
       "              '/epyc/users/suberlak/Commissioning/aos/ts_phosim/notebooks/analysis_scripts/results_wfs/arrowStarsLetters_2020_44/iter0/img/intra/lsst_a_9006002_f1_R44_S00_C03_E000.fits.gz',\n",
       "              '/epyc/users/suberlak/Commissioning/aos/ts_phosim/notebooks/analysis_scripts/results_wfs/arrowStarsLetters_2020_44/iter0/img/intra/lsst_a_9006002_f1_R44_S00_C04_E000.fits.gz',\n",
       "              '/epyc/users/suberlak/Commissioning/aos/ts_phosim/notebooks/analysis_scripts/results_wfs/arrowStarsLetters_2020_44/iter0/img/intra/lsst_a_9006002_f1_R44_S00_C05_E000.fits.gz',\n",
       "              '/epyc/users/suberlak/Commissioning/aos/ts_phosim/notebooks/analysis_scripts/results_wfs/arrowStarsLetters_2020_44/iter0/img/intra/lsst_a_9006002_f1_R44_S00_C06_E000.fits.gz',\n",
       "              '/epyc/users/suberlak/Commissioning/aos/ts_phosim/notebooks/analysis_scripts/results_wfs/arrowStarsLetters_2020_44/iter0/img/intra/lsst_a_9006002_f1_R44_S00_C07_E000.fits.gz',\n",
       "              '/epyc/users/suberlak/Commissioning/aos/ts_phosim/notebooks/analysis_scripts/results_wfs/arrowStarsLetters_2020_44/iter0/img/intra/lsst_a_9006002_f1_R44_S00_C10_E000.fits.gz',\n",
       "              '/epyc/users/suberlak/Commissioning/aos/ts_phosim/notebooks/analysis_scripts/results_wfs/arrowStarsLetters_2020_44/iter0/img/intra/lsst_a_9006002_f1_R44_S00_C11_E000.fits.gz',\n",
       "              '/epyc/users/suberlak/Commissioning/aos/ts_phosim/notebooks/analysis_scripts/results_wfs/arrowStarsLetters_2020_44/iter0/img/intra/lsst_a_9006002_f1_R44_S00_C12_E000.fits.gz',\n",
       "              '/epyc/users/suberlak/Commissioning/aos/ts_phosim/notebooks/analysis_scripts/results_wfs/arrowStarsLetters_2020_44/iter0/img/intra/lsst_a_9006002_f1_R44_S00_C13_E000.fits.gz',\n",
       "              '/epyc/users/suberlak/Commissioning/aos/ts_phosim/notebooks/analysis_scripts/results_wfs/arrowStarsLetters_2020_44/iter0/img/intra/lsst_a_9006002_f1_R44_S00_C14_E000.fits.gz',\n",
       "              '/epyc/users/suberlak/Commissioning/aos/ts_phosim/notebooks/analysis_scripts/results_wfs/arrowStarsLetters_2020_44/iter0/img/intra/lsst_a_9006002_f1_R44_S00_C15_E000.fits.gz',\n",
       "              '/epyc/users/suberlak/Commissioning/aos/ts_phosim/notebooks/analysis_scripts/results_wfs/arrowStarsLetters_2020_44/iter0/img/intra/lsst_a_9006002_f1_R44_S00_C16_E000.fits.gz',\n",
       "              '/epyc/users/suberlak/Commissioning/aos/ts_phosim/notebooks/analysis_scripts/results_wfs/arrowStarsLetters_2020_44/iter0/img/intra/lsst_a_9006002_f1_R44_S00_C17_E000.fits.gz']})"
      ]
     },
     "execution_count": 42,
     "metadata": {},
     "output_type": "execute_result"
    }
   ],
   "source": [
    "amp_files"
   ]
  },
  {
   "cell_type": "code",
   "execution_count": 208,
   "metadata": {},
   "outputs": [
    {
     "name": "stdout",
     "output_type": "stream",
     "text": [
      "Repackaging sensor R44\n",
      "\n",
      " SW1 dict_keys(['17', '16', '15', '14', '13', '12', '11', '10'])\n",
      "Using amp info for R44_SW1\n",
      "lsstCam: 07 --> BOT: 17\n",
      "lsstCam: 06 --> BOT: 16\n",
      "lsstCam: 05 --> BOT: 15\n",
      "lsstCam: 04 --> BOT: 14\n",
      "lsstCam: 03 --> BOT: 13\n",
      "lsstCam: 02 --> BOT: 12\n",
      "lsstCam: 01 --> BOT: 11\n",
      "lsstCam: 00 --> BOT: 10\n",
      "New filename: MC_C_20000217_000032_R44_SW1.fits\n",
      "Saved as ./MC_C_20000217_000032_R44_SW1.fits\n",
      "\n",
      " SW0 dict_keys(['10', '11', '12', '13', '14', '15', '16', '17'])\n",
      "Using amp info for R44_SW0\n",
      "lsstCam: 07 --> BOT: 17\n",
      "lsstCam: 06 --> BOT: 16\n",
      "lsstCam: 05 --> BOT: 15\n",
      "lsstCam: 04 --> BOT: 14\n",
      "lsstCam: 03 --> BOT: 13\n",
      "lsstCam: 02 --> BOT: 12\n",
      "lsstCam: 01 --> BOT: 11\n",
      "lsstCam: 00 --> BOT: 10\n",
      "New filename: MC_C_20000217_000032_R44_SW0.fits\n",
      "Saved as ./MC_C_20000217_000032_R44_SW0.fits\n"
     ]
    }
   ],
   "source": [
    "# 2) For each sensor, repackage amplifiers into a new fits file ... \n",
    "\n",
    "\n",
    "# Need following functions (same order )\n",
    "\n",
    "# process_visit(, visit_dir, out_dir=None, prefix='lsst', )\n",
    "# - provide a list of all phosim files in directory as a dictionary , key corresponds to sensor, eg. amp_files['R00_S22'] , sensor_id comes from phosim filename,\n",
    "# it is fine - we can't from phosim name tell which files are intra and which extra-focal for corner sensors...\n",
    "# - call a repackaging function for each sensor,  eg.  R00_S22,   R22_S00, etc... \n",
    "\n",
    "\n",
    "# repackage_main(amp_files[sensor_id], out_dir=out_dir, camera ) : \n",
    "# - repackaging a collection of amplifier files for each sensor \n",
    "# - need to handle separately main raft, where the current phosim channel mapping is fine , \n",
    "# and corner raft, where different mapping must be in place. \n",
    "\n",
    "# detector =  camera.get(sensor_id) # needs to be \n",
    "# repackage_corner(amp_files[sensor_id], sensor_id,  out_dir ,  camera )\n",
    "# \n",
    "\n",
    "######\n",
    "# single detector \n",
    "##### \n",
    "\n",
    "\n",
    "\n",
    "\n",
    "\n",
    "def repackage_corner(phosim_amp_files, camera, out_dir='.' ):\n",
    "    \n",
    "    # SW1  \n",
    "    ch_map_intra = {'00':'17',\n",
    "                  '01':'16',\n",
    "                  '02':'15',\n",
    "                  '03':'14',\n",
    "                  '04':'13',\n",
    "                  '05':'12',\n",
    "                  '06':'11',\n",
    "                  '07':'10',}\n",
    "\n",
    "    # SW0\n",
    "    ch_map_extra = {\n",
    "                  '10':'10',\n",
    "                  '11':'11',\n",
    "                  '12':'12',\n",
    "                  '13':'13',\n",
    "                  '14':'14',\n",
    "                  '15':'15',\n",
    "                  '16':'16',\n",
    "                  '17':'17' }\n",
    "\n",
    "    # read the intra and extra- amps into segments that will be \n",
    "    # assembled into a fits file \n",
    "    segmentsIntra = {}\n",
    "    segmentsExtra = {}\n",
    "\n",
    "    for filename in phosim_amp_files : \n",
    "        phosim_channel = os.path.basename(filename).split('_')[6][1:]\n",
    "\n",
    "        if phosim_channel in ch_map_intra.keys() :   # one of 00,  01,  02,  03 ...\n",
    "            segmentsIntra[ch_map_intra[phosim_channel]] = fits.open(filename)[0]\n",
    "\n",
    "        elif phosim_channel in ch_map_extra.keys() :   # one of 10, 11, 12, 13, 14 ... \n",
    "            segmentsExtra[ch_map_extra[phosim_channel]] = fits.open(filename)[0]\n",
    "\n",
    "    # read raft from the last file, they are all from the same raft \n",
    "    raft = os.path.basename(filename).split('_')[4]\n",
    "    print('Repackaging sensor %s'%raft)  # eg. R00_S22 ...\n",
    "\n",
    "    lsstCam_to_BOT = {'07':'17',\n",
    "                      '06':'16',\n",
    "                      '05':'15',\n",
    "                      '04':'14', \n",
    "                      '03':'13', \n",
    "                      '02':'12', \n",
    "                      '01':'11', \n",
    "                      '00':'10'}\n",
    "\n",
    "    TELCODE, CONTRLLR, SEQNUM = 'MC', 'C', 32  # define here or elsewhere...\n",
    "\n",
    "    ####\n",
    "    # make  an intra-focal fits \n",
    "    ###\n",
    "    for ccdslot, segments in zip(['SW1', 'SW0'],\n",
    "                             [segmentsIntra, segmentsExtra]\n",
    "                             ):\n",
    "        print('\\n',ccdslot, segments.keys())\n",
    "\n",
    "        # initialize the FITS file \n",
    "        sensor = fits.HDUList(fits.PrimaryHDU())\n",
    "        # NB: in the future, SW0 here would be part, as \n",
    "        # soon as lsstCam amp names get fixed from 01:07 to 10:17 ... \n",
    "        sensorId = '%s_%s'%(raft, ccdslot)  # eg. R00_SW1\n",
    "\n",
    "        print('Using amp info for %s'%sensorId)\n",
    "        detectors = camera.get(sensorId) # eg.  camera.get('R00_SW1')\n",
    "\n",
    "        # iterate over amps \n",
    "        # set amp headers... \n",
    "        for amp in detectors :  # or\n",
    "            ampNameMapper = amp.getName()[1:]\n",
    "            ampNameBOT = lsstCam_to_BOT[ampNameMapper]\n",
    "            print('lsstCam: %s --> BOT: %s'%(ampNameMapper, ampNameBOT ))\n",
    "\n",
    "            hdu = segments[ampNameBOT]\n",
    "            hdu.header['EXTNAME'] = 'Segment%s' % ampNameBOT\n",
    "            hdu.header['DATASEC'] = noao_section_keyword(amp.getRawDataBBox())\n",
    "            hdu.header['DETSEC'] \\\n",
    "                    = noao_section_keyword(amp.getBBox(),\n",
    "                                           flipx=amp.getRawFlipX(),\n",
    "                                           flipy=amp.getRawFlipY())\n",
    "            # Remove the incorrect BIASSEC keyword that phosim writes.\n",
    "            try:\n",
    "                hdu.header.remove('BIASSEC')\n",
    "            except KeyError:\n",
    "                pass\n",
    "            sensor.append(hdu)\n",
    "\n",
    "\n",
    "        # Set keywords in primary HDU, extracting most of the relevant\n",
    "        # ones from the first phosim amplifier file.\n",
    "        chip_id = sensor[1].header['CHIPID']\n",
    "        #parts = chip_id.split('_')\n",
    "        #raft = parts[0]\n",
    "        #ccd = parts[1]\n",
    "        sensor[0].header['EXPTIME'] = sensor[1].header['EXPTIME']   # ok \n",
    "        sensor[0].header['DARKTIME'] = sensor[1].header['DARKTIME'] # ok \n",
    "        sensor[0].header['RUNNUM'] = sensor[1].header['OBSID'] # ok \n",
    "        sensor[0].header['MJD-OBS'] = sensor[1].header['MJD-OBS'] # ok \n",
    "        DATEOBS = astropy.time.Time(sensor[1].header['MJD-OBS'], format='mjd').isot\n",
    "        sensor[0].header['DATE-OBS']= DATEOBS # ok \n",
    "        YEAR, MONTH, DAYTIME= DATEOBS.split('-')\n",
    "        DAY=DAYTIME[:2]\n",
    "        DAYOBS = '%s%s%s'%(YEAR,MONTH,DAY)\n",
    "        sensor[0].header['DAYOBS'] = DAYOBS\n",
    "\n",
    "        DATE = sensor[1].header['DATE']\n",
    "        sensor[0].header['DATE'] =  DATE #file creation date \n",
    "        sensor[0].header['MJD'] =  astropy.time.Time(DATE, format='isot').mjd # file creation date as mjd \n",
    "\n",
    "        sensor[0].header['FILTER'] = sensor[1].header['FILTER']   #  ? \n",
    "\n",
    "        serial = detectors.getSerial() # eg. ITL-4400B-029\n",
    "        CCD_MANU,CCD_TYPE,CCD_NUM = serial.split('-') \n",
    "        sensor[0].header['LSST_NUM'] = serial \n",
    "        sensor[0].header['CCD_MANU'] = CCD_MANU # eg. ITL\n",
    "        sensor[0].header['CCD_TYPE'] = CCD_TYPE  # eg. 4400B\n",
    "\n",
    "        # NB: here I get [1:4072,1:2000], whereas  BOT has '[1:4072,1:4000]' ... \n",
    "        sensor[0].header['DETSIZE'] = noao_section_keyword(detectors.getBBox()) \n",
    "        sensor[0].header['INSTRUME'] = 'lsstCam'\n",
    "        sensor[0].header['TELESCOP'] = 'LSST'\n",
    "\n",
    "\n",
    "        sensor[0].header['TELCODE'] = TELCODE  # eg. MC \n",
    "        sensor[0].header['CONTRLLR'] = CONTRLLR # eg. C \n",
    "        sensor[0].header['SEQNUM'] = SEQNUM # eg. 32 \n",
    "        \n",
    "        OBSID = \"%s_%s_%s_%s\"%(TELCODE, CONTRLLR, DAYOBS, str(SEQNUM).zfill(6))\n",
    "        sensor[0].header['OBSID'] =   OBSID\n",
    "\n",
    "        sensor[0].header['TESTTYPE'] = 'PHOSIM' # ? not one of BIAS, DARK, FE55, FLAT, LAMBDA, PERSISTENCE, SPOT, SFLAT_\n",
    "        sensor[0].header['IMGTYPE'] = 'SKYEXP' # ? not one of BIAS, DARK, FE55, FLAT, FLAT_<lam>, SPOT, PPUMP\n",
    "\n",
    "        #sensor[0].header['MONOWL'] = -1 # not in BOT \n",
    "        sensor[0].header['RAFTBAY'] = raft\n",
    "        sensor[0].header['CCDSLOT'] = ccdslot\n",
    "        # Add boresight pointing angles and rotskypos (angle of sky\n",
    "        # relative to Camera coordinates) from which obs_obs_lsst can\n",
    "        # infer the CCD-wide WCS. --> not needed since not in BOT ... \n",
    "        #sensor[0].header['RATEL'] = sensor[1].header['RA_DEG']\n",
    "        #sensor[0].header['DECTEL'] = sensor[1].header['DEC_DEG']\n",
    "\n",
    "\n",
    "        # get a filename from TELCODE, CONTRLLR,  DAYOBS, SEQNUM , raft, ccdslot  \n",
    "        # MC_C_20200825_000032_R00_SW0.fits\n",
    "        # OBSID already contains TELCODE, CONTRLLR, DAYOBS, str(SEQNUM).zfill(6) - see above \n",
    "        filename = '%s_%s_%s.fits'%(OBSID,raft, ccdslot) \n",
    "        print('New filename: %s'%filename)\n",
    "        filename = os.path.join(out_dir, filename)\n",
    "\n",
    "        # save the FITS file \n",
    "        sensor.writeto(filename, overwrite=True)\n",
    "        print('Saved as %s'%filename)\n",
    "        \n",
    "    return sensor # only for testing, in production should not return anything \n",
    "        \n",
    "        \n",
    "#for sensor_id in amp_files.keys():\n",
    "#sensor_id = list(amp_files.keys())[0]   \n",
    "# check if the file does not already exist \n",
    "# may not be obvious since filename depends on DATE-OBS\n",
    "# in the input amp file header ... \n",
    "# repackage the corner files \n",
    "sensor=repackage_corner(amp_files[sensor_id], camera)"
   ]
  },
  {
   "cell_type": "code",
   "execution_count": 209,
   "metadata": {},
   "outputs": [
    {
     "data": {
      "text/plain": [
       "SIMPLE  =                    T / conforms to FITS standard                      \n",
       "BITPIX  =                    8 / array data type                                \n",
       "NAXIS   =                    0 / number of array dimensions                     \n",
       "EXTEND  =                    T                                                  \n",
       "EXPTIME =                 15.0                                                  \n",
       "DARKTIME=                 15.0                                                  \n",
       "RUNNUM  = '9006002 '                                                            \n",
       "MJD-OBS =     51591.0934411944                                                  \n",
       "DATE-OBS= '2000-02-17T02:14:33.319'                                             \n",
       "DAYOBS  = '20000217'                                                            \n",
       "DATE    = '2020-11-12T04:43:30'                                                 \n",
       "MJD     =         59165.196875                                                  \n",
       "FILTER  = 'g       '                                                            \n",
       "LSST_NUM= 'ITL-4400B-025'                                                       \n",
       "CCD_MANU= 'ITL     '                                                            \n",
       "CCD_TYPE= '4400B   '                                                            \n",
       "DETSIZE = '[1:4072,1:2000]'                                                     \n",
       "INSTRUME= 'lsstCam '                                                            \n",
       "TELESCOP= 'LSST    '                                                            \n",
       "TELCODE = 'MC      '                                                            \n",
       "CONTRLLR= 'C       '                                                            \n",
       "SEQNUM  =                   32                                                  \n",
       "OBSID   = 'MC_C_20000217_000032'                                                \n",
       "TESTTYPE= 'PHOSIM  '                                                            \n",
       "IMGTYPE = 'SKYEXP  '                                                            \n",
       "RAFTBAY = 'R44     '                                                            \n",
       "CCDSLOT = 'SW0     '                                                            "
      ]
     },
     "execution_count": 209,
     "metadata": {},
     "output_type": "execute_result"
    }
   ],
   "source": [
    "sensor[0].header"
   ]
  },
  {
   "cell_type": "code",
   "execution_count": null,
   "metadata": {},
   "outputs": [],
   "source": []
  },
  {
   "cell_type": "code",
   "execution_count": 210,
   "metadata": {},
   "outputs": [
    {
     "name": "stdout",
     "output_type": "stream",
     "text": [
      "cp /astro/store/epyc/users/suberlak/Commissioning/aos/ts_phosim/notebooks/analysis_notebooks/MC_C*.fits /epyc/users/suberlak/Commissioning/aos/ts_phosim/notebooks/analysis_scripts/results_wfs/arrowStarsLetters_2020_44/iter0/img/intraRpkgd/\n",
      "cd /epyc/users/suberlak/Commissioning/aos/ts_phosim/notebooks/analysis_scripts/results_wfs/arrowStarsLetters_2020_44/iter0/img/intraRpkgd/\n"
     ]
    }
   ],
   "source": [
    "#Move the newly repackaged images to a different directory \n",
    "\n",
    "rootDir  = '/epyc/users/suberlak/Commissioning/aos/ts_phosim/notebooks/analysis_scripts/results_wfs/arrowStarsLetters_2020_44/'\n",
    "phosimOutputDir = os.path.join(rootDir, 'iter0/img/')\n",
    "rawImgDir = os.path.join(phosimOutputDir, 'intra/')\n",
    "\n",
    "repackagedImgDir = os.path.join(phosimOutputDir, 'intraRpkgd/')\n",
    "if not os.path.exists(repackagedImgDir):\n",
    "    os.makedirs(repackagedImgDir)\n",
    "\n",
    "currentMCfiles = os.path.join(os.getcwd(),'MC_C*.fits')\n",
    "print(\"cp %s %s\"%(currentMCfiles, repackagedImgDir))\n",
    "print(\"cd %s\"%repackagedImgDir)"
   ]
  },
  {
   "cell_type": "markdown",
   "metadata": {},
   "source": [
    "Ingest these images and see if that works..."
   ]
  },
  {
   "cell_type": "code",
   "execution_count": null,
   "metadata": {},
   "outputs": [],
   "source": [
    "from lsst.obs.lsst.lsstCamMapper.LsstCamMapper."
   ]
  },
  {
   "cell_type": "code",
   "execution_count": null,
   "metadata": {},
   "outputs": [],
   "source": [
    "Make a different mapper file :\n",
    "    /input/_mapper contained one line: \n",
    "        lsst.obs.lsst.phosim.PhosimMapper\n",
    "    change that to \n",
    "        lsst.obs.lsst.lsstCamMapper.LsstCamMapper"
   ]
  },
  {
   "cell_type": "code",
   "execution_count": 199,
   "metadata": {},
   "outputs": [
    {
     "name": "stdout",
     "output_type": "stream",
     "text": [
      "\n",
      "Run in a terminal the following:\n",
      "ingestImages.py /epyc/users/suberlak/Commissioning/aos/ts_phosim/notebooks/analysis_scripts/results_wfs/arrowStarsLetters_2020_44/input/ /epyc/users/suberlak/Commissioning/aos/ts_phosim/notebooks/analysis_scripts/results_wfs/arrowStarsLetters_2020_44/iter0/img/intraRpkgd/*.fits \n"
     ]
    }
   ],
   "source": [
    "# ingest the raw images from intra   to raw1 , but using 2020_24, so that the calib was  \n",
    "\n",
    "isrDir = os.path.join(rootDir, 'input/')\n",
    "\n",
    "rawImgFiles = os.path.join(repackagedImgDir, \"*.fits\")\n",
    "\n",
    "argstring = '%s %s '%(isrDir, rawImgFiles)\n",
    "print(\"\\nRun in a terminal the following:\")\n",
    "print(\"ingestImages.py %s\"%argstring)"
   ]
  },
  {
   "cell_type": "code",
   "execution_count": 229,
   "metadata": {},
   "outputs": [
    {
     "name": "stdout",
     "output_type": "stream",
     "text": [
      "\n",
      "Run in a terminal the following:\n",
      "ingestImages.py /project/scichris/repackagerTest/input/ /project/scichris/repackagerTest/intraRpkgd/*.fits \n"
     ]
    }
   ],
   "source": [
    "# To do the same in the LSP,\n",
    "# first make the /input/ directory and \"_mapper\" file with \"lsst.obs.lsst.lsstCamMapper.LsstCamMapper\" inside... \n",
    "\n",
    "# Then run \n",
    "isrDir = os.path.join('/project/scichris/repackagerTest/', 'input/')\n",
    "\n",
    "rawImgFiles = os.path.join('/project/scichris/repackagerTest/intraRpkgd/', \"*.fits\")\n",
    "\n",
    "\n",
    "argstring = '%s %s '%(isrDir, rawImgFiles)\n",
    "print(\"\\nRun in a terminal the following:\")\n",
    "print(\"ingestImages.py %s\"%argstring)"
   ]
  },
  {
   "cell_type": "code",
   "execution_count": 200,
   "metadata": {},
   "outputs": [
    {
     "data": {
      "text/plain": [
       "SIMPLE  =                    T / conforms to FITS standard                      \n",
       "BITPIX  =                    8 / array data type                                \n",
       "NAXIS   =                    0 / number of array dimensions                     \n",
       "EXTEND  =                    T                                                  \n",
       "EXPTIME =                 15.0                                                  \n",
       "DARKTIME=                 15.0                                                  \n",
       "RUNNUM  = '9006002 '                                                            \n",
       "MJD-OBS =     51591.0934411944                                                  \n",
       "DATE-OBS= '2000-02-17T02:14:33.319'                                             \n",
       "DAYOBS  = '20000217'                                                            \n",
       "DATE    = '2020-11-12T04:43:30'                                                 \n",
       "MJD     =         59165.196875                                                  \n",
       "FILTER  = 'g       '                                                            \n",
       "LSST_NUM= 'ITL-4400B-023'                                                       \n",
       "CCD_MANU= 'ITL     '                                                            \n",
       "CCD_TYPE= '4400B   '                                                            \n",
       "DETSIZE = '[1:4072,1:2000]'                                                     \n",
       "INSTRUME= 'lsstCam '                                                            \n",
       "TELESCOP= 'LSST    '                                                            \n",
       "TELCODE = 'MC      '                                                            \n",
       "CONTRLLR= 'C       '                                                            \n",
       "SEQNUM  =                   32                                                  \n",
       "OBSID   = '9006002 '                                                            \n",
       "TESTTYPE= 'PHOSIM  '                                                            \n",
       "IMGTYPE = 'SKYEXP  '                                                            \n",
       "RAFTBAY = 'R00     '                                                            \n",
       "CCDSLOT = 'SW0     '                                                            "
      ]
     },
     "execution_count": 200,
     "metadata": {},
     "output_type": "execute_result"
    }
   ],
   "source": [
    "sensor[0].header"
   ]
  },
  {
   "cell_type": "code",
   "execution_count": null,
   "metadata": {},
   "outputs": [],
   "source": [
    "This ingests them as \n",
    "\n",
    "MC_C_20000217_000032_R00_SW0.fits --<link>--> (...) /input/raw/9006002/R00/3000021700032-R00-SW0-det191.fits\n",
    "MC_C_20000217_000032_R00_SW1.fits --<link>--> (...) /input/raw/9006002/R00/3000021700032-R00-SW1-det192.fits\n",
    "MC_C_20000217_000032_R04_SW0.fits --<link>--> (...) /input/raw/9006002/R04/3000021700032-R04-SW0-det195.fits\n",
    "MC_C_20000217_000032_R04_SW1.fits --<link>--> (...) /input/raw/9006002/R04/3000021700032-R04-SW1-det196.fits\n",
    "MC_C_20000217_000032_R40_SW0.fits --<link>--> (...) /input/raw/9006002/R40/3000021700032-R40-SW0-det199.fits\n",
    "MC_C_20000217_000032_R40_SW1.fits --<link>--> (...) /input/raw/9006002/R40/3000021700032-R40-SW1-det200.fits\n",
    "MC_C_20000217_000032_R44_SW0.fits --<link>--> (...) /input/raw/9006002/R44/3000021700032-R44-SW0-det203.fits\n",
    "MC_C_20000217_000032_R44_SW1.fits --<link>--> (...) /input/raw/9006002/R44/3000021700032-R44-SW1-det204.fits"
   ]
  },
  {
   "cell_type": "code",
   "execution_count": 163,
   "metadata": {},
   "outputs": [
    {
     "data": {
      "text/plain": [
       "SIMPLE  =                    T / conforms to FITS standard                      \n",
       "BITPIX  =                    8 / array data type                                \n",
       "NAXIS   =                    0 / number of array dimensions                     \n",
       "EXTEND  =                    T                                                  \n",
       "EXPTIME =                 15.0                                                  \n",
       "DARKTIME=                 15.0                                                  \n",
       "RUNNUM  = '9006002 '                                                            \n",
       "MJD-OBS =     51591.0934411944                                                  \n",
       "DATE-OBS= '2000-02-17T02:14:33.319'                                             \n",
       "DAYOBS  = '20000217'                                                            \n",
       "DATE    = '2020-11-12T04:43:30'                                                 \n",
       "MJD     =         59165.196875                                                  \n",
       "FILTER  = 'g       '                                                            \n",
       "LSST_NUM= 'ITL-4400B-025'                                                       \n",
       "CCD_MANU= 'ITL     '                                                            \n",
       "CCD_TYPE= '4400B   '                                                            \n",
       "DETSIZE = '[1:4072,1:2000]'                                                     \n",
       "INSTRUME= 'lsstCam '                                                            \n",
       "TELESCOP= 'LSST    '                                                            \n",
       "TELCODE = 'MC      '                                                            \n",
       "CONTRLLR= 'C       '                                                            \n",
       "SEQNUM  =                   32                                                  \n",
       "OBSID   = '9006002 '                                                            \n",
       "TESTTYPE= 'PHOSIM  '                                                            \n",
       "IMGTYPE = 'SKYEXP  '                                                            \n",
       "RAFTBAY = 'R44     '                                                            \n",
       "CCDSLOT = 'SW0     '                                                            "
      ]
     },
     "execution_count": 163,
     "metadata": {},
     "output_type": "execute_result"
    }
   ],
   "source": [
    "But the BOT files look as so:\n",
    "\n",
    "'/project/shared/BOT/_parent/raw/2020-08-25/3020082500032/3020082500032-R00-SW0-det191.fits',\n",
    " '/project/shared/BOT/_parent/raw/2020-08-25/3020082500032/3020082500032-R00-SW1-det192.fits',\n",
    " '/project/shared/BOT/_parent/raw/2020-08-25/3020082500032/3020082500032-R04-SW0-det195.fits',\n",
    " '/project/shared/BOT/_parent/raw/2020-08-25/3020082500032/3020082500032-R04-SW1-det196.fits',\n",
    " '/project/shared/BOT/_parent/raw/2020-08-25/3020082500032/3020082500032-R40-SW0-det199.fits',\n",
    " '/project/shared/BOT/_parent/raw/2020-08-25/3020082500032/3020082500032-R40-SW1-det200.fits',\n",
    " '/project/shared/BOT/_parent/raw/2020-08-25/3020082500032/3020082500032-R44-SW0-det203.fits',\n",
    " '/project/shared/BOT/_parent/raw/2020-08-25/3020082500032/3020082500032-R44-SW1-det204.fits'\n",
    "    \n",
    "i.e. for BOT they get put inside  /raw/dateobs/, rather than  /raw/runnum/raftbay/"
   ]
  },
  {
   "cell_type": "markdown",
   "metadata": {},
   "source": [
    "Try showing the raw images with butler... "
   ]
  },
  {
   "cell_type": "code",
   "execution_count": 212,
   "metadata": {},
   "outputs": [
    {
     "data": {
      "application/vnd.jupyter.widget-view+json": {
       "model_id": "164e24b6bb194f339c69d0a5469f29ee",
       "version_major": 2,
       "version_minor": 0
      },
      "text/plain": [
       "Canvas(toolbar=Toolbar(toolitems=[('Home', 'Reset original view', 'home', 'home'), ('Back', 'Back to previous …"
      ]
     },
     "metadata": {},
     "output_type": "display_data"
    }
   ],
   "source": [
    "import lsst.daf.persistence as dafPersist\n",
    "import lsst.afw.cameraGeom.utils as cameraGeomUtils\n",
    "import lsst.afw.display as afwDisplay\n",
    "import matplotlib.pyplot as plt   # Not needed for image displays, but used for analysis\n",
    "\n",
    "%matplotlib ipympl\n",
    "%config InlineBackend.figure_format = 'retina'\n",
    "plt.rcParams['figure.figsize'] = (10, 7)\n",
    "\n",
    "afwDisplay.setDefaultBackend(\"matplotlib\")\n",
    "\n",
    "fig = plt.figure()\n",
    "fig.subplots_adjust(hspace=0.1, wspace=0.1)\n",
    "\n",
    "disp = afwDisplay.Display(fig)\n",
    "disp.scale('asinh', 'zscale', Q=2)\n",
    "disp.scale('linear', 'minmax')\n",
    "disp.scale('asinh', 5, 7000, Q=2)\n",
    "\n",
    "disp.setImageColormap('viridis' if True else 'gray')\n",
    "disp.show_colorbar(False)\n",
    "\n",
    "dataType = \"raw\"\n",
    "seqNum = 32"
   ]
  },
  {
   "cell_type": "code",
   "execution_count": 215,
   "metadata": {},
   "outputs": [
    {
     "data": {
      "text/plain": [
       "[('2000-02-17', 3000021700032)]"
      ]
     },
     "execution_count": 215,
     "metadata": {},
     "output_type": "execute_result"
    }
   ],
   "source": [
    "dataRoot = isrDir\n",
    "#calibRoot=os.path.join(dataRoot, \"rerun/rhl\", \"CALIB-6813D\")\n",
    "\n",
    "butler = dafPersist.Butler(dataRoot, )#calibRoot=calibRoot)\n",
    "\n",
    "camera = butler.get(\"camera\")\n",
    "\n",
    "dataId = dict(run='9006002',)# visit='')\n",
    "\n",
    "butler.queryMetadata('raw', ['dayObs', 'visit'], dataId, seqNum=32)"
   ]
  },
  {
   "cell_type": "code",
   "execution_count": null,
   "metadata": {},
   "outputs": [],
   "source": []
  },
  {
   "cell_type": "code",
   "execution_count": 230,
   "metadata": {},
   "outputs": [],
   "source": [
    "#post = butler.get('raw', {'run':'9006002'}) "
   ]
  },
  {
   "cell_type": "code",
   "execution_count": 216,
   "metadata": {},
   "outputs": [
    {
     "data": {
      "application/vnd.jupyter.widget-view+json": {
       "model_id": "b9a45baef3d44d35a64f083932621ed3",
       "version_major": 2,
       "version_minor": 0
      },
      "text/plain": [
       "Canvas(toolbar=Toolbar(toolitems=[('Home', 'Reset original view', 'home', 'home'), ('Back', 'Back to previous …"
      ]
     },
     "metadata": {},
     "output_type": "display_data"
    },
    {
     "name": "stdout",
     "output_type": "stream",
     "text": [
      "Reading 197: No locations for get: datasetType:raw_hdu dataId:DataId(initialdata={'detector': 197, 'run': '9006002', 'seqNum': 32}, tag=set())\n",
      "Reading 198: No locations for get: datasetType:raw_hdu dataId:DataId(initialdata={'detector': 198, 'run': '9006002', 'seqNum': 32}, tag=set())\n",
      "Reading 199: cfitsio error: tried to move past end of file (107) : Opening file '/epyc/users/suberlak/Commissioning/aos/ts_phosim/notebooks/analysis_scripts/results_wfs/arrowStarsLetters_2020_44/input/raw/9006002/R40/3000021700032-R40-SW0-det199.fits[9]' with mode 'r'\n",
      "Reading 200: cfitsio error: tried to move past end of file (107) : Opening file '/epyc/users/suberlak/Commissioning/aos/ts_phosim/notebooks/analysis_scripts/results_wfs/arrowStarsLetters_2020_44/input/raw/9006002/R40/3000021700032-R40-SW1-det200.fits[9]' with mode 'r'\n",
      "Reading 201: No locations for get: datasetType:raw_hdu dataId:DataId(initialdata={'detector': 201, 'run': '9006002', 'seqNum': 32}, tag=set())\n",
      "Reading 202: No locations for get: datasetType:raw_hdu dataId:DataId(initialdata={'detector': 202, 'run': '9006002', 'seqNum': 32}, tag=set())\n",
      "Reading 203: cfitsio error: tried to move past end of file (107) : Opening file '/epyc/users/suberlak/Commissioning/aos/ts_phosim/notebooks/analysis_scripts/results_wfs/arrowStarsLetters_2020_44/input/raw/9006002/R44/3000021700032-R44-SW0-det203.fits[9]' with mode 'r'\n",
      "Reading 204: cfitsio error: tried to move past end of file (107) : Opening file '/epyc/users/suberlak/Commissioning/aos/ts_phosim/notebooks/analysis_scripts/results_wfs/arrowStarsLetters_2020_44/input/raw/9006002/R44/3000021700032-R44-SW1-det204.fits[9]' with mode 'r'\n",
      "Reading 189: No locations for get: datasetType:raw_hdu dataId:DataId(initialdata={'detector': 189, 'run': '9006002', 'seqNum': 32}, tag=set())\n",
      "Reading 190: No locations for get: datasetType:raw_hdu dataId:DataId(initialdata={'detector': 190, 'run': '9006002', 'seqNum': 32}, tag=set())\n",
      "Reading 191: cfitsio error: tried to move past end of file (107) : Opening file '/epyc/users/suberlak/Commissioning/aos/ts_phosim/notebooks/analysis_scripts/results_wfs/arrowStarsLetters_2020_44/input/raw/9006002/R00/3000021700032-R00-SW0-det191.fits[9]' with mode 'r'\n",
      "Reading 192: cfitsio error: tried to move past end of file (107) : Opening file '/epyc/users/suberlak/Commissioning/aos/ts_phosim/notebooks/analysis_scripts/results_wfs/arrowStarsLetters_2020_44/input/raw/9006002/R00/3000021700032-R00-SW1-det192.fits[9]' with mode 'r'\n",
      "Reading 193: No locations for get: datasetType:raw_hdu dataId:DataId(initialdata={'detector': 193, 'run': '9006002', 'seqNum': 32}, tag=set())\n",
      "Reading 194: No locations for get: datasetType:raw_hdu dataId:DataId(initialdata={'detector': 194, 'run': '9006002', 'seqNum': 32}, tag=set())\n",
      "Reading 195: cfitsio error: tried to move past end of file (107) : Opening file '/epyc/users/suberlak/Commissioning/aos/ts_phosim/notebooks/analysis_scripts/results_wfs/arrowStarsLetters_2020_44/input/raw/9006002/R04/3000021700032-R04-SW0-det195.fits[9]' with mode 'r'\n",
      "Reading 196: cfitsio error: tried to move past end of file (107) : Opening file '/epyc/users/suberlak/Commissioning/aos/ts_phosim/notebooks/analysis_scripts/results_wfs/arrowStarsLetters_2020_44/input/raw/9006002/R04/3000021700032-R04-SW1-det196.fits[9]' with mode 'r'\n"
     ]
    }
   ],
   "source": [
    "fig = plt.figure()\n",
    "fig.subplots_adjust(hspace=0.1, wspace=0.1)\n",
    "\n",
    "disp = afwDisplay.Display(fig)\n",
    "disp.scale('asinh', 'zscale', Q=2)\n",
    "disp.scale('linear', 'minmax')\n",
    "disp.scale('asinh', 5, 7000, Q=2)\n",
    "\n",
    "disp.setImageColormap('viridis' if True else 'gray')\n",
    "disp.show_colorbar(False)\n",
    "\n",
    "dataType = \"raw\"\n",
    "seqNum = 32\n",
    "\n",
    "for i, raftName in enumerate(['R40', 'R44', 'R00', 'R04'], 1):\n",
    "    ax = fig.add_subplot(2, 2, i)\n",
    "\n",
    "    detectorNameList = [det.getName() for det in camera if f\"{raftName}\" in det.getName()]\n",
    "\n",
    "    mos = cameraGeomUtils.showCamera(camera,\n",
    "                                     cameraGeomUtils.ButlerImage(butler, dataType, run=dataId[\"run\"], seqNum=seqNum,\n",
    "                                                                  verbose=True),\n",
    "                                     binSize=4, detectorNameList=detectorNameList, display=disp, overlay=False,\n",
    "                                     title=raftName)\n",
    "    disp.show_colorbar(False)"
   ]
  },
  {
   "cell_type": "code",
   "execution_count": 231,
   "metadata": {},
   "outputs": [],
   "source": [
    "# for det in camera:\n",
    "#     print(det.getName())"
   ]
  },
  {
   "cell_type": "code",
   "execution_count": 165,
   "metadata": {},
   "outputs": [],
   "source": [
    "#fn[1].header"
   ]
  },
  {
   "cell_type": "code",
   "execution_count": 145,
   "metadata": {},
   "outputs": [],
   "source": [
    "DATE = sensor[1].header['DATE']\n",
    "sensor[0].header['DATE'] =  DATE #file creation date \n",
    "sensor[0].header['MJD'] =  astropy.time.Time(DATE, format='isot').mjd"
   ]
  },
  {
   "cell_type": "code",
   "execution_count": 232,
   "metadata": {},
   "outputs": [
    {
     "ename": "KeyError",
     "evalue": "\"Keyword 'BINX' not found.\"",
     "output_type": "error",
     "traceback": [
      "\u001b[0;31m---------------------------------------------------------------------------\u001b[0m",
      "\u001b[0;31mKeyError\u001b[0m                                  Traceback (most recent call last)",
      "\u001b[0;32m<ipython-input-232-670c5971be6d>\u001b[0m in \u001b[0;36m<module>\u001b[0;34m\u001b[0m\n\u001b[0;32m----> 1\u001b[0;31m \u001b[0msensor\u001b[0m\u001b[0;34m[\u001b[0m\u001b[0;36m0\u001b[0m\u001b[0;34m]\u001b[0m\u001b[0;34m.\u001b[0m\u001b[0mheader\u001b[0m\u001b[0;34m[\u001b[0m\u001b[0;34m'BINX'\u001b[0m\u001b[0;34m]\u001b[0m\u001b[0;34m\u001b[0m\u001b[0;34m\u001b[0m\u001b[0m\n\u001b[0m",
      "\u001b[0;32m/astro/store/epyc/projects/lsst_comm/stack_w_2020_24/conda/miniconda3-4.7.12/envs/lsst-scipipe-1a1d771/lib/python3.7/site-packages/astropy/io/fits/header.py\u001b[0m in \u001b[0;36m__getitem__\u001b[0;34m(self, key)\u001b[0m\n\u001b[1;32m    146\u001b[0m         \u001b[0;32melse\u001b[0m\u001b[0;34m:\u001b[0m\u001b[0;34m\u001b[0m\u001b[0;34m\u001b[0m\u001b[0m\n\u001b[1;32m    147\u001b[0m             \u001b[0mkeyword\u001b[0m \u001b[0;34m=\u001b[0m \u001b[0mkey\u001b[0m\u001b[0;34m\u001b[0m\u001b[0;34m\u001b[0m\u001b[0m\n\u001b[0;32m--> 148\u001b[0;31m         \u001b[0mcard\u001b[0m \u001b[0;34m=\u001b[0m \u001b[0mself\u001b[0m\u001b[0;34m.\u001b[0m\u001b[0m_cards\u001b[0m\u001b[0;34m[\u001b[0m\u001b[0mself\u001b[0m\u001b[0;34m.\u001b[0m\u001b[0m_cardindex\u001b[0m\u001b[0;34m(\u001b[0m\u001b[0mkey\u001b[0m\u001b[0;34m)\u001b[0m\u001b[0;34m]\u001b[0m\u001b[0;34m\u001b[0m\u001b[0;34m\u001b[0m\u001b[0m\n\u001b[0m\u001b[1;32m    149\u001b[0m         \u001b[0;32mif\u001b[0m \u001b[0mcard\u001b[0m\u001b[0;34m.\u001b[0m\u001b[0mfield_specifier\u001b[0m \u001b[0;32mis\u001b[0m \u001b[0;32mnot\u001b[0m \u001b[0;32mNone\u001b[0m \u001b[0;32mand\u001b[0m \u001b[0mkeyword\u001b[0m \u001b[0;34m==\u001b[0m \u001b[0mcard\u001b[0m\u001b[0;34m.\u001b[0m\u001b[0mrawkeyword\u001b[0m\u001b[0;34m:\u001b[0m\u001b[0;34m\u001b[0m\u001b[0;34m\u001b[0m\u001b[0m\n\u001b[1;32m    150\u001b[0m             \u001b[0;31m# This is RVKC; if only the top-level keyword was specified return\u001b[0m\u001b[0;34m\u001b[0m\u001b[0;34m\u001b[0m\u001b[0;34m\u001b[0m\u001b[0m\n",
      "\u001b[0;32m/astro/store/epyc/projects/lsst_comm/stack_w_2020_24/conda/miniconda3-4.7.12/envs/lsst-scipipe-1a1d771/lib/python3.7/site-packages/astropy/io/fits/header.py\u001b[0m in \u001b[0;36m_cardindex\u001b[0;34m(self, key)\u001b[0m\n\u001b[1;32m   1706\u001b[0m \u001b[0;34m\u001b[0m\u001b[0m\n\u001b[1;32m   1707\u001b[0m         \u001b[0;32mif\u001b[0m \u001b[0;32mnot\u001b[0m \u001b[0mindices\u001b[0m\u001b[0;34m:\u001b[0m\u001b[0;34m\u001b[0m\u001b[0;34m\u001b[0m\u001b[0m\n\u001b[0;32m-> 1708\u001b[0;31m             \u001b[0;32mraise\u001b[0m \u001b[0mKeyError\u001b[0m\u001b[0;34m(\u001b[0m\u001b[0;34mf\"Keyword {keyword!r} not found.\"\u001b[0m\u001b[0;34m)\u001b[0m\u001b[0;34m\u001b[0m\u001b[0;34m\u001b[0m\u001b[0m\n\u001b[0m\u001b[1;32m   1709\u001b[0m \u001b[0;34m\u001b[0m\u001b[0m\n\u001b[1;32m   1710\u001b[0m         \u001b[0;32mtry\u001b[0m\u001b[0;34m:\u001b[0m\u001b[0;34m\u001b[0m\u001b[0;34m\u001b[0m\u001b[0m\n",
      "\u001b[0;31mKeyError\u001b[0m: \"Keyword 'BINX' not found.\""
     ]
    }
   ],
   "source": [
    "sensor[0].header['BINX'] "
   ]
  },
  {
   "cell_type": "markdown",
   "metadata": {},
   "source": [
    "**What's in a primary header (hdul[0] )**"
   ]
  },
  {
   "cell_type": "code",
   "execution_count": 72,
   "metadata": {},
   "outputs": [
    {
     "data": {
      "text/plain": [
       "SIMPLE  =                    T / conforms to FITS standard                      \n",
       "BITPIX  =                    8 / array data type                                \n",
       "NAXIS   =                    0 / number of array dimensions                     \n",
       "EXTEND  =                    T                                                  \n",
       "EXPTIME =                 15.0                                                  \n",
       "DARKTIME=                 15.0                                                  \n",
       "RUNNUM  = '9006002 '                                                            \n",
       "MJD-OBS =     51591.0934411944                                                  \n",
       "DATE-OBS= '2000-02-17T02:14:33.319'                                             \n",
       "FILTER  = 'g       '                                                            \n",
       "LSST_NUM= 'R00_S22_C1'                                                          \n",
       "CHIPID  = 'R00_S22_C1'                                                          \n",
       "OBSID   = '9006002 '                                                            \n",
       "TESTTYPE= 'PHOSIM  '                                                            \n",
       "IMGTYPE = 'SKYEXP  '                                                            \n",
       "MONOWL  =                   -1                                                  \n",
       "RAFTNAME= 'R00     '                                                            \n",
       "SENSNAME= 'S22     '                                                            \n",
       "RATEL   =                  0.0                                                  \n",
       "DECTEL  =                  0.0                                                  "
      ]
     },
     "execution_count": 72,
     "metadata": {},
     "output_type": "execute_result"
    }
   ],
   "source": [
    "already present as in BOT : SIMPLE, BITPIX, NAXIS, EXTEND  , RUNNUM, TESTTYPE ('PHOSIM' rather than DARK, BIAS ,....), \n",
    "    IMGTYPE ('SKYEXP' rather than BIAS, DARK ....), EXPTIME, DATE-OBS, MJD-OBS, CCDSLOT, RAFTBAY \n",
    "    \n",
    "  ?TESTTYPE= 'DARK' / BIAS, DARK, FE55, FLAT, LAMBDA, PERSISTENCE, SPOT, SFLAT_<lam\n",
    "  ?IMGTYPE = 'DARK    '           / BIAS, DARK, FE55, FLAT, FLAT_<lam>, SPOT, PPUMP\n",
    "  ?DETSIZE = '[1:4072,1:4000]'   ( unsure if the content ok )\n",
    "    \n",
    "changed name :\n",
    "    RAFTNAME --> RAFTBAY\n",
    "    SENSNAME --> CCDSLOT\n",
    "    \n",
    "changed content:\n",
    "    LSST_NUM (was 'R00_S22_C1') --> detectors.getSerial(), eg 'ITL-4400B-029'\n",
    "    OBSID( was 'R00_S22_C1') --> \"MC_C_20200825_000032\" , from TELCODE, CONTRLLR, DAYOBS, SEQNUM \n",
    "    \n",
    "added anew : \n",
    "    CCD_MANU= 'ITL     '           / CCD Manufacturer                               \n",
    "    CCD_TYPE= '4400    '           / CCD Model Number     \n",
    "    TELCODE = 'MC      '           / The \"code\" for AuxTel | ComCam | Main Camera   \n",
    "    CONTRLLR= 'C       '           / The controller (e.g. O for OCS, C for CCS)     \n",
    "    DAYOBS  = '20200825'          / The observation day as defined in the image name\n",
    "    SEQNUM  =                   32 / The sequence number from the image name    \n",
    " \n",
    "    INSTRUME= 'lsstCam '           / Instrument                                     \n",
    "    TELESCOP= 'LSST    '           / Telescope       \n",
    "    DATE    = '2020-08-25T21:09:47.010' / Creation Date and Time of File            \n",
    "    MJD     =    59086.88179409737 / Modified Julian Date that the file was written \n",
    "\n",
    "   \n",
    "    \n",
    "still need : \n",
    "            \n",
    "BINX    =                    1 / [pixels] binning along X axis                  \n",
    "BINY    =                    1 / [pixels] binning along Y axis                  \n",
    "CCDGAIN =                  1.0 / Rough guess at overall system gain (e-/DNB)    \n",
    "CCDNOISE=                 10.0 / Rough guess at system noise (e- rms)     \n",
    "\n",
    "DATE-TRG= '2020-08-25T21:09:47.008' / Date of the image trigger (readout), UTC f\n",
    "MJD-TRG =   59086.881794074085 / Modified Julian Date of image trigger       \n",
    "\n",
    "IMAGETAG= '95ace50956eaf7dd'   / DAQ Image id (Hex)  \n",
    "\n",
    "FIRMWARE= '11384004'           / DAQ firmware version (Hex)                     \n",
    "PLATFORM= 'ir2-camera'         / DAQ platform version                           \n",
    "CONTNUM = '1891215c'           / REB serial # (Hex)                             \n",
    "DAQVERS = 'R4-R4.9 2020-08-09T17:40:16Z (ebff59e0)' / DAQ version               \n",
    "DAQPART = 'camera  '           / DAQ partition                                  \n",
    "DAQFOLD = 'raw     '           / DAQ folder the image was initially created in  \n",
    "DAQANNOT= '        '           / DAQ image annotation    \n",
    "\n",
    "HEADVER =                    2 / Version number of header                       \n",
    "                               \n",
    "TSTAND  = 'BOT     '           / Camera test stand BOT or CCOB                  \n",
    "SEQFILE = 'FP_ITL_2s_ir2_v20.seq' / Sequencer file name                         \n",
    "SEQCKSUM= '116570507'          / Checksum of Sequencer                          \n",
    "                       \n",
    "CCD_SERN= '21834   '           / Manufacturers? CCD Serial Number               \n",
    "REBNAME = 'LCA-13537-04'       / LSST Assigned Name REB name                    \n",
    "RAFTNAME= 'LCA-10692_CRTM-0002' / LSST Assigned Raft name                       \n",
    "DARKTIME=              600.731 / Dark Time in Seconds (see TSEIA-91)            \n",
    "TSEQNUM =                    6 / Sequence number within current test            \n",
    "BOTXCAM =        4.99232 / X position of lamp/source in camera coordinate system\n",
    "BOTYCAM =          400.0 / Y position of lamp/source in camera coordinate system\n",
    "BOTX    =              400.008 / X position of BOT in raw bot coordinates       \n",
    "BOTY    =           0.00029146 / Y position of BOT in raw bot coordinates       \n",
    "FILTER2 = 'ND_OD1.0'     / Neutral density filter name from Flat Field Projector\n",
    "CHECKSUM= 'hhDijZAhhfAhhZAh'   / checksum for the current HDU                   \n",
    "DATASUM = '0        \n",
    "\n",
    "sensor[0].header"
   ]
  },
  {
   "cell_type": "markdown",
   "metadata": {},
   "source": [
    "**What's in an amp header (hdul[1:8] )**"
   ]
  },
  {
   "cell_type": "code",
   "execution_count": null,
   "metadata": {},
   "outputs": [],
   "source": [
    "#sensor[1].header\n",
    "XTENSION= 'IMAGE   '           / Image extension                                \n",
    "BITPIX  =                   32 / array data type                                \n",
    "NAXIS   =                    2 / number of array dimensions                     \n",
    "NAXIS1  =                  522                                                  \n",
    "NAXIS2  =                 2010                                                  \n",
    "PCOUNT  =                    0 / number of parameters                           \n",
    "GCOUNT  =                    1 / number of groups                               \n",
    "COMMENT   FITS (Flexible Image Transport System) format is defined in 'Astronomy\n",
    "COMMENT   and Astrophysics', volume 376, page 359; bibcode: 2001A&A...376..359H \n",
    "CTYPE1  = 'RA---TAN'                                                            \n",
    "CRPIX1  =              -19127.                                                  \n",
    "CRVAL1  =                   0.                                                  \n",
    "CTYPE2  = 'DEC--TAN'                                                            \n",
    "CRPIX2  =              -20166.                                                  \n",
    "CRVAL2  =                   0.                                                  \n",
    "CD1_1   =                   0.                                                  \n",
    "CD1_2   = -5.55555555555556E-05                                                 \n",
    "CD2_1   = -5.55555555555556E-05                                                 \n",
    "CD2_2   =                  -0.                                                  \n",
    "RADESYS = 'ICRS    '                                                            \n",
    "EQUINOX =                2000.     \n",
    "\n",
    "# All physics commands from the.cmd file are stored as \n",
    "# PHOV###\n",
    "#\n",
    "\n",
    "OBSID   = '9006002 '           / Observation ID                                 \n",
    "TAI     =     51591.0938115648 / International Atomic Time scale                \n",
    "MJD-OBS =     51591.0934411944 / Modified Julian date                           \n",
    "OUTPDIR = '/astro/store/epyc/users/suberlak/Commissioning/aos/ts_phosim/notebo&'\n",
    "CONTINUE  'oks/analysis_scripts/results_wfs/arrowStarsLetters_2020_44/iter0/im&'\n",
    "CONTINUE  'g/intra '           / Output directory                               \n",
    "OUTFILE = 'lsst_e_9006002_f1_R00_S22_C1_E000' / Output file name                \n",
    "SEDDIR  = '/astro/store/epyc/projects/lsst_comm/phosim_syseng4/data/SEDs' / SED \n",
    "IMGDIR  = '/astro/store/epyc/projects/lsst_comm/phosim_syseng4/data/images' / Im\n",
    "BACMODE =                    0 / Background mode (0=off/1=on)                   \n",
    "TELMODE =                    1 / Telescope mode (0=off/1=on)                    \n",
    "SPCMODE =                    0 / Space mode (0=off)                             \n",
    "TRKMODE =                    0 / Tracking mode (0=off/1=on)                     \n",
    "DIFMODE =                    1 / Diffraction mode (0=off/1=on)                  \n",
    "DETMODE =                    0 / Detector mode (0=off/1=on)                     \n",
    "ZERMODE =                    1 / Zernike mode (0=off/1=on)                      \n",
    "STRLGHT =                    0 / Straylight mode (0=off/1=on)                   \n",
    "APRMODE =                    0 / Aperture mode (0=normal/1=on)                  \n",
    "GHOMODE =                    0 / Ghost-only mode (0=normal/1=on)                \n",
    "SATMODE =                    1 / Saturation mode (0=off/1=on)                   \n",
    "BLOOMNG =                    1 / Blooming mode (0=off/1=on)                     \n",
    "EVTFILE =                    0 / Output event file (0=no/1=yes)                 \n",
    "THRFILE =                    0 / Output throughput file (0=no/1=yes)            \n",
    "PLTSCAL =                  20. / Approx. Plate scale (arcsec/mm)                \n",
    "MINR    =                2558. / Minimum aperture radius                        \n",
    "MAXR    =                4180. / Maximum aperture radius                        \n",
    "EXPTIME =                  15. / Exposure time                                  \n",
    "DARKTIME=                  15. / Actual exposed time                            \n",
    "SHUTERR =                   0. / Shutter error                                  \n",
    "TIMEOFF =                   0. / Time offset                                    \n",
    "FILTNM  =                    1 / Filter/optics configuration number             \n",
    "FILTER  = 'g       '           / Filter                                         \n",
    "SEED    =                 1000 / Random seed                                    \n",
    "PRA     =                   0. / Pointing RA (radians)                          \n",
    "PDEC    =                   0. / Pointing Dec (radians)                         \n",
    "RA_DEG  =                   0. / Pointing RA (decimal degrees)                  \n",
    "DEC_DEG =                   0. / Pointing Dec (decimal degrees)                 \n",
    "AIRMASS =     1.24813143788881 / Airmass                                        \n",
    "FLDANGX =                  -0. / Fiducial field angle X (degrees)               \n",
    "FLDANGY =                  -0. / Fiducial field angle Y (degrees)               \n",
    "ROTANG  =                   0. / Rotation angle (rotSkyPos) (degrees)           \n",
    "SPIDANG =                   0. / Angle of spider (rotTelPos)                    \n",
    "ZENITH  =            36.755732 / Zenith angle (degrees)                         \n",
    "AZIMUTH =           327.034005 / Azimuthal angle (degrees)                      \n",
    "ROTJITT =                   0. / Rotation jitter (arcseconds)                   \n",
    "ELEJITT =                   0. / Elevation jitter (arcseconds)                  \n",
    "AZIJITT =                   0. / Azimuthal jitter (arcseconds)                  \n",
    "TRKFILE = 'tracking_9006002.pars' / Tracking file                               \n",
    "GNDLEVL =                2660. / Ground level (m)                               \n",
    "XTELLOC =                   0. / X telescope location (m)                       \n",
    "YTELLOC =                   0. / Y telescope location (m)  \n",
    "\n",
    "# All Zernike Zamplitudes are stored  as \n",
    "# HIERARCH ZER ###\n",
    "# eg. HIERARCH ZER 0 0 = -3.69090869481474E-05 / Zernike amplitude                    \n",
    "\n",
    "# All Body motion misalignment information is stored as \n",
    "# HIERARCH BOD ###\n",
    "# eg. HIERARCH BOD 0 0 = -3.69090869481474E-05 / Body motion misalignment     \n",
    "          \n",
    "ATMFILE =                    7 / Number of atmosphere files                     \n",
    "AFILE0  = 'atmospherescreen_9006002_0' / Atmosphere file                        \n",
    "CFILE0  = '        '           / Cloud file                                     \n",
    "SEE0    =              0.07852 / Seeing at 5000 angstrom (sigma)                \n",
    "WIND0   =             5.981469 / Wind speed (m/s)                               \n",
    "WDIR0   =           293.082379 / Wind direction (degrees)                       \n",
    "OSCL0   =            64.799095 / Outer scale (m)                                \n",
    "HGT0    =                  16. / Height (km)                                    \n",
    "CMEAN0  =                   0. / Mean cloud extinction (mag)                    \n",
    "CVARY0  =                   0. / Variation of cloud ext. (mag)                  \n",
    "AFILE1  = 'atmospherescreen_9006002_1' / Atmosphere file                        \n",
    "CFILE1  = 'cloudscreen_9006002_1' / Cloud file                                  \n",
    "SEE1    =              0.14914 / Seeing at 5000 angstrom (sigma)                \n",
    "WIND1   =            31.430798 / Wind speed (m/s)                               \n",
    "WDIR1   =           374.512632 / Wind direction (degrees)                       \n",
    "OSCL1   =            97.184845 / Outer scale (m)                                \n",
    "HGT1    =                   8. / Height (km)                                    \n",
    "CMEAN1  =                   0. / Mean cloud extinction (mag)                    \n",
    "CVARY1  =                   0. / Variation of cloud ext. (mag)                  \n",
    "AFILE2  = 'atmospherescreen_9006002_2' / Atmosphere file                        \n",
    "CFILE2  = 'cloudscreen_9006002_2' / Cloud file                                  \n",
    "SEE2    =             0.182002 / Seeing at 5000 angstrom (sigma)                \n",
    "WIND2   =            15.897906 / Wind speed (m/s)                               \n",
    "WDIR2   =           379.047031 / Wind direction (degrees)                       \n",
    "OSCL2   =            11.588245 / Outer scale (m)                                \n",
    "HGT2    =                   4. / Height (km)                                    \n",
    "CMEAN2  =                   0. / Mean cloud extinction (mag)                    \n",
    "CVARY2  =                   0. / Variation of cloud ext. (mag)                  \n",
    "AFILE3  = 'atmospherescreen_9006002_3' / Atmosphere file                        \n",
    "CFILE3  = '        '           / Cloud file                                     \n",
    "SEE3    =             0.009241 / Seeing at 5000 angstrom (sigma)                \n",
    "WIND3   =             8.864604 / Wind speed (m/s)                               \n",
    "WDIR3   =           374.770704 / Wind direction (degrees)                       \n",
    "OSCL3   =             18.12826 / Outer scale (m)                                \n",
    "HGT3    =                   2. / Height (km)                                    \n",
    "CMEAN3  =                   0. / Mean cloud extinction (mag)                    \n",
    "CVARY3  =                   0. / Variation of cloud ext. (mag)                  \n",
    "AFILE4  = 'atmospherescreen_9006002_4' / Atmosphere file                        \n",
    "CFILE4  = '        '           / Cloud file                                     \n",
    "SEE4    =             0.057943 / Seeing at 5000 angstrom (sigma)                \n",
    "WIND4   =             6.032809 / Wind speed (m/s)                               \n",
    "WDIR4   =           376.065981 / Wind direction (degrees)                       \n",
    "OSCL4   =            85.613441 / Outer scale (m)                                \n",
    "HGT4    =                   1. / Height (km)                                    \n",
    "CMEAN4  =                   0. / Mean cloud extinction (mag)                    \n",
    "CVARY4  =                   0. / Variation of cloud ext. (mag)                  \n",
    "AFILE5  = 'atmospherescreen_9006002_5' / Atmosphere file                        \n",
    "CFILE5  = '        '           / Cloud file                                     \n",
    "SEE5    =             0.040888 / Seeing at 5000 angstrom (sigma)                \n",
    "WIND5   =             4.719956 / Wind speed (m/s)                               \n",
    "WDIR5   =           379.295704 / Wind direction (degrees)                       \n",
    "OSCL5   =             8.780892 / Outer scale (m)                                \n",
    "HGT5    =                  0.5 / Height (km)                                    \n",
    "CMEAN5  =                   0. / Mean cloud extinction (mag)                    \n",
    "CVARY5  =                   0. / Variation of cloud ext. (mag)                  \n",
    "AFILE6  = 'atmospherescreen_9006002_6' / Atmosphere file                        \n",
    "CFILE6  = '        '           / Cloud file                                     \n",
    "SEE6    =              0.28148 / Seeing at 5000 angstrom (sigma)                \n",
    "WIND6   =              3.88356 / Wind speed (m/s)                               \n",
    "WDIR6   =           386.963411 / Wind direction (degrees)                       \n",
    "OSCL6   =                  10. / Outer scale (m)                                \n",
    "HGT6    =                 0.02 / Height (km)                                    \n",
    "CMEAN6  =                   0. / Mean cloud extinction (mag)                    \n",
    "CVARY6  =                   0. / Variation of cloud ext. (mag)                  \n",
    "RAYGRAD =             0.000712 / Density gradient                               \n",
    "O2GRAD  =              3.8E-05 / O2 gradient                                    \n",
    "O3GRAD  =             0.034217 / O3 gradient                                    \n",
    "H2OGRAD =             0.049043 / H2O gradient                                   \n",
    "AERGRAD =             0.001176 / Aerosol gradient                               \n",
    "RAYANG  =             0.438685 / Density angle                                  \n",
    "O2ANG   =             4.415017 / O2 angle                                       \n",
    "O3ANG   =             4.605518 / O3 angle                                       \n",
    "H2OANG  =              5.81092 / H2O angle                                      \n",
    "AERANG  =             5.393528 / Aerosol angle                                  \n",
    "ATMDISP =                    1 / Atmos. dispersion (0=off/1=on)                 \n",
    "PRESS   =                 520. / Air pressure (mmHg)                            \n",
    "H2OPRESS=                   8. / Water vapor pressure (mmHg)                    \n",
    "TEMPERA =                  20. / Ground temperature (degrees C)                 \n",
    "RELDENS =             0.997984 / Relative density                               \n",
    "RELO2   =             0.999896 / Relative O2 fraction                           \n",
    "RELH2O  =             1.150661 / Relative H2O fraction                          \n",
    "AERTAU  =              0.01506 / Aerosol optical depth                          \n",
    "AERIND  =                -1.28 / Aerosol index                                  \n",
    "RELO3   =             0.926995 / Relative O3 fraction                           \n",
    "LASCPR  =                   0. / Large angle scattering probability             \n",
    "DOMESEE =                  0.1 / Dome Seeing (arcseconds FWHM)                  \n",
    "TOYPSF  =                   0. / Toy PSF (arcseconds FWHM)                      \n",
    "PIXSIZE =                  10. / Pixel Size (microns)                           \n",
    "CHIPID  = 'R00_S22_C1'         / Chip/Amplifier ID                              \n",
    "PAIRID  =                    0 / Pair ID                                        \n",
    "FPFILE  = '/astro/store/epyc/projects/lsst_comm/phosim_syseng4/data/lsst/focalp'\n",
    "CENTX   =             -211750. / Chip center x (microns)                        \n",
    "CENTY   =             -211750. / Chip center y (microns)                        \n",
    "PIXX    =                 2000 / Chip x pixels                                  \n",
    "PIXY    =                 4072 / Chip y pixels                                  \n",
    "MINX    =                    0 / Minimum x pixel of amplifier                   \n",
    "MAXX    =                 1999 / Maximum x pixel of amplifier                   \n",
    "MINY    =                    0 / Minimum y pixel of amplifier                   \n",
    "MAXY    =                 4071 / Maximum y pixel of amplifier                   \n",
    "WELDPT  =               100000 / Full well depth (electrons)                    \n",
    "NBULK   =              1.0E+12 / Bulk doping density                            \n",
    "NF      =             -5.0E+15 / Front side doping density                      \n",
    "NB      =                   0. / Back side doping density                       \n",
    "SF      =                 0.01 / Front side doping scale                        \n",
    "SB      =               0.0025 / Back side doping scale                         \n",
    "SETHICK =                 100. / Sensor thickness (microns)                     \n",
    "OVRDEP  =                 -45. / Over depletion bias (volts)                    \n",
    "CCDTEMP =                 173. / Sensor temperature (K):                        \n",
    "TRX0    =                   0. / Tree ring center                               \n",
    "TRY0    =                   0. / Tree ring center                               \n",
    "CREATOR = 'PHOSIM  '                                                            \n",
    "VERSION = '17426cf9b472bae753b75d037f7d0c5a8c45d210'                            \n",
    "BRANCH  = 'firstdonuts-2-g17426cf'                                              \n",
    "DATE    = '2020-11-12T04:43:30' / file creation date (YYYY-MM-DDThh:mm:ss UT)   \n",
    "BIAS    =               980.83 / Bias                                           \n",
    "GAIN    =                1.671 / Gain                                           \n",
    "SCTE    =             0.999995 / Serial CTE                                     \n",
    "PCTE    =                   1. / Parallel CTE                                   \n",
    "NONLIN  =                   0. / Non-linear gain                                \n",
    "E2AWLDP =               100000 / E2adc well depth                               \n",
    "SATURATE=     60825.2345481747 / Saturation estimate                            \n",
    "PREAD   =                    1 / Parallel read out direction                    \n",
    "SREAD   =                    1 / Serial read out direction                      \n",
    "PSCANP  =                    3 / Pre-scan parallel                              \n",
    "OSCANS  =                    0 / Over-scan serial                               \n",
    "PSCANS  =                   10 / Pre-scan serial                                \n",
    "OSCANP  =                   10 / Over-scan parallel   \n",
    "\n",
    "# All ADC error bits are stored as \n",
    "# ADCER##\n",
    "# eg. ADCER0  =                   0. / ADC error bit                                  \n",
    "                                \n",
    "E2AICHI = 'R00_S22_C1'         / E2adc input chip ID                            \n",
    "E2AOCHI = 'R00_S22_C17'        / E2adc output chip ID                           \n",
    "CCDID   = 'R00_S22 '           / CCD ID                                         \n",
    "AMPID   = 'C17     '           / Amplifier ID                                   \n",
    "RDORDER =                    1 / 0=CCS; 1=readorder                             \n",
    "RDNOISE =     2.47755834829443 / Readout noise (ADU/pixel)                      \n",
    "DRKCURR =                 0.02 / Dark Current (e-/pixel/s)                      \n",
    "TRIMSEC = '[   4: 512,   1:2000]' / Trimmed section of amplifier                \n",
    "DATASEC = '[4:512,1:2000]'     / Data section of amplifier                      \n",
    "EXTNAME = 'Segment17'                                                           \n",
    "DETSEC  = '[4072:3564,2000:1]'                      "
   ]
  },
  {
   "cell_type": "code",
   "execution_count": 189,
   "metadata": {},
   "outputs": [],
   "source": [
    "#sensor[1].header['DATASUM']"
   ]
  },
  {
   "cell_type": "code",
   "execution_count": 91,
   "metadata": {},
   "outputs": [
    {
     "data": {
      "text/plain": [
       "'4400B'"
      ]
     },
     "execution_count": 91,
     "metadata": {},
     "output_type": "execute_result"
    }
   ],
   "source": [
    "# What's in the BOT amp header data ...\n",
    "\n",
    "--> already present as in BOT: XTENSION, BITPIX, NAXIS, NAXIS1, NAXIS2, PCOUNT, GCOUNT, EXTNAME, DATASEC, DETSEC,\n",
    "        \n",
    "    \n",
    "--> these not there  - do they need to be added   ? \n",
    "    \n",
    "CHECKSUM= '0rA51o640oA40o54'   / checksum for the current HDU                   \n",
    "CHANNEL =                    1                                                            \n",
    "CCDSUM  = '1 1     '                                                                                        \n",
    "DETSIZE = '[1:4072,1:4000]'                                                     \n",
    "DTV1    =                  513 / detector transformation vector                 \n",
    "DTV2    =                    0 / detector transformation vector                 \n",
    "DTM1_1  =                 -1.0 / detector transformation matrix                 \n",
    "DTM2_2  =                  1.0 / detector transformation matrix                 \n",
    "DTM1_2  =                  0.0 / detector transformation matrix                 \n",
    "DTM2_1  =                  0.0 / detector transformation matrix                 \n",
    "WCSNAMEA= 'AMPLIFIER'          / Name of coordinate system                      \n",
    "CTYPE1A = 'Seg_X   '           / In the camera coordinate system                \n",
    "CTYPE2A = 'Seg_Y   '           / In the camera coordinate system                \n",
    "PC1_1A  =                  0.0                                                  \n",
    "PC1_2A  =                  1.0                                                  \n",
    "PC2_1A  =                 -1.0                                                  \n",
    "PC2_2A  =                  0.0                                                  \n",
    "CDELT1A =                  1.0                                                  \n",
    "CDELT2A =                  1.0                                                  \n",
    "CRPIX1A =                  0.0                                                  \n",
    "CRPIX2A =                  0.0                                                  \n",
    "CRVAL1A =                  1.0                                                  \n",
    "CRVAL2A =                513.0                                                  \n",
    "WCSNAMEC= 'CCD     '           / Name of coordinate system                      \n",
    "CTYPE1C = 'CCD_X   '           / In the camera coordinate system                \n",
    "CTYPE2C = 'CCD_Y   '           / In the camera coordinate system                \n",
    "PC1_1C  =                  0.0                                                  \n",
    "PC1_2C  =                  1.0                                                  \n",
    "PC2_1C  =                 -1.0                                                  \n",
    "PC2_2C  =                  0.0                                                  \n",
    "CDELT1C =                  1.0                                                  \n",
    "CDELT2C =                  1.0                                                  \n",
    "CRPIX1C =                  0.0                                                  \n",
    "CRPIX2C =                  0.0                                                  \n",
    "CRVAL1C =                  1.0                                                  \n",
    "CRVAL2C =                513.0                                                  \n",
    "WCSNAMER= 'RAFT    '           / Name of coordinate system                      \n",
    "CTYPE1R = 'RAFT_X  '           / In the camera coordinate system                \n",
    "CTYPE2R = 'RAFT_Y  '           / In the camera coordinate system                \n",
    "PC1_1R  =                  0.0                                                  \n",
    "PC1_2R  =                  1.0                                                  \n",
    "PC2_1R  =                 -1.0                                                  \n",
    "PC2_2R  =                  0.0                                                  \n",
    "CDELT1R =                  1.0                                                  \n",
    "CDELT2R =                  1.0                                                  \n",
    "CRPIX1R =                  0.0                                                  \n",
    "CRPIX2R =                  0.0                                                  \n",
    "CRVAL1R =               9525.0                                                  \n",
    "CRVAL2R =               7917.0                                                  \n",
    "WCSNAMEF= 'FOCAL_PLANE'        / Name of coordinate system                      \n",
    "CTYPE1F = 'FP_X    '           / In the camera coordinate system                \n",
    "CTYPE2F = 'FP_Y    '           / In the camera coordinate system                \n",
    "PC1_1F  =                  0.0                                                  \n",
    "PC1_2F  =                  1.0                                                  \n",
    "PC2_1F  =                 -1.0                                                  \n",
    "PC2_2F  =                  0.0                                                  \n",
    "CDELT1F =                  1.0                                                  \n",
    "CDELT2F =                  1.0                                                  \n",
    "CRPIX1F =                  0.0                                                  \n",
    "CRPIX2F =                  0.0                                                  \n",
    "CRVAL1F =              61325.5                                                  \n",
    "CRVAL2F =               8824.0                                                  \n",
    "WCSNAMEE= 'FP_SERPAR'          / Name of coordinate system                      \n",
    "CTYPE1E = 'FP_S    '           / In the camera coordinate system                \n",
    "CTYPE2E = 'FP_P    '           / In the camera coordinate system                \n",
    "PC1_1E  =                  1.0                                                  \n",
    "PC1_2E  =                  0.0                                                  \n",
    "PC2_1E  =                  0.0                                                  \n",
    "PC2_2E  =                  1.0                                                  \n",
    "CDELT1E =                  1.0                                                  \n",
    "CDELT2E =                  1.0                                                  \n",
    "CRPIX1E =                  0.0                                                  \n",
    "CRPIX2E =                  0.0                                                  \n",
    "CRVAL1E =               8053.0                                                  \n",
    "CRVAL2E =              10391.0                                                  \n",
    "WCSNAMEB= 'CCD_SERPAR'         / Name of coordinate system                      \n",
    "CTYPE1B = 'CCD_S   '           / In the serial-parallel coordinate system       \n",
    "CTYPE2B = 'CCD_P   '           / In the serial-parallel coordinate system       \n",
    "PC1_1B  =                  1.0                                                  \n",
    "PC1_2B  =                  0.0                                                  \n",
    "PC2_1B  =                  0.0                                                  \n",
    "PC2_2B  =                  1.0                                                  \n",
    "CDELT1B =                  1.0                                                  \n",
    "CDELT2B =                  1.0                                                  \n",
    "CRPIX1B =                  0.0                                                  \n",
    "CRPIX2B =                  0.0                                                  \n",
    "CRVAL1B =                 -2.0                                                  \n",
    "CRVAL2B =                  1.0                                                  \n",
    "WCSNAMEQ= 'RAFT_SERPAR'        / Name of coordinate system                      \n",
    "CTYPE1Q = 'RAFT_S  '           / In the serial-parallel coordinate system       \n",
    "CTYPE2Q = 'RAFT_P  '           / In the serial-parallel coordinate system       \n",
    "PC1_1Q  =                  1.0                                                  \n",
    "PC1_2Q  =                  0.0                                                  \n",
    "PC2_1Q  =                  0.0                                                  \n",
    "PC2_2Q  =                  1.0                                                  \n",
    "CDELT1Q =                  1.0                                                  \n",
    "CDELT2Q =                  1.0                                                  \n",
    "CRPIX1Q =                  0.0                                                  \n",
    "CRPIX2Q =                  0.0                                                  \n",
    "CRVAL1Q =               7306.0                                                  \n",
    "CRVAL2Q =               9526.0                                                  \n",
    "BSCALE  =                  1.0                                                  \n",
    "BZERO   =                  0.0                                                  \n",
    "DATASUM = '2547230136'         / checksum of the data records "
   ]
  },
  {
   "cell_type": "code",
   "execution_count": 87,
   "metadata": {},
   "outputs": [
    {
     "data": {
      "text/plain": [
       "['ITL', '4400B', '023']"
      ]
     },
     "execution_count": 87,
     "metadata": {},
     "output_type": "execute_result"
    }
   ],
   "source": [
    "serial.split('-')"
   ]
  },
  {
   "cell_type": "code",
   "execution_count": 62,
   "metadata": {},
   "outputs": [
    {
     "name": "stdout",
     "output_type": "stream",
     "text": [
      "NAME 1,2    DATASEC 1,2      DETSEC 1,2  \n",
      "07 07 [4:512,1:2000] [4:512,1:2000] [4072:3564,2000:1] [4072:3564,2000:1]\n",
      "06 06 [4:512,1:2000] [4:512,1:2000] [3563:3055,2000:1] [3563:3055,2000:1]\n",
      "05 05 [4:512,1:2000] [4:512,1:2000] [3054:2546,2000:1] [3054:2546,2000:1]\n",
      "04 04 [4:512,1:2000] [4:512,1:2000] [2545:2037,2000:1] [2545:2037,2000:1]\n",
      "03 03 [4:512,1:2000] [4:512,1:2000] [2036:1528,2000:1] [2036:1528,2000:1]\n",
      "02 02 [4:512,1:2000] [4:512,1:2000] [1527:1019,2000:1] [1527:1019,2000:1]\n",
      "01 01 [4:512,1:2000] [4:512,1:2000] [1018:510,2000:1] [1018:510,2000:1]\n",
      "00 00 [4:512,1:2000] [4:512,1:2000] [509:1,2000:1] [509:1,2000:1]\n"
     ]
    }
   ],
   "source": [
    "# This quickly proves that for a given corner sensor\n",
    "# the information I'm pulling from lsstCam is identical \n",
    "\n",
    "# The lsstCam has wrong names of amps: \n",
    "# for corner sensors it should be 10:17,\n",
    "# as in BOT in LSP which have 'EXTNAME': Segment10:17 , \n",
    "# but in lsstCam currently it is 01:07 for both SWO and SW1 .... \n",
    "\n",
    "# So I will pull the amp info from SW1, and make EXTNAME \n",
    "# as it should be , pending future update of lsstCam (so that\n",
    "# ideally all info would be pulled directly from there,\n",
    "# individually for each sensor ... \n",
    "\n",
    "detectorsSW1 = camera.get('R00_SW1')\n",
    "detectorsSW0 = camera.get('R00_SW0')\n",
    "\n",
    "print('NAME 1,2    DATASEC 1,2      DETSEC 1,2  ')\n",
    "for amp1,amp2 in zip(detectorsSW0, detectorsSW1): \n",
    "    \n",
    "    datasec1 = noao_section_keyword(amp1.getRawDataBBox())\n",
    "    datasec2 = noao_section_keyword(amp2.getRawDataBBox())\n",
    "    \n",
    "    detsec1 = noao_section_keyword(amp1.getBBox(),flipx=amp1.getRawFlipX(),flipy=amp1.getRawFlipY())\n",
    "    detsec2 = noao_section_keyword(amp2.getBBox(),flipx=amp2.getRawFlipX(),flipy=amp2.getRawFlipY())\n",
    "    \n",
    "    print(amp1.getName()[1:], amp2.getName()[1:], datasec1, datasec2,  detsec1, detsec2 )"
   ]
  },
  {
   "cell_type": "code",
   "execution_count": 43,
   "metadata": {},
   "outputs": [
    {
     "name": "stdout",
     "output_type": "stream",
     "text": [
      "SW1 dict_keys(['17', '16', '15', '14', '13', '12', '11', '10'])\n",
      "SW0 dict_keys(['10', '11', '12', '13', '14', '15', '16', '17'])\n"
     ]
    }
   ],
   "source": []
  },
  {
   "cell_type": "code",
   "execution_count": null,
   "metadata": {},
   "outputs": [],
   "source": []
  }
 ],
 "metadata": {
  "kernelspec": {
   "display_name": "lsst_phosim",
   "language": "python",
   "name": "lsst_phosim"
  },
  "language_info": {
   "codemirror_mode": {
    "name": "ipython",
    "version": 3
   },
   "file_extension": ".py",
   "mimetype": "text/x-python",
   "name": "python",
   "nbconvert_exporter": "python",
   "pygments_lexer": "ipython3",
   "version": "3.7.6"
  }
 },
 "nbformat": 4,
 "nbformat_minor": 4
}
