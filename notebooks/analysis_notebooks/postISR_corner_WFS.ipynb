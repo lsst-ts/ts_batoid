{
 "cells": [
  {
   "cell_type": "markdown",
   "metadata": {},
   "source": [
    "# postISR on WFS corner sensors "
   ]
  },
  {
   "cell_type": "code",
   "execution_count": 1,
   "metadata": {},
   "outputs": [
    {
     "name": "stdout",
     "output_type": "stream",
     "text": [
      "Using /epyc/users/suberlak/Commissioning/aos/ts_phosim/notebooks/analysis_scripts/results_wfs/arrowStars/input/ \n",
      "{'visit': 9006002, 'filter': 'g', 'raftName': 'R00', 'detectorName': 'S22'}\n"
     ]
    },
    {
     "name": "stderr",
     "output_type": "stream",
     "text": [
      "/astro/users/brycek/epyc/projects/lsst_comm/stack_w_2020_15/python/miniconda3-4.7.12/envs/lsst-scipipe-984c9f7/lib/python3.7/site-packages/pandas/core/indexing.py:670: SettingWithCopyWarning: \n",
      "A value is trying to be set on a copy of a slice from a DataFrame\n",
      "\n",
      "See the caveats in the documentation: https://pandas.pydata.org/pandas-docs/stable/user_guide/indexing.html#returning-a-view-versus-a-copy\n",
      "  self._setitem_with_indexer(indexer, value)\n"
     ]
    },
    {
     "name": "stdout",
     "output_type": "stream",
     "text": [
      "{'visit': 9006002, 'filter': 'g', 'raftName': 'R04', 'detectorName': 'S20'}\n"
     ]
    },
    {
     "name": "stderr",
     "output_type": "stream",
     "text": [
      "/astro/users/brycek/epyc/projects/lsst_comm/stack_w_2020_15/python/miniconda3-4.7.12/envs/lsst-scipipe-984c9f7/lib/python3.7/site-packages/pandas/core/indexing.py:670: SettingWithCopyWarning: \n",
      "A value is trying to be set on a copy of a slice from a DataFrame\n",
      "\n",
      "See the caveats in the documentation: https://pandas.pydata.org/pandas-docs/stable/user_guide/indexing.html#returning-a-view-versus-a-copy\n",
      "  self._setitem_with_indexer(indexer, value)\n"
     ]
    },
    {
     "name": "stdout",
     "output_type": "stream",
     "text": [
      "{'visit': 9006002, 'filter': 'g', 'raftName': 'R40', 'detectorName': 'S02'}\n"
     ]
    },
    {
     "name": "stderr",
     "output_type": "stream",
     "text": [
      "/astro/users/brycek/epyc/projects/lsst_comm/stack_w_2020_15/python/miniconda3-4.7.12/envs/lsst-scipipe-984c9f7/lib/python3.7/site-packages/pandas/core/indexing.py:670: SettingWithCopyWarning: \n",
      "A value is trying to be set on a copy of a slice from a DataFrame\n",
      "\n",
      "See the caveats in the documentation: https://pandas.pydata.org/pandas-docs/stable/user_guide/indexing.html#returning-a-view-versus-a-copy\n",
      "  self._setitem_with_indexer(indexer, value)\n"
     ]
    },
    {
     "name": "stdout",
     "output_type": "stream",
     "text": [
      "{'visit': 9006002, 'filter': 'g', 'raftName': 'R44', 'detectorName': 'S00'}\n"
     ]
    },
    {
     "name": "stderr",
     "output_type": "stream",
     "text": [
      "/astro/users/brycek/epyc/projects/lsst_comm/stack_w_2020_15/python/miniconda3-4.7.12/envs/lsst-scipipe-984c9f7/lib/python3.7/site-packages/pandas/core/indexing.py:670: SettingWithCopyWarning: \n",
      "A value is trying to be set on a copy of a slice from a DataFrame\n",
      "\n",
      "See the caveats in the documentation: https://pandas.pydata.org/pandas-docs/stable/user_guide/indexing.html#returning-a-view-versus-a-copy\n",
      "  self._setitem_with_indexer(indexer, value)\n"
     ]
    },
    {
     "name": "stdout",
     "output_type": "stream",
     "text": [
      "{'visit': 9006002, 'filter': 'g', 'raftName': 'R00', 'detectorName': 'S22'}\n"
     ]
    },
    {
     "name": "stderr",
     "output_type": "stream",
     "text": [
      "/astro/users/brycek/epyc/projects/lsst_comm/stack_w_2020_15/python/miniconda3-4.7.12/envs/lsst-scipipe-984c9f7/lib/python3.7/site-packages/pandas/core/indexing.py:670: SettingWithCopyWarning: \n",
      "A value is trying to be set on a copy of a slice from a DataFrame\n",
      "\n",
      "See the caveats in the documentation: https://pandas.pydata.org/pandas-docs/stable/user_guide/indexing.html#returning-a-view-versus-a-copy\n",
      "  self._setitem_with_indexer(indexer, value)\n"
     ]
    },
    {
     "name": "stdout",
     "output_type": "stream",
     "text": [
      "{'visit': 9006002, 'filter': 'g', 'raftName': 'R04', 'detectorName': 'S20'}\n"
     ]
    },
    {
     "name": "stderr",
     "output_type": "stream",
     "text": [
      "/astro/users/brycek/epyc/projects/lsst_comm/stack_w_2020_15/python/miniconda3-4.7.12/envs/lsst-scipipe-984c9f7/lib/python3.7/site-packages/pandas/core/indexing.py:670: SettingWithCopyWarning: \n",
      "A value is trying to be set on a copy of a slice from a DataFrame\n",
      "\n",
      "See the caveats in the documentation: https://pandas.pydata.org/pandas-docs/stable/user_guide/indexing.html#returning-a-view-versus-a-copy\n",
      "  self._setitem_with_indexer(indexer, value)\n"
     ]
    },
    {
     "name": "stdout",
     "output_type": "stream",
     "text": [
      "{'visit': 9006002, 'filter': 'g', 'raftName': 'R40', 'detectorName': 'S02'}\n"
     ]
    },
    {
     "name": "stderr",
     "output_type": "stream",
     "text": [
      "/astro/users/brycek/epyc/projects/lsst_comm/stack_w_2020_15/python/miniconda3-4.7.12/envs/lsst-scipipe-984c9f7/lib/python3.7/site-packages/pandas/core/indexing.py:670: SettingWithCopyWarning: \n",
      "A value is trying to be set on a copy of a slice from a DataFrame\n",
      "\n",
      "See the caveats in the documentation: https://pandas.pydata.org/pandas-docs/stable/user_guide/indexing.html#returning-a-view-versus-a-copy\n",
      "  self._setitem_with_indexer(indexer, value)\n"
     ]
    },
    {
     "name": "stdout",
     "output_type": "stream",
     "text": [
      "{'visit': 9006002, 'filter': 'g', 'raftName': 'R44', 'detectorName': 'S00'}\n"
     ]
    },
    {
     "name": "stderr",
     "output_type": "stream",
     "text": [
      "/astro/users/brycek/epyc/projects/lsst_comm/stack_w_2020_15/python/miniconda3-4.7.12/envs/lsst-scipipe-984c9f7/lib/python3.7/site-packages/pandas/core/indexing.py:670: SettingWithCopyWarning: \n",
      "A value is trying to be set on a copy of a slice from a DataFrame\n",
      "\n",
      "See the caveats in the documentation: https://pandas.pydata.org/pandas-docs/stable/user_guide/indexing.html#returning-a-view-versus-a-copy\n",
      "  self._setitem_with_indexer(indexer, value)\n"
     ]
    },
    {
     "name": "stdout",
     "output_type": "stream",
     "text": [
      "R:0,0 S:2,2,A is intra-focal\n",
      "R:0,4 S:2,0,A is intra-focal\n",
      "R:4,0 S:0,2,A is intra-focal\n",
      "R:4,4 S:0,0,A is intra-focal\n",
      "R:0,0 S:2,2,B is extra-focal\n",
      "R:0,4 S:2,0,B is extra-focal\n",
      "R:4,0 S:0,2,B is extra-focal\n",
      "\n",
      " Calculating the donut map \n"
     ]
    }
   ],
   "source": [
    "# mostly from runCloseLoopPostISR.py \n",
    "\n",
    "from lsst.ts.wep.WepController import WepController\n",
    "from lsst.ts.wep.ctrlIntf.WEPCalculationFactory import WEPCalculationFactory\n",
    "from lsst.ts.wep.Utility import CamType, FilterType, getModulePath, mapFilterRefToG, DefocalType\n",
    "import os \n",
    "\n",
    "topDir = '/epyc/users/suberlak/Commissioning/aos/ts_phosim/notebooks/analysis_scripts/results_wfs/'\n",
    "closed_loop_input_dir = os.path.join(topDir,'arrowStars/input/')\n",
    "print('Using %s '%closed_loop_input_dir )\n",
    "\n",
    "\n",
    "# these are basically parts of WEPCalculationFactory.py  calculateWavefrontErrors()\n",
    "# skipping the ingest and ISR \n",
    "wep_calc = WEPCalculationFactory.getCalculator(CamType.LsstCam, closed_loop_input_dir)\n",
    "wep_calc.wepCntlr.setPostIsrCcdInputs(os.path.join(closed_loop_input_dir, 'rerun/run1'))\n",
    "\n",
    "obsIdList = [9006002]\n",
    "neighborStarMap = wep_calc._getTargetStar(obsIdList, defocalState=DefocalType.Intra)\n",
    "\n",
    "\n",
    "###\n",
    "# below are parts of _calcWfErr() that we are testing : \n",
    "###\n",
    "sensorNameList = list(neighborStarMap)\n",
    "# detector_list = sensorNameList\n",
    "wfsImgMap = wep_calc.wepCntlr.getPostIsrImgMapOnCornerWfs(sensorNameList, obsIdList[0])\n",
    "\n",
    "doDeblending = wep_calc.settingFile.getSetting(\"doDeblending\")\n",
    "postageImg = False\n",
    "\n",
    "donutMap = wep_calc.wepCntlr.getDonutMap(neighborStarMap, wfsImgMap, FilterType.REF)\n",
    "\n"
   ]
  },
  {
   "cell_type": "code",
   "execution_count": null,
   "metadata": {},
   "outputs": [
    {
     "name": "stdout",
     "output_type": "stream",
     "text": [
      "\n",
      " Calculating the wavefront error based on the donut map\n",
      "\n",
      " sensorName  R:0,0 S:2,2,A  abbrevDetectorName  R00_S22_C0  starId= 0  donut px pos =  (1532.1099794915613, 3117.516725914245)\n",
      "WARNING: negative scale parameter, image is within caustic, zcCol (in um)=\n",
      "\n",
      "WARNING: negative scale parameter, image is within caustic, zcCol (in um)=\n",
      "\n",
      "\n",
      " sensorName  R:0,0 S:2,2,A  abbrevDetectorName  R00_S22_C0  starId= 1  donut px pos =  (534.2978338751293, 3220.025042638983)\n"
     ]
    }
   ],
   "source": [
    "# the above works - and here we find that there is not enough donuts \n",
    "# in R04_S20 , even though the postISR image would suggest otherwise \n",
    "\n",
    "donutMap2 = wep_calc.wepCntlr.calcWfErr(donutMap)"
   ]
  },
  {
   "cell_type": "code",
   "execution_count": null,
   "metadata": {},
   "outputs": [],
   "source": [
    "#\n",
    "# TO DO : final steps \n",
    "#\n",
    "wfs_zer_output = 'wfs.arrows.txt'\n",
    "\n",
    "listOfWfErr = wep_calc._populateListOfSensorWavefrontData(donutMap2)\n",
    "\n",
    "zerDict = {}\n",
    "for wfErrObj in listOfWfErr:\n",
    "    zerDict[wfErrObj.getSensorId()] = wfErrObj.getAnnularZernikePoly()\n",
    "\n",
    "sensorKeys = list(zerDict.keys())\n",
    "sensorKeys.sort()\n",
    "\n",
    "zerList = []\n",
    "for sensorKey in sensorKeys:\n",
    "    zerList.append(zerDict[sensorKey])\n",
    "zerArray = np.array(zerList)\n",
    "\n",
    "np.savetxt(wfs_zer_output, zerArray, header='The following are ZK in um from z4 to z22:')"
   ]
  }
 ],
 "metadata": {
  "kernelspec": {
   "display_name": "lsst_phosim",
   "language": "python",
   "name": "lsst_phosim"
  },
  "language_info": {
   "codemirror_mode": {
    "name": "ipython",
    "version": 3
   },
   "file_extension": ".py",
   "mimetype": "text/x-python",
   "name": "python",
   "nbconvert_exporter": "python",
   "pygments_lexer": "ipython3",
   "version": "3.7.6"
  }
 },
 "nbformat": 4,
 "nbformat_minor": 2
}
