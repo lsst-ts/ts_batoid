{
 "cells": [
  {
   "cell_type": "markdown",
   "metadata": {},
   "source": [
    "## GAIA catalog WFS ra,dec"
   ]
  },
  {
   "cell_type": "markdown",
   "metadata": {},
   "source": []
  },
  {
   "cell_type": "markdown",
   "metadata": {},
   "source": [
    "Getting ra,dec of the four corner sensors with relation to the center of ComCam if boresight is (ra,dec)=(0,0)"
   ]
  },
  {
   "cell_type": "code",
   "execution_count": null,
   "metadata": {},
   "outputs": [],
   "source": []
  },
  {
   "cell_type": "code",
   "execution_count": 22,
   "metadata": {},
   "outputs": [],
   "source": [
    "from lsst.ts.phosim.SkySim import SkySim\n",
    "import numpy as np \n",
    "from astropy.table import Table\n",
    "from astropy.table import  hstack\n",
    "from astropy.table import  vstack\n",
    "import matplotlib.pyplot as plt\n",
    "\n",
    "from matplotlib import rcParams \n",
    "rcParams['ytick.labelsize'] = 15\n",
    "rcParams['xtick.labelsize'] = 15\n",
    "rcParams['axes.labelsize'] = 20\n",
    "rcParams['axes.linewidth'] = 2\n",
    "rcParams['font.size'] = 15\n",
    "rcParams['axes.titlesize'] = 18\n",
    "\n"
   ]
  },
  {
   "cell_type": "markdown",
   "metadata": {},
   "source": [
    "Note: in all of the below, we assume the following:"
   ]
  },
  {
   "cell_type": "code",
   "execution_count": 27,
   "metadata": {},
   "outputs": [],
   "source": [
    "mjd = 57648  # arbitrary observation date \n",
    "raInDeg = 0 # boresight in degrees \n",
    "declInDeg = 0\n",
    "rotSkyPos = 0 # rotation angle in degrees \n",
    "starMag = 15 # star magnitude "
   ]
  },
  {
   "cell_type": "markdown",
   "metadata": {},
   "source": [
    "First, plot the center of each half-sensor to show their orientation:"
   ]
  },
  {
   "cell_type": "code",
   "execution_count": 30,
   "metadata": {},
   "outputs": [
    {
     "data": {
      "image/png": "[encoded data removed]",
      "text/plain": [
       "<Figure size 360x360 with 1 Axes>"
      ]
     },
     "metadata": {
      "needs_background": "light"
     },
     "output_type": "display_data"
    }
   ],
   "source": [
    "# Declare the SkySim()\n",
    "skySim = SkySim()\n",
    "\n",
    "# Set the observation information\n",
    "skySim.setObservationMetaData(raInDeg, declInDeg, rotSkyPos, mjd)\n",
    "\n",
    "sensorName = [\"R44_S00_C0\", \"R00_S22_C0\",\n",
    "              \"R40_S02_C0\", \"R04_S20_C0\",\n",
    "              \"R44_S00_C1\", \"R00_S22_C1\",\n",
    "              \"R40_S02_C1\", \"R04_S20_C1\"\n",
    "             ]\n",
    "\n",
    "# should be ~ the center of each sensor ..\n",
    "# which are ~2000x4000\n",
    "xPx = np.ones(len(sensorName))*1000 \n",
    "yPx = np.ones(len(yPx))*2000\n",
    "\n",
    "\n",
    "store_x = []\n",
    "store_y = []\n",
    "store_sensorName = [] \n",
    "\n",
    "i = 0 \n",
    "for sensor in sensorName:\n",
    "    #for ii in range(len(sensorName)):\n",
    "    starId = i\n",
    "    skySim.addStarByChipPos(sensor, starId, xPx[i],\n",
    "                                yPx[i], starMag)\n",
    "    store_x.append(xPx[i])\n",
    "    store_y.append(yPx[i])\n",
    "    store_sensorName.append(sensor)\n",
    "    \n",
    "    i += 1 \n",
    "\n",
    "        \n",
    "ra,dec = skySim.getRaDecInDeg()\n",
    "\n",
    "# store in astropy Table \n",
    "coords = Table(data=[ra,dec, store_x, store_y, store_sensorName ],\n",
    "              names=['ra','dec', 'xPx', 'yPx', 'sensorName'])\n",
    "\n",
    "%matplotlib inline\n",
    "\n",
    "m = coords['ra']>180\n",
    "coords['ra'][m]  = coords['ra'][m]-360\n",
    "\n",
    "fig,ax  = plt.subplots(1,1,figsize=(5,5))\n",
    "for part,color in zip(['C0','C1'], ['blue','orange']):\n",
    "    m = [s.endswith(part) for s in coords['sensorName']]\n",
    "    ax.scatter(coords['ra'][m], coords['dec'][m],c=color)\n",
    "ax.set_xlabel('Ra')\n",
    "ax.set_ylabel('Decl')\n",
    "ax.grid()"
   ]
  },
  {
   "cell_type": "markdown",
   "metadata": {},
   "source": [
    "In the above, blue are `C0`, i.e. intra-focal part of WFS, and orange are `C1` - the extra-focal part. "
   ]
  },
  {
   "cell_type": "markdown",
   "metadata": {},
   "source": [
    "We also plot more complex shapes to fully illustrate their orientation. For instance,  we plot arrows / outlines for each corner sensor : "
   ]
  },
  {
   "cell_type": "code",
   "execution_count": 32,
   "metadata": {},
   "outputs": [],
   "source": [
    "# Two convenience functions to define x,y coordinates of points\n",
    "# that look like an arrow, and points that \n",
    "# trace the outline of the sensor \n",
    "\n",
    "def pixel_arrow(x_vertex=1500, y_vertex=3000, width=1100, \n",
    "                spacing=300, diag_spacing=200, xmin=0, xmax=2000,\n",
    "                ymin=0, ymax=4072 , xy_offset = 1300 \n",
    "               ):\n",
    "    #x_vertex, y_vertex = 1500,3000  \n",
    "    # width = 1100; spacing = 300\n",
    "    xPx = np.zeros(0)\n",
    "    yPx = np.zeros(0)\n",
    "    # vertical part\n",
    "    ys = np.arange(y_vertex-width,y_vertex, spacing )\n",
    "    xs = x_vertex*np.ones_like(ys)\n",
    "    print(xs,ys)\n",
    "    xPx = np.append(xPx, xs)\n",
    "    yPx = np.append(yPx, ys)\n",
    "\n",
    "\n",
    "    # horizontal part \n",
    "    xh = np.arange(x_vertex-width,x_vertex, spacing)\n",
    "    yh = y_vertex*np.ones_like(xh)\n",
    "    print(xh, yh)\n",
    "    xPx = np.append(xPx, xh)\n",
    "    yPx = np.append(yPx, yh)\n",
    "\n",
    "\n",
    "    # diagonal part:\n",
    "    x_start, y_start = x_vertex-xy_offset, y_vertex-xy_offset\n",
    "\n",
    "    a = (y_start-y_vertex)/(x_start-x_vertex)\n",
    "    b = y_vertex-a*x_vertex\n",
    "    print('y=%.2fx %.2f'%(a,b))\n",
    "\n",
    "    #diag_spacing = 200\n",
    "    xd = np.arange(x_start, x_vertex,diag_spacing)\n",
    "    yd = a*xd+b\n",
    "    print(xd,yd)\n",
    "    xPx = np.append(xPx, xd)\n",
    "    yPx = np.append(yPx, yd)\n",
    "\n",
    "    # append vertex too \n",
    "    xPx = np.append(xPx, x_vertex)\n",
    "    yPx = np.append(yPx, y_vertex)\n",
    "\n",
    "    # plot what I expect on  a single WFS half-chip \n",
    "    fig,ax = plt.subplots(1,1,figsize=((4./2000)*xmax,(8./4072)*ymax))\n",
    "    ax.scatter(xs,ys)\n",
    "    ax.scatter(xh,yh)\n",
    "    ax.scatter(xd,yd)\n",
    "    ax.scatter(x_vertex,y_vertex)\n",
    "    #xmin,xmax = 0,2000\n",
    "    #ymin,ymax = 0,4072\n",
    "    ax.set_xlim(xmin,xmax)\n",
    "    ax.set_ylim(ymin,ymax)\n",
    "    ax.grid()\n",
    "    ax.set_xlabel('x [px]')\n",
    "    ax.set_ylabel('y [px]')\n",
    "\n",
    "    ax.scatter(xPx, yPx)\n",
    "    print(xPx, yPx)\n",
    "    return xPx, yPx \n",
    "\n",
    "\n",
    "def pixel_outline(xmin=0,  xmax=2000, ymin=0, ymax=4072, dx=100 , dy=100, off =15 ):\n",
    "\n",
    "    x0,x1 = xmin,xmax\n",
    "    y0,y1 = ymin,ymax\n",
    "\n",
    "    # initialize as empty arrays \n",
    "    xPx = np.zeros(0)\n",
    "    yPx = np.zeros(0)\n",
    "\n",
    "    # bottom part\n",
    "    x = np.arange(x0,x1,dx)\n",
    "    y = np.zeros_like(x)\n",
    "    xPx = np.append(xPx, x)\n",
    "    yPx = np.append(yPx, y)\n",
    "\n",
    "    # right \n",
    "    y = np.arange(y0,y1,dy)\n",
    "    x = np.ones_like(y) * x1\n",
    "    xPx = np.append(xPx, x)\n",
    "    yPx = np.append(yPx, y)\n",
    "\n",
    "    # top \n",
    "    x = np.arange(x0,x1,dx)\n",
    "    y = np.ones_like(x)* y1\n",
    "    xPx = np.append(xPx, x)\n",
    "    yPx = np.append(yPx, y)\n",
    "\n",
    "    # left \n",
    "    y = np.arange(y0,y1,dy)\n",
    "    x = np.zeros_like(y)\n",
    "    xPx = np.append(xPx, x)\n",
    "    yPx = np.append(yPx, y)\n",
    "\n",
    "    # plot what I expect on  a single WFS half-chip \n",
    "    fig,ax = plt.subplots(1,1,figsize=((4./2000)*xmax,(8./4072)*ymax))\n",
    "    ax.scatter(xPx,yPx)\n",
    "\n",
    "    \n",
    "    ax.set_xlim(xmin-off,xmax+off)\n",
    "    ax.set_ylim(ymin-off,ymax+off)\n",
    "    ax.grid()\n",
    "    ax.set_xlabel('x [px]')\n",
    "    ax.set_ylabel('y [px]')\n",
    "    return xPx, yPx\n"
   ]
  },
  {
   "cell_type": "markdown",
   "metadata": {},
   "source": [
    "Find the ra,dec of points for WFS sensors: "
   ]
  },
  {
   "cell_type": "code",
   "execution_count": 33,
   "metadata": {},
   "outputs": [
    {
     "name": "stdout",
     "output_type": "stream",
     "text": [
      "[1500 1500 1500 1500] [1900 2200 2500 2800]\n",
      "[ 400  700 1000 1300] [3000 3000 3000 3000]\n",
      "y=1.00x 1500.00\n",
      "[ 200  400  600  800 1000 1200 1400] [1700. 1900. 2100. 2300. 2500. 2700. 2900.]\n",
      "[1500. 1500. 1500. 1500.  400.  700. 1000. 1300.  200.  400.  600.  800.\n",
      " 1000. 1200. 1400. 1500.] [1900. 2200. 2500. 2800. 3000. 3000. 3000. 3000. 1700. 1900. 2100. 2300.\n",
      " 2500. 2700. 2900. 3000.]\n"
     ]
    },
    {
     "data": {
      "image/png": "[encoded data removed]",
      "text/plain": [
       "<Figure size 288x576 with 1 Axes>"
      ]
     },
     "metadata": {
      "needs_background": "light"
     },
     "output_type": "display_data"
    },
    {
     "data": {
      "image/png": "[encoded data removed]",
      "text/plain": [
       "<Figure size 288x576 with 1 Axes>"
      ]
     },
     "metadata": {
      "needs_background": "light"
     },
     "output_type": "display_data"
    }
   ],
   "source": [
    "# Declare the SkySim()\n",
    "skySim = SkySim()\n",
    "\n",
    "# Set the observation information\n",
    "skySim.setObservationMetaData(raInDeg, declInDeg, rotSkyPos, mjd)\n",
    "\n",
    "sensorName = [\"R44_S00_C0\", \"R00_S22_C0\",\n",
    "              \"R40_S02_C0\", \"R04_S20_C0\",\n",
    "              \"R44_S00_C1\", \"R00_S22_C1\",\n",
    "              \"R40_S02_C1\", \"R04_S20_C1\",\n",
    "             ]\n",
    "\n",
    "# add arrows  per half-sensor \n",
    "xPx, yPx = pixel_arrow(x_vertex=1500, y_vertex=3000, width=1100, \n",
    "                spacing=300, diag_spacing=200, xmin=0, xmax=2000,\n",
    "                ymin=0, ymax=4072, xy_offset=1300 )\n",
    "\n",
    "\n",
    "\n",
    "store_x = []\n",
    "store_y = []\n",
    "store_sen = [] \n",
    "imType = []\n",
    "\n",
    "starId = 0 \n",
    "for sensor in sensorName:\n",
    "    for i in range(len(xPx)):\n",
    "        skySim.addStarByChipPos(sensor, starId, xPx[i],\n",
    "                                yPx[i], starMag)\n",
    "        store_x.append(xPx[i])\n",
    "        store_y.append(yPx[i])\n",
    "        store_sen.append(sensor)\n",
    "        imType.append('arrow')\n",
    "        starId += 1 \n",
    "        \n",
    "# add outlines per half-sensor ... \n",
    "xPx, yPx = pixel_outline()\n",
    " \n",
    "for sensor in sensorName:\n",
    "    for i in range(len(xPx)):\n",
    "        skySim.addStarByChipPos(sensor, starId, xPx[i],\n",
    "                                yPx[i], starMag)\n",
    "        store_x.append(xPx[i])\n",
    "        store_y.append(yPx[i])\n",
    "        store_sen.append(sensor)\n",
    "        imType.append('outline')\n",
    "        starId += 1 \n",
    "        \n",
    "ra,dec = skySim.getRaDecInDeg()\n",
    "\n",
    "coords_wfs = Table(data=[ra,dec, store_x,store_y, store_sen, imType], \n",
    "             names=['ra','dec', 'xPx', 'yPx', 'sensorName', 'imType']  )\n",
    "\n",
    "\n"
   ]
  },
  {
   "cell_type": "markdown",
   "metadata": {},
   "source": [
    "Add arrows / outlines for ComCam ... "
   ]
  },
  {
   "cell_type": "code",
   "execution_count": 34,
   "metadata": {},
   "outputs": [
    {
     "name": "stdout",
     "output_type": "stream",
     "text": [
      "[3500 3500 3500 3500 3500] [2000 2300 2600 2900 3200]\n",
      "[2000 2300 2600 2900 3200] [3500 3500 3500 3500 3500]\n",
      "y=1.00x 0.00\n",
      "[1000 1200 1400 1600 1800 2000 2200 2400 2600 2800 3000 3200 3400] [1000. 1200. 1400. 1600. 1800. 2000. 2200. 2400. 2600. 2800. 3000. 3200.\n",
      " 3400.]\n",
      "[3500. 3500. 3500. 3500. 3500. 2000. 2300. 2600. 2900. 3200. 1000. 1200.\n",
      " 1400. 1600. 1800. 2000. 2200. 2400. 2600. 2800. 3000. 3200. 3400. 3500.] [2000. 2300. 2600. 2900. 3200. 3500. 3500. 3500. 3500. 3500. 1000. 1200.\n",
      " 1400. 1600. 1800. 2000. 2200. 2400. 2600. 2800. 3000. 3200. 3400. 3500.]\n"
     ]
    },
    {
     "data": {
      "image/png": "[encoded data removed]",
      "text/plain": [
       "<Figure size 586.368x576 with 1 Axes>"
      ]
     },
     "metadata": {
      "needs_background": "light"
     },
     "output_type": "display_data"
    },
    {
     "data": {
      "image/png": "[encoded data removed]",
      "text/plain": [
       "<Figure size 576x576 with 1 Axes>"
      ]
     },
     "metadata": {
      "needs_background": "light"
     },
     "output_type": "display_data"
    }
   ],
   "source": [
    "# Declare the SkySim()\n",
    "skySim = SkySim()\n",
    "\n",
    "# Set the observation information\n",
    "skySim.setObservationMetaData(raInDeg, declInDeg, rotSkyPos, mjd)\n",
    "\n",
    "sensorName = [\"R22_S00\", \"R22_S01\",\"R22_S02\",\n",
    "              \"R22_S10\", \"R22_S11\",\"R22_S12\",\n",
    "              \"R22_S20\", \"R22_S21\",\"R22_S22\"]\n",
    "\n",
    "# add arrow per ComCam sensor (CCD)\n",
    "xPx, yPx = pixel_arrow(x_vertex=3500, y_vertex=3500, width=1500, \n",
    "                spacing=300, diag_spacing=200, xmin=0, xmax=4072,\n",
    "                ymin=0, ymax=4072, xy_offset=2500 )\n",
    "\n",
    "store_x = []\n",
    "store_y = []\n",
    "store_sen = [] \n",
    "imType = []\n",
    "starId = 0 \n",
    "for sensor in sensorName:\n",
    "    for i in range(len(xPx)):\n",
    "        skySim.addStarByChipPos(sensor, starId, xPx[i],\n",
    "                                yPx[i], starMag)\n",
    "        store_x.append(xPx[i])\n",
    "        store_y.append(yPx[i])\n",
    "        store_sen.append(sensor)\n",
    "        imType.append('arrow')\n",
    "        starId += 1 \n",
    "        \n",
    "# add outlines per comcam sensor ... \n",
    "xPx, yPx = pixel_outline(xmin=0,  xmax=4000, ymin=0, ymax=4072, dx=100 , dy=100, off = 15 )\n",
    " \n",
    "for sensor in sensorName:\n",
    "    for i in range(len(xPx)):\n",
    "        skySim.addStarByChipPos(sensor, starId, xPx[i],\n",
    "                                yPx[i], starMag)\n",
    "        store_x.append(xPx[i])\n",
    "        store_y.append(yPx[i])\n",
    "        store_sen.append(sensor)\n",
    "        imType.append('outline')\n",
    "        starId += 1 \n",
    "        \n",
    "ra,dec = skySim.getRaDecInDeg()\n",
    "\n",
    "coords_com = Table(data=[ra,dec, store_x,store_y, store_sen, imType], \n",
    "             names=['ra','dec', 'xPx', 'yPx', 'sensorName', 'imType']  )\n"
   ]
  },
  {
   "cell_type": "markdown",
   "metadata": {},
   "source": [
    "Also, add center of each corner assembly as the pointing for GAIA DR2 query : "
   ]
  },
  {
   "cell_type": "code",
   "execution_count": 50,
   "metadata": {},
   "outputs": [],
   "source": [
    "skySim = SkySim()\n",
    "\n",
    "# Set the observation information\n",
    "skySim.setObservationMetaData(raInDeg, declInDeg, rotSkyPos, mjd)\n",
    "\n",
    "sensorName = [\"R44_S00_C0\", \"R00_S22_C0\",\n",
    "              \"R40_S02_C0\", \"R04_S20_C0\",\n",
    "             ]\n",
    "\n",
    "store_x = []\n",
    "store_y = []\n",
    "store_sen = [] \n",
    "imType = []\n",
    "\n",
    "xPx = 2000\n",
    "yPx = 2036  # 4072 / 2 \n",
    "\n",
    "i = 0 \n",
    "for sensor in sensorName:\n",
    "    starId = i\n",
    "    skySim.addStarByChipPos(sensor, starId, xPx,\n",
    "                            yPx, starMag)\n",
    "    store_x.append(xPx)\n",
    "    store_y.append(yPx)\n",
    "    store_sen.append(sensor)\n",
    "    imType.append('center')\n",
    "    i += 1 \n",
    "\n",
    "ra,dec = skySim.getRaDecInDeg()\n",
    "\n",
    "coords_cen = Table(data=[ra,dec, store_x,store_y, store_sen, imType], \n",
    "             names=['ra','dec', 'xPx', 'yPx', 'sensorName', 'imType']  )\n",
    "\n",
    "\n"
   ]
  },
  {
   "cell_type": "markdown",
   "metadata": {},
   "source": [
    "Put these together and illustrate in (ra,deg) space : "
   ]
  },
  {
   "cell_type": "code",
   "execution_count": 16,
   "metadata": {},
   "outputs": [],
   "source": []
  },
  {
   "cell_type": "code",
   "execution_count": 52,
   "metadata": {},
   "outputs": [
    {
     "data": {
      "image/png": "[encoded data removed]",
      "text/plain": [
       "<Figure size 432x432 with 1 Axes>"
      ]
     },
     "metadata": {
      "needs_background": "light"
     },
     "output_type": "display_data"
    }
   ],
   "source": [
    "coords = vstack([coords_wfs, coords_com, coords_cen])\n",
    "\n",
    "# shift from ra in  (0,360), which is the PhoSim format, \n",
    "# to ra in (-180,180), since we're centered on (0,0) \n",
    "m = coords['ra']>180\n",
    "coords['ra'][m]  = coords['ra'][m]-360\n",
    "\n",
    "\n",
    "fig,ax = plt.subplots(1,1,figsize=(6,6))\n",
    "lim = 1.3 \n",
    "\n",
    "# plot WFS \n",
    "for part,color in zip(['C0','C1'], ['blue','orange']):\n",
    "    m = [s.endswith(part) for s in coords['sensorName']]\n",
    "    ax.scatter(coords['ra'][m], coords['dec'][m],c=color,s=1)\n",
    "    ax.set_xlim(-lim,lim)\n",
    "    ax.set_ylim(-lim,lim)\n",
    "    \n",
    "# plot ComCam \n",
    "color='red'\n",
    "m = [s.startswith('R22') for s in coords['sensorName']]\n",
    "ax.scatter(coords['ra'][m], coords['dec'][m], c=color, s=1)\n",
    "\n",
    "\n",
    "# plot the center of each WFS corner, used to query GAIA DR2  \n",
    "color='red'\n",
    "m = [s.startswith('cen') for s in coords['imType']]\n",
    "ax.scatter(coords['ra'][m], coords['dec'][m], c=color, s=15,\n",
    "          marker='x')\n",
    "\n",
    "\n",
    "\n",
    "ax.set_xlabel('RA')\n",
    "ax.set_ylabel('Decl')\n",
    "\n",
    "ax.grid()\n",
    "\n",
    "plt.savefig('GAIA_arrows_outline.png', bbox_inches='tight', dpi=100)"
   ]
  },
  {
   "cell_type": "markdown",
   "metadata": {},
   "source": [
    "So the ComCam sensors are oriented as I expected, but the WFS sensors are each having (x,y) start at a different rotation angle (i.e. as we go from 'R00_S22',  'R40_S02' , 'R44_S00', to 'R00_S22', the sensor coordinate system is re-oriented).  In the above, orange are the 'C1' , and blue the 'C0' half-sensors. "
   ]
  },
  {
   "cell_type": "code",
   "execution_count": 53,
   "metadata": {},
   "outputs": [
    {
     "data": {
      "text/html": [
       "<i>Table length=4</i>\n",
       "<table id=\"table140463201933072\" class=\"table-striped table-bordered table-condensed\">\n",
       "<thead><tr><th>ra</th><th>dec</th><th>xPx</th><th>yPx</th><th>sensorName</th><th>imType</th></tr></thead>\n",
       "<thead><tr><th>float64</th><th>float64</th><th>float64</th><th>float64</th><th>str10</th><th>str7</th></tr></thead>\n",
       "<tr><td>1.1811817965673403</td><td>1.1785818078976729</td><td>2000.0</td><td>2036.0</td><td>R44_S00_C0</td><td>center</td></tr>\n",
       "<tr><td>-1.1798258700895872</td><td>-1.178145473993399</td><td>2000.0</td><td>2036.0</td><td>R00_S22_C0</td><td>center</td></tr>\n",
       "<tr><td>1.1767622392809642</td><td>-1.1746966484405015</td><td>2000.0</td><td>2036.0</td><td>R40_S02_C0</td><td>center</td></tr>\n",
       "<tr><td>-1.176989741614534</td><td>1.174289071077627</td><td>2000.0</td><td>2036.0</td><td>R04_S20_C0</td><td>center</td></tr>\n",
       "</table>"
      ],
      "text/plain": [
       "<Table length=4>\n",
       "         ra                 dec           xPx     yPx   sensorName imType\n",
       "      float64             float64       float64 float64   str10     str7 \n",
       "------------------- ------------------- ------- ------- ---------- ------\n",
       " 1.1811817965673403  1.1785818078976729  2000.0  2036.0 R44_S00_C0 center\n",
       "-1.1798258700895872  -1.178145473993399  2000.0  2036.0 R00_S22_C0 center\n",
       " 1.1767622392809642 -1.1746966484405015  2000.0  2036.0 R40_S02_C0 center\n",
       " -1.176989741614534   1.174289071077627  2000.0  2036.0 R04_S20_C0 center"
      ]
     },
     "execution_count": 53,
     "metadata": {},
     "output_type": "execute_result"
    }
   ],
   "source": [
    "sel = coords[coords['imType'] == 'center']\n",
    "sel"
   ]
  },
  {
   "cell_type": "code",
   "execution_count": 54,
   "metadata": {},
   "outputs": [],
   "source": [
    "sel.write('GAIA_WFS_center_coords.txt', format='ascii')"
   ]
  },
  {
   "cell_type": "code",
   "execution_count": null,
   "metadata": {},
   "outputs": [],
   "source": []
  }
 ],
 "metadata": {
  "kernelspec": {
   "display_name": "lsst_phosim",
   "language": "python",
   "name": "lsst_phosim"
  },
  "language_info": {
   "codemirror_mode": {
    "name": "ipython",
    "version": 3
   },
   "file_extension": ".py",
   "mimetype": "text/x-python",
   "name": "python",
   "nbconvert_exporter": "python",
   "pygments_lexer": "ipython3",
   "version": "3.7.6"
  }
 },
 "nbformat": 4,
 "nbformat_minor": 2
}
