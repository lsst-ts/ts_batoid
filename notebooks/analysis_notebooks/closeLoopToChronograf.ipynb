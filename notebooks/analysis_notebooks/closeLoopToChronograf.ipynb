{
 "cells": [
  {
   "cell_type": "markdown",
   "metadata": {},
   "source": [
    "# Push AOS Closed Loop Results to Chronograf\n",
    "\n",
    "This notebook shows how to push a sample of results of the AOS closed loop to the [Chronograf dashboards](https://chronograf-demo.lsst.codes/) provided by the Squash team."
   ]
  },
  {
   "cell_type": "markdown",
   "metadata": {},
   "source": [
    "### Run WFS Zernike Estimation\n",
    "\n",
    "This piece of code takes the PostISR output and runs the pieces of the closed loop that estimate Zernike polynomials from the donuts."
   ]
  },
  {
   "cell_type": "code",
   "execution_count": 1,
   "metadata": {},
   "outputs": [],
   "source": [
    "import os\n",
    "import argparse\n",
    "import numpy as np\n",
    "\n",
    "from lsst.ts.wep.WepController import WepController\n",
    "from lsst.ts.wep.Utility import CamType, FilterType, getModulePath, mapFilterRefToG, DefocalType\n",
    "from lsst.ts.wep.ctrlIntf.WEPCalculationFactory import WEPCalculationFactory"
   ]
  },
  {
   "cell_type": "code",
   "execution_count": 30,
   "metadata": {},
   "outputs": [],
   "source": [
    "run_deblender = False\n",
    "save_postage_stamps = False\n",
    "# Medium galactic latitude simulation\n",
    "data_dir = '/astro/users/brycek/epyc/users/brycek/Commissioning/aos/ts_phosim/notebooks/analysis_scripts/test_output/gaiaMedClosedLoop/noDeblending/refCat/090320/'\n",
    "postage_img_dir = os.path.join(data_dir, 'postage')"
   ]
  },
  {
   "cell_type": "code",
   "execution_count": 31,
   "metadata": {},
   "outputs": [],
   "source": [
    "detector_list = ['R:2,2 S:0,0', 'R:2,2 S:0,1', 'R:2,2 S:0,2',\n",
    "                 'R:2,2 S:1,0', 'R:2,2 S:1,1', 'R:2,2 S:1,2',\n",
    "                 'R:2,2 S:2,0', 'R:2,2 S:2,1', 'R:2,2 S:2,2']"
   ]
  },
  {
   "cell_type": "code",
   "execution_count": 35,
   "metadata": {},
   "outputs": [],
   "source": [
    "wep_calc = WEPCalculationFactory.getCalculator(CamType.ComCam, os.path.join(data_dir, 'input'))\n",
    "wep_calc.wepCntlr.setPostIsrCcdInputs(os.path.join(data_dir, 'input/rerun/run1'))\n",
    "intraObsId = 9006042\n",
    "extraObsId = 9006041\n",
    "visitList = [intraObsId, extraObsId]"
   ]
  },
  {
   "cell_type": "code",
   "execution_count": 39,
   "metadata": {},
   "outputs": [],
   "source": [
    "# Remove existing database that might have table already created\n",
    "if os.path.exists('/astro/users/brycek/epyc/users/brycek/Commissioning/aos/ts_wep/tests/testData/bsc.db3'):\n",
    "    os.remove('/astro/users/brycek/epyc/users/brycek/Commissioning/aos/ts_wep/tests/testData/bsc.db3')"
   ]
  },
  {
   "cell_type": "code",
   "execution_count": 40,
   "metadata": {},
   "outputs": [
    {
     "name": "stdout",
     "output_type": "stream",
     "text": [
      "{'visit': 9006042, 'filter': 'g', 'raftName': 'R22', 'detectorName': 'S02'}\n",
      "{'visit': 9006042, 'filter': 'g', 'raftName': 'R22', 'detectorName': 'S12'}\n",
      "{'visit': 9006042, 'filter': 'g', 'raftName': 'R22', 'detectorName': 'S22'}\n",
      "{'visit': 9006042, 'filter': 'g', 'raftName': 'R22', 'detectorName': 'S01'}\n",
      "{'visit': 9006042, 'filter': 'g', 'raftName': 'R22', 'detectorName': 'S11'}\n",
      "{'visit': 9006042, 'filter': 'g', 'raftName': 'R22', 'detectorName': 'S21'}\n",
      "{'visit': 9006042, 'filter': 'g', 'raftName': 'R22', 'detectorName': 'S00'}\n",
      "{'visit': 9006042, 'filter': 'g', 'raftName': 'R22', 'detectorName': 'S10'}\n",
      "{'visit': 9006042, 'filter': 'g', 'raftName': 'R22', 'detectorName': 'S20'}\n",
      "{'visit': 9006042, 'filter': 'g', 'raftName': 'R22', 'detectorName': 'S02'}\n",
      "FITS standard SkyWcs:\n",
      "Sky Origin: (232.788916, -4.239221)\n",
      "Pixel Origin: (1555.02, 2128.17)\n",
      "Pixel Scale: 0.200106 arcsec/pixel\n",
      "0     232.889451\n",
      "1     232.662075\n",
      "2     232.878467\n",
      "3     232.708678\n",
      "4     232.858448\n",
      "         ...    \n",
      "78    232.880306\n",
      "79    232.909338\n",
      "80    232.723152\n",
      "81    232.883429\n",
      "82    232.653629\n",
      "Name: ra, Length: 83, dtype: float64\n",
      "0     232.889451\n",
      "1     232.662075\n",
      "2     232.878467\n",
      "3     232.708678\n",
      "4     232.858448\n",
      "         ...    \n",
      "78    232.880306\n",
      "79    232.909338\n",
      "80    232.723152\n",
      "81    232.883429\n",
      "82    232.653629\n",
      "Name: ra, Length: 83, dtype: float64\n",
      "{'visit': 9006042, 'filter': 'g', 'raftName': 'R22', 'detectorName': 'S12'}\n",
      "FITS standard SkyWcs:\n",
      "Sky Origin: (233.045231, -4.196600)\n",
      "Pixel Origin: (2320.56, 2502.77)\n",
      "Pixel Scale: 0.198202 arcsec/pixel\n",
      "0     233.058492\n",
      "1     232.889451\n",
      "2     232.950243\n",
      "3     233.075112\n",
      "4     232.951480\n",
      "         ...    \n",
      "70    233.015459\n",
      "71    233.117226\n",
      "72    232.995047\n",
      "73    233.001014\n",
      "74    232.925861\n",
      "Name: ra, Length: 75, dtype: float64\n",
      "0     233.058554\n",
      "1     232.889316\n",
      "2     232.950232\n",
      "3     233.075181\n",
      "4     232.951449\n",
      "         ...    \n",
      "70    233.015469\n",
      "71    233.117211\n",
      "72    232.995072\n",
      "73    233.000981\n",
      "74    232.925886\n",
      "Name: ra, Length: 75, dtype: float64\n",
      "{'visit': 9006042, 'filter': 'g', 'raftName': 'R22', 'detectorName': 'S22'}\n",
      "FITS standard SkyWcs:\n",
      "Sky Origin: (233.243908, -4.214473)\n",
      "Pixel Origin: (1999.13, 1843.82)\n",
      "Pixel Scale: 0.200082 arcsec/pixel\n",
      "0     233.129261\n",
      "1     233.155061\n",
      "2     233.373272\n",
      "3     233.378427\n",
      "4     233.222286\n",
      "         ...    \n",
      "65    233.143613\n",
      "66    233.295506\n",
      "67    233.179338\n",
      "68    233.127449\n",
      "69    233.330289\n",
      "Name: ra, Length: 70, dtype: float64\n",
      "0     233.129261\n",
      "1     233.155061\n",
      "2     233.373272\n",
      "3     233.378427\n",
      "4     233.222286\n",
      "         ...    \n",
      "65    233.143613\n",
      "66    233.295506\n",
      "67    233.179338\n",
      "68    233.127449\n",
      "69    233.330289\n",
      "Name: ra, Length: 70, dtype: float64\n",
      "{'visit': 9006042, 'filter': 'g', 'raftName': 'R22', 'detectorName': 'S01'}\n",
      "FITS standard SkyWcs:\n",
      "Sky Origin: (232.762383, -4.443036)\n",
      "Pixel Origin: (2108.31, 1656.82)\n",
      "Pixel Scale: 0.200073 arcsec/pixel\n",
      "0     232.696055\n",
      "1     232.722674\n",
      "2     232.689019\n",
      "3     232.780936\n",
      "4     232.858829\n",
      "         ...    \n",
      "74    232.821190\n",
      "75    232.770682\n",
      "76    232.655317\n",
      "77    232.704235\n",
      "78    232.749694\n",
      "Name: ra, Length: 79, dtype: float64\n",
      "0     232.696055\n",
      "1     232.722674\n",
      "2     232.689019\n",
      "3     232.780936\n",
      "4     232.858829\n",
      "         ...    \n",
      "74    232.821190\n",
      "75    232.770682\n",
      "76    232.655317\n",
      "77    232.704235\n",
      "78    232.749694\n",
      "Name: ra, Length: 79, dtype: float64\n",
      "{'visit': 9006042, 'filter': 'g', 'raftName': 'R22', 'detectorName': 'S11'}\n",
      "FITS standard SkyWcs:\n",
      "Sky Origin: (233.012850, -4.449050)\n",
      "Pixel Origin: (1999.63, 1925.91)\n",
      "Pixel Scale: 0.200083 arcsec/pixel\n",
      "0     232.912400\n",
      "1     233.074523\n",
      "2     233.007690\n",
      "3     232.946989\n",
      "4     233.034287\n",
      "         ...    \n",
      "77    233.042627\n",
      "78    232.917814\n",
      "79    232.986050\n",
      "80    233.037014\n",
      "81    233.069191\n",
      "Name: ra, Length: 82, dtype: float64\n",
      "0     232.912400\n",
      "1     233.074523\n",
      "2     233.007690\n",
      "3     232.946989\n",
      "4     233.034287\n",
      "         ...    \n",
      "77    233.042627\n",
      "78    232.917814\n",
      "79    232.986050\n",
      "80    233.037014\n",
      "81    233.069191\n",
      "Name: ra, Length: 82, dtype: float64\n",
      "{'visit': 9006042, 'filter': 'g', 'raftName': 'R22', 'detectorName': 'S21'}\n",
      "FITS standard SkyWcs:\n",
      "Sky Origin: (233.233885, -4.448251)\n",
      "Pixel Origin: (2013.31, 1667.71)\n",
      "Pixel Scale: 0.200078 arcsec/pixel\n",
      "0     233.309325\n",
      "1     233.379318\n",
      "2     233.151960\n",
      "3     233.368631\n",
      "4     233.302415\n",
      "         ...    \n",
      "73    233.246494\n",
      "74    233.140424\n",
      "75    233.361011\n",
      "76    233.242100\n",
      "77    233.317496\n",
      "Name: ra, Length: 78, dtype: float64\n",
      "0     233.309325\n",
      "1     233.379319\n",
      "2     233.151961\n",
      "3     233.368631\n",
      "4     233.302416\n",
      "         ...    \n",
      "73    233.246494\n",
      "74    233.140423\n",
      "75    233.361012\n",
      "76    233.242099\n",
      "77    233.317497\n",
      "Name: ra, Length: 78, dtype: float64\n",
      "{'visit': 9006042, 'filter': 'g', 'raftName': 'R22', 'detectorName': 'S00'}\n",
      "FITS standard SkyWcs:\n",
      "Sky Origin: (232.769910, -4.662726)\n",
      "Pixel Origin: (2378.32, 1795.12)\n",
      "Pixel Scale: 0.200079 arcsec/pixel\n",
      "0     232.749754\n",
      "1     232.870954\n",
      "2     232.906700\n",
      "3     232.654410\n",
      "4     232.771666\n",
      "         ...    \n",
      "89    232.826164\n",
      "90    232.864295\n",
      "91    232.847333\n",
      "92    232.888227\n",
      "93    232.849058\n",
      "Name: ra, Length: 94, dtype: float64\n",
      "0     232.749754\n",
      "1     232.870954\n",
      "2     232.906700\n",
      "3     232.654410\n",
      "4     232.771666\n",
      "         ...    \n",
      "89    232.826164\n",
      "90    232.864295\n",
      "91    232.847333\n",
      "92    232.888227\n",
      "93    232.849058\n",
      "Name: ra, Length: 94, dtype: float64\n",
      "{'visit': 9006042, 'filter': 'g', 'raftName': 'R22', 'detectorName': 'S10'}\n",
      "FITS standard SkyWcs:\n",
      "Sky Origin: (233.037595, -4.668646)\n",
      "Pixel Origin: (2281.16, 2369.44)\n",
      "Pixel Scale: 0.200126 arcsec/pixel\n",
      "0     232.949748\n",
      "1     232.906700\n",
      "2     232.922709\n",
      "3     233.135575\n",
      "4     232.896599\n",
      "         ...    \n",
      "63    232.917814\n",
      "64    233.037014\n",
      "65    233.128251\n",
      "66    233.069191\n",
      "67    233.120892\n",
      "Name: ra, Length: 68, dtype: float64\n",
      "0     232.949748\n",
      "1     232.906700\n",
      "2     232.922709\n",
      "3     233.135575\n",
      "4     232.896599\n",
      "         ...    \n",
      "63    232.917814\n",
      "64    233.037014\n",
      "65    233.128251\n",
      "66    233.069191\n",
      "67    233.120892\n",
      "Name: ra, Length: 68, dtype: float64\n",
      "{'visit': 9006042, 'filter': 'g', 'raftName': 'R22', 'detectorName': 'S20'}\n",
      "FITS standard SkyWcs:\n",
      "Sky Origin: (233.255745, -4.687881)\n",
      "Pixel Origin: (1933.62, 2052.81)\n",
      "Pixel Scale: 0.200092 arcsec/pixel\n",
      "0     233.322016\n",
      "1     233.235425\n",
      "2     233.308853\n",
      "3     233.324063\n",
      "4     233.135575\n",
      "         ...    \n",
      "63    233.157802\n",
      "64    233.146114\n",
      "65    233.152790\n",
      "66    233.351942\n",
      "67    233.128251\n",
      "Name: ra, Length: 68, dtype: float64\n",
      "0     233.322016\n",
      "1     233.235425\n",
      "2     233.308853\n",
      "3     233.324063\n",
      "4     233.135575\n",
      "         ...    \n",
      "63    233.157802\n",
      "64    233.146114\n",
      "65    233.152790\n",
      "66    233.351942\n",
      "67    233.128251\n",
      "Name: ra, Length: 68, dtype: float64\n"
     ]
    }
   ],
   "source": [
    "neighborStarMap = wep_calc._getTargetStar(visitList, defocalState=DefocalType.Intra)\n",
    "\n",
    "isrImgMap = wep_calc.wepCntlr.getPostIsrImgMapByPistonDefocal(detector_list, visitList)"
   ]
  },
  {
   "cell_type": "code",
   "execution_count": 41,
   "metadata": {},
   "outputs": [
    {
     "name": "stdout",
     "output_type": "stream",
     "text": [
      "\n",
      " Calculating the donut map \n",
      "\n",
      " Calculating the wavefront error based on the donut map\n",
      "\n",
      " sensorName  R:2,2 S:0,2  abbrevDetectorName  R22_S02  starId= 0  donut px pos =  (3734.531372218985, 2244.1997855118602)\n",
      "\n",
      " sensorName  R:2,2 S:0,2  abbrevDetectorName  R22_S02  starId= 1  donut px pos =  (688.4249149630073, 1399.1831329428426)\n",
      "\n",
      " sensorName  R:2,2 S:1,2  abbrevDetectorName  R22_S12  starId= 46  donut px pos =  (797.9831279679986, 2553.5739347161293)\n",
      "\n",
      " sensorName  R:2,2 S:1,2  abbrevDetectorName  R22_S12  starId= 47  donut px pos =  (808.7182250841281, 822.1978465188822)\n",
      "\n",
      " sensorName  R:2,2 S:1,2  abbrevDetectorName  R22_S12  starId= 48  donut px pos =  (2521.4142978362397, 662.2715685118778)\n",
      "\n",
      " sensorName  R:2,2 S:2,2  abbrevDetectorName  R22_S22  starId= 91  donut px pos =  (249.33671853221108, 696.8152524007735)\n",
      "\n",
      " sensorName  R:2,2 S:2,2  abbrevDetectorName  R22_S22  starId= 92  donut px pos =  (1455.8860224751575, 2524.839447623227)\n",
      "\n",
      " sensorName  R:2,2 S:0,1  abbrevDetectorName  R22_S01  starId= 125  donut px pos =  (466.9138426527413, 2275.2395042092803)\n",
      "\n",
      " sensorName  R:2,2 S:0,1  abbrevDetectorName  R22_S01  starId= 126  donut px pos =  (944.5692806606717, 1974.7063514752608)\n",
      "\n",
      " sensorName  R:2,2 S:1,1  abbrevDetectorName  R22_S11  starId= 173  donut px pos =  (3032.2976863701806, 1584.805607036008)\n",
      "\n",
      " sensorName  R:2,2 S:1,1  abbrevDetectorName  R22_S11  starId= 174  donut px pos =  (1833.7405297692048, 3576.5519841309656)\n",
      "\n",
      " sensorName  R:2,2 S:1,1  abbrevDetectorName  R22_S11  starId= 175  donut px pos =  (744.6622642343029, 169.96894841185872)\n",
      "\n",
      " sensorName  R:2,2 S:2,1  abbrevDetectorName  R22_S21  starId= 221  donut px pos =  (197.69733638573166, 342.75367660451866)\n",
      "\n",
      " sensorName  R:2,2 S:2,1  abbrevDetectorName  R22_S21  starId= 222  donut px pos =  (2896.5585832409242, 932.9677864293199)\n",
      "\n",
      " sensorName  R:2,2 S:0,0  abbrevDetectorName  R22_S00  starId= 269  donut px pos =  (3607.193132326983, 2618.91671704529)\n",
      "\n",
      " sensorName  R:2,2 S:0,0  abbrevDetectorName  R22_S00  starId= 270  donut px pos =  (3063.33764009871, 1329.5688241002608)\n",
      "\n",
      " sensorName  R:2,2 S:0,0  abbrevDetectorName  R22_S00  starId= 271  donut px pos =  (2715.91635240493, 2895.440687814659)\n",
      "\n",
      " sensorName  R:2,2 S:0,0  abbrevDetectorName  R22_S00  starId= 272  donut px pos =  (1814.3045786686125, 3311.5370120768584)\n",
      "\n",
      " sensorName  R:2,2 S:1,0  abbrevDetectorName  R22_S10  starId= 323  donut px pos =  (794.5506967532942, 2104.4565247247783)\n",
      "\n",
      " sensorName  R:2,2 S:1,0  abbrevDetectorName  R22_S10  starId= 324  donut px pos =  (310.1255825314738, 970.0745823923505)\n",
      "\n",
      " sensorName  R:2,2 S:2,0  abbrevDetectorName  R22_S20  starId= 358  donut px pos =  (1688.0471167533854, 1178.4352488746804)\n",
      "\n",
      " sensorName  R:2,2 S:2,0  abbrevDetectorName  R22_S20  starId= 359  donut px pos =  (3004.531823050347, 645.0990475535821)\n",
      "\n",
      " sensorName  R:2,2 S:2,0  abbrevDetectorName  R22_S20  starId= 360  donut px pos =  (3278.666035326137, 3444.6206756046536)\n",
      "Saving donut info to /astro/users/brycek/epyc/users/brycek/Commissioning/aos/ts_phosim/notebooks/analysis_scripts/test_output/gaiaMedClosedLoop/noDeblending/refCat/090320/postage/donutStarsExtraIntra.txt\n"
     ]
    }
   ],
   "source": [
    "donut_map = wep_calc.wepCntlr.getDonutMap(neighborStarMap, isrImgMap, FilterType.REF,\n",
    "                                          doDeblending=run_deblender, postageImg=save_postage_stamps,\n",
    "                                          postageImgDir=postage_img_dir)\n",
    "\n",
    "donutMap = wep_calc.wepCntlr.calcWfErr(donut_map, postage_img_dir)"
   ]
  },
  {
   "cell_type": "code",
   "execution_count": 76,
   "metadata": {},
   "outputs": [],
   "source": [
    "listOfWfErr = wep_calc._populateListOfSensorWavefrontData(donutMap)\n",
    "wfErrSensorsList = [int(wfErr.sensorId) for wfErr in listOfWfErr]"
   ]
  },
  {
   "cell_type": "markdown",
   "metadata": {},
   "source": [
    "### Compare to OPD results and save\n",
    "\n",
    "Here we load the OPD results from the same iteration of the closed loop"
   ]
  },
  {
   "cell_type": "code",
   "execution_count": 88,
   "metadata": {},
   "outputs": [],
   "source": [
    "opd_data = np.genfromtxt(os.path.join(data_dir, 'iter4/img/opd.zer.1'))\n"
   ]
  },
  {
   "cell_type": "code",
   "execution_count": 91,
   "metadata": {},
   "outputs": [
    {
     "data": {
      "text/plain": [
       "array([ 0.00040171, -0.02735912, -0.003069  , -0.03984362, -0.00503942,\n",
       "        0.05550312, -0.01108701,  0.02334876, -0.00233945,  0.00655026,\n",
       "        0.04078935,  0.00769696, -0.01027119,  0.01062344, -0.00568123,\n",
       "        0.02074562, -0.01172678, -0.00201364, -0.01618952])"
      ]
     },
     "execution_count": 91,
     "metadata": {},
     "output_type": "execute_result"
    }
   ],
   "source": [
    "listOfWfErr[0].annularZernikePoly"
   ]
  },
  {
   "cell_type": "markdown",
   "metadata": {},
   "source": [
    "And load the dictionary that provides the sensor ID for each comcam sensor so we can compare the correct OPD array to the correct WFS array."
   ]
  },
  {
   "cell_type": "code",
   "execution_count": 92,
   "metadata": {},
   "outputs": [],
   "source": [
    "import yaml"
   ]
  },
  {
   "cell_type": "code",
   "execution_count": 93,
   "metadata": {},
   "outputs": [],
   "source": [
    "with open('/astro/users/brycek/epyc/users/brycek/Commissioning/aos/ts_wep/policy/sensorNameToId.yaml', 'r') as f:\n",
    "    \n",
    "    sensor_id_dict = yaml.load(f, Loader=yaml.SafeLoader)"
   ]
  },
  {
   "cell_type": "markdown",
   "metadata": {},
   "source": [
    "For this demonstration we will just compare the results of a single chip: `R22_S00`."
   ]
  },
  {
   "cell_type": "code",
   "execution_count": 94,
   "metadata": {},
   "outputs": [],
   "source": [
    "wfListIdx = np.where(int(sensor_id_dict['R22_S00']) == np.array(wfErrSensorsList))[0][0]"
   ]
  },
  {
   "cell_type": "code",
   "execution_count": 95,
   "metadata": {},
   "outputs": [
    {
     "data": {
      "text/plain": [
       "array([ 4.63216120e-02,  4.46069469e-02, -1.90879839e-01,  1.61867688e-04,\n",
       "        1.72126167e-03,  5.14967927e-02, -5.82565825e-03,  3.26776449e-02,\n",
       "        5.74246523e-03,  2.31919908e-03,  2.79290522e-02,  9.74587974e-03,\n",
       "       -5.75359046e-03,  3.73554839e-03,  6.13784212e-04, -1.65242072e-02,\n",
       "        4.84057889e-03,  3.99768909e-02, -1.16724148e-02])"
      ]
     },
     "execution_count": 95,
     "metadata": {},
     "output_type": "execute_result"
    }
   ],
   "source": [
    "opd_data[0]"
   ]
  },
  {
   "cell_type": "code",
   "execution_count": 96,
   "metadata": {},
   "outputs": [
    {
     "data": {
      "text/plain": [
       "array([ 0.02238296,  0.03540709, -0.04409899, -0.01786798, -0.00701338,\n",
       "        0.02267609,  0.01745512,  0.02573043,  0.00443647,  0.0088546 ,\n",
       "       -0.00320278,  0.00750134, -0.00899935, -0.00774009, -0.00878884,\n",
       "        0.01899573, -0.00252246,  0.00494826, -0.01500698])"
      ]
     },
     "execution_count": 96,
     "metadata": {},
     "output_type": "execute_result"
    }
   ],
   "source": [
    "listOfWfErr[wfListIdx].annularZernikePoly"
   ]
  },
  {
   "cell_type": "code",
   "execution_count": 106,
   "metadata": {},
   "outputs": [],
   "source": [
    "zerDiffDict = {}"
   ]
  },
  {
   "cell_type": "markdown",
   "metadata": {},
   "source": [
    "Finally let's calculate the RMS across all the Zernike polynomials as a test value for this demonstration."
   ]
  },
  {
   "cell_type": "code",
   "execution_count": 158,
   "metadata": {},
   "outputs": [],
   "source": [
    "zerDiff = np.sqrt(np.mean(np.power(opd_data[0] - listOfWfErr[wfListIdx].annularZernikePoly, 2)))"
   ]
  },
  {
   "cell_type": "code",
   "execution_count": 108,
   "metadata": {},
   "outputs": [],
   "source": [
    "zerDiffDict['S00'] = zerDiff"
   ]
  },
  {
   "cell_type": "markdown",
   "metadata": {},
   "source": [
    "### Implement within `lsst_verify`"
   ]
  },
  {
   "cell_type": "code",
   "execution_count": 122,
   "metadata": {},
   "outputs": [],
   "source": [
    "import lsst.verify\n",
    "import astropy.units as u"
   ]
  },
  {
   "cell_type": "markdown",
   "metadata": {},
   "source": [
    "For this to work some behind the scenes work is necessary. Every metrics package used with `lsst.verify` needs metrics defined and specs defined to test against. These are `yaml` files that go into a folder with the metric package name. Here we call this package `verify_aos` and add the necessary files in a folder of the same name."
   ]
  },
  {
   "cell_type": "markdown",
   "metadata": {},
   "source": [
    "### Create required metrics and specs files"
   ]
  },
  {
   "cell_type": "markdown",
   "metadata": {},
   "source": [
    "#### Metric file\n",
    "\n",
    "Here are the contents of the metric file:"
   ]
  },
  {
   "cell_type": "code",
   "execution_count": 176,
   "metadata": {},
   "outputs": [
    {
     "name": "stdout",
     "output_type": "stream",
     "text": [
      "R22_S00:\n",
      "  unit: nm\n",
      "  description:\n",
      "    RMS between this chip's WFS estimated Zernikes and the OPD values.\n",
      "  reference:\n",
      "    url: https://arxiv.org/pdf/1506.04839.pdf\n",
      "  tags:\n",
      "    - aos\n"
     ]
    }
   ],
   "source": [
    "! more verify_aos/metrics/wfs_zernike_compare.yaml"
   ]
  },
  {
   "cell_type": "markdown",
   "metadata": {},
   "source": [
    "#### Specs file\n",
    "\n",
    "Here are the contents of the specs file:"
   ]
  },
  {
   "cell_type": "code",
   "execution_count": 177,
   "metadata": {},
   "outputs": [
    {
     "name": "stdout",
     "output_type": "stream",
     "text": [
      "name: \"design\"\n",
      "metric: \"R22_S00\"\n",
      "threshold:\n",
      "  operator: \"<=\"\n",
      "  unit: \"nm\"\n",
      "  value: 100\n",
      "tags:\n",
      "  - \"design\"\n"
     ]
    }
   ],
   "source": [
    "! more verify_aos/specs/wfs_zernike_compare/specs.yaml"
   ]
  },
  {
   "cell_type": "markdown",
   "metadata": {},
   "source": [
    "### Load metrics package and run"
   ]
  },
  {
   "cell_type": "code",
   "execution_count": 173,
   "metadata": {},
   "outputs": [],
   "source": [
    "METRIC_PACKAGE = \"verify_aos\"\n",
    "metrics = lsst.verify.MetricSet.load_metrics_package(METRIC_PACKAGE)\n",
    "specs = lsst.verify.SpecificationSet.load_metrics_package(METRIC_PACKAGE)"
   ]
  },
  {
   "cell_type": "markdown",
   "metadata": {},
   "source": [
    "Once we load the metrics and specs files we created we can see that all the information gets wrapped within the respective objects."
   ]
  },
  {
   "cell_type": "code",
   "execution_count": 136,
   "metadata": {},
   "outputs": [
    {
     "data": {
      "text/html": [
       "<i>Table length=1</i>\n",
       "<table id=\"table140115409633104\" class=\"table-striped table-bordered table-condensed\">\n",
       "<thead><tr><th>Name</th><th>Description</th><th>Units</th><th>Reference</th><th>Tags</th></tr></thead>\n",
       "<thead><tr><th>str27</th><th>str66</th><th>str13</th><th>str36</th><th>str3</th></tr></thead>\n",
       "<tr><td>wfs_zernike_compare.R22_S00</td><td>RMS between this chip&apos;s WFS estimated Zernikes and the OPD values.</td><td>$\\mathrm{nm}$</td><td>https://arxiv.org/pdf/1506.04839.pdf</td><td>aos</td></tr>\n",
       "</table>"
      ],
      "text/plain": [
       "<lsst.verify.metricset.MetricSet at 0x7f6f29f66810>"
      ]
     },
     "execution_count": 136,
     "metadata": {},
     "output_type": "execute_result"
    }
   ],
   "source": [
    "metrics"
   ]
  },
  {
   "cell_type": "code",
   "execution_count": 137,
   "metadata": {},
   "outputs": [
    {
     "data": {
      "text/html": [
       "<i>Table length=1</i>\n",
       "<table id=\"table140115409632592\" class=\"table-striped table-bordered table-condensed\">\n",
       "<thead><tr><th>Name</th><th>Test</th><th>Tags</th></tr></thead>\n",
       "<thead><tr><th>str34</th><th>str26</th><th>str6</th></tr></thead>\n",
       "<tr><td>wfs_zernike_compare.R22_S00.design</td><td>$x$ &lt;= 100.0 $\\mathrm{nm}$</td><td>design</td></tr>\n",
       "</table>"
      ],
      "text/plain": [
       "<lsst.verify.specset.SpecificationSet at 0x7f6f292e3ed0>"
      ]
     },
     "execution_count": 137,
     "metadata": {},
     "output_type": "execute_result"
    }
   ],
   "source": [
    "specs"
   ]
  },
  {
   "cell_type": "markdown",
   "metadata": {},
   "source": [
    "Finally assign our measurement to the defined measurement from the `metrics` file. \n",
    "\n",
    "Note that this measurement needs to include the proper units from astropy."
   ]
  },
  {
   "cell_type": "code",
   "execution_count": 159,
   "metadata": {},
   "outputs": [],
   "source": [
    "s00_meas = lsst.verify.Measurement('wfs_zernike_compare.R22_S00', 1000.*zerDiffDict['S00']*u.nm)"
   ]
  },
  {
   "cell_type": "code",
   "execution_count": 161,
   "metadata": {},
   "outputs": [],
   "source": [
    "job = lsst.verify.Job(metrics=metrics, specs=specs)\n",
    "job.measurements.insert(s00_meas)"
   ]
  },
  {
   "cell_type": "markdown",
   "metadata": {},
   "source": [
    "We can now run the job and print out a report."
   ]
  },
  {
   "cell_type": "code",
   "execution_count": 162,
   "metadata": {},
   "outputs": [
    {
     "data": {
      "text/html": [
       "<i>Table length=1</i>\n",
       "<table id=\"table140115510057552-549772\" class=\"table-striped table-bordered table-condensed\">\n",
       "<thead><tr><th>Status</th><th>Specification</th><th>Measurement</th><th>Test</th><th>Metric Tags</th><th>Spec. Tags</th></tr></thead>\n",
       "<tr><td>✅</td><td>wfs_zernike_compare.R22_S00.design</td><td>38.3 $\\mathrm{nm}$</td><td>$x$ &lt;= 100.0 $\\mathrm{nm}$</td><td>N/A</td><td>design</td></tr>\n",
       "</table><style>table.dataTable {clear: both; width: auto !important; margin: 0 !important;}\n",
       ".dataTables_info, .dataTables_length, .dataTables_filter, .dataTables_paginate{\n",
       "display: inline-block; margin-right: 1em; }\n",
       ".paginate_button { margin-right: 5px; }\n",
       "</style>\n",
       "<script>\n",
       "\n",
       "var astropy_sort_num = function(a, b) {\n",
       "    var a_num = parseFloat(a);\n",
       "    var b_num = parseFloat(b);\n",
       "\n",
       "    if (isNaN(a_num) && isNaN(b_num))\n",
       "        return ((a < b) ? -1 : ((a > b) ? 1 : 0));\n",
       "    else if (!isNaN(a_num) && !isNaN(b_num))\n",
       "        return ((a_num < b_num) ? -1 : ((a_num > b_num) ? 1 : 0));\n",
       "    else\n",
       "        return isNaN(a_num) ? -1 : 1;\n",
       "}\n",
       "\n",
       "require.config({paths: {\n",
       "    datatables: 'https://cdn.datatables.net/1.10.12/js/jquery.dataTables.min'\n",
       "}});\n",
       "require([\"datatables\"], function(){\n",
       "    console.log(\"$('#table140115510057552-549772').dataTable()\");\n",
       "    \n",
       "jQuery.extend( jQuery.fn.dataTableExt.oSort, {\n",
       "    \"optionalnum-asc\": astropy_sort_num,\n",
       "    \"optionalnum-desc\": function (a,b) { return -astropy_sort_num(a, b); }\n",
       "});\n",
       "\n",
       "    $('#table140115510057552-549772').dataTable({\n",
       "        order: [],\n",
       "        pageLength: 50,\n",
       "        lengthMenu: [[10, 25, 50, 100, 500, 1000, -1], [10, 25, 50, 100, 500, 1000, 'All']],\n",
       "        pagingType: \"full_numbers\",\n",
       "        columnDefs: [{targets: [], type: \"optionalnum\"}]\n",
       "    });\n",
       "});\n",
       "</script>\n"
      ],
      "text/plain": [
       "<IPython.core.display.HTML object>"
      ]
     },
     "execution_count": 162,
     "metadata": {},
     "output_type": "execute_result"
    }
   ],
   "source": [
    "job.report().show()"
   ]
  },
  {
   "cell_type": "markdown",
   "metadata": {},
   "source": [
    "### Push to Chronograf"
   ]
  },
  {
   "cell_type": "code",
   "execution_count": null,
   "metadata": {},
   "outputs": [],
   "source": [
    "squash_api_url = \"https://squash-restful-api-sandbox.lsst.codes\""
   ]
  },
  {
   "cell_type": "code",
   "execution_count": null,
   "metadata": {},
   "outputs": [],
   "source": [
    "import getpass\n",
    "username = getpass.getuser()\n",
    "password = getpass.getpass(prompt='Password for user `{}`: '.format(username))"
   ]
  },
  {
   "cell_type": "code",
   "execution_count": null,
   "metadata": {},
   "outputs": [],
   "source": [
    "import requests\n",
    "credentials = {'username': username, 'password': password}"
   ]
  },
  {
   "cell_type": "markdown",
   "metadata": {},
   "source": [
    "If this is your first time you can register as a new user by uncommenting the lines below."
   ]
  },
  {
   "cell_type": "code",
   "execution_count": null,
   "metadata": {},
   "outputs": [],
   "source": [
    "# r = requests.post('{}/register'.format(squash_api_url), json=credentials)\n",
    "# r.json()"
   ]
  },
  {
   "cell_type": "code",
   "execution_count": null,
   "metadata": {},
   "outputs": [],
   "source": [
    "r = requests.post('{}/auth'.format(squash_api_url), json=credentials)\n",
    "r.json()"
   ]
  },
  {
   "cell_type": "code",
   "execution_count": null,
   "metadata": {},
   "outputs": [],
   "source": [
    "headers = {'Authorization': 'JWT {}'.format(r.json()['access_token'])}"
   ]
  },
  {
   "cell_type": "markdown",
   "metadata": {},
   "source": [
    "The following two cells upload the metric definitions to Squash and are a one-time setup procedure."
   ]
  },
  {
   "cell_type": "code",
   "execution_count": 169,
   "metadata": {},
   "outputs": [
    {
     "data": {
      "text/plain": [
       "{'message': 'A metric with name `wfs_zernike_compare.R22_S00` already exist.'}"
      ]
     },
     "execution_count": 169,
     "metadata": {},
     "output_type": "execute_result"
    }
   ],
   "source": [
    "r = requests.post('{}/metrics'.format(squash_api_url),\n",
    "                json={'metrics': metrics.json},\n",
    "                headers=headers)\n",
    "r.json()"
   ]
  },
  {
   "cell_type": "code",
   "execution_count": 170,
   "metadata": {},
   "outputs": [
    {
     "data": {
      "text/plain": [
       "{'message': 'A specification with name `wfs_zernike_compare.R22_S00.design` already exist.'}"
      ]
     },
     "execution_count": 170,
     "metadata": {},
     "output_type": "execute_result"
    }
   ],
   "source": [
    "r = requests.post('{}/specs'.format(squash_api_url),\n",
    "                json={'specs': specs.json},\n",
    "                headers=headers)\n",
    "r.json()"
   ]
  },
  {
   "cell_type": "markdown",
   "metadata": {},
   "source": [
    "Here we add some more metadata that is required for Squash."
   ]
  },
  {
   "cell_type": "code",
   "execution_count": 171,
   "metadata": {},
   "outputs": [],
   "source": [
    "job.meta.update({'packages': {}})\n",
    "job.meta.update({'env': {'env_name': 'jenkins'}})"
   ]
  },
  {
   "cell_type": "markdown",
   "metadata": {},
   "source": [
    "Finally, we dispatch the results of the `Job` we ran to Squash and can view them on the Squash dashboards."
   ]
  },
  {
   "cell_type": "code",
   "execution_count": 172,
   "metadata": {},
   "outputs": [],
   "source": [
    "job.dispatch(api_user=username, api_password=password, api_url=squash_api_url)"
   ]
  },
  {
   "cell_type": "code",
   "execution_count": null,
   "metadata": {},
   "outputs": [],
   "source": []
  }
 ],
 "metadata": {
  "kernelspec": {
   "display_name": "bryce-aos",
   "language": "python",
   "name": "bryce-aos"
  },
  "language_info": {
   "codemirror_mode": {
    "name": "ipython",
    "version": 3
   },
   "file_extension": ".py",
   "mimetype": "text/x-python",
   "name": "python",
   "nbconvert_exporter": "python",
   "pygments_lexer": "ipython3",
   "version": "3.7.6"
  }
 },
 "nbformat": 4,
 "nbformat_minor": 2
}
