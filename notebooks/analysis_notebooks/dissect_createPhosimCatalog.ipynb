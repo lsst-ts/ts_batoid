{
 "cells": [
  {
   "cell_type": "markdown",
   "metadata": {},
   "source": [
    "# Dissecting createPhosimCatalog\n",
    "\n",
    "### Motivation \n",
    "\n",
    "A notebook to understand how does createPhosimCatalog work in detail, including all the dependencies on `ts_wep`, `ts_ofc`  and `ts_phosim`.  We need to be able to describe the catalog creation to prepare the `star_separation_test.ipynb`."
   ]
  },
  {
   "cell_type": "markdown",
   "metadata": {},
   "source": [
    "## Setup "
   ]
  },
  {
   "cell_type": "code",
   "execution_count": 27,
   "metadata": {},
   "outputs": [
    {
     "name": "stdout",
     "output_type": "stream",
     "text": [
      "The autoreload extension is already loaded. To reload it, use:\n",
      "  %reload_ext autoreload\n"
     ]
    }
   ],
   "source": [
    "%load_ext autoreload\n",
    "%autoreload 2"
   ]
  },
  {
   "cell_type": "code",
   "execution_count": 28,
   "metadata": {},
   "outputs": [],
   "source": [
    "import os\n",
    "import argparse\n",
    "import numpy as np\n",
    "\n",
    "from lsst.ts.wep.ParamReader import ParamReader\n",
    "from lsst.ts.wep.Utility import FilterType\n",
    "\n",
    "from lsst.ts.ofc.Utility import InstName\n",
    "from lsst.ts.ofc.ctrlIntf.OFCCalculationFactory import OFCCalculationFactory\n",
    "\n",
    "from lsst.ts.phosim.SkySim import SkySim\n",
    "from lsst.ts.phosim.OpdMetrology import OpdMetrology\n",
    "from lsst.ts.phosim.Utility import getAoclcOutputPath, getConfigDir\n"
   ]
  },
  {
   "cell_type": "code",
   "execution_count": 29,
   "metadata": {},
   "outputs": [
    {
     "data": {
      "text/plain": [
       "'/astro/store/epyc/projects/lsst_comm/aoclc_output/'"
      ]
     },
     "execution_count": 29,
     "metadata": {},
     "output_type": "execute_result"
    }
   ],
   "source": [
    "getAoclcOutputPath()"
   ]
  },
  {
   "cell_type": "markdown",
   "metadata": {},
   "source": [
    "The code below is from ../analysis_scripts/createPhosimCatalog.py"
   ]
  },
  {
   "cell_type": "code",
   "execution_count": 7,
   "metadata": {},
   "outputs": [],
   "source": [
    "class createPhosimCatalog():\n",
    "\n",
    "    def createPhosimCatalog(self, numStars, starSep, magList,\n",
    "                            raOffset, decOffset, outputFilePath):\n",
    "\n",
    "        \"\"\"\n",
    "        numStars: number of stars per field\n",
    "\n",
    "        starSep: Minimum separation between stars\n",
    "\n",
    "        magList: Star magnitudes in catalog\n",
    "\n",
    "        outputFilePath: Filename for output catalog\n",
    "        \"\"\"\n",
    "\n",
    "        # Survey parameters\n",
    "        surveySettingFilePath = os.path.join(getConfigDir(),\n",
    "                                            \"surveySettings.yaml\")\n",
    "        surveySettings = ParamReader(filePath=surveySettingFilePath)\n",
    "        filterType = FilterType.fromString(\n",
    "            surveySettings.getSetting(\"filterType\"))\n",
    "        raInDeg = surveySettings.getSetting(\"raInDeg\")\n",
    "        decInDeg = surveySettings.getSetting(\"decInDeg\")\n",
    "        rotAngInDeg = surveySettings.getSetting(\"rotAngInDeg\")\n",
    "\n",
    "        ofcCalc = self._prepareOfcCalc(filterType, rotAngInDeg)\n",
    "        skySim = SkySim()\n",
    "        metr = OpdMetrology()\n",
    "        metr.setDefaultComcamGQ()\n",
    "\n",
    "        skySim = self._addStarsInField(skySim, metr, numStars,\n",
    "                                       starSep, raOffset, decOffset,\n",
    "                                       magList)\n",
    "        skySim.exportSkyToFile(outputFilePath)\n",
    "\n",
    "\n",
    "    def _prepareOfcCalc(self, filterType, rotAngInDeg):\n",
    "\n",
    "        ofcCalc = OFCCalculationFactory.getCalculator(InstName.COMCAM)\n",
    "        ofcCalc.setFilter(filterType)\n",
    "        ofcCalc.setRotAng(rotAngInDeg)\n",
    "        ofcCalc.setGainByPSSN()\n",
    "\n",
    "        return ofcCalc\n",
    "\n",
    "\n",
    "    def _addStarsInField(self, skySim, opdMetr, numStars, starSep,\n",
    "                         raOffset, decOffset, starMagList):\n",
    "\n",
    "        starId = 0\n",
    "        raInDegList, declInDegList = opdMetr.getFieldXY()\n",
    "\n",
    "        raShift = np.zeros(numStars)\n",
    "        decMin = -1 * starSep * (float(numStars-1) / 2)\n",
    "        decMax = -1 * decMin\n",
    "        decShift = np.linspace(decMin, decMax, numStars)\n",
    "\n",
    "        raShift += raOffset\n",
    "        decShift += decOffset\n",
    "\n",
    "        for raInDeg, declInDeg in zip(raInDegList, declInDegList):\n",
    "            # It is noted that the field position might be < 0. But it is not the\n",
    "            # same case for ra (0 <= ra <= 360).\n",
    "            # if (raInDeg < 0):\n",
    "            #     raInDeg += 360.0\n",
    "\n",
    "            for num in range(numStars):\n",
    "                raPerturbed = raInDeg + raShift[num]\n",
    "                decPerturbed = declInDeg + decShift[num]\n",
    "\n",
    "                if raPerturbed < 0:\n",
    "                    raPerturbed += 360.0\n",
    "\n",
    "                skySim.addStarByRaDecInDeg(starId, raPerturbed,\n",
    "                                           decPerturbed, starMagList[num])\n",
    "                starId += 1\n",
    "\n",
    "        return skySim\n",
    "\n",
    "\n",
    "\n"
   ]
  },
  {
   "cell_type": "markdown",
   "metadata": {},
   "source": [
    "And it is called within createPhosimCatalog.py as :"
   ]
  },
  {
   "cell_type": "code",
   "execution_count": null,
   "metadata": {},
   "outputs": [],
   "source": [
    "if __name__ == \"__main__\":\n",
    "\n",
    "    # Set the parser\n",
    "    parser = argparse.ArgumentParser(\n",
    "        description=\"Create a Star Catalog for comcamCloseLoop simulation.\")\n",
    "    parser.add_argument(\"--numStars\", type=int, default=1,\n",
    "                        help=\"number of stars per field (default: 1)\")\n",
    "    parser.add_argument(\"--raOffset\", type=float, default=0.0,\n",
    "                        help=\"Offset from center of chip in RA in arcsec (default: 0.)\")\n",
    "    parser.add_argument(\"--decOffset\", type=float, default=0.0,\n",
    "                        help=\"Offset from center of chip in dec in arcsec (default: 0.)\")\n",
    "    parser.add_argument(\"--starSep\", type=float, default=0.05,\n",
    "                        help=\"minimum separation between stars in degrees (default: 0.05)\")\n",
    "    parser.add_argument(\"--magFaintLim\", type=float, default=15.,\n",
    "                        help=\"faint limit of stars in catalog (default: 15)\")\n",
    "    parser.add_argument(\"--magBrightLim\", type=float, default=15.,\n",
    "                        help=\"bright limit of stars in catalog (default: 15)\")\n",
    "    parser.add_argument(\"--output\", type=str, default=\"\",\n",
    "                        help=\"output catalog filepath\")\n",
    "    args = parser.parse_args()\n",
    "\n",
    "    if (args.output == \"\"):\n",
    "        outputDir = getAoclcOutputPath()\n",
    "        outputFilePath = os.path.join(outputDir, \"starCat.txt\")\n",
    "    else:\n",
    "        outputFilePath = args.output\n",
    "\n",
    "    starMagList = np.linspace(args.magBrightLim, args.magFaintLim, args.numStars)\n",
    "\n",
    "    createCat = createPhosimCatalog()\n",
    "    createCat.createPhosimCatalog(args.numStars, args.starSep,\n",
    "                                  args.magFaintLim, args.magBrightLim,\n",
    "                                  args.raOffset, args.decOffset,\n",
    "                                  outputFilePath)"
   ]
  },
  {
   "cell_type": "markdown",
   "metadata": {},
   "source": [
    "An example usage of createPhosimCatalog.py was in runSnrAnalysis.py, as : "
   ]
  },
  {
   "cell_type": "code",
   "execution_count": 8,
   "metadata": {},
   "outputs": [],
   "source": [
    "magVal = 17.5\n",
    "createCat = createPhosimCatalog()\n",
    "raShiftAsec = 2\n",
    "decShiftAsec =       2\n",
    "skyFilePath = 'starCat.txt'\n",
    "raShift = (raShiftAsec * .2) / 3600 # Convert to degrees\n",
    "decShift = (decShiftAsec * .2) / 3600 # Convert to degrees\n",
    "createCat.createPhosimCatalog(1, 0, [magVal], raShift, decShift, skyFilePath)\n",
    "\n",
    "\n"
   ]
  },
  {
   "cell_type": "code",
   "execution_count": null,
   "metadata": {},
   "outputs": [],
   "source": []
  },
  {
   "cell_type": "markdown",
   "metadata": {},
   "source": [
    "This dissects the createPhosimCatalog()  class "
   ]
  },
  {
   "cell_type": "code",
   "execution_count": 57,
   "metadata": {},
   "outputs": [],
   "source": [
    "# this includes the following routines : \n",
    "\n",
    "# see https://docs.python.org/3.3/tutorial/classes.html \n",
    "\n",
    "# class createPhosimCatalog(self, numStars, starSep, magList,\n",
    "#                             raOffset, decOffset, outputFilePath):\n",
    "\n",
    "#         \"\"\"\n",
    "#         numStars: number of stars per field\n",
    "\n",
    "#         starSep: Minimum separation between stars\n",
    "\n",
    "#         magList: Star magnitudes in catalog\n",
    "\n",
    "#         outputFilePath: Filename for output catalog\n",
    "#         \"\"\"\n",
    "\n",
    "\n",
    "numStars = 1\n",
    "starSep = 0\n",
    "magList = [magVal]\n",
    "raOffset = raShift # this defines the offset of each star from the CCD center ... \n",
    "decOffset = decShift \n",
    "outputFilePath = skyFilePath \n",
    "\n",
    "# Survey parameters\n",
    "surveySettingFilePath = os.path.join(getConfigDir(),\"surveySettings.yaml\")\n",
    "    #  getConfigDir() returns '/astro/store/epyc/projects/lsst_comm/ts_phosim/policy'  ,\n",
    "    # so surveySettingFilePath = '/astro/store/epyc/projects/lsst_comm/ts_phosim/policy/surveySettings.yaml'\n",
    "    # i.e. tells the parameter reader where the settings are \n",
    "    # the file surveySettings.yaml contains :\n",
    "    \n",
    "'''\n",
    "# Survey Settings for Catalogs\n",
    "\n",
    "# Filter Type\n",
    "filterType: ref\n",
    "\n",
    "# RA in degrees\n",
    "raInDeg: 0.0\n",
    "\n",
    "# Dec in degrees\n",
    "decInDeg: 0.0\n",
    "\n",
    "# Rotation Angle in degrees\n",
    "rotAngInDeg: 0.0\n",
    "\n",
    "'''\n",
    "surveySettings = ParamReader(filePath=surveySettingFilePath)\n",
    "    #  ParamReader() is a parameters reader for yaml format class\n",
    "    # in /astro/store/epyc/projects/lsst_comm/ts_wep/python/lsst/ts/wep/ParamReader.py \n",
    "    # this means that it can return a value of each parameter as a method \n",
    "    # below surveySettings.getSetting() queries for a value of each paramater\n",
    "    # in the surveySettings.yaml file \n",
    "    # so eg. surveySettings.getSetting(\"filterType\") = 'ref'\n",
    "filterType = FilterType.fromString(surveySettings.getSetting(\"filterType\"))\n",
    "    # FilterType is an enumeration, i.e. a mapping of string filter name to numbers: \n",
    "'''\n",
    "U = 1\n",
    "G = 2\n",
    "R = 3\n",
    "I = 4\n",
    "Z = 5\n",
    "Y = 6\n",
    "REF = 7\n",
    "'''\n",
    "\n",
    "# so filterType = 7 (float)\n",
    " \n",
    "raInDeg = surveySettings.getSetting(\"raInDeg\")  # so raInDeg = 0 \n",
    "decInDeg = surveySettings.getSetting(\"decInDeg\") # decInDeg = 0 \n",
    "rotAngInDeg = surveySettings.getSetting(\"rotAngInDeg\")  # rotAngInDeg = 0 \n",
    "\n",
    "\n",
    "# This is a private method :\n",
    "# ofcCalc = self._prepareOfcCalc(filterType, rotAngInDeg)\n",
    "# _prepareOfcCalc()  contains \n",
    "ofcCalc = OFCCalculationFactory.getCalculator(InstName.COMCAM)\n",
    "# here InstName is another enumeration :it changes \n",
    "'''\n",
    "LSST = 1\n",
    "COMCAM = 2\n",
    "SH = 3\n",
    "CMOS = 4\n",
    "'''\n",
    "# So InstName.COMCAM  yields 2 \n",
    "# the following settings apply to the Optical Feedback Control calculator, that \n",
    "# processes the wavefront error \n",
    "ofcCalc.setFilter(filterType)\n",
    "ofcCalc.setRotAng(rotAngInDeg)\n",
    "ofcCalc.setGainByPSSN()\n",
    "\n",
    "\n",
    "# this instantiates  the sky simulation SkySim() class, which lives in \n",
    "# https://github.com/lsst-ts/ts_phosim/blob/master/python/lsst/ts/phosim/SkySim.py\n",
    "skySim = SkySim()\n",
    "\n",
    "# this instantiates the Optical Path Difference metrology class, which lives in \n",
    "# https://github.com/lsst-ts/ts_phosim/blob/master/python/lsst/ts/phosim/OpdMetrology.py \n",
    "metr = OpdMetrology()\n",
    "# the following sets the default comcam Gaussian Quadrature field X, Y and weighting ratio\n",
    "# ComCam is the central raft of LSST cam, which is composed of 3 x 3 CCDs\n",
    "metr.setDefaultComcamGQ()\n",
    "\n",
    "\n",
    "# now this redefines skySim , using another private method : \n",
    "#skySim = self._addStarsInField(skySim, metr, numStars,\n",
    "#                               starSep, raOffset, decOffset,\n",
    "#                               magList)\n",
    "\n",
    "# _addStarsInField(self, skySim, opdMetr, numStars, starSep,\n",
    "#                         raOffset, decOffset, starMagList):\n",
    "\n",
    "\n"
   ]
  },
  {
   "cell_type": "code",
   "execution_count": 58,
   "metadata": {},
   "outputs": [],
   "source": [
    "opdMetr = metr \n",
    "starMagList = magList \n",
    "starId = 0\n",
    "# for ComCam, there are #3x3 CCDs, i.e. 3 rows and 3 cols . That is 9 fields total.\n",
    "# getFieldXY() method gives the XY coordinates of the center of each CCD in degrees \n",
    "\n",
    "raInDegList, declInDegList = opdMetr.getFieldXY()\n",
    "# (array([-0.2347, -0.2347, -0.2347,  0.    ,  0.    ,  0.    ,  0.2347,\n",
    "#         0.2347,  0.2347]),\n",
    "# array([-0.2347,  0.    ,  0.2347, -0.2347,  0.    ,  0.2347, -0.2347,\n",
    "#         0.    ,  0.2347]))\n",
    "\n",
    "raShift = np.zeros(numStars)\n",
    "    \n",
    "    \n",
    "decMin = -1 * starSep * (float(numStars-1) / 2)\n",
    "decMax = -1 * decMin\n",
    "decShift = np.linspace(decMin, decMax, numStars)\n"
   ]
  },
  {
   "cell_type": "code",
   "execution_count": 68,
   "metadata": {},
   "outputs": [],
   "source": [
    "raShift += raOffset\n",
    "decShift += decOffset\n",
    "\n",
    "# this iterates over the x,y positions of each CCD center \n",
    "# in degrees \n",
    "# it adds numStars to EACH  CCD,  and the starCatalog lists \n",
    "# all stars, so if we choose one star per CCD, it will return a list of nine stars \n",
    "\n",
    "for raInDeg, declInDeg in zip(raInDegList, declInDegList):\n",
    "    # It is noted that the field position might be < 0. But it is not the\n",
    "    # same case for ra (0 <= ra <= 360).\n",
    "    # if (raInDeg < 0):\n",
    "    #     raInDeg += 360.0\n",
    "\n",
    "    for num in range(numStars):\n",
    "        raPerturbed = raInDeg + raShift[num]\n",
    "        decPerturbed = declInDeg + decShift[num]\n",
    "\n",
    "        if raPerturbed < 0:\n",
    "            raPerturbed += 360.0\n",
    "\n",
    "        skySim.addStarByRaDecInDeg(starId, raPerturbed,\n",
    "                                   decPerturbed, starMagList[num])\n",
    "        starId += 1\n",
    "\n",
    "#return skySim\n",
    "\n",
    "# these methods could print the content of star catalog : \n",
    "# skySim.getRaDecInDeg()\n",
    "# skySim.getStarMag()\n",
    "# skySim.getStarId()\n",
    "\n",
    "# this method exports the list of stars for the 9 ComCam CCDs to a file \n",
    "skySim.exportSkyToFile(outputFilePath)"
   ]
  },
  {
   "cell_type": "code",
   "execution_count": 73,
   "metadata": {},
   "outputs": [
    {
     "data": {
      "text/plain": [
       "array([0, 1, 2, 3, 4, 5, 6, 7, 8])"
      ]
     },
     "execution_count": 73,
     "metadata": {},
     "output_type": "execute_result"
    }
   ],
   "source": []
  },
  {
   "cell_type": "markdown",
   "metadata": {},
   "source": [
    "So to make a catalog that includes 2 stars with a certain separation  starSep (in degrees), do : "
   ]
  },
  {
   "cell_type": "code",
   "execution_count": 9,
   "metadata": {},
   "outputs": [],
   "source": [
    "magVal = 17.5\n",
    "createCat = createPhosimCatalog()\n",
    "raShiftAsec = 2\n",
    "decShiftAsec = 2\n",
    "skyFilePath = 'starCat.txt'\n",
    "raShift = (raShiftAsec * .2) / 3600 # Convert to degrees\n",
    "decShift = (decShiftAsec * .2) / 3600 # Convert to degrees\n",
    "\n",
    "createCat.createPhosimCatalog(2, 0.05, [magVal,magVal], raShift, decShift, skyFilePath)\n",
    "\n"
   ]
  },
  {
   "cell_type": "code",
   "execution_count": 15,
   "metadata": {},
   "outputs": [
    {
     "data": {
      "text/plain": [
       "array([0.01 , 0.035, 0.06 , 0.085, 0.11 , 0.135, 0.16 , 0.185, 0.21 ])"
      ]
     },
     "execution_count": 15,
     "metadata": {},
     "output_type": "execute_result"
    }
   ],
   "source": [
    "np.arange(0.01, 0.2347, 0.025 )"
   ]
  },
  {
   "cell_type": "code",
   "execution_count": 16,
   "metadata": {},
   "outputs": [],
   "source": [
    "from lsst.ts.phosim.PhosimCmpt import PhosimCmpt"
   ]
  },
  {
   "cell_type": "markdown",
   "metadata": {},
   "source": [
    "So the `numPro` parameter refers to the number of processors in the phosim component setting file. We can check what it is by inspecting the config directory : "
   ]
  },
  {
   "cell_type": "code",
   "execution_count": 21,
   "metadata": {},
   "outputs": [],
   "source": [
    "from lsst.ts.phosim.Utility import getPhoSimPath, getAoclcOutputPath, \\\n",
    "                                   getConfigDir"
   ]
  },
  {
   "cell_type": "code",
   "execution_count": 30,
   "metadata": {},
   "outputs": [
    {
     "data": {
      "text/plain": [
       "'/astro/store/epyc/projects/lsst_comm/ts_phosim/policy'"
      ]
     },
     "execution_count": 30,
     "metadata": {},
     "output_type": "execute_result"
    }
   ],
   "source": [
    "getConfigDir()"
   ]
  },
  {
   "cell_type": "code",
   "execution_count": 31,
   "metadata": {},
   "outputs": [
    {
     "ename": "NameError",
     "evalue": "name 'phosimCmpt' is not defined",
     "output_type": "error",
     "traceback": [
      "\u001b[0;31m---------------------------------------------------------------------------\u001b[0m",
      "\u001b[0;31mNameError\u001b[0m                                 Traceback (most recent call last)",
      "\u001b[0;32m<ipython-input-31-50806214f70b>\u001b[0m in \u001b[0;36m<module>\u001b[0;34m\u001b[0m\n\u001b[0;32m----> 1\u001b[0;31m \u001b[0mphosimCmpt\u001b[0m\u001b[0;34m.\u001b[0m\u001b[0mgetIntraFocalDirName\u001b[0m\u001b[0;34m(\u001b[0m\u001b[0;34m)\u001b[0m\u001b[0;34m\u001b[0m\u001b[0;34m\u001b[0m\u001b[0m\n\u001b[0m",
      "\u001b[0;31mNameError\u001b[0m: name 'phosimCmpt' is not defined"
     ]
    }
   ],
   "source": [
    "phosimCmpt.getIntraFocalDirName()"
   ]
  },
  {
   "cell_type": "code",
   "execution_count": 24,
   "metadata": {},
   "outputs": [
    {
     "name": "stdout",
     "output_type": "stream",
     "text": [
      "M1M3  camera   instFile\t\t       surveySettings.yaml\r\n",
      "M2    cmdFile  phosimCmptSetting.yaml  teleSetting.yaml\r\n"
     ]
    }
   ],
   "source": [
    "!ls /astro/store/epyc/projects/lsst_comm/ts_phosim/policy\n"
   ]
  },
  {
   "cell_type": "code",
   "execution_count": 26,
   "metadata": {},
   "outputs": [
    {
     "name": "stdout",
     "output_type": "stream",
     "text": [
      "---\r\n",
      "\r\n",
      "# PhoSim component setting\r\n",
      "\r\n",
      "# Number of zk (annular Zernike polynomials) terms\r\n",
      "numOfZk: 19\r\n",
      "\r\n",
      "# Intra-focal directory name. This is needed if the defocal image is by the\r\n",
      "# camera piston.\r\n",
      "intraDirName: intra\r\n",
      "\r\n",
      "# Extra-focal directory name. This is needed if the defocal image is by the\r\n",
      "# camera piston.\r\n",
      "extraDirName: extra\r\n",
      "\r\n",
      "# PhoSim-related default parameters\r\n",
      "\r\n",
      "# Number of processors. The value should be >= 1.\r\n",
      "numPro: 1\r\n",
      "\r\n",
      "# Whether to generate amplifier images (1 = true, 0 = false)\r\n",
      "e2ADC: 1\r\n"
     ]
    }
   ],
   "source": [
    "!more /astro/store/epyc/projects/lsst_comm/ts_phosim/policy/phosimCmptSetting.yaml"
   ]
  },
  {
   "cell_type": "code",
   "execution_count": null,
   "metadata": {},
   "outputs": [],
   "source": []
  }
 ],
 "metadata": {
  "kernelspec": {
   "display_name": "lsst-aos",
   "language": "python",
   "name": "lsst-aos"
  },
  "language_info": {
   "codemirror_mode": {
    "name": "ipython",
    "version": 3
   },
   "file_extension": ".py",
   "mimetype": "text/x-python",
   "name": "python",
   "nbconvert_exporter": "python",
   "pygments_lexer": "ipython3",
   "version": "3.7.3"
  }
 },
 "nbformat": 4,
 "nbformat_minor": 2
}
