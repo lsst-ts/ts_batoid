{
 "cells": [
  {
   "cell_type": "markdown",
   "metadata": {},
   "source": [
    "## Dissecting baseComcamLoop.py"
   ]
  },
  {
   "cell_type": "markdown",
   "metadata": {},
   "source": [
    "### Motivation \n",
    "\n",
    "A notebook to understand how does `baseComcamLoop.py` work in detail, including all the dependencies on `ts_wep`, `ts_ofc`  and `ts_phosim`.  We need to be able to describe how the feedback loop is run, including all the creation of all  output directories  to make the `star_separation_test.ipynb`."
   ]
  },
  {
   "cell_type": "code",
   "execution_count": null,
   "metadata": {},
   "outputs": [],
   "source": [
    "import os\n",
    "import argparse\n",
    "import numpy as np\n",
    "import shutil\n",
    "\n",
    "from lsst.ts.wep.ParamReader import ParamReader\n",
    "from lsst.ts.wep.Utility import FilterType, CamType, runProgram\n",
    "from lsst.ts.wep.ctrlIntf.WEPCalculationFactory import WEPCalculationFactory\n",
    "from lsst.ts.wep.ctrlIntf.RawExpData import RawExpData\n",
    "\n",
    "from lsst.ts.ofc.Utility import InstName\n",
    "from lsst.ts.ofc.ctrlIntf.OFCCalculationFactory import OFCCalculationFactory\n",
    "\n",
    "from lsst.ts.phosim.telescope.TeleFacade import TeleFacade\n",
    "from lsst.ts.phosim.PhosimCmpt import PhosimCmpt\n",
    "from lsst.ts.phosim.SkySim import SkySim\n",
    "from lsst.ts.phosim.Utility import getPhoSimPath, getAoclcOutputPath, \\\n",
    "                                   getConfigDir\n",
    "from lsst.ts.phosim.PlotUtil import plotFwhmOfIters\n"
   ]
  },
  {
   "cell_type": "code",
   "execution_count": null,
   "metadata": {},
   "outputs": [],
   "source": [
    "import numpy"
   ]
  },
  {
   "cell_type": "code",
   "execution_count": 4,
   "metadata": {},
   "outputs": [
    {
     "name": "stdout",
     "output_type": "stream",
     "text": [
      "/astro/store/epyc/projects/lsst_comm/new_stack/python/miniconda3-4.7.10/envs/lsst-scipipe-4d7b902/bin/python\n"
     ]
    }
   ],
   "source": [
    "!which python"
   ]
  },
  {
   "cell_type": "code",
   "execution_count": 2,
   "metadata": {},
   "outputs": [
    {
     "ename": "ModuleNotFoundError",
     "evalue": "No module named 'lsst'",
     "output_type": "error",
     "traceback": [
      "\u001b[0;31m---------------------------------------------------------------------------\u001b[0m",
      "\u001b[0;31mModuleNotFoundError\u001b[0m                       Traceback (most recent call last)",
      "\u001b[0;32m<ipython-input-2-b577966b9208>\u001b[0m in \u001b[0;36m<module>\u001b[0;34m\u001b[0m\n\u001b[0;32m----> 1\u001b[0;31m \u001b[0;32mfrom\u001b[0m \u001b[0mlsst\u001b[0m\u001b[0;34m.\u001b[0m\u001b[0mts\u001b[0m\u001b[0;34m.\u001b[0m\u001b[0mwep\u001b[0m\u001b[0;34m.\u001b[0m\u001b[0mParamReader\u001b[0m \u001b[0;32mimport\u001b[0m \u001b[0mParamReader\u001b[0m\u001b[0;34m\u001b[0m\u001b[0;34m\u001b[0m\u001b[0m\n\u001b[0m",
      "\u001b[0;31mModuleNotFoundError\u001b[0m: No module named 'lsst'"
     ]
    }
   ],
   "source": [
    "\n",
    "from lsst.ts.wep.ParamReader import ParamReader"
   ]
  },
  {
   "cell_type": "markdown",
   "metadata": {},
   "source": [
    "`baseComcamLoop.py` is run in the following manner inside `runStarSeparationAnalysis.py` : \n",
    "    "
   ]
  },
  {
   "cell_type": "markdown",
   "metadata": {},
   "source": [
    "Setting the starCat.txt : "
   ]
  },
  {
   "cell_type": "code",
   "execution_count": 2,
   "metadata": {},
   "outputs": [],
   "source": [
    "phosimDir = getPhoSimPath() \n",
    "outputDir = getAoclcOutputPath()\n",
    "testLabel = 'sep'\n",
    "skyFilePath  = 'starCat.txt'"
   ]
  },
  {
   "cell_type": "code",
   "execution_count": 3,
   "metadata": {},
   "outputs": [],
   "source": [
    "testOutputDir = '/data/epyc/users/suberlak/Commissioning/aos/aoclc_analysis/'\n",
    "os.environ[\"closeLoopTestDir\"] = testOutputDir"
   ]
  },
  {
   "cell_type": "code",
   "execution_count": 4,
   "metadata": {},
   "outputs": [],
   "source": [
    "def _eraseFolderContent(targetDir):\n",
    "\n",
    "    for theFile in os.listdir(targetDir):\n",
    "        filePath = os.path.join(targetDir, theFile)\n",
    "        if os.path.isfile(filePath):\n",
    "            os.unlink(filePath)\n",
    "        elif os.path.isdir(filePath):\n",
    "            shutil.rmtree(filePath)\n",
    "\n",
    "_eraseFolderContent(outputDir)"
   ]
  },
  {
   "cell_type": "code",
   "execution_count": 5,
   "metadata": {},
   "outputs": [],
   "source": [
    "import os\n",
    "import sys\n",
    "sys.path.append('../analysis_scripts//')\n"
   ]
  },
  {
   "cell_type": "code",
   "execution_count": 6,
   "metadata": {},
   "outputs": [
    {
     "data": {
      "text/plain": [
       "\"\\n    ccLoop.main(phosimDir, numPro, 1, outputDir, '%s.%.1f' % (testLabel, starSep), \\n                    isEimg=False, genOpd=True, genDefocalImg=True, \\n                    genFlats=True, useMinDofIdx=False,\\n                    inputSkyFilePath=skyFilePath, m1m3ForceError=0.05)\\n\""
      ]
     },
     "execution_count": 6,
     "metadata": {},
     "output_type": "execute_result"
    }
   ],
   "source": [
    "from createPhosimCatalog import createPhosimCatalog\n",
    "\n",
    "#skyFilePath points to a phosim star catalog file : starCat.txt \n",
    "\n",
    "numPro = 30 # number of processors setting in phosimCmptSetting.yaml \n",
    "iterNum  = 1 # number of iterations \n",
    "starSep = 0.05 # star separation over which we are looping \n",
    "    \n",
    "createCat = createPhosimCatalog()\n",
    "raShiftPx = 150\n",
    "decShiftPx = 150\n",
    "raShift = (raShiftPx * .2) / 3600 # Convert to degrees\n",
    "decShift = (decShiftPx * .2) / 3600 # Convert to degrees\n",
    "\n",
    "\n",
    "# read the star brightness\n",
    "magVal   = 16\n",
    "\n",
    "createCat.createPhosimCatalog(2, starSep, [magVal,magVal], raShift, decShift,\n",
    "                              skyFilePath)\n",
    "\n",
    "\n",
    "'''\n",
    "    ccLoop.main(phosimDir, numPro, 1, outputDir, '%s.%.1f' % (testLabel, starSep), \n",
    "                    isEimg=False, genOpd=True, genDefocalImg=True, \n",
    "                    genFlats=True, useMinDofIdx=False,\n",
    "                    inputSkyFilePath=skyFilePath, m1m3ForceError=0.05)\n",
    "'''"
   ]
  },
  {
   "cell_type": "markdown",
   "metadata": {},
   "source": [
    "The signature of that function is the following : "
   ]
  },
  {
   "cell_type": "code",
   "execution_count": 20,
   "metadata": {},
   "outputs": [
    {
     "data": {
      "text/plain": [
       "'class baseComcamLoop():\\n\\n    def main(self, phosimDir, numPro, iterNum, baseOutputDir, \\n            testName, isEimg=False, genOpd=True, genDefocalImg=True, genFlats=True,\\n            surveyFilter=None, starMag=15, \\n            useMinDofIdx=False, inputSkyFilePath=\"\", m1m3ForceError=0.05):\\n'"
      ]
     },
     "execution_count": 20,
     "metadata": {},
     "output_type": "execute_result"
    }
   ],
   "source": [
    "'''class baseComcamLoop():\n",
    "\n",
    "    def main(self, phosimDir, numPro, iterNum, baseOutputDir, \n",
    "            testName, isEimg=False, genOpd=True, genDefocalImg=True, genFlats=True,\n",
    "            surveyFilter=None, starMag=15, \n",
    "            useMinDofIdx=False, inputSkyFilePath=\"\", m1m3ForceError=0.05):\n",
    "'''"
   ]
  },
  {
   "cell_type": "code",
   "execution_count": null,
   "metadata": {},
   "outputs": [],
   "source": [
    "more "
   ]
  },
  {
   "cell_type": "markdown",
   "metadata": {},
   "source": [
    "This means that the arguments passed to baseComcamLoop are : \n",
    "    \n"
   ]
  },
  {
   "cell_type": "code",
   "execution_count": 7,
   "metadata": {},
   "outputs": [],
   "source": [
    "baseOutputDir = outputDir\n",
    "testName = '%s.%.1f' % (testLabel, starSep)\n",
    "isEimg=False; genOpd=True; genDefocalImg=True; genFlats=True; useMinDofIdx=False\n",
    "surveyFilter=None\n",
    "inputSkyFilePath=skyFilePath\n",
    "m1m3ForceError=0.05"
   ]
  },
  {
   "cell_type": "code",
   "execution_count": 8,
   "metadata": {},
   "outputs": [
    {
     "data": {
      "text/plain": [
       "'/epyc/users/suberlak/Commissioning/aos/aoclc_output/'"
      ]
     },
     "execution_count": 8,
     "metadata": {},
     "output_type": "execute_result"
    }
   ],
   "source": [
    "baseOutputDir"
   ]
  },
  {
   "cell_type": "markdown",
   "metadata": {},
   "source": [
    "The beginning of baseComcamLoop main  :"
   ]
  },
  {
   "cell_type": "code",
   "execution_count": 9,
   "metadata": {},
   "outputs": [],
   "source": [
    "# Prepare the calibration products (only for the amplifier images)\n",
    "#sensorNameList = self._getComCamSensorNameList()\n",
    "sensorNameList = [\"R22_S00\", \"R22_S01\", \"R22_S02\", \"R22_S10\", \"R22_S11\",\n",
    "                        \"R22_S12\", \"R22_S20\", \"R22_S21\", \"R22_S22\"]\n",
    "\n",
    "\n",
    "if ((not isEimg) & (genFlats is True)): # pass by default \n",
    "    #fakeFlatDir = self._makeCalibs(baseOutputDir, sensorNameList) : \n",
    "    # begin self._makeCalibs :\n",
    "    outputDir = baseOutputDir\n",
    "    fakeFlatDirName = \"fake_flats\"\n",
    "    fakeFlatDir = os.path.join(outputDir, fakeFlatDirName)\n",
    "    \n",
    "    ## self._makeCalibs calls self._makeDir(fakeFlatDir) : \n",
    "    ## begin self._makeDir\n",
    "    if (not os.path.exists(fakeFlatDir)):\n",
    "            os.makedirs(fakeFlatDir)\n",
    "    ## end self._makeDir\n",
    "    \n",
    "    # back to self._makeCalibs\n",
    "    detector = \" \".join(sensorNameList)\n",
    "    #self._makeCalibs calls  self._genFakeFlat(fakeFlatDir, detector) : \n",
    "    \n",
    "    ## begin self._genFakeFlat\n",
    "    currWorkDir = os.getcwd()\n",
    "    os.chdir(fakeFlatDir)\n",
    "    ## self._genFakeFlat calls self._makeFakeFlat(detector)\n",
    "    \n",
    "    ### begin self._makeFakeFlat\n",
    "    command = \"makeGainImages.py\"\n",
    "    argstring = \"--detector_list %s\" % detector\n",
    "    runProgram(command, argstring=argstring)\n",
    "    ### end self._makeFakeFlat\n",
    "    \n",
    "    # back to self._genFakeFlat\n",
    "    os.chdir(currWorkDir)\n",
    "\n",
    "    # return fakeFlatDir\n",
    "    # end self._makeCalibs\n",
    "    \n",
    "    \n",
    "# Make the ISR directory\n",
    "isrDirName = \"input\"\n",
    "isrDir = os.path.join(baseOutputDir, isrDirName)\n",
    "if genFlats is True:\n",
    "    ## self.main  calls self._makeDir(isrDir) : \n",
    "    ## begin self._makeDir\n",
    "    if (not os.path.exists(isrDir)):\n",
    "            os.makedirs(isrDir)\n",
    "    ## end self._makeDir"
   ]
  },
  {
   "cell_type": "code",
   "execution_count": 10,
   "metadata": {},
   "outputs": [],
   "source": [
    "# Survey parameters\n",
    "surveySettingFilePath = os.path.join(getConfigDir(),\n",
    "                                    \"surveySettings.yaml\")\n",
    "surveySettings = ParamReader(filePath=surveySettingFilePath)\n",
    "\n",
    "\n",
    "# eg. surveyFilter= 'r' - that would simulate stars in different filters \n",
    "if surveyFilter is None:\n",
    "    filterType = FilterType.fromString(surveySettings.getSetting(\"filterType\"))\n",
    "else:\n",
    "    filterType = FilterType.fromString(surveyFilter)\n",
    "raInDeg = surveySettings.getSetting(\"raInDeg\")\n",
    "decInDeg = surveySettings.getSetting(\"decInDeg\")\n",
    "rotAngInDeg = surveySettings.getSetting(\"rotAngInDeg\")"
   ]
  },
  {
   "cell_type": "markdown",
   "metadata": {},
   "source": [
    "Now `self.main()` calls  `self._preparePhosimCmpt()`:"
   ]
  },
  {
   "cell_type": "code",
   "execution_count": 11,
   "metadata": {},
   "outputs": [],
   "source": [
    "# Prepare the components\n",
    "# self.main calls phosimCmpt = self._preparePhosimCmpt(phosimDir, filterType, raInDeg, decInDeg,\n",
    "#                                rotAngInDeg, numPro, isEimg, m1m3ForceError)\n",
    "\n",
    "# whose signature is _preparePhosimCmpt(self, phosimDir, filterType, raInDeg, decInDeg, rotAngInDeg,\n",
    "#                       numPro, isEimg, m1m3ForceError)\n",
    "\n",
    "# so the params passed are called the same way \n",
    "\n",
    "# begin self._preparePhosimCmpt:\n",
    "\n",
    "# Set the Telescope facade class\n",
    "tele = TeleFacade()\n",
    "tele.addSubSys(addCam=True, addM1M3=True, addM2=True)\n",
    "tele.setPhoSimDir(phosimDir)"
   ]
  },
  {
   "cell_type": "code",
   "execution_count": 12,
   "metadata": {},
   "outputs": [],
   "source": [
    "# now the AnalysisPhoSimCmpt() is instantiated, so need to define it : \n",
    "\n",
    "class AnalysisPhosimCmpt(PhosimCmpt):\n",
    "\n",
    "    def _writeOpdZkFile(self, zkFileName, rotOpdInDeg):\n",
    "        \"\"\"Write the OPD in zk file.\n",
    "        OPD: optical path difference.\n",
    "        Parameters\n",
    "        ----------\n",
    "        zkFileName : str\n",
    "            OPD in zk file name.\n",
    "        rotOpdInDeg : float\n",
    "            Rotate OPD in degree in the counter-clockwise direction.\n",
    "        \"\"\"\n",
    "\n",
    "        testOutputDir = os.environ[\"closeLoopTestDir\"]\n",
    "        filePath = os.path.join(testOutputDir, zkFileName)\n",
    "        opdData = self._mapOpdToZk(rotOpdInDeg)\n",
    "        header = \"The followings are OPD in rotation angle of %.2f degree in um from z4 to z22:\" % (\n",
    "            rotOpdInDeg)\n",
    "        np.savetxt(filePath, opdData, header=header)\n",
    "\n",
    "    def reorderAndSaveWfErrFile(self, listOfWfErr, refSensorNameList,\n",
    "                                zkFileName=\"wfs.zer\"):\n",
    "        \"\"\"Reorder the wavefront error in the wavefront error list according to\n",
    "        the reference sensor name list and save to a file.\n",
    "        The unexisted wavefront error will be a numpy zero array. The unit is\n",
    "        um.\n",
    "        Parameters\n",
    "        ----------\n",
    "        listOfWfErr : list [lsst.ts.wep.ctrlIntf.SensorWavefrontData]\n",
    "            List of SensorWavefrontData object.\n",
    "        refSensorNameList : list\n",
    "            Reference sensor name list.\n",
    "        zkFileName : str, optional\n",
    "            Wavefront error file name. (the default is \"wfs.zer\".)\n",
    "        \"\"\"\n",
    "\n",
    "        # Get the sensor name that in the wavefront error map\n",
    "        wfErrMap = self._transListOfWfErrToMap(listOfWfErr)\n",
    "        nameListInWfErrMap = list(wfErrMap.keys())\n",
    "\n",
    "        # Reorder the wavefront error map based on the reference sensor name\n",
    "        # list.\n",
    "        reorderedWfErrMap = dict()\n",
    "        for sensorName in refSensorNameList:\n",
    "            if sensorName in nameListInWfErrMap:\n",
    "                wfErr = wfErrMap[sensorName]\n",
    "            else:\n",
    "                numOfZk = self.getNumOfZk()\n",
    "                wfErr = np.zeros(numOfZk)\n",
    "            reorderedWfErrMap[sensorName] = wfErr\n",
    "\n",
    "        # Save the file\n",
    "        testOutputDir = os.environ[\"closeLoopTestDir\"]\n",
    "        filePath = os.path.join(testOutputDir, zkFileName)\n",
    "        wfsData = self._getWfErrValuesAndStackToMatrix(reorderedWfErrMap)\n",
    "        header = \"The followings are ZK in um from z4 to z22:\"\n",
    "        np.savetxt(filePath, wfsData, header=header)\n",
    "\n",
    "\n",
    "# Prepare the phosim component\n",
    "phosimCmpt = AnalysisPhosimCmpt(tele)\n",
    "\n",
    "# Set the telescope survey parameters\n",
    "boresight = (raInDeg, decInDeg)\n",
    "zAngleInDeg = 27.0912\n",
    "phosimCmpt.setSurveyParam(filterType=filterType, boresight=boresight,\n",
    "                        zAngleInDeg=zAngleInDeg, rotAngInDeg=rotAngInDeg)\n",
    "\n",
    "# Update the setting file if needed\n",
    "settingFile = phosimCmpt.getSettingFile()\n",
    "if (numPro > 1):\n",
    "    settingFile.updateSetting(\"numPro\", numPro)\n",
    "if isEimg: # isEimg = False by default \n",
    "    settingFile.updateSetting(\"e2ADC\", 0)\n",
    "\n",
    "# Set the seed number for M1M3 surface\n",
    "seedNum = 6\n",
    "phosimCmpt.setSeedNum(seedNum)\n",
    "\n",
    "# Set the M1M3 force error\n",
    "phosimCmpt.setM1M3ForceError(m1m3ForceError)\n",
    "\n",
    "\n"
   ]
  },
  {
   "cell_type": "code",
   "execution_count": 71,
   "metadata": {},
   "outputs": [
    {
     "data": {
      "text/plain": [
       "'/data/epyc/users/suberlak/Commissioning/aos/ts_phosim/policy/phosimCmptSetting.yaml'"
      ]
     },
     "execution_count": 71,
     "metadata": {},
     "output_type": "execute_result"
    }
   ],
   "source": [
    "settingFile.getFilePath()"
   ]
  },
  {
   "cell_type": "code",
   "execution_count": 73,
   "metadata": {},
   "outputs": [
    {
     "name": "stdout",
     "output_type": "stream",
     "text": [
      "---\n",
      "\n",
      "# PhoSim component setting\n",
      "\n",
      "# Number of zk (annular Zernike polynomials) terms\n",
      "numOfZk: 19\n",
      "\n",
      "# Intra-focal directory name. This is needed if the defocal image is by the\n",
      "# camera piston.\n",
      "intraDirName: intra\n",
      "\n",
      "# Extra-focal directory name. This is needed if the defocal image is by the\n",
      "# camera piston.\n",
      "extraDirName: extra\n",
      "\n",
      "# PhoSim-related default parameters\n",
      "\n",
      "# Number of processors. The value should be >= 1.\n",
      "numPro: 1\n",
      "\n",
      "# Whether to generate amplifier images (1 = true, 0 = false)\n",
      "e2ADC: 1\n"
     ]
    }
   ],
   "source": [
    "!more /data/epyc/users/suberlak/Commissioning/aos/ts_phosim/policy/phosimCmptSetting.yaml"
   ]
  },
  {
   "cell_type": "markdown",
   "metadata": {},
   "source": [
    "Back to `self.main()` (line 121): \n",
    "    \n",
    "    \n",
    "\n",
    "\n"
   ]
  },
  {
   "cell_type": "code",
   "execution_count": 13,
   "metadata": {},
   "outputs": [],
   "source": [
    "# self.main() calls  wepCalc = self._prepareWepCalc(isrDir, filterType, raInDeg, decInDeg,\n",
    "#                        rotAngInDeg, isEimg)\n",
    "\n",
    "# whose signature is \n",
    "# _prepareWepCalc(self, isrDirPath, filterType, raInDeg, decInDeg, rotAngInDeg,\n",
    "#                        isEimg)\n",
    "\n",
    "# so the params are passed without name change apart from :\n",
    "isrDirPath = isrDir\n",
    "\n",
    "# begin self._prepareWepCalc()\n",
    "\n",
    "wepCalc = WEPCalculationFactory.getCalculator(CamType.ComCam, isrDirPath)\n",
    "wepCalc.setFilter(filterType)\n",
    "wepCalc.setBoresight(raInDeg, decInDeg)\n",
    "wepCalc.setRotAng(rotAngInDeg)\n",
    "\n",
    "if (isEimg): # False by default \n",
    "    settingFile = wepCalc.getSettingFile()\n",
    "    settingFile.updateSetting(\"imageType\", \"eimage\")\n",
    "            \n",
    "# end self._prepareWepCalc()\n",
    "\n",
    "# back to self.main() \n",
    "tele = phosimCmpt.getTele()\n",
    "defocalDisInMm = tele.getDefocalDistInMm()\n",
    "wepCalc.setDefocalDisInMm(defocalDisInMm)\n",
    "\n",
    "# self.main() calls \n",
    "# ofcCalc = self._prepareOfcCalc(filterType, rotAngInDeg)\n",
    "# begin self._prepareOfcCalc()\n",
    "ofcCalc = OFCCalculationFactory.getCalculator(InstName.COMCAM)\n",
    "ofcCalc.setFilter(filterType)\n",
    "ofcCalc.setRotAng(rotAngInDeg)\n",
    "ofcCalc.setGainByPSSN()\n",
    "# end self._prepareOfcCalc()"
   ]
  },
  {
   "cell_type": "code",
   "execution_count": 14,
   "metadata": {},
   "outputs": [],
   "source": [
    "# Ingest the calibration products (only for the amplifier images)\n",
    "if ((not isEimg) & (genFlats is True)):\n",
    "    wepCalc.ingestCalibs(fakeFlatDir)\n",
    "\n",
    "# Only use 10 hexapod positions and first 3 bending modes of M1M3 and M2\n",
    "if (useMinDofIdx): # this is false \n",
    "    self._useMinDofIdx(ofcCalc)\n",
    "\n",
    "# Set the telescope state to be the same as the OFC\n",
    "state0 = ofcCalc.getStateAggregated()\n",
    "phosimCmpt.setDofInUm(state0)"
   ]
  },
  {
   "cell_type": "markdown",
   "metadata": {},
   "source": [
    "## Run one iteration"
   ]
  },
  {
   "cell_type": "code",
   "execution_count": 15,
   "metadata": {},
   "outputs": [],
   "source": [
    "# Do the iteration\n",
    "obsId = 875641\n",
    "opdZkFileName = str(\"opd.zer\" + '.' + testName)\n",
    "wfsZkFileName = str(\"wfs.zer\" + '.' + testName)\n",
    "opdPssnFileName = \"PSSN.txt\"\n",
    "outputDirName = \"pert\"\n",
    "outputImgDirName = \"img\" \n",
    "iterDefaultDirName = \"iter\"\n",
    "dofInUmFileName = \"dofPertInNextIter.mat\"\n",
    "skyInfoFileName = \"skyComCamInfo.txt\"\n",
    "\n"
   ]
  },
  {
   "cell_type": "code",
   "execution_count": 16,
   "metadata": {},
   "outputs": [],
   "source": [
    "iterNum = 1 \n",
    "iterCount = 0\n",
    "#for iterCount in range(iterNum):\n",
    "\n",
    "#### beginning of iteration \n",
    "\n",
    "# Set the observation Id\n",
    "phosimCmpt.setSurveyParam(obsId=obsId)\n",
    "\n",
    "# The iteration directory\n",
    "iterDirName = \"%s%d\" % (iterDefaultDirName, iterCount)\n",
    "\n",
    "# Set the output directory\n",
    "outputDir = os.path.join(baseOutputDir, iterDirName, outputDirName)\n",
    "phosimCmpt.setOutputDir(outputDir)\n",
    "\n",
    "# Set the output image directory\n",
    "outputImgDir = os.path.join(baseOutputDir, iterDirName,\n",
    "                            outputImgDirName)\n",
    "phosimCmpt.setOutputImgDir(outputImgDir)\n",
    "\n",
    "\n"
   ]
  },
  {
   "cell_type": "markdown",
   "metadata": {},
   "source": [
    "### Generate the OPD image"
   ]
  },
  {
   "cell_type": "code",
   "execution_count": null,
   "metadata": {},
   "outputs": [],
   "source": []
  },
  {
   "cell_type": "code",
   "execution_count": 130,
   "metadata": {},
   "outputs": [
    {
     "data": {
      "text/plain": [
       "'w $AOCLCOUTPUTPATH sdsd'"
      ]
     },
     "execution_count": 130,
     "metadata": {},
     "output_type": "execute_result"
    }
   ],
   "source": [
    "prepend = 'w $AOCLCOUTPUTPATH'\n",
    "a =  'sdsd'\n",
    "\n",
    "prepend+' '+a"
   ]
  },
  {
   "cell_type": "code",
   "execution_count": 131,
   "metadata": {},
   "outputs": [
    {
     "ename": "KeyboardInterrupt",
     "evalue": "",
     "output_type": "error",
     "traceback": [
      "\u001b[0;31m---------------------------------------------------------------------------\u001b[0m",
      "\u001b[0;31mKeyboardInterrupt\u001b[0m                         Traceback (most recent call last)",
      "\u001b[0;32m<ipython-input-131-a0dd62b717c1>\u001b[0m in \u001b[0;36m<module>\u001b[0;34m\u001b[0m\n\u001b[1;32m      5\u001b[0m     \u001b[0;31m# add that path to phosim :\u001b[0m\u001b[0;34m\u001b[0m\u001b[0;34m\u001b[0m\u001b[0;34m\u001b[0m\u001b[0m\n\u001b[1;32m      6\u001b[0m     \u001b[0margString\u001b[0m \u001b[0;34m=\u001b[0m \u001b[0;34m'-w $AOCLCOUTPUTPATH '\u001b[0m \u001b[0;34m+\u001b[0m \u001b[0margString\u001b[0m\u001b[0;34m\u001b[0m\u001b[0;34m\u001b[0m\u001b[0m\n\u001b[0;32m----> 7\u001b[0;31m     \u001b[0mphosimCmpt\u001b[0m\u001b[0;34m.\u001b[0m\u001b[0mrunPhoSim\u001b[0m\u001b[0;34m(\u001b[0m\u001b[0margString\u001b[0m\u001b[0;34m)\u001b[0m\u001b[0;34m\u001b[0m\u001b[0;34m\u001b[0m\u001b[0m\n\u001b[0m\u001b[1;32m      8\u001b[0m \u001b[0;34m\u001b[0m\u001b[0m\n\u001b[1;32m      9\u001b[0m \u001b[0;34m\u001b[0m\u001b[0m\n",
      "\u001b[0;32m/data/epyc/users/suberlak/Commissioning/aos/ts_phosim/python/lsst/ts/phosim/PhosimCmpt.py\u001b[0m in \u001b[0;36mrunPhoSim\u001b[0;34m(self, argString)\u001b[0m\n\u001b[1;32m    352\u001b[0m         \"\"\"\n\u001b[1;32m    353\u001b[0m \u001b[0;34m\u001b[0m\u001b[0m\n\u001b[0;32m--> 354\u001b[0;31m         \u001b[0mself\u001b[0m\u001b[0;34m.\u001b[0m\u001b[0mtele\u001b[0m\u001b[0;34m.\u001b[0m\u001b[0mrunPhoSim\u001b[0m\u001b[0;34m(\u001b[0m\u001b[0margString\u001b[0m\u001b[0;34m)\u001b[0m\u001b[0;34m\u001b[0m\u001b[0;34m\u001b[0m\u001b[0m\n\u001b[0m\u001b[1;32m    355\u001b[0m \u001b[0;34m\u001b[0m\u001b[0m\n\u001b[1;32m    356\u001b[0m     def getComCamOpdArgsAndFilesForPhoSim(\n",
      "\u001b[0;32m/data/epyc/users/suberlak/Commissioning/aos/ts_phosim/python/lsst/ts/phosim/telescope/TeleFacade.py\u001b[0m in \u001b[0;36mrunPhoSim\u001b[0;34m(self, argString)\u001b[0m\n\u001b[1;32m    214\u001b[0m         \"\"\"\n\u001b[1;32m    215\u001b[0m \u001b[0;34m\u001b[0m\u001b[0m\n\u001b[0;32m--> 216\u001b[0;31m         \u001b[0mself\u001b[0m\u001b[0;34m.\u001b[0m\u001b[0mphoSimCommu\u001b[0m\u001b[0;34m.\u001b[0m\u001b[0mrunPhoSim\u001b[0m\u001b[0;34m(\u001b[0m\u001b[0margstring\u001b[0m\u001b[0;34m=\u001b[0m\u001b[0margString\u001b[0m\u001b[0;34m)\u001b[0m\u001b[0;34m\u001b[0m\u001b[0;34m\u001b[0m\u001b[0m\n\u001b[0m\u001b[1;32m    217\u001b[0m \u001b[0;34m\u001b[0m\u001b[0m\n\u001b[1;32m    218\u001b[0m     def getPhoSimArgs(self, instFilePath, extraCommandFile=None, numPro=1,\n",
      "\u001b[0;32m/data/epyc/users/suberlak/Commissioning/aos/ts_phosim/python/lsst/ts/phosim/telescope/PhosimCommu.py\u001b[0m in \u001b[0;36mrunPhoSim\u001b[0;34m(self, argstring)\u001b[0m\n\u001b[1;32m    625\u001b[0m \u001b[0;34m\u001b[0m\u001b[0m\n\u001b[1;32m    626\u001b[0m         \u001b[0;31m# Run the PhoSim with the related arguments\u001b[0m\u001b[0;34m\u001b[0m\u001b[0;34m\u001b[0m\u001b[0;34m\u001b[0m\u001b[0m\n\u001b[0;32m--> 627\u001b[0;31m         \u001b[0mself\u001b[0m\u001b[0;34m.\u001b[0m\u001b[0m_runProgram\u001b[0m\u001b[0;34m(\u001b[0m\u001b[0mcommand\u001b[0m\u001b[0;34m,\u001b[0m \u001b[0margstring\u001b[0m\u001b[0;34m=\u001b[0m\u001b[0margstring\u001b[0m\u001b[0;34m)\u001b[0m\u001b[0;34m\u001b[0m\u001b[0;34m\u001b[0m\u001b[0m\n\u001b[0m\u001b[1;32m    628\u001b[0m \u001b[0;34m\u001b[0m\u001b[0m\n\u001b[1;32m    629\u001b[0m     \u001b[0;32mdef\u001b[0m \u001b[0m_runProgram\u001b[0m\u001b[0;34m(\u001b[0m\u001b[0mself\u001b[0m\u001b[0;34m,\u001b[0m \u001b[0mcommand\u001b[0m\u001b[0;34m,\u001b[0m \u001b[0mbinDir\u001b[0m\u001b[0;34m=\u001b[0m\u001b[0;32mNone\u001b[0m\u001b[0;34m,\u001b[0m \u001b[0margstring\u001b[0m\u001b[0;34m=\u001b[0m\u001b[0;32mNone\u001b[0m\u001b[0;34m)\u001b[0m\u001b[0;34m:\u001b[0m\u001b[0;34m\u001b[0m\u001b[0;34m\u001b[0m\u001b[0m\n",
      "\u001b[0;32m/data/epyc/users/suberlak/Commissioning/aos/ts_phosim/python/lsst/ts/phosim/telescope/PhosimCommu.py\u001b[0m in \u001b[0;36m_runProgram\u001b[0;34m(self, command, binDir, argstring)\u001b[0m\n\u001b[1;32m    654\u001b[0m \u001b[0;34m\u001b[0m\u001b[0m\n\u001b[1;32m    655\u001b[0m         \u001b[0;31m# Call the program w/o arguments\u001b[0m\u001b[0;34m\u001b[0m\u001b[0;34m\u001b[0m\u001b[0;34m\u001b[0m\u001b[0m\n\u001b[0;32m--> 656\u001b[0;31m         \u001b[0;32mif\u001b[0m \u001b[0;34m(\u001b[0m\u001b[0msubprocess\u001b[0m\u001b[0;34m.\u001b[0m\u001b[0mcall\u001b[0m\u001b[0;34m(\u001b[0m\u001b[0mcommand\u001b[0m\u001b[0;34m,\u001b[0m \u001b[0mshell\u001b[0m\u001b[0;34m=\u001b[0m\u001b[0;32mTrue\u001b[0m\u001b[0;34m)\u001b[0m \u001b[0;34m!=\u001b[0m \u001b[0;36m0\u001b[0m\u001b[0;34m)\u001b[0m\u001b[0;34m:\u001b[0m\u001b[0;34m\u001b[0m\u001b[0;34m\u001b[0m\u001b[0m\n\u001b[0m\u001b[1;32m    657\u001b[0m             \u001b[0;32mraise\u001b[0m \u001b[0mRuntimeError\u001b[0m\u001b[0;34m(\u001b[0m\u001b[0;34m\"Error running: %s\"\u001b[0m \u001b[0;34m%\u001b[0m \u001b[0mcommand\u001b[0m\u001b[0;34m)\u001b[0m\u001b[0;34m\u001b[0m\u001b[0;34m\u001b[0m\u001b[0m\n\u001b[1;32m    658\u001b[0m \u001b[0;34m\u001b[0m\u001b[0m\n",
      "\u001b[0;32m/astro/store/epyc/projects/lsst_comm/new_stack/python/miniconda3-4.7.10/lib/python3.7/subprocess.py\u001b[0m in \u001b[0;36mcall\u001b[0;34m(timeout, *popenargs, **kwargs)\u001b[0m\n\u001b[1;32m    323\u001b[0m     \u001b[0;32mwith\u001b[0m \u001b[0mPopen\u001b[0m\u001b[0;34m(\u001b[0m\u001b[0;34m*\u001b[0m\u001b[0mpopenargs\u001b[0m\u001b[0;34m,\u001b[0m \u001b[0;34m**\u001b[0m\u001b[0mkwargs\u001b[0m\u001b[0;34m)\u001b[0m \u001b[0;32mas\u001b[0m \u001b[0mp\u001b[0m\u001b[0;34m:\u001b[0m\u001b[0;34m\u001b[0m\u001b[0;34m\u001b[0m\u001b[0m\n\u001b[1;32m    324\u001b[0m         \u001b[0;32mtry\u001b[0m\u001b[0;34m:\u001b[0m\u001b[0;34m\u001b[0m\u001b[0;34m\u001b[0m\u001b[0m\n\u001b[0;32m--> 325\u001b[0;31m             \u001b[0;32mreturn\u001b[0m \u001b[0mp\u001b[0m\u001b[0;34m.\u001b[0m\u001b[0mwait\u001b[0m\u001b[0;34m(\u001b[0m\u001b[0mtimeout\u001b[0m\u001b[0;34m=\u001b[0m\u001b[0mtimeout\u001b[0m\u001b[0;34m)\u001b[0m\u001b[0;34m\u001b[0m\u001b[0;34m\u001b[0m\u001b[0m\n\u001b[0m\u001b[1;32m    326\u001b[0m         \u001b[0;32mexcept\u001b[0m\u001b[0;34m:\u001b[0m  \u001b[0;31m# Including KeyboardInterrupt, wait handled that.\u001b[0m\u001b[0;34m\u001b[0m\u001b[0;34m\u001b[0m\u001b[0m\n\u001b[1;32m    327\u001b[0m             \u001b[0mp\u001b[0m\u001b[0;34m.\u001b[0m\u001b[0mkill\u001b[0m\u001b[0;34m(\u001b[0m\u001b[0;34m)\u001b[0m\u001b[0;34m\u001b[0m\u001b[0;34m\u001b[0m\u001b[0m\n",
      "\u001b[0;32m/astro/store/epyc/projects/lsst_comm/new_stack/python/miniconda3-4.7.10/lib/python3.7/subprocess.py\u001b[0m in \u001b[0;36mwait\u001b[0;34m(self, timeout)\u001b[0m\n\u001b[1;32m    988\u001b[0m             \u001b[0mendtime\u001b[0m \u001b[0;34m=\u001b[0m \u001b[0m_time\u001b[0m\u001b[0;34m(\u001b[0m\u001b[0;34m)\u001b[0m \u001b[0;34m+\u001b[0m \u001b[0mtimeout\u001b[0m\u001b[0;34m\u001b[0m\u001b[0;34m\u001b[0m\u001b[0m\n\u001b[1;32m    989\u001b[0m         \u001b[0;32mtry\u001b[0m\u001b[0;34m:\u001b[0m\u001b[0;34m\u001b[0m\u001b[0;34m\u001b[0m\u001b[0m\n\u001b[0;32m--> 990\u001b[0;31m             \u001b[0;32mreturn\u001b[0m \u001b[0mself\u001b[0m\u001b[0;34m.\u001b[0m\u001b[0m_wait\u001b[0m\u001b[0;34m(\u001b[0m\u001b[0mtimeout\u001b[0m\u001b[0;34m=\u001b[0m\u001b[0mtimeout\u001b[0m\u001b[0;34m)\u001b[0m\u001b[0;34m\u001b[0m\u001b[0;34m\u001b[0m\u001b[0m\n\u001b[0m\u001b[1;32m    991\u001b[0m         \u001b[0;32mexcept\u001b[0m \u001b[0mKeyboardInterrupt\u001b[0m\u001b[0;34m:\u001b[0m\u001b[0;34m\u001b[0m\u001b[0;34m\u001b[0m\u001b[0m\n\u001b[1;32m    992\u001b[0m             \u001b[0;31m# https://bugs.python.org/issue25942\u001b[0m\u001b[0;34m\u001b[0m\u001b[0;34m\u001b[0m\u001b[0;34m\u001b[0m\u001b[0m\n",
      "\u001b[0;32m/astro/store/epyc/projects/lsst_comm/new_stack/python/miniconda3-4.7.10/lib/python3.7/subprocess.py\u001b[0m in \u001b[0;36m_wait\u001b[0;34m(self, timeout)\u001b[0m\n\u001b[1;32m   1622\u001b[0m                         \u001b[0;32mif\u001b[0m \u001b[0mself\u001b[0m\u001b[0;34m.\u001b[0m\u001b[0mreturncode\u001b[0m \u001b[0;32mis\u001b[0m \u001b[0;32mnot\u001b[0m \u001b[0;32mNone\u001b[0m\u001b[0;34m:\u001b[0m\u001b[0;34m\u001b[0m\u001b[0;34m\u001b[0m\u001b[0m\n\u001b[1;32m   1623\u001b[0m                             \u001b[0;32mbreak\u001b[0m  \u001b[0;31m# Another thread waited.\u001b[0m\u001b[0;34m\u001b[0m\u001b[0;34m\u001b[0m\u001b[0m\n\u001b[0;32m-> 1624\u001b[0;31m                         \u001b[0;34m(\u001b[0m\u001b[0mpid\u001b[0m\u001b[0;34m,\u001b[0m \u001b[0msts\u001b[0m\u001b[0;34m)\u001b[0m \u001b[0;34m=\u001b[0m \u001b[0mself\u001b[0m\u001b[0;34m.\u001b[0m\u001b[0m_try_wait\u001b[0m\u001b[0;34m(\u001b[0m\u001b[0;36m0\u001b[0m\u001b[0;34m)\u001b[0m\u001b[0;34m\u001b[0m\u001b[0;34m\u001b[0m\u001b[0m\n\u001b[0m\u001b[1;32m   1625\u001b[0m                         \u001b[0;31m# Check the pid and loop as waitpid has been known to\u001b[0m\u001b[0;34m\u001b[0m\u001b[0;34m\u001b[0m\u001b[0;34m\u001b[0m\u001b[0m\n\u001b[1;32m   1626\u001b[0m                         \u001b[0;31m# return 0 even without WNOHANG in odd situations.\u001b[0m\u001b[0;34m\u001b[0m\u001b[0;34m\u001b[0m\u001b[0;34m\u001b[0m\u001b[0m\n",
      "\u001b[0;32m/astro/store/epyc/projects/lsst_comm/new_stack/python/miniconda3-4.7.10/lib/python3.7/subprocess.py\u001b[0m in \u001b[0;36m_try_wait\u001b[0;34m(self, wait_flags)\u001b[0m\n\u001b[1;32m   1580\u001b[0m             \u001b[0;34m\"\"\"All callers to this function MUST hold self._waitpid_lock.\"\"\"\u001b[0m\u001b[0;34m\u001b[0m\u001b[0;34m\u001b[0m\u001b[0m\n\u001b[1;32m   1581\u001b[0m             \u001b[0;32mtry\u001b[0m\u001b[0;34m:\u001b[0m\u001b[0;34m\u001b[0m\u001b[0;34m\u001b[0m\u001b[0m\n\u001b[0;32m-> 1582\u001b[0;31m                 \u001b[0;34m(\u001b[0m\u001b[0mpid\u001b[0m\u001b[0;34m,\u001b[0m \u001b[0msts\u001b[0m\u001b[0;34m)\u001b[0m \u001b[0;34m=\u001b[0m \u001b[0mos\u001b[0m\u001b[0;34m.\u001b[0m\u001b[0mwaitpid\u001b[0m\u001b[0;34m(\u001b[0m\u001b[0mself\u001b[0m\u001b[0;34m.\u001b[0m\u001b[0mpid\u001b[0m\u001b[0;34m,\u001b[0m \u001b[0mwait_flags\u001b[0m\u001b[0;34m)\u001b[0m\u001b[0;34m\u001b[0m\u001b[0;34m\u001b[0m\u001b[0m\n\u001b[0m\u001b[1;32m   1583\u001b[0m             \u001b[0;32mexcept\u001b[0m \u001b[0mChildProcessError\u001b[0m\u001b[0;34m:\u001b[0m\u001b[0;34m\u001b[0m\u001b[0;34m\u001b[0m\u001b[0m\n\u001b[1;32m   1584\u001b[0m                 \u001b[0;31m# This happens if SIGCLD is set to be ignored or waiting\u001b[0m\u001b[0;34m\u001b[0m\u001b[0;34m\u001b[0m\u001b[0;34m\u001b[0m\u001b[0m\n",
      "\u001b[0;31mKeyboardInterrupt\u001b[0m: "
     ]
    }
   ],
   "source": [
    "\n",
    "# Generate the OPD image\n",
    "if genOpd is True:\n",
    "    argString = phosimCmpt.getComCamOpdArgsAndFilesForPhoSim()\n",
    "    \n",
    "    # add that path to phosim : \n",
    "    argString = '-w $AOCLCOUTPUTPATH ' + argString\n",
    "    phosimCmpt.runPhoSim(argString)\n",
    "    \n",
    "    "
   ]
  },
  {
   "cell_type": "markdown",
   "metadata": {},
   "source": [
    "/epyc/users/suberlak/Commissioning/aos/aoclc_output/iter0/pert/starExtra.inst -i lsst -e 1 -c /epyc/users/suberlak/Commissioning/aos/aoclc_output/iter0/pert/star.cmd -p 40 -o /epyc/users/suberlak/Commissioning/aos/aoclc_output/iter0/img/extra > /epyc/users/suberlak/Commissioning/aos/aoclc_output/iter0/img/extra/starExtraPhoSim.log 2>&1"
   ]
  },
  {
   "cell_type": "markdown",
   "metadata": {},
   "source": [
    "python /astro/store/epyc/projects/lsst_comm/phosim_syseng4/phosim.py -w $AOCLCOUTPUTPATH /epyc/users/suberlak/Commissioning/aos/aoclc_output/iter0/pert/starExtra.inst -i lsst -e 1 -c /epyc/users/suberlak/Commissioning/aos/aoclc_output/iter0/pert/star.cmd -p 8 -o /epyc/users/suberlak/Commissioning/aos/aoclc_output/iter0/img/extra"
   ]
  },
  {
   "cell_type": "markdown",
   "metadata": {},
   "source": [
    "Note:  when running `python baseComcamLoop.py`, the `testOutput=\"\"`, so it sets it to `os.path.realpath(__file__)`, where `__file__` points to the file currently executed by python "
   ]
  },
  {
   "cell_type": "code",
   "execution_count": 19,
   "metadata": {},
   "outputs": [],
   "source": [
    "testOutput = '/data/epyc/users/suberlak/Commissioning/aos/aoclc_analysis/'"
   ]
  },
  {
   "cell_type": "code",
   "execution_count": 20,
   "metadata": {},
   "outputs": [],
   "source": [
    "#testOutput = outputDir # just for now .. \n",
    "if (testOutput == \"\"):\n",
    "    testOutputDir = os.path.dirname(os.path.realpath(__file__))\n",
    "else:\n",
    "    testOutputDir = testOutput\n",
    "\n",
    "\n",
    "os.environ[\"closeLoopTestDir\"] = testOutputDir\n",
    "\n",
    "# Analyze the OPD data\n",
    "phosimCmpt.analyzeComCamOpdData(zkFileName=opdZkFileName,\n",
    "                                pssnFileName=opdPssnFileName)"
   ]
  },
  {
   "cell_type": "code",
   "execution_count": 21,
   "metadata": {},
   "outputs": [
    {
     "name": "stdout",
     "output_type": "stream",
     "text": [
      "Calculated PSSN is [0.59515269 0.59006253 0.59086933 0.59333341 0.58535632 0.58658711\n",
      " 0.59610244 0.58819379 0.58696264].\n",
      "GQ effective FWHM is 0.5429.\n"
     ]
    }
   ],
   "source": [
    "# Get the PSSN from file\n",
    "pssn = phosimCmpt.getOpdPssnFromFile(opdPssnFileName)\n",
    "print(\"Calculated PSSN is %s.\" % pssn)\n",
    "\n",
    "# Get the GQ effective FWHM from file\n",
    "gqEffFwhm = phosimCmpt.getOpdGqEffFwhmFromFile(opdPssnFileName)\n",
    "print(\"GQ effective FWHM is %.4f.\" % gqEffFwhm)\n",
    "\n",
    "# Set the FWHM data\n",
    "listOfFWHMSensorData = phosimCmpt.getListOfFwhmSensorData(\n",
    "    opdPssnFileName, sensorNameList)\n",
    "ofcCalc.setFWHMSensorDataOfCam(listOfFWHMSensorData)"
   ]
  },
  {
   "cell_type": "code",
   "execution_count": 22,
   "metadata": {},
   "outputs": [],
   "source": [
    "# Prepare the faked sky - this is skipped because inputSkyFilePath = 'starCat.txt'\n",
    "if (inputSkyFilePath == \"\"):\n",
    "    # According to the OPD field positions\n",
    "    metr = phosimCmpt.getOpdMetr()\n",
    "    skySim = self._prepareSkySim(metr, starMag)\n",
    "    print(\"Use the default OPD field positions to be star positions.\")\n",
    "    print(\"The star magnitude is chosen to be %.2f.\" % starMag)\n",
    "else:\n",
    "    # self.main() calls skySim = self._prepareSkySimBySkyFile(inputSkyFilePath)\n",
    "    # begin self._prepareSkySimBySkyFile\n",
    "    skySim = SkySim()\n",
    "    absSkyFilePath = os.path.abspath(inputSkyFilePath)\n",
    "    skySim.addStarByFile(absSkyFilePath)\n",
    "    # end self._prepareSkySimBySkyFile\n"
   ]
  },
  {
   "cell_type": "code",
   "execution_count": 21,
   "metadata": {},
   "outputs": [
    {
     "data": {
      "text/plain": [
       "'/data/epyc/users/suberlak/Commissioning/aos/ts_phosim/notebooks/analysis_notebooks/starCat.txt'"
      ]
     },
     "execution_count": 21,
     "metadata": {},
     "output_type": "execute_result"
    }
   ],
   "source": [
    "absSkyFilePath\n"
   ]
  },
  {
   "cell_type": "code",
   "execution_count": 22,
   "metadata": {},
   "outputs": [
    {
     "name": "stdout",
     "output_type": "stream",
     "text": [
      "M1M3zlist.txt  M2res.txt    opd.cmd\t     skyComCamInfo.txt\n",
      "M1res.png      M2zlist.txt  opd.inst\t     star.cmd\n",
      "M1res.txt      M3res.png    opd.zer.sep.0.1  starExtra.inst\n",
      "M2res.png      M3res.txt    pert.cmd\t     starIntra.inst\n"
     ]
    }
   ],
   "source": [
    "!ls /astro/store/epyc/projects/lsst_comm/aoclc_output/iter0/pert\n",
    "\n"
   ]
  },
  {
   "cell_type": "code",
   "execution_count": 87,
   "metadata": {},
   "outputs": [
    {
     "data": {
      "text/plain": [
       "'/epyc/users/suberlak/Commissioning/aos/aoclc_output/iter0/pert/skyComCamInfo.txt'"
      ]
     },
     "execution_count": 87,
     "metadata": {},
     "output_type": "execute_result"
    }
   ],
   "source": [
    "outputSkyInfoFilePath"
   ]
  },
  {
   "cell_type": "code",
   "execution_count": 88,
   "metadata": {},
   "outputs": [],
   "source": [
    "# Output the sky information\n",
    "# self.main() calls skySim, wepCalc = self._outputSkyInfo(outputDir, skyInfoFileName, skySim, wepCalc)\n",
    "\n",
    "# begin self._outputSkyInfo\n",
    "outputSkyInfoFilePath = os.path.join(outputDir, skyInfoFileName)\n",
    "skySim.exportSkyToFile(outputSkyInfoFilePath)\n",
    "wepCalc.setSkyFile(outputSkyInfoFilePath)\n",
    "# end self._outputSkyInfo \n",
    "\n",
    "\n",
    "# Assign the entra- and intra-focal observation Id\n",
    "extraObsId = obsId + 1\n",
    "intraObsId = obsId + 2"
   ]
  },
  {
   "cell_type": "markdown",
   "metadata": {},
   "source": [
    "### Generate the defocal image"
   ]
  },
  {
   "cell_type": "code",
   "execution_count": 24,
   "metadata": {},
   "outputs": [],
   "source": [
    "# Generate the defocal images\n",
    "simSeed = 1000\n",
    "argStringList = phosimCmpt.getComCamStarArgsAndFilesForPhoSim(extraObsId, intraObsId, skySim, simSeed=simSeed,\n",
    "    cmdSettingFileName=\"starDefault.cmd\", instSettingFileName=\"starSingleExp.inst\")\n",
    "if genDefocalImg is True:\n",
    "    for argString in argStringList:\n",
    "        phosimCmpt.runPhoSim(argString)\n",
    "\n",
    "    # Repackage the images based on the image type\n",
    "    if (isEimg):\n",
    "        phosimCmpt.repackageComCamEimgFromPhoSim()\n",
    "    else:\n",
    "        phosimCmpt.repackageComCamAmpImgFromPhoSim()"
   ]
  },
  {
   "cell_type": "markdown",
   "metadata": {},
   "source": [
    "These are the commands run by phosim: "
   ]
  },
  {
   "cell_type": "code",
   "execution_count": 25,
   "metadata": {
    "scrolled": true
   },
   "outputs": [
    {
     "data": {
      "text/plain": [
       "['/epyc/users/suberlak/Commissioning/aos/aoclc_output/iter0/pert/starExtra.inst -i lsst -e 1 -c /epyc/users/suberlak/Commissioning/aos/aoclc_output/iter0/pert/star.cmd -p 30 -o /epyc/users/suberlak/Commissioning/aos/aoclc_output/iter0/img/extra > /epyc/users/suberlak/Commissioning/aos/aoclc_output/iter0/img/extra/starExtraPhoSim.log 2>&1',\n",
       " '/epyc/users/suberlak/Commissioning/aos/aoclc_output/iter0/pert/starIntra.inst -i lsst -e 1 -c /epyc/users/suberlak/Commissioning/aos/aoclc_output/iter0/pert/star.cmd -p 30 -o /epyc/users/suberlak/Commissioning/aos/aoclc_output/iter0/img/intra > /epyc/users/suberlak/Commissioning/aos/aoclc_output/iter0/img/intra/starIntraPhoSim.log 2>&1']"
      ]
     },
     "execution_count": 25,
     "metadata": {},
     "output_type": "execute_result"
    }
   ],
   "source": [
    "argStringList"
   ]
  },
  {
   "cell_type": "markdown",
   "metadata": {},
   "source": [
    "The defocal images created by the above are in:"
   ]
  },
  {
   "cell_type": "code",
   "execution_count": 74,
   "metadata": {},
   "outputs": [
    {
     "data": {
      "text/plain": [
       "'/epyc/users/suberlak/Commissioning/aos/aoclc_output/iter0/img'"
      ]
     },
     "execution_count": 74,
     "metadata": {},
     "output_type": "execute_result"
    }
   ],
   "source": [
    "outputImgDir"
   ]
  },
  {
   "cell_type": "markdown",
   "metadata": {},
   "source": [
    "In particular, intrafocal are in `outputImgDir + phosimCmpt.getIntraFocalDirName()`, i.e. "
   ]
  },
  {
   "cell_type": "code",
   "execution_count": 77,
   "metadata": {},
   "outputs": [
    {
     "data": {
      "text/plain": [
       "'/epyc/users/suberlak/Commissioning/aos/aoclc_output/iter0/img/intra'"
      ]
     },
     "execution_count": 77,
     "metadata": {},
     "output_type": "execute_result"
    }
   ],
   "source": [
    "intraRawExpDir"
   ]
  },
  {
   "cell_type": "markdown",
   "metadata": {},
   "source": [
    "and extrafocal are in "
   ]
  },
  {
   "cell_type": "code",
   "execution_count": 78,
   "metadata": {},
   "outputs": [
    {
     "data": {
      "text/plain": [
       "'/epyc/users/suberlak/Commissioning/aos/aoclc_output/iter0/img/extra'"
      ]
     },
     "execution_count": 78,
     "metadata": {},
     "output_type": "execute_result"
    }
   ],
   "source": [
    "extraRawExpDir"
   ]
  },
  {
   "cell_type": "markdown",
   "metadata": {},
   "source": [
    "### Collect the defocal images"
   ]
  },
  {
   "cell_type": "code",
   "execution_count": 89,
   "metadata": {},
   "outputs": [],
   "source": [
    "# Collect the defocal images\n",
    "intraRawExpData = RawExpData()\n",
    "intraRawExpDir = os.path.join(outputImgDir,\n",
    "                            phosimCmpt.getIntraFocalDirName())\n",
    "intraRawExpData.append(intraObsId, 0, intraRawExpDir)\n",
    "\n",
    "extraRawExpData = RawExpData()\n",
    "extraRawExpDir = os.path.join(outputImgDir,\n",
    "                            phosimCmpt.getExtraFocalDirName())\n",
    "extraRawExpData.append(extraObsId, 0, extraRawExpDir)\n"
   ]
  },
  {
   "cell_type": "markdown",
   "metadata": {},
   "source": [
    "### Calculate the wavefront error and DOF"
   ]
  },
  {
   "cell_type": "markdown",
   "metadata": {},
   "source": [
    "We tried inserting this line to clear the db handle, but perhaps need to do it some other way ... "
   ]
  },
  {
   "cell_type": "code",
   "execution_count": 90,
   "metadata": {},
   "outputs": [
    {
     "data": {
      "text/plain": [
       "<FilterType.G: 2>"
      ]
     },
     "execution_count": 90,
     "metadata": {},
     "output_type": "execute_result"
    }
   ],
   "source": [
    "mappedFilterType"
   ]
  },
  {
   "cell_type": "code",
   "execution_count": 91,
   "metadata": {},
   "outputs": [
    {
     "ename": "ProgrammingError",
     "evalue": "Cannot operate on a closed cursor.",
     "output_type": "error",
     "traceback": [
      "\u001b[0;31m---------------------------------------------------------------------------\u001b[0m",
      "\u001b[0;31mProgrammingError\u001b[0m                          Traceback (most recent call last)",
      "\u001b[0;32m<ipython-input-91-7ee97bb43756>\u001b[0m in \u001b[0;36m<module>\u001b[0;34m\u001b[0m\n\u001b[1;32m      1\u001b[0m \u001b[0;31m# Delete old db\u001b[0m\u001b[0;34m\u001b[0m\u001b[0;34m\u001b[0m\u001b[0;34m\u001b[0m\u001b[0m\n\u001b[1;32m      2\u001b[0m \u001b[0msourSelc\u001b[0m \u001b[0;34m=\u001b[0m  \u001b[0mwepCalc\u001b[0m\u001b[0;34m.\u001b[0m\u001b[0mwepCntlr\u001b[0m\u001b[0;34m.\u001b[0m\u001b[0mgetSourSelc\u001b[0m\u001b[0;34m(\u001b[0m\u001b[0;34m)\u001b[0m\u001b[0;34m\u001b[0m\u001b[0;34m\u001b[0m\u001b[0m\n\u001b[0;32m----> 3\u001b[0;31m \u001b[0msourSelc\u001b[0m\u001b[0;34m.\u001b[0m\u001b[0mdb\u001b[0m\u001b[0;34m.\u001b[0m\u001b[0mdeleteTable\u001b[0m\u001b[0;34m(\u001b[0m\u001b[0mmappedFilterType\u001b[0m\u001b[0;34m)\u001b[0m\u001b[0;34m\u001b[0m\u001b[0;34m\u001b[0m\u001b[0m\n\u001b[0m",
      "\u001b[0;32m/astro/store/epyc/projects/lsst_comm/ts_wep/python/lsst/ts/wep/bsc/LocalDatabaseForStarFile.py\u001b[0m in \u001b[0;36mdeleteTable\u001b[0;34m(self, filterType)\u001b[0m\n\u001b[1;32m    114\u001b[0m         \u001b[0mtableName\u001b[0m \u001b[0;34m=\u001b[0m \u001b[0mself\u001b[0m\u001b[0;34m.\u001b[0m\u001b[0m_getTableName\u001b[0m\u001b[0;34m(\u001b[0m\u001b[0mfilterType\u001b[0m\u001b[0;34m)\u001b[0m\u001b[0;34m\u001b[0m\u001b[0;34m\u001b[0m\u001b[0m\n\u001b[1;32m    115\u001b[0m         \u001b[0mcommand\u001b[0m \u001b[0;34m=\u001b[0m \u001b[0;34m\"DROP TABLE IF EXISTS %s\"\u001b[0m \u001b[0;34m%\u001b[0m \u001b[0mtableName\u001b[0m\u001b[0;34m\u001b[0m\u001b[0;34m\u001b[0m\u001b[0m\n\u001b[0;32m--> 116\u001b[0;31m         \u001b[0mself\u001b[0m\u001b[0;34m.\u001b[0m\u001b[0mcursor\u001b[0m\u001b[0;34m.\u001b[0m\u001b[0mexecute\u001b[0m\u001b[0;34m(\u001b[0m\u001b[0mcommand\u001b[0m\u001b[0;34m)\u001b[0m\u001b[0;34m\u001b[0m\u001b[0;34m\u001b[0m\u001b[0m\n\u001b[0m\u001b[1;32m    117\u001b[0m \u001b[0;34m\u001b[0m\u001b[0m\n\u001b[1;32m    118\u001b[0m         \u001b[0;31m# Commit the change to database\u001b[0m\u001b[0;34m\u001b[0m\u001b[0;34m\u001b[0m\u001b[0;34m\u001b[0m\u001b[0m\n",
      "\u001b[0;31mProgrammingError\u001b[0m: Cannot operate on a closed cursor."
     ]
    }
   ],
   "source": [
    "# Delete old db \n",
    "sourSelc =  wepCalc.wepCntlr.getSourSelc()\n",
    "sourSelc.db.deleteTable(mappedFilterType)"
   ]
  },
  {
   "cell_type": "code",
   "execution_count": 82,
   "metadata": {},
   "outputs": [
    {
     "ename": "RuntimeError",
     "evalue": "Error running: runIsr.py /epyc/users/suberlak/Commissioning/aos/aoclc_output/input --id --rerun=run1 --configfile /epyc/users/suberlak/Commissioning/aos/aoclc_output/input/isr_config.py",
     "output_type": "error",
     "traceback": [
      "\u001b[0;31m---------------------------------------------------------------------------\u001b[0m",
      "\u001b[0;31mRuntimeError\u001b[0m                              Traceback (most recent call last)",
      "\u001b[0;32m<ipython-input-82-d776336dcb69>\u001b[0m in \u001b[0;36m<module>\u001b[0;34m\u001b[0m\n\u001b[1;32m      1\u001b[0m \u001b[0;31m# Calculate the wavefront error and DOF\u001b[0m\u001b[0;34m\u001b[0m\u001b[0;34m\u001b[0m\u001b[0;34m\u001b[0m\u001b[0m\n\u001b[1;32m      2\u001b[0m listOfWfErr = wepCalc.calculateWavefrontErrors(\n\u001b[0;32m----> 3\u001b[0;31m     intraRawExpData, extraRawExpData=extraRawExpData)\n\u001b[0m\u001b[1;32m      4\u001b[0m \u001b[0;34m\u001b[0m\u001b[0m\n\u001b[1;32m      5\u001b[0m \u001b[0mofcCalc\u001b[0m\u001b[0;34m.\u001b[0m\u001b[0mcalculateCorrections\u001b[0m\u001b[0;34m(\u001b[0m\u001b[0mlistOfWfErr\u001b[0m\u001b[0;34m)\u001b[0m\u001b[0;34m\u001b[0m\u001b[0;34m\u001b[0m\u001b[0m\n",
      "\u001b[0;32m/astro/store/epyc/projects/lsst_comm/ts_wep/python/lsst/ts/wep/ctrlIntf/WEPCalculation.py\u001b[0m in \u001b[0;36mcalculateWavefrontErrors\u001b[0;34m(self, rawExpData, extraRawExpData)\u001b[0m\n\u001b[1;32m    370\u001b[0m         \u001b[0mimgType\u001b[0m \u001b[0;34m=\u001b[0m \u001b[0mself\u001b[0m\u001b[0;34m.\u001b[0m\u001b[0m_getImageType\u001b[0m\u001b[0;34m(\u001b[0m\u001b[0;34m)\u001b[0m\u001b[0;34m\u001b[0m\u001b[0;34m\u001b[0m\u001b[0m\n\u001b[1;32m    371\u001b[0m         \u001b[0;32mif\u001b[0m \u001b[0;34m(\u001b[0m\u001b[0mimgType\u001b[0m \u001b[0;34m==\u001b[0m \u001b[0mImageType\u001b[0m\u001b[0;34m.\u001b[0m\u001b[0mAmp\u001b[0m\u001b[0;34m)\u001b[0m\u001b[0;34m:\u001b[0m\u001b[0;34m\u001b[0m\u001b[0;34m\u001b[0m\u001b[0m\n\u001b[0;32m--> 372\u001b[0;31m             \u001b[0mself\u001b[0m\u001b[0;34m.\u001b[0m\u001b[0m_doIsr\u001b[0m\u001b[0;34m(\u001b[0m\u001b[0misrConfigfileName\u001b[0m\u001b[0;34m=\u001b[0m\u001b[0;34m\"isr_config.py\"\u001b[0m\u001b[0;34m)\u001b[0m\u001b[0;34m\u001b[0m\u001b[0;34m\u001b[0m\u001b[0m\n\u001b[0m\u001b[1;32m    373\u001b[0m \u001b[0;34m\u001b[0m\u001b[0m\n\u001b[1;32m    374\u001b[0m         \u001b[0;31m# Set the butler inputs path to get the images\u001b[0m\u001b[0;34m\u001b[0m\u001b[0;34m\u001b[0m\u001b[0;34m\u001b[0m\u001b[0m\n",
      "\u001b[0;32m/astro/store/epyc/projects/lsst_comm/ts_wep/python/lsst/ts/wep/ctrlIntf/WEPCalculation.py\u001b[0m in \u001b[0;36m_doIsr\u001b[0;34m(self, isrConfigfileName)\u001b[0m\n\u001b[1;32m    465\u001b[0m \u001b[0;34m\u001b[0m\u001b[0m\n\u001b[1;32m    466\u001b[0m         \u001b[0mrerunName\u001b[0m \u001b[0;34m=\u001b[0m \u001b[0mself\u001b[0m\u001b[0;34m.\u001b[0m\u001b[0m_getIsrRerunName\u001b[0m\u001b[0;34m(\u001b[0m\u001b[0;34m)\u001b[0m\u001b[0;34m\u001b[0m\u001b[0;34m\u001b[0m\u001b[0m\n\u001b[0;32m--> 467\u001b[0;31m         \u001b[0misrWrapper\u001b[0m\u001b[0;34m.\u001b[0m\u001b[0mdoISR\u001b[0m\u001b[0;34m(\u001b[0m\u001b[0mself\u001b[0m\u001b[0;34m.\u001b[0m\u001b[0misrDir\u001b[0m\u001b[0;34m,\u001b[0m \u001b[0mrerunName\u001b[0m\u001b[0;34m=\u001b[0m\u001b[0mrerunName\u001b[0m\u001b[0;34m)\u001b[0m\u001b[0;34m\u001b[0m\u001b[0;34m\u001b[0m\u001b[0m\n\u001b[0m\u001b[1;32m    468\u001b[0m \u001b[0;34m\u001b[0m\u001b[0m\n\u001b[1;32m    469\u001b[0m     \u001b[0;32mdef\u001b[0m \u001b[0m_getIsrRerunName\u001b[0m\u001b[0;34m(\u001b[0m\u001b[0mself\u001b[0m\u001b[0;34m)\u001b[0m\u001b[0;34m:\u001b[0m\u001b[0;34m\u001b[0m\u001b[0;34m\u001b[0m\u001b[0m\n",
      "\u001b[0;32m/astro/store/epyc/projects/lsst_comm/ts_wep/python/lsst/ts/wep/CamIsrWrapper.py\u001b[0m in \u001b[0;36mdoISR\u001b[0;34m(self, inputDir, rerunName)\u001b[0m\n\u001b[1;32m    104\u001b[0m             \u001b[0margstring\u001b[0m \u001b[0;34m+=\u001b[0m \u001b[0;34m\" --configfile %s\"\u001b[0m \u001b[0;34m%\u001b[0m \u001b[0mself\u001b[0m\u001b[0;34m.\u001b[0m\u001b[0misrConfigFilePath\u001b[0m\u001b[0;34m\u001b[0m\u001b[0;34m\u001b[0m\u001b[0m\n\u001b[1;32m    105\u001b[0m \u001b[0;34m\u001b[0m\u001b[0m\n\u001b[0;32m--> 106\u001b[0;31m         \u001b[0mrunProgram\u001b[0m\u001b[0;34m(\u001b[0m\u001b[0mcommand\u001b[0m\u001b[0;34m,\u001b[0m \u001b[0margstring\u001b[0m\u001b[0;34m=\u001b[0m\u001b[0margstring\u001b[0m\u001b[0;34m)\u001b[0m\u001b[0;34m\u001b[0m\u001b[0;34m\u001b[0m\u001b[0m\n\u001b[0m\u001b[1;32m    107\u001b[0m \u001b[0;34m\u001b[0m\u001b[0m\n\u001b[1;32m    108\u001b[0m     \u001b[0;32mdef\u001b[0m \u001b[0m_rmRerunDirIfExist\u001b[0m\u001b[0;34m(\u001b[0m\u001b[0mself\u001b[0m\u001b[0;34m,\u001b[0m \u001b[0minputDir\u001b[0m\u001b[0;34m,\u001b[0m \u001b[0mrerunDirName\u001b[0m\u001b[0;34m)\u001b[0m\u001b[0;34m:\u001b[0m\u001b[0;34m\u001b[0m\u001b[0;34m\u001b[0m\u001b[0m\n",
      "\u001b[0;32m/astro/store/epyc/projects/lsst_comm/ts_wep/python/lsst/ts/wep/Utility.py\u001b[0m in \u001b[0;36mrunProgram\u001b[0;34m(command, binDir, argstring)\u001b[0m\n\u001b[1;32m    164\u001b[0m     \u001b[0;31m# Call the program w/o arguments\u001b[0m\u001b[0;34m\u001b[0m\u001b[0;34m\u001b[0m\u001b[0;34m\u001b[0m\u001b[0m\n\u001b[1;32m    165\u001b[0m     \u001b[0;32mif\u001b[0m \u001b[0;34m(\u001b[0m\u001b[0msubprocess\u001b[0m\u001b[0;34m.\u001b[0m\u001b[0mcall\u001b[0m\u001b[0;34m(\u001b[0m\u001b[0mcommand\u001b[0m\u001b[0;34m,\u001b[0m \u001b[0mshell\u001b[0m\u001b[0;34m=\u001b[0m\u001b[0;32mTrue\u001b[0m\u001b[0;34m)\u001b[0m \u001b[0;34m!=\u001b[0m \u001b[0;36m0\u001b[0m\u001b[0;34m)\u001b[0m\u001b[0;34m:\u001b[0m\u001b[0;34m\u001b[0m\u001b[0;34m\u001b[0m\u001b[0m\n\u001b[0;32m--> 166\u001b[0;31m         \u001b[0;32mraise\u001b[0m \u001b[0mRuntimeError\u001b[0m\u001b[0;34m(\u001b[0m\u001b[0;34m\"Error running: %s\"\u001b[0m \u001b[0;34m%\u001b[0m \u001b[0mcommand\u001b[0m\u001b[0;34m)\u001b[0m\u001b[0;34m\u001b[0m\u001b[0;34m\u001b[0m\u001b[0m\n\u001b[0m\u001b[1;32m    167\u001b[0m \u001b[0;34m\u001b[0m\u001b[0m\n\u001b[1;32m    168\u001b[0m \u001b[0;34m\u001b[0m\u001b[0m\n",
      "\u001b[0;31mRuntimeError\u001b[0m: Error running: runIsr.py /epyc/users/suberlak/Commissioning/aos/aoclc_output/input --id --rerun=run1 --configfile /epyc/users/suberlak/Commissioning/aos/aoclc_output/input/isr_config.py"
     ]
    }
   ],
   "source": [
    "# Calculate the wavefront error and DOF  (line 235) \n",
    "listOfWfErr = wepCalc.calculateWavefrontErrors(intraRawExpData, extraRawExpData=extraRawExpData)\n",
    "\n"
   ]
  },
  {
   "cell_type": "markdown",
   "metadata": {},
   "source": [
    "Note: the config file the error refers to is "
   ]
  },
  {
   "cell_type": "code",
   "execution_count": 83,
   "metadata": {},
   "outputs": [
    {
     "name": "stdout",
     "output_type": "stream",
     "text": [
      "config.isr.doBias=False\n",
      "config.isr.doDark=False\n",
      "config.isr.doFlat=True\n",
      "config.isr.doFringe=False\n",
      "config.isr.doDefect=False\n"
     ]
    }
   ],
   "source": [
    "!more /epyc/users/suberlak/Commissioning/aos/aoclc_output/input/isr_config.py"
   ]
  },
  {
   "cell_type": "code",
   "execution_count": 92,
   "metadata": {},
   "outputs": [],
   "source": [
    "# Set the butler inputs path to get the images\n",
    "butlerRootPath = wepCalc._getButlerRootPath()\n",
    "wepCalc.wepCntlr.setPostIsrCcdInputs(butlerRootPath)\n",
    "\n",
    "# Get the target stars map neighboring stars\n",
    "neighborStarMap = wepCalc._getTargetStar()\n"
   ]
  },
  {
   "cell_type": "code",
   "execution_count": 93,
   "metadata": {},
   "outputs": [
    {
     "data": {
      "text/plain": [
       "'/epyc/users/suberlak/Commissioning/aos/aoclc_output/iter0/pert/skyComCamInfo.txt'"
      ]
     },
     "execution_count": 93,
     "metadata": {},
     "output_type": "execute_result"
    }
   ],
   "source": [
    "wepCalc.skyFile"
   ]
  },
  {
   "cell_type": "code",
   "execution_count": 94,
   "metadata": {},
   "outputs": [
    {
     "data": {
      "text/plain": [
       "{'R:2,2 S:0,2': <lsst.ts.wep.bsc.NbrStar.NbrStar at 0x7fd7b5de6b00>,\n",
       " 'R:2,2 S:1,2': <lsst.ts.wep.bsc.NbrStar.NbrStar at 0x7fd7d0954f98>,\n",
       " 'R:2,2 S:2,2': <lsst.ts.wep.bsc.NbrStar.NbrStar at 0x7fd6da8cf940>,\n",
       " 'R:2,2 S:0,1': <lsst.ts.wep.bsc.NbrStar.NbrStar at 0x7fd80b4a6080>,\n",
       " 'R:2,2 S:1,1': <lsst.ts.wep.bsc.NbrStar.NbrStar at 0x7fd80e4c2668>,\n",
       " 'R:2,2 S:2,1': <lsst.ts.wep.bsc.NbrStar.NbrStar at 0x7fd6dc12ad68>,\n",
       " 'R:2,2 S:0,0': <lsst.ts.wep.bsc.NbrStar.NbrStar at 0x7fd8279b4f60>,\n",
       " 'R:2,2 S:1,0': <lsst.ts.wep.bsc.NbrStar.NbrStar at 0x7fd8277442e8>,\n",
       " 'R:2,2 S:2,0': <lsst.ts.wep.bsc.NbrStar.NbrStar at 0x7fd7d6800470>}"
      ]
     },
     "execution_count": 94,
     "metadata": {},
     "output_type": "execute_result"
    }
   ],
   "source": [
    "neighborStarMap\n",
    "\n"
   ]
  },
  {
   "cell_type": "code",
   "execution_count": 96,
   "metadata": {},
   "outputs": [],
   "source": [
    "# Calculate the wavefront error\n",
    "intraObsIdList = rawExpData.getVisit()\n",
    "intraObsId = intraObsIdList[0]\n",
    "if (extraRawExpData is None):\n",
    "    obsIdList = [intraObsId]\n",
    "else:\n",
    "    extraObsIdList = extraRawExpData.getVisit()\n",
    "    extraObsId = extraObsIdList[0]\n",
    "    obsIdList = [intraObsId, extraObsId]\n",
    "    "
   ]
  },
  {
   "cell_type": "code",
   "execution_count": 98,
   "metadata": {},
   "outputs": [
    {
     "data": {
      "text/plain": [
       "[875643, 875642]"
      ]
     },
     "execution_count": 98,
     "metadata": {},
     "output_type": "execute_result"
    }
   ],
   "source": [
    "obsIdList"
   ]
  },
  {
   "cell_type": "code",
   "execution_count": 99,
   "metadata": {},
   "outputs": [],
   "source": [
    "donutMap = wepCalc._calcWfErr(neighborStarMap, obsIdList)\n",
    "\n"
   ]
  },
  {
   "cell_type": "code",
   "execution_count": 100,
   "metadata": {},
   "outputs": [
    {
     "data": {
      "text/plain": [
       "{'R:2,2 S:0,2': [<lsst.ts.wep.DonutImage.DonutImage at 0x7fd827f2bd68>,\n",
       "  <lsst.ts.wep.DonutImage.DonutImage at 0x7fd6db8a0be0>],\n",
       " 'R:2,2 S:1,2': [<lsst.ts.wep.DonutImage.DonutImage at 0x7fd6dac08278>,\n",
       "  <lsst.ts.wep.DonutImage.DonutImage at 0x7fd80b6d6630>],\n",
       " 'R:2,2 S:2,2': [<lsst.ts.wep.DonutImage.DonutImage at 0x7fd80b6d65c0>,\n",
       "  <lsst.ts.wep.DonutImage.DonutImage at 0x7fd7f5179240>],\n",
       " 'R:2,2 S:0,1': [<lsst.ts.wep.DonutImage.DonutImage at 0x7fd80b6d6978>,\n",
       "  <lsst.ts.wep.DonutImage.DonutImage at 0x7fd7b5d95898>],\n",
       " 'R:2,2 S:1,1': [<lsst.ts.wep.DonutImage.DonutImage at 0x7fd7b5d95198>,\n",
       "  <lsst.ts.wep.DonutImage.DonutImage at 0x7fd6db8a09e8>],\n",
       " 'R:2,2 S:2,1': [<lsst.ts.wep.DonutImage.DonutImage at 0x7fd7b5d95da0>,\n",
       "  <lsst.ts.wep.DonutImage.DonutImage at 0x7fd80b73e2b0>],\n",
       " 'R:2,2 S:0,0': [<lsst.ts.wep.DonutImage.DonutImage at 0x7fd80b73ee10>,\n",
       "  <lsst.ts.wep.DonutImage.DonutImage at 0x7fd80b73ef60>],\n",
       " 'R:2,2 S:1,0': [<lsst.ts.wep.DonutImage.DonutImage at 0x7fd80b73e470>,\n",
       "  <lsst.ts.wep.DonutImage.DonutImage at 0x7fd6da868630>],\n",
       " 'R:2,2 S:2,0': [<lsst.ts.wep.DonutImage.DonutImage at 0x7fd6da868f98>,\n",
       "  <lsst.ts.wep.DonutImage.DonutImage at 0x7fd6da8682b0>]}"
      ]
     },
     "execution_count": 100,
     "metadata": {},
     "output_type": "execute_result"
    }
   ],
   "source": [
    "donutMap\n"
   ]
  },
  {
   "cell_type": "code",
   "execution_count": 101,
   "metadata": {},
   "outputs": [],
   "source": [
    "listOfWfErr = wepCalc._populateListOfSensorWavefrontData(donutMap)\n"
   ]
  },
  {
   "cell_type": "code",
   "execution_count": 102,
   "metadata": {},
   "outputs": [
    {
     "data": {
      "text/plain": [
       "[<lsst.ts.wep.ctrlIntf.SensorWavefrontData.SensorWavefrontData at 0x7fd7d09d78d0>,\n",
       " <lsst.ts.wep.ctrlIntf.SensorWavefrontData.SensorWavefrontData at 0x7fd7bf8f4550>,\n",
       " <lsst.ts.wep.ctrlIntf.SensorWavefrontData.SensorWavefrontData at 0x7fd8276f54e0>,\n",
       " <lsst.ts.wep.ctrlIntf.SensorWavefrontData.SensorWavefrontData at 0x7fd82785b240>,\n",
       " <lsst.ts.wep.ctrlIntf.SensorWavefrontData.SensorWavefrontData at 0x7fd6dab16be0>,\n",
       " <lsst.ts.wep.ctrlIntf.SensorWavefrontData.SensorWavefrontData at 0x7fd6dab16080>,\n",
       " <lsst.ts.wep.ctrlIntf.SensorWavefrontData.SensorWavefrontData at 0x7fd7bd45b400>,\n",
       " <lsst.ts.wep.ctrlIntf.SensorWavefrontData.SensorWavefrontData at 0x7fd827f326d8>,\n",
       " <lsst.ts.wep.ctrlIntf.SensorWavefrontData.SensorWavefrontData at 0x7fd6cbb400b8>]"
      ]
     },
     "execution_count": 102,
     "metadata": {},
     "output_type": "execute_result"
    }
   ],
   "source": [
    "listOfWfErr"
   ]
  },
  {
   "cell_type": "code",
   "execution_count": 103,
   "metadata": {},
   "outputs": [
    {
     "data": {
      "text/plain": [
       "(<lsst.ts.ofc.ctrlIntf.M2HexapodCorrection.M2HexapodCorrection at 0x7fd6d7b8cd30>,\n",
       " <lsst.ts.ofc.ctrlIntf.CameraHexapodCorrection.CameraHexapodCorrection at 0x7fd6d7ac3160>,\n",
       " <lsst.ts.ofc.ctrlIntf.M1M3Correction.M1M3Correction at 0x7fd7f51d58d0>,\n",
       " <lsst.ts.ofc.ctrlIntf.M2Correction.M2Correction at 0x7fd827fcd2e8>)"
      ]
     },
     "execution_count": 103,
     "metadata": {},
     "output_type": "execute_result"
    }
   ],
   "source": [
    "\n",
    "ofcCalc.calculateCorrections(listOfWfErr)\n"
   ]
  },
  {
   "cell_type": "markdown",
   "metadata": {},
   "source": [
    "### Record the wfs error with the same order as OPD"
   ]
  },
  {
   "cell_type": "code",
   "execution_count": 104,
   "metadata": {},
   "outputs": [],
   "source": [
    "# Record the wfs error with the same order as OPD for the comparison (line 240)\n",
    "phosimCmpt.reorderAndSaveWfErrFile(listOfWfErr, sensorNameList,\n",
    "                                   zkFileName=wfsZkFileName)\n"
   ]
  },
  {
   "cell_type": "code",
   "execution_count": 106,
   "metadata": {},
   "outputs": [],
   "source": [
    "# Set the new aggregated DOF to phosimCmpt\n",
    "dofInUm = ofcCalc.getStateAggregated()\n",
    "phosimCmpt.setDofInUm(dofInUm)\n",
    "\n",
    "# Save the DOF file\n",
    "phosimCmpt.saveDofInUmFileForNextIter(\n",
    "    dofInUm, dofInUmFileName=dofInUmFileName)\n"
   ]
  },
  {
   "cell_type": "markdown",
   "metadata": {},
   "source": [
    "### Summarize the FWHM"
   ]
  },
  {
   "cell_type": "code",
   "execution_count": 107,
   "metadata": {},
   "outputs": [],
   "source": [
    "# Summarize the FWHM\n",
    "pssnFiles = [os.path.join(baseOutputDir, \"%s%d\" % (iterDefaultDirName, num),\n",
    "            outputImgDirName, opdPssnFileName) for num in range(iterNum)]\n",
    "saveToFilePath = os.path.join(baseOutputDir, \"fwhmIters.png\")\n",
    "plotFwhmOfIters(pssnFiles, saveToFilePath=saveToFilePath)\n",
    "\n"
   ]
  },
  {
   "cell_type": "markdown",
   "metadata": {},
   "source": [
    "### Analysing output "
   ]
  },
  {
   "cell_type": "code",
   "execution_count": 111,
   "metadata": {},
   "outputs": [
    {
     "data": {
      "text/plain": [
       "'/epyc/users/suberlak/Commissioning/aos/aoclc_output/'"
      ]
     },
     "execution_count": 111,
     "metadata": {},
     "output_type": "execute_result"
    }
   ],
   "source": [
    "baseOutputDir"
   ]
  },
  {
   "cell_type": "code",
   "execution_count": 109,
   "metadata": {},
   "outputs": [],
   "source": [
    "import sys\n",
    "sys.path.append('../analysis_tools/')\n",
    "from calcMetrics import calcMetrics"
   ]
  },
  {
   "cell_type": "code",
   "execution_count": 110,
   "metadata": {},
   "outputs": [],
   "source": [
    "ssrTotalVals = []\n",
    "ssrFieldVals = []\n",
    "zernikeErrors = []"
   ]
  },
  {
   "cell_type": "code",
   "execution_count": 112,
   "metadata": {},
   "outputs": [],
   "source": [
    "data_dir = '/epyc/users/suberlak/Commissioning/aos/aoclc_analysis/'"
   ]
  },
  {
   "cell_type": "code",
   "execution_count": 114,
   "metadata": {},
   "outputs": [],
   "source": [
    "calcMagMetrics = calcMetrics()"
   ]
  },
  {
   "cell_type": "code",
   "execution_count": 124,
   "metadata": {},
   "outputs": [],
   "source": [
    "opdZkFilePath = os.path.join(data_dir, 'opd.zer.sep.%.1f' % (0.1))\n",
    "wfsZkFilePath = os.path.join(data_dir, 'wfs.zer.sep.%.1f' % (0.1))\n",
    "opdData, wfsData = calcMagMetrics.loadZernikeData(opdZkFilePath, wfsZkFilePath)\n",
    "opdData = opdData[:3]\n",
    "wfsData = wfsData[:3]\n",
    "zerFieldSSR, zerTotalSSR = calcMagMetrics.calcSSR(opdData, wfsData)\n",
    "zernikeErrors.append(np.sqrt((wfsData - opdData)**2.))\n",
    "ssrFieldVals.append(zerFieldSSR)\n",
    "ssrTotalVals.append(zerTotalSSR)\n",
    "\n",
    "zernikeErrors = np.array(zernikeErrors)\n",
    "zernikeErrors = np.transpose(zernikeErrors, axes=(2,1,0))"
   ]
  },
  {
   "cell_type": "code",
   "execution_count": 118,
   "metadata": {},
   "outputs": [],
   "source": [
    "import matplotlib.pyplot as plt\n",
    "%matplotlib inline"
   ]
  },
  {
   "cell_type": "code",
   "execution_count": 125,
   "metadata": {},
   "outputs": [
    {
     "data": {
      "text/plain": [
       "(3, 2)"
      ]
     },
     "execution_count": 125,
     "metadata": {},
     "output_type": "execute_result"
    }
   ],
   "source": [
    "np.shape(zernikeErrors[0])"
   ]
  },
  {
   "cell_type": "code",
   "execution_count": 126,
   "metadata": {},
   "outputs": [
    {
     "data": {
      "image/png": "[encoded data removed]",
      "text/plain": [
       "<Figure size 576x432 with 1 Axes>"
      ]
     },
     "metadata": {
      "needs_background": "light"
     },
     "output_type": "display_data"
    }
   ],
   "source": [
    "fig = plt.figure(figsize=(8,6))\n",
    "mag_array = [magVal]\n",
    "for i in range(len(mag_array)):\n",
    "    plt.plot(np.arange(19)+4, np.sqrt(np.mean(np.square(zernikeErrors), axis=1)[:, i]), \n",
    "             '-o', lw=3, label='Star Mag = %.1f' % mag_array[i])\n",
    "    plt.xlabel('Zernike Number', size=18)\n",
    "    plt.ylabel('RMS WFS vs OPD (microns)', size=18)\n",
    "    plt.xticks(size=18)\n",
    "    plt.yticks(size=18)\n",
    "plt.legend(fontsize=16)\n",
    "plt.title('Zernike Errors', size=18)\n",
    "    \n",
    "plt.tight_layout()"
   ]
  },
  {
   "cell_type": "markdown",
   "metadata": {},
   "source": [
    "This picture from https://www.janssenprecisionengineering.com/wp-content/uploads/Zernike_modes_adapted.png illustrates which optical distortions these Zernikes correspond: \n",
    "    <img src='Zernike_modes_adapted.png'></img>"
   ]
  },
  {
   "cell_type": "code",
   "execution_count": null,
   "metadata": {},
   "outputs": [],
   "source": []
  },
  {
   "cell_type": "markdown",
   "metadata": {},
   "source": [
    "[continue baseComcamLoop](#continue)"
   ]
  },
  {
   "cell_type": "markdown",
   "metadata": {},
   "source": [
    "debug line 236 of baseComcamLoop:  \n",
    "\n",
    "`listOfWfErr = wepCalc.calculateWavefrontErrors(\n",
    "    intraRawExpData, extraRawExpData=extraRawExpData)\n",
    "    `"
   ]
  },
  {
   "cell_type": "markdown",
   "metadata": {},
   "source": [
    "Code from https://github.com/lsst-ts/ts_wep/blob/master/python/lsst/ts/wep/ctrlIntf/WEPCalculation.py :"
   ]
  },
  {
   "cell_type": "code",
   "execution_count": 29,
   "metadata": {},
   "outputs": [],
   "source": [
    "import os\n",
    "import warnings\n",
    "\n",
    "from lsst.ts.wep.Utility import getModulePath, getConfigDir, BscDbType, \\\n",
    "    FilterType, abbrevDectectorName, getBscDbType, getImageType, \\\n",
    "    getCentroidFindType, ImageType\n",
    "from lsst.ts.wep.CamDataCollector import CamDataCollector\n",
    "from lsst.ts.wep.CamIsrWrapper import CamIsrWrapper\n",
    "from lsst.ts.wep.SourceProcessor import SourceProcessor\n",
    "from lsst.ts.wep.SourceSelector import SourceSelector\n",
    "from lsst.ts.wep.WfEstimator import WfEstimator\n",
    "from lsst.ts.wep.WepController import WepController\n",
    "from lsst.ts.wep.ctrlIntf.SensorWavefrontData import SensorWavefrontData\n",
    "from lsst.ts.wep.ParamReader import ParamReader\n",
    "from lsst.ts.wep.ctrlIntf.MapSensorNameAndId import MapSensorNameAndId\n"
   ]
  },
  {
   "cell_type": "code",
   "execution_count": null,
   "metadata": {},
   "outputs": [],
   "source": []
  },
  {
   "cell_type": "code",
   "execution_count": 30,
   "metadata": {},
   "outputs": [],
   "source": [
    "rawExpData = intraRawExpData\n",
    "extraRawExpData=extraRawExpData"
   ]
  },
  {
   "cell_type": "code",
   "execution_count": 33,
   "metadata": {},
   "outputs": [],
   "source": [
    "if (extraRawExpData is None):\n",
    "        raise ValueError(\"Corner WFS is not supported yet.\")\n",
    "\n",
    "if (len(rawExpData.getVisit()) != 1):\n",
    "    raise ValueError(\"Only single visit is allowed at this time.\")"
   ]
  },
  {
   "cell_type": "code",
   "execution_count": 35,
   "metadata": {},
   "outputs": [],
   "source": [
    "#When evaluating the eimage, the calibration products are not needed.\n",
    "# Therefore, need to make sure the camera mapper file exists.\n",
    "wepCalc._genCamMapperIfNeed()\n",
    "\n",
    "# Ingest the exposure data and do the ISR\n",
    "wepCalc._ingestImg(rawExpData)\n",
    "if (extraRawExpData is not None):\n",
    "    wepCalc._ingestImg(extraRawExpData)\n",
    "\n",
    "# Only the amplifier image needs to do the ISR\n",
    "imgType = wepCalc._getImageType()\n",
    "if (imgType == ImageType.Amp):\n",
    "    wepCalc._doIsr(isrConfigfileName=\"isr_config.py\")"
   ]
  },
  {
   "cell_type": "code",
   "execution_count": 36,
   "metadata": {},
   "outputs": [],
   "source": [
    "# Set the butler inputs path to get the images\n",
    "butlerRootPath = wepCalc._getButlerRootPath()\n",
    "wepCalc.wepCntlr.setPostIsrCcdInputs(butlerRootPath)\n"
   ]
  },
  {
   "cell_type": "code",
   "execution_count": 37,
   "metadata": {},
   "outputs": [
    {
     "ename": "ValueError",
     "evalue": "StarTableG exists in database already.",
     "output_type": "error",
     "traceback": [
      "\u001b[0;31m---------------------------------------------------------------------------\u001b[0m",
      "\u001b[0;31mValueError\u001b[0m                                Traceback (most recent call last)",
      "\u001b[0;32m<ipython-input-37-10c0db78a704>\u001b[0m in \u001b[0;36m<module>\u001b[0;34m\u001b[0m\n\u001b[1;32m      1\u001b[0m \u001b[0;31m# Get the target stars map neighboring stars\u001b[0m\u001b[0;34m\u001b[0m\u001b[0;34m\u001b[0m\u001b[0;34m\u001b[0m\u001b[0m\n\u001b[0;32m----> 2\u001b[0;31m \u001b[0mneighborStarMap\u001b[0m \u001b[0;34m=\u001b[0m \u001b[0mwepCalc\u001b[0m\u001b[0;34m.\u001b[0m\u001b[0m_getTargetStar\u001b[0m\u001b[0;34m(\u001b[0m\u001b[0;34m)\u001b[0m\u001b[0;34m\u001b[0m\u001b[0;34m\u001b[0m\u001b[0m\n\u001b[0m",
      "\u001b[0;32m/astro/store/epyc/projects/lsst_comm/ts_wep/python/lsst/ts/wep/ctrlIntf/WEPCalculation.py\u001b[0m in \u001b[0;36m_getTargetStar\u001b[0;34m(self)\u001b[0m\n\u001b[1;32m    528\u001b[0m             \u001b[0mskyFile\u001b[0m \u001b[0;34m=\u001b[0m \u001b[0mself\u001b[0m\u001b[0;34m.\u001b[0m\u001b[0m_assignSkyFile\u001b[0m\u001b[0;34m(\u001b[0m\u001b[0;34m)\u001b[0m\u001b[0;34m\u001b[0m\u001b[0;34m\u001b[0m\u001b[0m\n\u001b[1;32m    529\u001b[0m             neighborStarMap = sourSelc.getTargetStarByFile(\n\u001b[0;32m--> 530\u001b[0;31m                 skyFile, offset=camDimOffset)[0]\n\u001b[0m\u001b[1;32m    531\u001b[0m \u001b[0;34m\u001b[0m\u001b[0m\n\u001b[1;32m    532\u001b[0m         \u001b[0;31m# Disconnect the database\u001b[0m\u001b[0;34m\u001b[0m\u001b[0;34m\u001b[0m\u001b[0;34m\u001b[0m\u001b[0m\n",
      "\u001b[0;32m/astro/store/epyc/projects/lsst_comm/ts_wep/python/lsst/ts/wep/SourceSelector.py\u001b[0m in \u001b[0;36mgetTargetStarByFile\u001b[0;34m(self, skyFilePath, offset)\u001b[0m\n\u001b[1;32m    249\u001b[0m \u001b[0;34m\u001b[0m\u001b[0m\n\u001b[1;32m    250\u001b[0m         \u001b[0;31m# Write the sky data into the temporary table\u001b[0m\u001b[0;34m\u001b[0m\u001b[0;34m\u001b[0m\u001b[0;34m\u001b[0m\u001b[0m\n\u001b[0;32m--> 251\u001b[0;31m         \u001b[0mself\u001b[0m\u001b[0;34m.\u001b[0m\u001b[0mdb\u001b[0m\u001b[0;34m.\u001b[0m\u001b[0mcreateTable\u001b[0m\u001b[0;34m(\u001b[0m\u001b[0mmappedFilterType\u001b[0m\u001b[0;34m)\u001b[0m\u001b[0;34m\u001b[0m\u001b[0;34m\u001b[0m\u001b[0m\n\u001b[0m\u001b[1;32m    252\u001b[0m         \u001b[0mself\u001b[0m\u001b[0;34m.\u001b[0m\u001b[0mdb\u001b[0m\u001b[0;34m.\u001b[0m\u001b[0minsertDataByFile\u001b[0m\u001b[0;34m(\u001b[0m\u001b[0mskyFilePath\u001b[0m\u001b[0;34m,\u001b[0m \u001b[0mmappedFilterType\u001b[0m\u001b[0;34m,\u001b[0m \u001b[0mskiprows\u001b[0m\u001b[0;34m=\u001b[0m\u001b[0;36m1\u001b[0m\u001b[0;34m)\u001b[0m\u001b[0;34m\u001b[0m\u001b[0;34m\u001b[0m\u001b[0m\n\u001b[1;32m    253\u001b[0m         \u001b[0mneighborStarMap\u001b[0m\u001b[0;34m,\u001b[0m \u001b[0mstarMap\u001b[0m\u001b[0;34m,\u001b[0m \u001b[0mwavefrontSensors\u001b[0m \u001b[0;34m=\u001b[0m \u001b[0mself\u001b[0m\u001b[0;34m.\u001b[0m\u001b[0mgetTargetStar\u001b[0m\u001b[0;34m(\u001b[0m\u001b[0moffset\u001b[0m\u001b[0;34m=\u001b[0m\u001b[0moffset\u001b[0m\u001b[0;34m)\u001b[0m\u001b[0;34m\u001b[0m\u001b[0;34m\u001b[0m\u001b[0m\n",
      "\u001b[0;32m/astro/store/epyc/projects/lsst_comm/ts_wep/python/lsst/ts/wep/bsc/LocalDatabaseForStarFile.py\u001b[0m in \u001b[0;36mcreateTable\u001b[0;34m(self, filterType)\u001b[0m\n\u001b[1;32m     24\u001b[0m         \u001b[0mtableName\u001b[0m \u001b[0;34m=\u001b[0m \u001b[0mself\u001b[0m\u001b[0;34m.\u001b[0m\u001b[0m_getTableName\u001b[0m\u001b[0;34m(\u001b[0m\u001b[0mfilterType\u001b[0m\u001b[0;34m)\u001b[0m\u001b[0;34m\u001b[0m\u001b[0;34m\u001b[0m\u001b[0m\n\u001b[1;32m     25\u001b[0m         \u001b[0;32mif\u001b[0m \u001b[0;34m(\u001b[0m\u001b[0mself\u001b[0m\u001b[0;34m.\u001b[0m\u001b[0m_tableIsInDb\u001b[0m\u001b[0;34m(\u001b[0m\u001b[0mtableName\u001b[0m\u001b[0;34m)\u001b[0m\u001b[0;34m)\u001b[0m\u001b[0;34m:\u001b[0m\u001b[0;34m\u001b[0m\u001b[0;34m\u001b[0m\u001b[0m\n\u001b[0;32m---> 26\u001b[0;31m             \u001b[0;32mraise\u001b[0m \u001b[0mValueError\u001b[0m\u001b[0;34m(\u001b[0m\u001b[0;34m\"%s exists in database already.\"\u001b[0m \u001b[0;34m%\u001b[0m \u001b[0mtableName\u001b[0m\u001b[0;34m)\u001b[0m\u001b[0;34m\u001b[0m\u001b[0;34m\u001b[0m\u001b[0m\n\u001b[0m\u001b[1;32m     27\u001b[0m \u001b[0;34m\u001b[0m\u001b[0m\n\u001b[1;32m     28\u001b[0m         \u001b[0;31m# Create the table\u001b[0m\u001b[0;34m\u001b[0m\u001b[0;34m\u001b[0m\u001b[0;34m\u001b[0m\u001b[0m\n",
      "\u001b[0;31mValueError\u001b[0m: StarTableG exists in database already."
     ]
    }
   ],
   "source": [
    "# Get the target stars map neighboring stars\n",
    "neighborStarMap = wepCalc._getTargetStar()"
   ]
  },
  {
   "cell_type": "markdown",
   "metadata": {},
   "source": [
    "INSIDE `wepCalc._getTargetStar()`:"
   ]
  },
  {
   "cell_type": "code",
   "execution_count": 64,
   "metadata": {},
   "outputs": [],
   "source": [
    "#part of _prepareWepCalc()\n",
    "wepCalc = WEPCalculationFactory.getCalculator(CamType.ComCam, isrDirPath)\n",
    "wepCalc.setFilter(filterType)\n",
    "wepCalc.setBoresight(raInDeg, decInDeg)\n",
    "wepCalc.setRotAng(rotAngInDeg)"
   ]
  },
  {
   "cell_type": "code",
   "execution_count": 61,
   "metadata": {},
   "outputs": [
    {
     "data": {
      "text/plain": [
       "<BscDbType.LocalDbForStarFile: 2>"
      ]
     },
     "execution_count": 61,
     "metadata": {},
     "output_type": "execute_result"
    }
   ],
   "source": [
    "sourSelc = wepCalc.wepCntlr.getSourSelc()\n"
   ]
  },
  {
   "cell_type": "code",
   "execution_count": 65,
   "metadata": {},
   "outputs": [],
   "source": [
    "# Connect the database\n",
    "sourSelc = wepCalc.wepCntlr.getSourSelc()\n",
    "bscDbType = wepCalc._getBscDbType()\n",
    "if bscDbType in (BscDbType.LocalDb, BscDbType.LocalDbForStarFile):\n",
    "    dbRelativePath = wepCalc.settingFile.getSetting(\"defaultBscPath\")\n",
    "    dbAdress = os.path.join(getModulePath(), dbRelativePath)\n",
    "    sourSelc.connect(dbAdress)\n",
    "else:\n",
    "    raise ValueError(\"WEPCalculation does not support %s yet.\" % bscDbType)"
   ]
  },
  {
   "cell_type": "code",
   "execution_count": 66,
   "metadata": {},
   "outputs": [
    {
     "ename": "OperationalError",
     "evalue": "no such table: StarTableG",
     "output_type": "error",
     "traceback": [
      "\u001b[0;31m---------------------------------------------------------------------------\u001b[0m",
      "\u001b[0;31mOperationalError\u001b[0m                          Traceback (most recent call last)",
      "\u001b[0;32m<ipython-input-66-d02b497ea57a>\u001b[0m in \u001b[0;36m<module>\u001b[0;34m\u001b[0m\n\u001b[0;32m----> 1\u001b[0;31m \u001b[0msourSelc\u001b[0m\u001b[0;34m.\u001b[0m\u001b[0mdb\u001b[0m\u001b[0;34m.\u001b[0m\u001b[0mgetAllId\u001b[0m\u001b[0;34m(\u001b[0m\u001b[0mFilterType\u001b[0m\u001b[0;34m.\u001b[0m\u001b[0mfromString\u001b[0m\u001b[0;34m(\u001b[0m\u001b[0;34m\"g\"\u001b[0m\u001b[0;34m)\u001b[0m\u001b[0;34m)\u001b[0m\u001b[0;34m\u001b[0m\u001b[0;34m\u001b[0m\u001b[0m\n\u001b[0m",
      "\u001b[0;32m/astro/store/epyc/projects/lsst_comm/ts_wep/python/lsst/ts/wep/bsc/LocalDatabase.py\u001b[0m in \u001b[0;36mgetAllId\u001b[0;34m(self, filterType)\u001b[0m\n\u001b[1;32m    326\u001b[0m         \u001b[0mtableName\u001b[0m \u001b[0;34m=\u001b[0m \u001b[0mself\u001b[0m\u001b[0;34m.\u001b[0m\u001b[0m_getTableName\u001b[0m\u001b[0;34m(\u001b[0m\u001b[0mfilterType\u001b[0m\u001b[0;34m)\u001b[0m\u001b[0;34m\u001b[0m\u001b[0;34m\u001b[0m\u001b[0m\n\u001b[1;32m    327\u001b[0m         \u001b[0mcommand\u001b[0m \u001b[0;34m=\u001b[0m \u001b[0;34m\"SELECT id FROM \"\u001b[0m \u001b[0;34m+\u001b[0m \u001b[0mtableName\u001b[0m\u001b[0;34m\u001b[0m\u001b[0;34m\u001b[0m\u001b[0m\n\u001b[0;32m--> 328\u001b[0;31m         \u001b[0mself\u001b[0m\u001b[0;34m.\u001b[0m\u001b[0mcursor\u001b[0m\u001b[0;34m.\u001b[0m\u001b[0mexecute\u001b[0m\u001b[0;34m(\u001b[0m\u001b[0mcommand\u001b[0m\u001b[0;34m)\u001b[0m\u001b[0;34m\u001b[0m\u001b[0;34m\u001b[0m\u001b[0m\n\u001b[0m\u001b[1;32m    329\u001b[0m         \u001b[0mlistIdByQuery\u001b[0m \u001b[0;34m=\u001b[0m \u001b[0mself\u001b[0m\u001b[0;34m.\u001b[0m\u001b[0mcursor\u001b[0m\u001b[0;34m.\u001b[0m\u001b[0mfetchall\u001b[0m\u001b[0;34m(\u001b[0m\u001b[0;34m)\u001b[0m\u001b[0;34m\u001b[0m\u001b[0;34m\u001b[0m\u001b[0m\n\u001b[1;32m    330\u001b[0m \u001b[0;34m\u001b[0m\u001b[0m\n",
      "\u001b[0;31mOperationalError\u001b[0m: no such table: StarTableG"
     ]
    }
   ],
   "source": [
    "sourSelc.db.getAllId(FilterType.fromString(\"g\"))"
   ]
  },
  {
   "cell_type": "code",
   "execution_count": 40,
   "metadata": {},
   "outputs": [],
   "source": [
    "# Do the query\n",
    "sourSelc.setObsMetaData(wepCalc.raInDeg, wepCalc.decInDeg, wepCalc.rotSkyPos)\n",
    "\n",
    "camDimOffset = wepCalc.settingFile.getSetting(\"camDimOffset\")"
   ]
  },
  {
   "cell_type": "code",
   "execution_count": 41,
   "metadata": {},
   "outputs": [
    {
     "ename": "ValueError",
     "evalue": "StarTableG exists in database already.",
     "output_type": "error",
     "traceback": [
      "\u001b[0;31m---------------------------------------------------------------------------\u001b[0m",
      "\u001b[0;31mValueError\u001b[0m                                Traceback (most recent call last)",
      "\u001b[0;32m<ipython-input-41-2157c579ad05>\u001b[0m in \u001b[0;36m<module>\u001b[0;34m\u001b[0m\n\u001b[1;32m      4\u001b[0m \u001b[0;32melif\u001b[0m \u001b[0;34m(\u001b[0m\u001b[0mbscDbType\u001b[0m \u001b[0;34m==\u001b[0m \u001b[0mBscDbType\u001b[0m\u001b[0;34m.\u001b[0m\u001b[0mLocalDbForStarFile\u001b[0m\u001b[0;34m)\u001b[0m\u001b[0;34m:\u001b[0m\u001b[0;34m\u001b[0m\u001b[0;34m\u001b[0m\u001b[0m\n\u001b[1;32m      5\u001b[0m     \u001b[0mskyFile\u001b[0m \u001b[0;34m=\u001b[0m \u001b[0mwepCalc\u001b[0m\u001b[0;34m.\u001b[0m\u001b[0m_assignSkyFile\u001b[0m\u001b[0;34m(\u001b[0m\u001b[0;34m)\u001b[0m\u001b[0;34m\u001b[0m\u001b[0;34m\u001b[0m\u001b[0m\n\u001b[0;32m----> 6\u001b[0;31m     \u001b[0mneighborStarMap\u001b[0m \u001b[0;34m=\u001b[0m \u001b[0msourSelc\u001b[0m\u001b[0;34m.\u001b[0m\u001b[0mgetTargetStarByFile\u001b[0m\u001b[0;34m(\u001b[0m\u001b[0mskyFile\u001b[0m\u001b[0;34m,\u001b[0m \u001b[0moffset\u001b[0m\u001b[0;34m=\u001b[0m\u001b[0mcamDimOffset\u001b[0m\u001b[0;34m)\u001b[0m\u001b[0;34m[\u001b[0m\u001b[0;36m0\u001b[0m\u001b[0;34m]\u001b[0m\u001b[0;34m\u001b[0m\u001b[0;34m\u001b[0m\u001b[0m\n\u001b[0m",
      "\u001b[0;32m/astro/store/epyc/projects/lsst_comm/ts_wep/python/lsst/ts/wep/SourceSelector.py\u001b[0m in \u001b[0;36mgetTargetStarByFile\u001b[0;34m(self, skyFilePath, offset)\u001b[0m\n\u001b[1;32m    249\u001b[0m \u001b[0;34m\u001b[0m\u001b[0m\n\u001b[1;32m    250\u001b[0m         \u001b[0;31m# Write the sky data into the temporary table\u001b[0m\u001b[0;34m\u001b[0m\u001b[0;34m\u001b[0m\u001b[0;34m\u001b[0m\u001b[0m\n\u001b[0;32m--> 251\u001b[0;31m         \u001b[0mself\u001b[0m\u001b[0;34m.\u001b[0m\u001b[0mdb\u001b[0m\u001b[0;34m.\u001b[0m\u001b[0mcreateTable\u001b[0m\u001b[0;34m(\u001b[0m\u001b[0mmappedFilterType\u001b[0m\u001b[0;34m)\u001b[0m\u001b[0;34m\u001b[0m\u001b[0;34m\u001b[0m\u001b[0m\n\u001b[0m\u001b[1;32m    252\u001b[0m         \u001b[0mself\u001b[0m\u001b[0;34m.\u001b[0m\u001b[0mdb\u001b[0m\u001b[0;34m.\u001b[0m\u001b[0minsertDataByFile\u001b[0m\u001b[0;34m(\u001b[0m\u001b[0mskyFilePath\u001b[0m\u001b[0;34m,\u001b[0m \u001b[0mmappedFilterType\u001b[0m\u001b[0;34m,\u001b[0m \u001b[0mskiprows\u001b[0m\u001b[0;34m=\u001b[0m\u001b[0;36m1\u001b[0m\u001b[0;34m)\u001b[0m\u001b[0;34m\u001b[0m\u001b[0;34m\u001b[0m\u001b[0m\n\u001b[1;32m    253\u001b[0m         \u001b[0mneighborStarMap\u001b[0m\u001b[0;34m,\u001b[0m \u001b[0mstarMap\u001b[0m\u001b[0;34m,\u001b[0m \u001b[0mwavefrontSensors\u001b[0m \u001b[0;34m=\u001b[0m \u001b[0mself\u001b[0m\u001b[0;34m.\u001b[0m\u001b[0mgetTargetStar\u001b[0m\u001b[0;34m(\u001b[0m\u001b[0moffset\u001b[0m\u001b[0;34m=\u001b[0m\u001b[0moffset\u001b[0m\u001b[0;34m)\u001b[0m\u001b[0;34m\u001b[0m\u001b[0;34m\u001b[0m\u001b[0m\n",
      "\u001b[0;32m/astro/store/epyc/projects/lsst_comm/ts_wep/python/lsst/ts/wep/bsc/LocalDatabaseForStarFile.py\u001b[0m in \u001b[0;36mcreateTable\u001b[0;34m(self, filterType)\u001b[0m\n\u001b[1;32m     24\u001b[0m         \u001b[0mtableName\u001b[0m \u001b[0;34m=\u001b[0m \u001b[0mself\u001b[0m\u001b[0;34m.\u001b[0m\u001b[0m_getTableName\u001b[0m\u001b[0;34m(\u001b[0m\u001b[0mfilterType\u001b[0m\u001b[0;34m)\u001b[0m\u001b[0;34m\u001b[0m\u001b[0;34m\u001b[0m\u001b[0m\n\u001b[1;32m     25\u001b[0m         \u001b[0;32mif\u001b[0m \u001b[0;34m(\u001b[0m\u001b[0mself\u001b[0m\u001b[0;34m.\u001b[0m\u001b[0m_tableIsInDb\u001b[0m\u001b[0;34m(\u001b[0m\u001b[0mtableName\u001b[0m\u001b[0;34m)\u001b[0m\u001b[0;34m)\u001b[0m\u001b[0;34m:\u001b[0m\u001b[0;34m\u001b[0m\u001b[0;34m\u001b[0m\u001b[0m\n\u001b[0;32m---> 26\u001b[0;31m             \u001b[0;32mraise\u001b[0m \u001b[0mValueError\u001b[0m\u001b[0;34m(\u001b[0m\u001b[0;34m\"%s exists in database already.\"\u001b[0m \u001b[0;34m%\u001b[0m \u001b[0mtableName\u001b[0m\u001b[0;34m)\u001b[0m\u001b[0;34m\u001b[0m\u001b[0;34m\u001b[0m\u001b[0m\n\u001b[0m\u001b[1;32m     27\u001b[0m \u001b[0;34m\u001b[0m\u001b[0m\n\u001b[1;32m     28\u001b[0m         \u001b[0;31m# Create the table\u001b[0m\u001b[0;34m\u001b[0m\u001b[0;34m\u001b[0m\u001b[0;34m\u001b[0m\u001b[0m\n",
      "\u001b[0;31mValueError\u001b[0m: StarTableG exists in database already."
     ]
    }
   ],
   "source": [
    "if (bscDbType == BscDbType.LocalDb):\n",
    "    neighborStarMap = sourSelc.getTargetStar(offset=camDimOffset)[0]\n",
    "    \n",
    "elif (bscDbType == BscDbType.LocalDbForStarFile):\n",
    "    skyFile = wepCalc._assignSkyFile()\n",
    "    neighborStarMap = sourSelc.getTargetStarByFile(skyFile, offset=camDimOffset)[0]"
   ]
  },
  {
   "cell_type": "markdown",
   "metadata": {},
   "source": [
    "INSIDE `sourSelc.getTargetStarByFile(`:"
   ]
  },
  {
   "cell_type": "code",
   "execution_count": 43,
   "metadata": {},
   "outputs": [],
   "source": [
    "from lsst.ts.wep.bsc.Filter import Filter\n",
    "from lsst.ts.wep.bsc.CamFactory import CamFactory\n",
    "from lsst.ts.wep.bsc.DatabaseFactory import DatabaseFactory\n",
    "from lsst.ts.wep.bsc.LocalDatabaseForStarFile import LocalDatabaseForStarFile\n",
    "from lsst.ts.wep.Utility import mapFilterRefToG, getConfigDir\n",
    "from lsst.ts.wep.ParamReader import ParamReader\n",
    "\n",
    "if (not isinstance(sourSelc.db, LocalDatabaseForStarFile)):\n",
    "    raise TypeError(\"The database type is incorrect.\")\n",
    "\n",
    "# Map the reference filter to the G filter\n",
    "filterType = sourSelc.getFilter()\n",
    "mappedFilterType = mapFilterRefToG(filterType)"
   ]
  },
  {
   "cell_type": "code",
   "execution_count": 63,
   "metadata": {},
   "outputs": [],
   "source": [
    "# Delete the table\n",
    "sourSelc.db.deleteTable(mappedFilterType)\n",
    "\n"
   ]
  },
  {
   "cell_type": "code",
   "execution_count": null,
   "metadata": {},
   "outputs": [],
   "source": []
  },
  {
   "cell_type": "code",
   "execution_count": null,
   "metadata": {},
   "outputs": [],
   "source": []
  },
  {
   "cell_type": "code",
   "execution_count": null,
   "metadata": {},
   "outputs": [],
   "source": []
  },
  {
   "cell_type": "markdown",
   "metadata": {},
   "source": [
    "## begin Debugging code "
   ]
  },
  {
   "cell_type": "markdown",
   "metadata": {},
   "source": [
    "The error I encountered last time pertains to this line  : l.237 in `baseComcamLoop.py` .... "
   ]
  },
  {
   "cell_type": "markdown",
   "metadata": {},
   "source": [
    "File \"runStarSeparationAnalysis.py\", line 77, in <module>\n",
    "    inputSkyFilePath=skyFilePath, m1m3ForceError=0.05)\n",
    "  File \"/data/epyc/users/suberlak/Commissioning/aos/ts_phosim/notebooks/analysis_scripts/baseComcamLoop.py\", line 237, in main\n",
    "    intraRawExpData, extraRawExpData=extraRawExpData)\n",
    "  File \"/astro/store/epyc/projects/lsst_comm/ts_wep/python/lsst/ts/wep/ctrlIntf/WEPCalculation.py\", line 391, in calculateWavefrontErrors\n",
    "    donutMap = self._calcWfErr(neighborStarMap, obsIdList)\n",
    "  File \"/astro/store/epyc/projects/lsst_comm/ts_wep/python/lsst/ts/wep/ctrlIntf/WEPCalculation.py\", line 598, in _calcWfErr\n",
    "    doDeblending=doDeblending)\n",
    "  File \"/astro/store/epyc/projects/lsst_comm/ts_wep/python/lsst/ts/wep/WepController.py\", line 371, in getDonutMap\n",
    "    np.savetxt('/astro/store/epyc/projects/lsst_comm/ts_phosim/notebooks/analysis_scripts/example.out', singleSciNeiImg)\n",
    "  File \"/astro/store/epyc/projects/lsst_comm/new_stack/python/miniconda3-4.7.10/envs/lsst-scipipe-4d7b902/lib/python3.7/site-packages/numpy/lib/npyio.py\", line 1352, in savetxt\n",
    "    open(fname, 'wt').close()\n",
    "PermissionError: [Errno 13] Permission denied: '/astro/store/epyc/projects/lsst_comm/ts_phosim/notebooks/analysis_scripts/example.out'"
   ]
  },
  {
   "cell_type": "code",
   "execution_count": 58,
   "metadata": {},
   "outputs": [],
   "source": [
    "from lsst.ts.wep.Utility import getModulePath, getConfigDir, BscDbType, \\\n",
    "    FilterType, abbrevDectectorName, getBscDbType, getImageType, \\\n",
    "    getCentroidFindType, ImageType"
   ]
  },
  {
   "cell_type": "code",
   "execution_count": 84,
   "metadata": {},
   "outputs": [],
   "source": [
    "# this is wepCalc._getTargetStar()\n",
    "# Connect the database\n",
    "sourSelc = wepCalc.wepCntlr.getSourSelc()\n",
    "bscDbType = wepCalc._getBscDbType()"
   ]
  },
  {
   "cell_type": "code",
   "execution_count": 85,
   "metadata": {},
   "outputs": [],
   "source": [
    "\n",
    "if bscDbType in (BscDbType.LocalDb, BscDbType.LocalDbForStarFile):\n",
    "    dbRelativePath = wepCalc.settingFile.getSetting(\"defaultBscPath\")\n",
    "    dbAdress = os.path.join(getModulePath(), dbRelativePath)\n",
    "    sourSelc.connect(dbAdress)\n",
    "else:\n",
    "    raise ValueError(\"WEPCalculation does not support %s yet.\" % bscDbType)\n",
    "\n",
    "# Do the query\n",
    "sourSelc.setObsMetaData(wepCalc.raInDeg, wepCalc.decInDeg, wepCalc.rotSkyPos)\n"
   ]
  },
  {
   "cell_type": "code",
   "execution_count": 86,
   "metadata": {},
   "outputs": [],
   "source": [
    "\n",
    "camDimOffset = wepCalc.settingFile.getSetting(\"camDimOffset\")\n",
    "if (bscDbType == BscDbType.LocalDb):\n",
    "    neighborStarMap = sourSelc.getTargetStar(offset=camDimOffset)[0]\n",
    "    \n",
    "elif (bscDbType == BscDbType.LocalDbForStarFile):\n",
    "    skyFile = wepCalc._assignSkyFile()\n",
    "    \n",
    "    #neighborStarMap = sourSelc.getTargetStarByFile(\n",
    "    #    skyFile, offset=camDimOffset)\n",
    "\n"
   ]
  },
  {
   "cell_type": "code",
   "execution_count": 89,
   "metadata": {},
   "outputs": [],
   "source": [
    "from lsst.ts.wep.bsc.LocalDatabaseForStarFile import LocalDatabaseForStarFile\n",
    "from lsst.ts.wep.Utility import mapFilterRefToG, getConfigDir\n",
    "# check  ts_wep  SourceSelector.getTargetStarByFile\n",
    "## begin ts_wep.SourceSelector.getTargetStarByFile()\n",
    "if (not isinstance(sourSelc.db, LocalDatabaseForStarFile)):\n",
    "    raise TypeError(\"The database type is incorrect.\")\n",
    "\n",
    "offset=camDimOffset\n",
    "    \n",
    "# Map the reference filter to the G filter\n",
    "filterType = sourSelc.getFilter()\n",
    "mappedFilterType = mapFilterRefToG(filterType)\n",
    "\n",
    "# Delete the table\n",
    "sourSelc.db.deleteTable(mappedFilterType)\n",
    "\n",
    "# Write the sky data into the temporary table\n",
    "sourSelc.db.createTable(mappedFilterType)\n"
   ]
  },
  {
   "cell_type": "code",
   "execution_count": 90,
   "metadata": {},
   "outputs": [
    {
     "name": "stdout",
     "output_type": "stream",
     "text": [
      "<lsst.ts.wep.bsc.StarData.StarData object at 0x7ff7e6e82128>\n",
      "<lsst.ts.wep.bsc.StarData.StarData object at 0x7ff7e6d56390>\n",
      "<lsst.ts.wep.bsc.StarData.StarData object at 0x7ff7e6d56cc0>\n",
      "<lsst.ts.wep.bsc.StarData.StarData object at 0x7ff73b6469b0>\n",
      "<lsst.ts.wep.bsc.StarData.StarData object at 0x7ff7e6dcb940>\n",
      "<lsst.ts.wep.bsc.StarData.StarData object at 0x7ff7e6c254a8>\n",
      "<lsst.ts.wep.bsc.StarData.StarData object at 0x7ff7e6dcb860>\n",
      "<lsst.ts.wep.bsc.StarData.StarData object at 0x7ff7e6dcba90>\n",
      "<lsst.ts.wep.bsc.StarData.StarData object at 0x7ff7e6dcb748>\n"
     ]
    }
   ],
   "source": [
    "sourSelc.db.insertDataByFile(skyFilePath, mappedFilterType, skiprows=1)\n",
    "neighborStarMap, starMap, wavefrontSensors = sourSelc.getTargetStar(offset=offset)\n",
    "\n"
   ]
  },
  {
   "cell_type": "code",
   "execution_count": 116,
   "metadata": {},
   "outputs": [],
   "source": [
    "cursor = sourSelc.db.connection.cursor()"
   ]
  },
  {
   "cell_type": "code",
   "execution_count": 122,
   "metadata": {},
   "outputs": [
    {
     "ename": "OperationalError",
     "evalue": "no such table: StarTableREF",
     "output_type": "error",
     "traceback": [
      "\u001b[0;31m---------------------------------------------------------------------------\u001b[0m",
      "\u001b[0;31mOperationalError\u001b[0m                          Traceback (most recent call last)",
      "\u001b[0;32m<ipython-input-122-5264385d195e>\u001b[0m in \u001b[0;36m<module>\u001b[0;34m\u001b[0m\n\u001b[0;32m----> 1\u001b[0;31m \u001b[0msourSelc\u001b[0m\u001b[0;34m.\u001b[0m\u001b[0mdb\u001b[0m\u001b[0;34m.\u001b[0m\u001b[0mgetAllId\u001b[0m\u001b[0;34m(\u001b[0m\u001b[0mfilterType\u001b[0m\u001b[0;34m)\u001b[0m\u001b[0;34m\u001b[0m\u001b[0;34m\u001b[0m\u001b[0m\n\u001b[0m",
      "\u001b[0;32m/astro/store/epyc/projects/lsst_comm/ts_wep/python/lsst/ts/wep/bsc/LocalDatabase.py\u001b[0m in \u001b[0;36mgetAllId\u001b[0;34m(self, filterType)\u001b[0m\n\u001b[1;32m    326\u001b[0m         \u001b[0mtableName\u001b[0m \u001b[0;34m=\u001b[0m \u001b[0mself\u001b[0m\u001b[0;34m.\u001b[0m\u001b[0m_getTableName\u001b[0m\u001b[0;34m(\u001b[0m\u001b[0mfilterType\u001b[0m\u001b[0;34m)\u001b[0m\u001b[0;34m\u001b[0m\u001b[0;34m\u001b[0m\u001b[0m\n\u001b[1;32m    327\u001b[0m         \u001b[0mcommand\u001b[0m \u001b[0;34m=\u001b[0m \u001b[0;34m\"SELECT id FROM \"\u001b[0m \u001b[0;34m+\u001b[0m \u001b[0mtableName\u001b[0m\u001b[0;34m\u001b[0m\u001b[0;34m\u001b[0m\u001b[0m\n\u001b[0;32m--> 328\u001b[0;31m         \u001b[0mself\u001b[0m\u001b[0;34m.\u001b[0m\u001b[0mcursor\u001b[0m\u001b[0;34m.\u001b[0m\u001b[0mexecute\u001b[0m\u001b[0;34m(\u001b[0m\u001b[0mcommand\u001b[0m\u001b[0;34m)\u001b[0m\u001b[0;34m\u001b[0m\u001b[0;34m\u001b[0m\u001b[0m\n\u001b[0m\u001b[1;32m    329\u001b[0m         \u001b[0mlistIdByQuery\u001b[0m \u001b[0;34m=\u001b[0m \u001b[0mself\u001b[0m\u001b[0;34m.\u001b[0m\u001b[0mcursor\u001b[0m\u001b[0;34m.\u001b[0m\u001b[0mfetchall\u001b[0m\u001b[0;34m(\u001b[0m\u001b[0;34m)\u001b[0m\u001b[0;34m\u001b[0m\u001b[0;34m\u001b[0m\u001b[0m\n\u001b[1;32m    330\u001b[0m \u001b[0;34m\u001b[0m\u001b[0m\n",
      "\u001b[0;31mOperationalError\u001b[0m: no such table: StarTableREF"
     ]
    }
   ],
   "source": [
    "sourSelc.db.getAllId(filterType)"
   ]
  },
  {
   "cell_type": "code",
   "execution_count": 117,
   "metadata": {},
   "outputs": [
    {
     "data": {
      "text/plain": [
       "'StarTableREF'"
      ]
     },
     "execution_count": 117,
     "metadata": {},
     "output_type": "execute_result"
    }
   ],
   "source": [
    "sourSelc.db._getTableName(filterType)"
   ]
  },
  {
   "cell_type": "code",
   "execution_count": 123,
   "metadata": {},
   "outputs": [],
   "source": [
    "query  = \"SELECT * FROM StarTableG\""
   ]
  },
  {
   "cell_type": "code",
   "execution_count": 124,
   "metadata": {},
   "outputs": [
    {
     "data": {
      "text/plain": [
       "<sqlite3.Cursor at 0x7ff7e70c0d50>"
      ]
     },
     "execution_count": 124,
     "metadata": {},
     "output_type": "execute_result"
    }
   ],
   "source": [
    "cursor.execute(query)"
   ]
  },
  {
   "cell_type": "code",
   "execution_count": 126,
   "metadata": {},
   "outputs": [
    {
     "data": {
      "text/plain": [
       "[(1, 0, 359.765411, -0.259589, 17.5, 0),\n",
       " (2, 1, 359.765411, -0.209589, 17.5, 0),\n",
       " (3, 2, 359.765411, -0.024889, 17.5, 0),\n",
       " (4, 3, 359.765411, 0.025111, 17.5, 0),\n",
       " (5, 4, 359.765411, 0.209811, 17.5, 0),\n",
       " (6, 5, 359.765411, 0.259811, 17.5, 0),\n",
       " (7, 6, 0.000111, -0.259589, 17.5, 0),\n",
       " (8, 7, 0.000111, -0.209589, 17.5, 0),\n",
       " (9, 8, 0.000111, -0.024889, 17.5, 0),\n",
       " (10, 9, 0.000111, 0.025111, 17.5, 0),\n",
       " (11, 10, 0.000111, 0.209811, 17.5, 0),\n",
       " (12, 11, 0.000111, 0.259811, 17.5, 0),\n",
       " (13, 12, 0.234811, -0.259589, 17.5, 0),\n",
       " (14, 13, 0.234811, -0.209589, 17.5, 0),\n",
       " (15, 14, 0.234811, -0.024889, 17.5, 0),\n",
       " (16, 15, 0.234811, 0.025111, 17.5, 0),\n",
       " (17, 16, 0.234811, 0.209811, 17.5, 0),\n",
       " (18, 17, 0.234811, 0.259811, 17.5, 0)]"
      ]
     },
     "execution_count": 126,
     "metadata": {},
     "output_type": "execute_result"
    }
   ],
   "source": [
    "cursor.fetchall()"
   ]
  },
  {
   "cell_type": "code",
   "execution_count": 114,
   "metadata": {},
   "outputs": [
    {
     "ename": "OperationalError",
     "evalue": "no such table: StarTableREF",
     "output_type": "error",
     "traceback": [
      "\u001b[0;31m---------------------------------------------------------------------------\u001b[0m",
      "\u001b[0;31mOperationalError\u001b[0m                          Traceback (most recent call last)",
      "\u001b[0;32m<ipython-input-114-70f19cd38195>\u001b[0m in \u001b[0;36m<module>\u001b[0;34m\u001b[0m\n\u001b[0;32m----> 1\u001b[0;31m \u001b[0mcursor\u001b[0m\u001b[0;34m.\u001b[0m\u001b[0mexecute\u001b[0m\u001b[0;34m(\u001b[0m\u001b[0mquery\u001b[0m\u001b[0;34m)\u001b[0m\u001b[0;34m\u001b[0m\u001b[0;34m\u001b[0m\u001b[0m\n\u001b[0m",
      "\u001b[0;31mOperationalError\u001b[0m: no such table: StarTableREF"
     ]
    }
   ],
   "source": []
  },
  {
   "cell_type": "code",
   "execution_count": 100,
   "metadata": {},
   "outputs": [
    {
     "ename": "TypeError",
     "evalue": "query() missing 4 required positional arguments: 'corner1', 'corner2', 'corner3', and 'corner4'",
     "output_type": "error",
     "traceback": [
      "\u001b[0;31m---------------------------------------------------------------------------\u001b[0m",
      "\u001b[0;31mTypeError\u001b[0m                                 Traceback (most recent call last)",
      "\u001b[0;32m<ipython-input-100-737348cdf341>\u001b[0m in \u001b[0;36m<module>\u001b[0;34m\u001b[0m\n\u001b[0;32m----> 1\u001b[0;31m \u001b[0msourSelc\u001b[0m\u001b[0;34m.\u001b[0m\u001b[0mdb\u001b[0m\u001b[0;34m.\u001b[0m\u001b[0mquery\u001b[0m\u001b[0;34m(\u001b[0m\u001b[0;34m\"SELECT * FROM gStarTable\"\u001b[0m\u001b[0;34m)\u001b[0m\u001b[0;34m\u001b[0m\u001b[0;34m\u001b[0m\u001b[0m\n\u001b[0m",
      "\u001b[0;31mTypeError\u001b[0m: query() missing 4 required positional arguments: 'corner1', 'corner2', 'corner3', and 'corner4'"
     ]
    }
   ],
   "source": [
    "sourSelc.db.query(\"SELECT * FROM gStarTable\")"
   ]
  },
  {
   "cell_type": "code",
   "execution_count": null,
   "metadata": {},
   "outputs": [],
   "source": [
    "# Delete the table\n",
    "sourSelc.db.deleteTable(mappedFilterType)\n",
    "\n",
    "\n",
    "# Disconnect the database\n",
    "sourSelc.disconnect()\n",
    "\n",
    "\n"
   ]
  },
  {
   "cell_type": "code",
   "execution_count": 65,
   "metadata": {},
   "outputs": [
    {
     "name": "stdout",
     "output_type": "stream",
     "text": [
      "# Id\t Ra\t\t Decl\t\t Mag\n",
      "0\t 359.765411\t -0.259589\t 17.500000\n",
      "1\t 359.765411\t -0.209589\t 17.500000\n",
      "2\t 359.765411\t -0.024889\t 17.500000\n",
      "3\t 359.765411\t 0.025111\t 17.500000\n",
      "4\t 359.765411\t 0.209811\t 17.500000\n",
      "5\t 359.765411\t 0.259811\t 17.500000\n",
      "6\t 0.000111\t -0.259589\t 17.500000\n",
      "7\t 0.000111\t -0.209589\t 17.500000\n",
      "8\t 0.000111\t -0.024889\t 17.500000\n",
      "9\t 0.000111\t 0.025111\t 17.500000\n",
      "10\t 0.000111\t 0.209811\t 17.500000\n",
      "11\t 0.000111\t 0.259811\t 17.500000\n",
      "12\t 0.234811\t -0.259589\t 17.500000\n",
      "13\t 0.234811\t -0.209589\t 17.500000\n",
      "14\t 0.234811\t -0.024889\t 17.500000\n",
      "15\t 0.234811\t 0.025111\t 17.500000\n",
      "16\t 0.234811\t 0.209811\t 17.500000\n",
      "17\t 0.234811\t 0.259811\t 17.500000\n"
     ]
    }
   ],
   "source": [
    "!more /epyc/users/suberlak/Commissioning/aos/aoclc_output/iter0/pert/skyComCamInfo.txt"
   ]
  },
  {
   "cell_type": "code",
   "execution_count": 48,
   "metadata": {},
   "outputs": [],
   "source": [
    "# Calculate the wavefront error\n",
    "intraObsIdList = intraRawExpData.getVisit()\n",
    "intraObsId = intraObsIdList[0]\n",
    "if (extraRawExpData is None):\n",
    "    obsIdList = [intraObsId]\n",
    "else:\n",
    "    extraObsIdList = extraRawExpData.getVisit()\n",
    "    extraObsId = extraObsIdList[0]\n",
    "    obsIdList = [intraObsId, extraObsId]\n",
    "\n",
    "donutMap = wepCalc._calcWfErr(neighborStarMap, obsIdList)\n",
    "listOfWfErr = wepCalc._populateListOfSensorWavefrontData(donutMap)"
   ]
  },
  {
   "cell_type": "code",
   "execution_count": 52,
   "metadata": {},
   "outputs": [
    {
     "data": {
      "text/plain": [
       "{}"
      ]
     },
     "execution_count": 52,
     "metadata": {},
     "output_type": "execute_result"
    }
   ],
   "source": [
    "neighborStarMap"
   ]
  },
  {
   "cell_type": "code",
   "execution_count": 26,
   "metadata": {},
   "outputs": [
    {
     "name": "stdout",
     "output_type": "stream",
     "text": [
      "<lsst.ts.wep.bsc.StarData.StarData object at 0x7ff8786242e8>\n",
      "<lsst.ts.wep.bsc.StarData.StarData object at 0x7ff7e6e82da0>\n",
      "<lsst.ts.wep.bsc.StarData.StarData object at 0x7ff890f970b8>\n",
      "<lsst.ts.wep.bsc.StarData.StarData object at 0x7ff891379198>\n",
      "<lsst.ts.wep.bsc.StarData.StarData object at 0x7ff8ac9f9780>\n",
      "<lsst.ts.wep.bsc.StarData.StarData object at 0x7ff7e708f780>\n",
      "<lsst.ts.wep.bsc.StarData.StarData object at 0x7ff8455a2f28>\n",
      "<lsst.ts.wep.bsc.StarData.StarData object at 0x7ff895656f98>\n",
      "<lsst.ts.wep.bsc.StarData.StarData object at 0x7ff7e701fe80>\n"
     ]
    },
    {
     "ename": "IndexError",
     "evalue": "list index out of range",
     "output_type": "error",
     "traceback": [
      "\u001b[0;31m---------------------------------------------------------------------------\u001b[0m",
      "\u001b[0;31mIndexError\u001b[0m                                Traceback (most recent call last)",
      "\u001b[0;32m<ipython-input-26-e042658dd2d0>\u001b[0m in \u001b[0;36m<module>\u001b[0;34m\u001b[0m\n\u001b[1;32m      1\u001b[0m \u001b[0;31m# Calculate the wavefront error and DOF\u001b[0m\u001b[0;34m\u001b[0m\u001b[0;34m\u001b[0m\u001b[0;34m\u001b[0m\u001b[0m\n\u001b[1;32m      2\u001b[0m \u001b[0mlistOfWfErr\u001b[0m \u001b[0;34m=\u001b[0m \u001b[0mwepCalc\u001b[0m\u001b[0;34m.\u001b[0m\u001b[0mcalculateWavefrontErrors\u001b[0m\u001b[0;34m(\u001b[0m\u001b[0mintraRawExpData\u001b[0m\u001b[0;34m,\u001b[0m \u001b[0mextraRawExpData\u001b[0m\u001b[0;34m=\u001b[0m\u001b[0mextraRawExpData\u001b[0m\u001b[0;34m)\u001b[0m\u001b[0;34m\u001b[0m\u001b[0;34m\u001b[0m\u001b[0m\n\u001b[0;32m----> 3\u001b[0;31m \u001b[0mofcCalc\u001b[0m\u001b[0;34m.\u001b[0m\u001b[0mcalculateCorrections\u001b[0m\u001b[0;34m(\u001b[0m\u001b[0mlistOfWfErr\u001b[0m\u001b[0;34m)\u001b[0m\u001b[0;34m\u001b[0m\u001b[0;34m\u001b[0m\u001b[0m\n\u001b[0m",
      "\u001b[0;32m/astro/store/epyc/projects/lsst_comm/ts_ofc/python/lsst/ts/ofc/ctrlIntf/OFCCalculation.py\u001b[0m in \u001b[0;36mcalculateCorrections\u001b[0;34m(self, listOfWfErr)\u001b[0m\n\u001b[1;32m    487\u001b[0m \u001b[0;34m\u001b[0m\u001b[0m\n\u001b[1;32m    488\u001b[0m         \u001b[0;31m# Collect the wavefront error and sensor name\u001b[0m\u001b[0;34m\u001b[0m\u001b[0;34m\u001b[0m\u001b[0;34m\u001b[0m\u001b[0m\n\u001b[0;32m--> 489\u001b[0;31m         \u001b[0mnumOfZk\u001b[0m \u001b[0;34m=\u001b[0m \u001b[0mlistOfWfErr\u001b[0m\u001b[0;34m[\u001b[0m\u001b[0;36m0\u001b[0m\u001b[0;34m]\u001b[0m\u001b[0;34m.\u001b[0m\u001b[0mgetNumOfZk\u001b[0m\u001b[0;34m(\u001b[0m\u001b[0;34m)\u001b[0m\u001b[0;34m\u001b[0m\u001b[0;34m\u001b[0m\u001b[0m\n\u001b[0m\u001b[1;32m    490\u001b[0m         \u001b[0mwfZkData\u001b[0m \u001b[0;34m=\u001b[0m \u001b[0mnp\u001b[0m\u001b[0;34m.\u001b[0m\u001b[0mempty\u001b[0m\u001b[0;34m(\u001b[0m\u001b[0;34m(\u001b[0m\u001b[0;36m0\u001b[0m\u001b[0;34m,\u001b[0m \u001b[0mnumOfZk\u001b[0m\u001b[0;34m)\u001b[0m\u001b[0;34m)\u001b[0m\u001b[0;34m\u001b[0m\u001b[0;34m\u001b[0m\u001b[0m\n\u001b[1;32m    491\u001b[0m         \u001b[0msensorIdList\u001b[0m \u001b[0;34m=\u001b[0m \u001b[0;34m[\u001b[0m\u001b[0;34m]\u001b[0m\u001b[0;34m\u001b[0m\u001b[0;34m\u001b[0m\u001b[0m\n",
      "\u001b[0;31mIndexError\u001b[0m: list index out of range"
     ]
    }
   ],
   "source": [
    "# Calculate the wavefront error and DOF\n",
    "listOfWfErr = wepCalc.calculateWavefrontErrors(intraRawExpData, extraRawExpData=extraRawExpData)\n",
    "ofcCalc.calculateCorrections(listOfWfErr)"
   ]
  },
  {
   "cell_type": "markdown",
   "metadata": {},
   "source": [
    "## end Debugging code \n",
    "<a href='continue'></a>"
   ]
  },
  {
   "cell_type": "code",
   "execution_count": null,
   "metadata": {},
   "outputs": [],
   "source": []
  }
 ],
 "metadata": {
  "kernelspec": {
   "display_name": "lsst-aos",
   "language": "python",
   "name": "lsst-aos"
  },
  "language_info": {
   "codemirror_mode": {
    "name": "ipython",
    "version": 3
   },
   "file_extension": ".py",
   "mimetype": "text/x-python",
   "name": "python",
   "nbconvert_exporter": "python",
   "pygments_lexer": "ipython3",
   "version": "3.7.2"
  }
 },
 "nbformat": 4,
 "nbformat_minor": 2
}
