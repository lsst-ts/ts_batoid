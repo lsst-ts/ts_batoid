{
 "cells": [
  {
   "cell_type": "markdown",
   "metadata": {},
   "source": [
    "## Dissecting baseComcamLoop.py"
   ]
  },
  {
   "cell_type": "markdown",
   "metadata": {},
   "source": [
    "### Motivation \n",
    "\n",
    "A notebook to understand how does `baseComcamLoop.py` work in detail, including all the dependencies on `ts_wep`, `ts_ofc`  and `ts_phosim`.  We need to be able to describe how the feedback loop is run, including all the creation of all  output directories  to make the `star_separation_test.ipynb`."
   ]
  },
  {
   "cell_type": "code",
   "execution_count": 13,
   "metadata": {},
   "outputs": [],
   "source": [
    "import os\n",
    "import argparse\n",
    "import numpy as np\n",
    "import shutil\n",
    "\n",
    "from lsst.ts.wep.ParamReader import ParamReader\n",
    "from lsst.ts.wep.Utility import FilterType, CamType, runProgram\n",
    "from lsst.ts.wep.ctrlIntf.WEPCalculationFactory import WEPCalculationFactory\n",
    "from lsst.ts.wep.ctrlIntf.RawExpData import RawExpData\n",
    "\n",
    "from lsst.ts.ofc.Utility import InstName\n",
    "from lsst.ts.ofc.ctrlIntf.OFCCalculationFactory import OFCCalculationFactory\n",
    "\n",
    "from lsst.ts.phosim.telescope.TeleFacade import TeleFacade\n",
    "from lsst.ts.phosim.PhosimCmpt import PhosimCmpt\n",
    "from lsst.ts.phosim.SkySim import SkySim\n",
    "from lsst.ts.phosim.Utility import getPhoSimPath, getAoclcOutputPath, \\\n",
    "                                   getConfigDir\n",
    "from lsst.ts.phosim.PlotUtil import plotFwhmOfIters\n"
   ]
  },
  {
   "cell_type": "markdown",
   "metadata": {},
   "source": [
    "`baseComcamLoop.py` is run in the following manner inside `runStarSeparationAnalysis.py` : \n",
    "    "
   ]
  },
  {
   "cell_type": "code",
   "execution_count": 19,
   "metadata": {},
   "outputs": [
    {
     "data": {
      "text/plain": [
       "\"\\n    ccLoop.main(phosimDir, numPro, 1, outputDir, '%s.%.1f' % (testLabel, starSep), \\n                    isEimg=False, genOpd=True, genDefocalImg=True, \\n                    genFlats=True, useMinDofIdx=False,\\n                    inputSkyFilePath=skyFilePath, m1m3ForceError=0.05)\\n\""
      ]
     },
     "execution_count": 19,
     "metadata": {},
     "output_type": "execute_result"
    }
   ],
   "source": [
    "phosimDir = getPhoSimPath() \n",
    "outputDir = getAoclcOutputPath()\n",
    "testLabel = 'sep'\n",
    "skyFilePath  = 'starCat.txt'\n",
    "#skyFilePath points to a phosim star catalog file : starCat.txt \n",
    "\n",
    "numPro = 8 # number of processors setting in phosimCmptSetting.yaml \n",
    "iterNum  = 1 # number of iterations \n",
    "\n",
    "starSep = 0.05 # star separation over which we are looping \n",
    "   \n",
    "'''\n",
    "    ccLoop.main(phosimDir, numPro, 1, outputDir, '%s.%.1f' % (testLabel, starSep), \n",
    "                    isEimg=False, genOpd=True, genDefocalImg=True, \n",
    "                    genFlats=True, useMinDofIdx=False,\n",
    "                    inputSkyFilePath=skyFilePath, m1m3ForceError=0.05)\n",
    "'''"
   ]
  },
  {
   "cell_type": "markdown",
   "metadata": {},
   "source": [
    "The signature of that function is the following : "
   ]
  },
  {
   "cell_type": "code",
   "execution_count": 20,
   "metadata": {},
   "outputs": [
    {
     "data": {
      "text/plain": [
       "'class baseComcamLoop():\\n\\n    def main(self, phosimDir, numPro, iterNum, baseOutputDir, \\n            testName, isEimg=False, genOpd=True, genDefocalImg=True, genFlats=True,\\n            surveyFilter=None, starMag=15, \\n            useMinDofIdx=False, inputSkyFilePath=\"\", m1m3ForceError=0.05):\\n'"
      ]
     },
     "execution_count": 20,
     "metadata": {},
     "output_type": "execute_result"
    }
   ],
   "source": [
    "'''class baseComcamLoop():\n",
    "\n",
    "    def main(self, phosimDir, numPro, iterNum, baseOutputDir, \n",
    "            testName, isEimg=False, genOpd=True, genDefocalImg=True, genFlats=True,\n",
    "            surveyFilter=None, starMag=15, \n",
    "            useMinDofIdx=False, inputSkyFilePath=\"\", m1m3ForceError=0.05):\n",
    "'''"
   ]
  },
  {
   "cell_type": "markdown",
   "metadata": {},
   "source": [
    "This means that the arguments passed to baseComcamLoop are : \n",
    "    \n"
   ]
  },
  {
   "cell_type": "code",
   "execution_count": 21,
   "metadata": {},
   "outputs": [],
   "source": [
    "baseOutputDir = outputDir\n",
    "testName = '%s.%.1f' % (testLabel, starSep)\n",
    "isEimg=False; genOpd=True; genDefocalImg=True; genFlats=True; useMinDofIdx=False\n",
    "surveyFilter=None\n",
    "inputSkyFilePath=skyFilePath\n",
    "m1m3ForceError=0.05"
   ]
  },
  {
   "cell_type": "markdown",
   "metadata": {},
   "source": [
    "The beginning of baseComcamLoop main  :"
   ]
  },
  {
   "cell_type": "code",
   "execution_count": 24,
   "metadata": {},
   "outputs": [],
   "source": [
    "# Prepare the calibration products (only for the amplifier images)\n",
    "#sensorNameList = self._getComCamSensorNameList()\n",
    "sensorNameList = [\"R22_S00\", \"R22_S01\", \"R22_S02\", \"R22_S10\", \"R22_S11\",\n",
    "                        \"R22_S12\", \"R22_S20\", \"R22_S21\", \"R22_S22\"]\n",
    "\n",
    "\n",
    "if ((not isEimg) & (genFlats is True)): # pass by default \n",
    "    #fakeFlatDir = self._makeCalibs(baseOutputDir, sensorNameList) : \n",
    "    # begin self._makeCalibs :\n",
    "    outputDir = baseOutputDir\n",
    "    fakeFlatDirName = \"fake_flats\"\n",
    "    fakeFlatDir = os.path.join(outputDir, fakeFlatDirName)\n",
    "    \n",
    "    ## self._makeCalibs calls self._makeDir(fakeFlatDir) : \n",
    "    ## begin self._makeDir\n",
    "    if (not os.path.exists(fakeFlatDir)):\n",
    "            os.makedirs(fakeFlatDir)\n",
    "    ## end self._makeDir\n",
    "    \n",
    "    # back to self._makeCalibs\n",
    "    detector = \" \".join(sensorNameList)\n",
    "    #self._makeCalibs calls  self._genFakeFlat(fakeFlatDir, detector) : \n",
    "    \n",
    "    ## begin self._genFakeFlat\n",
    "    currWorkDir = os.getcwd()\n",
    "    os.chdir(fakeFlatDir)\n",
    "    ## self._genFakeFlat calls self._makeFakeFlat(detector)\n",
    "    \n",
    "    ### begin self._makeFakeFlat\n",
    "    command = \"makeGainImages.py\"\n",
    "    argstring = \"--detector_list %s\" % detector\n",
    "    runProgram(command, argstring=argstring)\n",
    "    ### end self._makeFakeFlat\n",
    "    \n",
    "    # back to self._genFakeFlat\n",
    "    os.chdir(currWorkDir)\n",
    "\n",
    "    # return fakeFlatDir\n",
    "    # end self._makeCalibs\n",
    "    \n",
    "    \n",
    "# Make the ISR directory\n",
    "isrDirName = \"input\"\n",
    "isrDir = os.path.join(baseOutputDir, isrDirName)\n",
    "if genFlats is True:\n",
    "    ## self.main  calls self._makeDir(isrDir) : \n",
    "    ## begin self._makeDir\n",
    "    if (not os.path.exists(isrDir)):\n",
    "            os.makedirs(isrDir)\n",
    "    ## end self._makeDir"
   ]
  },
  {
   "cell_type": "code",
   "execution_count": 25,
   "metadata": {},
   "outputs": [],
   "source": [
    "# Survey parameters\n",
    "surveySettingFilePath = os.path.join(getConfigDir(),\n",
    "                                    \"surveySettings.yaml\")\n",
    "surveySettings = ParamReader(filePath=surveySettingFilePath)\n",
    "if surveyFilter is None:\n",
    "    filterType = FilterType.fromString(surveySettings.getSetting(\"filterType\"))\n",
    "else:\n",
    "    filterType = FilterType.fromString(surveyFilter)\n",
    "raInDeg = surveySettings.getSetting(\"raInDeg\")\n",
    "decInDeg = surveySettings.getSetting(\"decInDeg\")\n",
    "rotAngInDeg = surveySettings.getSetting(\"rotAngInDeg\")"
   ]
  },
  {
   "cell_type": "markdown",
   "metadata": {},
   "source": [
    "Now `self.main()` calls  `self._preparePhosimCmpt()`:"
   ]
  },
  {
   "cell_type": "code",
   "execution_count": 29,
   "metadata": {},
   "outputs": [],
   "source": [
    "# Prepare the components\n",
    "# self.main calls phosimCmpt = self._preparePhosimCmpt(phosimDir, filterType, raInDeg, decInDeg,\n",
    "#                                rotAngInDeg, numPro, isEimg, m1m3ForceError)\n",
    "\n",
    "# whose signature is _preparePhosimCmpt(self, phosimDir, filterType, raInDeg, decInDeg, rotAngInDeg,\n",
    "#                       numPro, isEimg, m1m3ForceError)\n",
    "\n",
    "# so the params passed are called the same way \n",
    "\n",
    "# begin self._preparePhosimCmpt:\n",
    "\n",
    "# Set the Telescope facade class\n",
    "tele = TeleFacade()\n",
    "tele.addSubSys(addCam=True, addM1M3=True, addM2=True)\n",
    "tele.setPhoSimDir(phosimDir)"
   ]
  },
  {
   "cell_type": "code",
   "execution_count": 30,
   "metadata": {},
   "outputs": [],
   "source": [
    "# now the AnalysisPhoSimCmpt() is instantiated, so need to define it : \n",
    "\n",
    "class AnalysisPhosimCmpt(PhosimCmpt):\n",
    "\n",
    "    def _writeOpdZkFile(self, zkFileName, rotOpdInDeg):\n",
    "        \"\"\"Write the OPD in zk file.\n",
    "        OPD: optical path difference.\n",
    "        Parameters\n",
    "        ----------\n",
    "        zkFileName : str\n",
    "            OPD in zk file name.\n",
    "        rotOpdInDeg : float\n",
    "            Rotate OPD in degree in the counter-clockwise direction.\n",
    "        \"\"\"\n",
    "\n",
    "        testOutputDir = os.environ[\"closeLoopTestDir\"]\n",
    "        filePath = os.path.join(testOutputDir, zkFileName)\n",
    "        opdData = self._mapOpdToZk(rotOpdInDeg)\n",
    "        header = \"The followings are OPD in rotation angle of %.2f degree in um from z4 to z22:\" % (\n",
    "            rotOpdInDeg)\n",
    "        np.savetxt(filePath, opdData, header=header)\n",
    "\n",
    "    def reorderAndSaveWfErrFile(self, listOfWfErr, refSensorNameList,\n",
    "                                zkFileName=\"wfs.zer\"):\n",
    "        \"\"\"Reorder the wavefront error in the wavefront error list according to\n",
    "        the reference sensor name list and save to a file.\n",
    "        The unexisted wavefront error will be a numpy zero array. The unit is\n",
    "        um.\n",
    "        Parameters\n",
    "        ----------\n",
    "        listOfWfErr : list [lsst.ts.wep.ctrlIntf.SensorWavefrontData]\n",
    "            List of SensorWavefrontData object.\n",
    "        refSensorNameList : list\n",
    "            Reference sensor name list.\n",
    "        zkFileName : str, optional\n",
    "            Wavefront error file name. (the default is \"wfs.zer\".)\n",
    "        \"\"\"\n",
    "\n",
    "        # Get the sensor name that in the wavefront error map\n",
    "        wfErrMap = self._transListOfWfErrToMap(listOfWfErr)\n",
    "        nameListInWfErrMap = list(wfErrMap.keys())\n",
    "\n",
    "        # Reorder the wavefront error map based on the reference sensor name\n",
    "        # list.\n",
    "        reorderedWfErrMap = dict()\n",
    "        for sensorName in refSensorNameList:\n",
    "            if sensorName in nameListInWfErrMap:\n",
    "                wfErr = wfErrMap[sensorName]\n",
    "            else:\n",
    "                numOfZk = self.getNumOfZk()\n",
    "                wfErr = np.zeros(numOfZk)\n",
    "            reorderedWfErrMap[sensorName] = wfErr\n",
    "\n",
    "        # Save the file\n",
    "        testOutputDir = os.environ[\"closeLoopTestDir\"]\n",
    "        filePath = os.path.join(testOutputDir, zkFileName)\n",
    "        wfsData = self._getWfErrValuesAndStackToMatrix(reorderedWfErrMap)\n",
    "        header = \"The followings are ZK in um from z4 to z22:\"\n",
    "        np.savetxt(filePath, wfsData, header=header)\n",
    "\n",
    "        \n",
    "# Prepare the phosim component\n",
    "phosimCmpt = AnalysisPhosimCmpt(tele)\n",
    "\n",
    "# Set the telescope survey parameters\n",
    "boresight = (raInDeg, decInDeg)\n",
    "zAngleInDeg = 27.0912\n",
    "phosimCmpt.setSurveyParam(filterType=filterType, boresight=boresight,\n",
    "                        zAngleInDeg=zAngleInDeg, rotAngInDeg=rotAngInDeg)\n",
    "\n",
    "# Update the setting file if needed\n",
    "settingFile = phosimCmpt.getSettingFile()\n",
    "if (numPro > 1):\n",
    "    settingFile.updateSetting(\"numPro\", numPro)\n",
    "if isEimg:\n",
    "    settingFile.updateSetting(\"e2ADC\", 0)\n",
    "\n",
    "# Set the seed number for M1M3 surface\n",
    "seedNum = 6\n",
    "phosimCmpt.setSeedNum(seedNum)\n",
    "\n",
    "# Set the M1M3 force error\n",
    "phosimCmpt.setM1M3ForceError(m1m3ForceError)\n",
    "\n",
    "\n"
   ]
  },
  {
   "cell_type": "markdown",
   "metadata": {},
   "source": [
    "Back to `self.main()` : \n",
    "    \n",
    "    \n",
    "\n",
    "\n"
   ]
  },
  {
   "cell_type": "code",
   "execution_count": 31,
   "metadata": {},
   "outputs": [],
   "source": [
    "# self.main() calls  wepCalc = self._prepareWepCalc(isrDir, filterType, raInDeg, decInDeg,\n",
    "#                        rotAngInDeg, isEimg)\n",
    "\n",
    "# whose signature is \n",
    "# _prepareWepCalc(self, isrDirPath, filterType, raInDeg, decInDeg, rotAngInDeg,\n",
    "#                        isEimg)\n",
    "\n",
    "# so the params are passed without name change apart from :\n",
    "isrDirPath = isrDir\n",
    "\n",
    "# begin self._prepareWepCalc()\n",
    "\n",
    "wepCalc = WEPCalculationFactory.getCalculator(CamType.ComCam, isrDirPath)\n",
    "wepCalc.setFilter(filterType)\n",
    "wepCalc.setBoresight(raInDeg, decInDeg)\n",
    "wepCalc.setRotAng(rotAngInDeg)\n",
    "\n",
    "if (isEimg):\n",
    "    settingFile = wepCalc.getSettingFile()\n",
    "    settingFile.updateSetting(\"imageType\", \"eimage\")\n",
    "            \n",
    "# end self._prepareWepCalc()\n",
    "\n",
    "# back to self.main() \n",
    "tele = phosimCmpt.getTele()\n",
    "defocalDisInMm = tele.getDefocalDistInMm()\n",
    "wepCalc.setDefocalDisInMm(defocalDisInMm)\n",
    "\n",
    "# self.main() calls \n",
    "# ofcCalc = self._prepareOfcCalc(filterType, rotAngInDeg)\n",
    "# begin self._prepareOfcCalc()\n",
    "ofcCalc = OFCCalculationFactory.getCalculator(InstName.COMCAM)\n",
    "ofcCalc.setFilter(filterType)\n",
    "ofcCalc.setRotAng(rotAngInDeg)\n",
    "ofcCalc.setGainByPSSN()\n",
    "# end self._prepareOfcCalc()"
   ]
  },
  {
   "cell_type": "code",
   "execution_count": 32,
   "metadata": {},
   "outputs": [],
   "source": [
    "# Ingest the calibration products (only for the amplifier images)\n",
    "if ((not isEimg) & (genFlats is True)):\n",
    "    wepCalc.ingestCalibs(fakeFlatDir)\n",
    "\n",
    "# Only use 10 hexapod positions and first 3 bending modes of M1M3 and M2\n",
    "if (useMinDofIdx): # this is false \n",
    "    self._useMinDofIdx(ofcCalc)\n",
    "\n",
    "# Set the telescope state to be the same as the OFC\n",
    "state0 = ofcCalc.getStateAggregated()\n",
    "phosimCmpt.setDofInUm(state0)"
   ]
  },
  {
   "cell_type": "code",
   "execution_count": 33,
   "metadata": {},
   "outputs": [],
   "source": [
    "# Do the iteration\n",
    "obsId = 9006000\n",
    "opdZkFileName = str(\"opd.zer\" + '.' + testName)\n",
    "wfsZkFileName = str(\"wfs.zer\" + '.' + testName)\n",
    "opdPssnFileName = \"PSSN.txt\"\n",
    "outputDirName = \"pert\"\n",
    "outputImgDirName = \"img\"\n",
    "iterDefaultDirName = \"iter\"\n",
    "dofInUmFileName = \"dofPertInNextIter.mat\"\n",
    "skyInfoFileName = \"skyComCamInfo.txt\"\n",
    "\n"
   ]
  },
  {
   "cell_type": "code",
   "execution_count": 34,
   "metadata": {},
   "outputs": [
    {
     "data": {
      "text/plain": [
       "'opd.zer.sep.0.1'"
      ]
     },
     "execution_count": 34,
     "metadata": {},
     "output_type": "execute_result"
    }
   ],
   "source": [
    "opdZkFileName\n"
   ]
  },
  {
   "cell_type": "code",
   "execution_count": 35,
   "metadata": {},
   "outputs": [
    {
     "data": {
      "text/plain": [
       "'wfs.zer.sep.0.1'"
      ]
     },
     "execution_count": 35,
     "metadata": {},
     "output_type": "execute_result"
    }
   ],
   "source": [
    "wfsZkFileName"
   ]
  },
  {
   "cell_type": "code",
   "execution_count": 36,
   "metadata": {},
   "outputs": [],
   "source": [
    "iterNum = 1 \n",
    "#for iterCount in range(iterNum):\n",
    "\n",
    "#### beginning of iteration \n",
    "\n",
    "# Set the observation Id\n",
    "phosimCmpt.setSurveyParam(obsId=obsId)\n",
    "\n",
    "# The iteration directory\n",
    "iterDirName = \"%s%d\" % (iterDefaultDirName, iterCount)\n",
    "\n",
    "# Set the output directory\n",
    "outputDir = os.path.join(baseOutputDir, iterDirName, outputDirName)\n",
    "phosimCmpt.setOutputDir(outputDir)\n",
    "\n",
    "# Set the output image directory\n",
    "outputImgDir = os.path.join(baseOutputDir, iterDirName,\n",
    "                            outputImgDirName)\n",
    "phosimCmpt.setOutputImgDir(outputImgDir)\n",
    "\n",
    "\n"
   ]
  },
  {
   "cell_type": "code",
   "execution_count": 37,
   "metadata": {},
   "outputs": [],
   "source": [
    "# Generate the OPD image\n",
    "if genOpd is True:\n",
    "    argString = phosimCmpt.getComCamOpdArgsAndFilesForPhoSim()\n",
    "    phosimCmpt.runPhoSim(argString)\n",
    "    \n",
    "    "
   ]
  },
  {
   "cell_type": "code",
   "execution_count": 44,
   "metadata": {},
   "outputs": [
    {
     "ename": "NameError",
     "evalue": "name '__file__' is not defined",
     "output_type": "error",
     "traceback": [
      "\u001b[0;31m---------------------------------------------------------------------------\u001b[0m",
      "\u001b[0;31mNameError\u001b[0m                                 Traceback (most recent call last)",
      "\u001b[0;32m<ipython-input-44-4f7d34ec9d25>\u001b[0m in \u001b[0;36m<module>\u001b[0;34m\u001b[0m\n\u001b[0;32m----> 1\u001b[0;31m \u001b[0mos\u001b[0m\u001b[0;34m.\u001b[0m\u001b[0mpath\u001b[0m\u001b[0;34m.\u001b[0m\u001b[0mrealpath\u001b[0m\u001b[0;34m(\u001b[0m\u001b[0m__file__\u001b[0m\u001b[0;34m)\u001b[0m\u001b[0;34m\u001b[0m\u001b[0;34m\u001b[0m\u001b[0m\n\u001b[0m",
      "\u001b[0;31mNameError\u001b[0m: name '__file__' is not defined"
     ]
    }
   ],
   "source": [
    "os.path.realpath(__file__)"
   ]
  },
  {
   "cell_type": "code",
   "execution_count": 45,
   "metadata": {},
   "outputs": [],
   "source": [
    "testOutput = outputDir # just for now .. \n",
    "if (testOutput == \"\"):\n",
    "    testOutputDir = os.path.dirname(os.path.realpath(__file__))\n",
    "else:\n",
    "    testOutputDir = testOutput\n",
    "\n",
    "\n",
    "os.environ[\"closeLoopTestDir\"] = testOutputDir\n",
    "\n",
    "# Analyze the OPD data\n",
    "phosimCmpt.analyzeComCamOpdData(zkFileName=opdZkFileName,\n",
    "                                pssnFileName=opdPssnFileName)"
   ]
  },
  {
   "cell_type": "code",
   "execution_count": 46,
   "metadata": {},
   "outputs": [
    {
     "name": "stdout",
     "output_type": "stream",
     "text": [
      "Calculated PSSN is [0.59515269 0.59006253 0.59086933 0.59333341 0.58535632 0.58658711\n",
      " 0.59610244 0.58819379 0.58696264].\n",
      "GQ effective FWHM is 0.5429.\n"
     ]
    }
   ],
   "source": [
    "# Get the PSSN from file\n",
    "pssn = phosimCmpt.getOpdPssnFromFile(opdPssnFileName)\n",
    "print(\"Calculated PSSN is %s.\" % pssn)\n",
    "\n",
    "# Get the GQ effective FWHM from file\n",
    "gqEffFwhm = phosimCmpt.getOpdGqEffFwhmFromFile(opdPssnFileName)\n",
    "print(\"GQ effective FWHM is %.4f.\" % gqEffFwhm)\n",
    "\n",
    "# Set the FWHM data\n",
    "listOfFWHMSensorData = phosimCmpt.getListOfFwhmSensorData(\n",
    "    opdPssnFileName, sensorNameList)\n",
    "ofcCalc.setFWHMSensorDataOfCam(listOfFWHMSensorData)"
   ]
  },
  {
   "cell_type": "code",
   "execution_count": 47,
   "metadata": {},
   "outputs": [],
   "source": [
    "# Prepare the faked sky - this is skipped because inputSkyFilePath = 'starCat.txt'\n",
    "if (inputSkyFilePath == \"\"):\n",
    "    # According to the OPD field positions\n",
    "    metr = phosimCmpt.getOpdMetr()\n",
    "    skySim = self._prepareSkySim(metr, starMag)\n",
    "    print(\"Use the default OPD field positions to be star positions.\")\n",
    "    print(\"The star magnitude is chosen to be %.2f.\" % starMag)\n",
    "else:\n",
    "    # self.main() calls skySim = self._prepareSkySimBySkyFile(inputSkyFilePath)\n",
    "    # begin self._prepareSkySimBySkyFile\n",
    "    skySim = SkySim()\n",
    "    absSkyFilePath = os.path.abspath(inputSkyFilePath)\n",
    "    skySim.addStarByFile(absSkyFilePath)\n",
    "    # end self._prepareSkySimBySkyFile\n"
   ]
  },
  {
   "cell_type": "code",
   "execution_count": 48,
   "metadata": {},
   "outputs": [],
   "source": [
    "# Output the sky information\n",
    "# self.main() calls skySim, wepCalc = self._outputSkyInfo(outputDir, skyInfoFileName, skySim, wepCalc)\n",
    "\n",
    "# begin self._outputSkyInfo\n",
    "outputSkyInfoFilePath = os.path.join(outputDir, skyInfoFileName)\n",
    "skySim.exportSkyToFile(outputSkyInfoFilePath)\n",
    "wepCalc.setSkyFile(outputSkyInfoFilePath)\n",
    "# end self._outputSkyInfo \n",
    "\n",
    "\n",
    "# Assign the entra- and intra-focal observation Id\n",
    "extraObsId = obsId + 1\n",
    "intraObsId = obsId + 2"
   ]
  },
  {
   "cell_type": "code",
   "execution_count": 50,
   "metadata": {},
   "outputs": [],
   "source": [
    "# Generate the defocal images\n",
    "simSeed = 1000\n",
    "argStringList = phosimCmpt.getComCamStarArgsAndFilesForPhoSim(extraObsId, intraObsId, skySim, simSeed=simSeed,\n",
    "    cmdSettingFileName=\"starDefault.cmd\", instSettingFileName=\"starSingleExp.inst\")\n",
    "if genDefocalImg is True:\n",
    "    for argString in argStringList:\n",
    "        phosimCmpt.runPhoSim(argString)\n",
    "\n",
    "    # Repackage the images based on the image type\n",
    "    if (isEimg):\n",
    "        phosimCmpt.repackageComCamEimgFromPhoSim()\n",
    "    else:\n",
    "        phosimCmpt.repackageComCamAmpImgFromPhoSim()"
   ]
  },
  {
   "cell_type": "code",
   "execution_count": 51,
   "metadata": {},
   "outputs": [],
   "source": [
    "# Collect the defocal images\n",
    "intraRawExpData = RawExpData()\n",
    "intraRawExpDir = os.path.join(outputImgDir,\n",
    "                            phosimCmpt.getIntraFocalDirName())\n",
    "intraRawExpData.append(intraObsId, 0, intraRawExpDir)\n",
    "\n",
    "extraRawExpData = RawExpData()\n",
    "extraRawExpDir = os.path.join(outputImgDir,\n",
    "                            phosimCmpt.getExtraFocalDirName())\n",
    "extraRawExpData.append(extraObsId, 0, extraRawExpDir)\n"
   ]
  },
  {
   "cell_type": "markdown",
   "metadata": {},
   "source": [
    "The error I encountered last time pertains to this line  : l.237 in `baseComcamLoop.py` .... "
   ]
  },
  {
   "cell_type": "markdown",
   "metadata": {},
   "source": [
    "File \"runStarSeparationAnalysis.py\", line 77, in <module>\n",
    "    inputSkyFilePath=skyFilePath, m1m3ForceError=0.05)\n",
    "  File \"/data/epyc/users/suberlak/Commissioning/aos/ts_phosim/notebooks/analysis_scripts/baseComcamLoop.py\", line 237, in main\n",
    "    intraRawExpData, extraRawExpData=extraRawExpData)\n",
    "  File \"/astro/store/epyc/projects/lsst_comm/ts_wep/python/lsst/ts/wep/ctrlIntf/WEPCalculation.py\", line 391, in calculateWavefrontErrors\n",
    "    donutMap = self._calcWfErr(neighborStarMap, obsIdList)\n",
    "  File \"/astro/store/epyc/projects/lsst_comm/ts_wep/python/lsst/ts/wep/ctrlIntf/WEPCalculation.py\", line 598, in _calcWfErr\n",
    "    doDeblending=doDeblending)\n",
    "  File \"/astro/store/epyc/projects/lsst_comm/ts_wep/python/lsst/ts/wep/WepController.py\", line 371, in getDonutMap\n",
    "    np.savetxt('/astro/store/epyc/projects/lsst_comm/ts_phosim/notebooks/analysis_scripts/example.out', singleSciNeiImg)\n",
    "  File \"/astro/store/epyc/projects/lsst_comm/new_stack/python/miniconda3-4.7.10/envs/lsst-scipipe-4d7b902/lib/python3.7/site-packages/numpy/lib/npyio.py\", line 1352, in savetxt\n",
    "    open(fname, 'wt').close()\n",
    "PermissionError: [Errno 13] Permission denied: '/astro/store/epyc/projects/lsst_comm/ts_phosim/notebooks/analysis_scripts/example.out'"
   ]
  },
  {
   "cell_type": "code",
   "execution_count": 53,
   "metadata": {},
   "outputs": [
    {
     "data": {
      "text/plain": [
       "[]"
      ]
     },
     "execution_count": 53,
     "metadata": {},
     "output_type": "execute_result"
    }
   ],
   "source": [
    "listOfWfErr"
   ]
  },
  {
   "cell_type": "code",
   "execution_count": 56,
   "metadata": {},
   "outputs": [],
   "source": [
    "intraRawExpData"
   ]
  },
  {
   "cell_type": "code",
   "execution_count": 57,
   "metadata": {},
   "outputs": [
    {
     "data": {
      "text/plain": [
       "<lsst.ts.wep.ctrlIntf.RawExpData.RawExpData at 0x7f8c69663d30>"
      ]
     },
     "execution_count": 57,
     "metadata": {},
     "output_type": "execute_result"
    }
   ],
   "source": [
    "extraRawExpData"
   ]
  },
  {
   "cell_type": "code",
   "execution_count": 52,
   "metadata": {},
   "outputs": [
    {
     "name": "stdout",
     "output_type": "stream",
     "text": [
      "<lsst.ts.wep.bsc.StarData.StarData object at 0x7f8cbd220898>\n",
      "<lsst.ts.wep.bsc.StarData.StarData object at 0x7f8c693f9c18>\n",
      "<lsst.ts.wep.bsc.StarData.StarData object at 0x7f8b67a33b00>\n",
      "<lsst.ts.wep.bsc.StarData.StarData object at 0x7f8b61570320>\n",
      "<lsst.ts.wep.bsc.StarData.StarData object at 0x7f8b451b1710>\n",
      "<lsst.ts.wep.bsc.StarData.StarData object at 0x7f8c695c12e8>\n",
      "<lsst.ts.wep.bsc.StarData.StarData object at 0x7f8c69130eb8>\n",
      "<lsst.ts.wep.bsc.StarData.StarData object at 0x7f8b49283ef0>\n",
      "<lsst.ts.wep.bsc.StarData.StarData object at 0x7f8b51de49b0>\n"
     ]
    },
    {
     "ename": "IndexError",
     "evalue": "list index out of range",
     "output_type": "error",
     "traceback": [
      "\u001b[0;31m---------------------------------------------------------------------------\u001b[0m",
      "\u001b[0;31mIndexError\u001b[0m                                Traceback (most recent call last)",
      "\u001b[0;32m<ipython-input-52-e042658dd2d0>\u001b[0m in \u001b[0;36m<module>\u001b[0;34m\u001b[0m\n\u001b[1;32m      1\u001b[0m \u001b[0;31m# Calculate the wavefront error and DOF\u001b[0m\u001b[0;34m\u001b[0m\u001b[0;34m\u001b[0m\u001b[0;34m\u001b[0m\u001b[0m\n\u001b[1;32m      2\u001b[0m \u001b[0mlistOfWfErr\u001b[0m \u001b[0;34m=\u001b[0m \u001b[0mwepCalc\u001b[0m\u001b[0;34m.\u001b[0m\u001b[0mcalculateWavefrontErrors\u001b[0m\u001b[0;34m(\u001b[0m\u001b[0mintraRawExpData\u001b[0m\u001b[0;34m,\u001b[0m \u001b[0mextraRawExpData\u001b[0m\u001b[0;34m=\u001b[0m\u001b[0mextraRawExpData\u001b[0m\u001b[0;34m)\u001b[0m\u001b[0;34m\u001b[0m\u001b[0;34m\u001b[0m\u001b[0m\n\u001b[0;32m----> 3\u001b[0;31m \u001b[0mofcCalc\u001b[0m\u001b[0;34m.\u001b[0m\u001b[0mcalculateCorrections\u001b[0m\u001b[0;34m(\u001b[0m\u001b[0mlistOfWfErr\u001b[0m\u001b[0;34m)\u001b[0m\u001b[0;34m\u001b[0m\u001b[0;34m\u001b[0m\u001b[0m\n\u001b[0m",
      "\u001b[0;32m/astro/store/epyc/projects/lsst_comm/ts_ofc/python/lsst/ts/ofc/ctrlIntf/OFCCalculation.py\u001b[0m in \u001b[0;36mcalculateCorrections\u001b[0;34m(self, listOfWfErr)\u001b[0m\n\u001b[1;32m    487\u001b[0m \u001b[0;34m\u001b[0m\u001b[0m\n\u001b[1;32m    488\u001b[0m         \u001b[0;31m# Collect the wavefront error and sensor name\u001b[0m\u001b[0;34m\u001b[0m\u001b[0;34m\u001b[0m\u001b[0;34m\u001b[0m\u001b[0m\n\u001b[0;32m--> 489\u001b[0;31m         \u001b[0mnumOfZk\u001b[0m \u001b[0;34m=\u001b[0m \u001b[0mlistOfWfErr\u001b[0m\u001b[0;34m[\u001b[0m\u001b[0;36m0\u001b[0m\u001b[0;34m]\u001b[0m\u001b[0;34m.\u001b[0m\u001b[0mgetNumOfZk\u001b[0m\u001b[0;34m(\u001b[0m\u001b[0;34m)\u001b[0m\u001b[0;34m\u001b[0m\u001b[0;34m\u001b[0m\u001b[0m\n\u001b[0m\u001b[1;32m    490\u001b[0m         \u001b[0mwfZkData\u001b[0m \u001b[0;34m=\u001b[0m \u001b[0mnp\u001b[0m\u001b[0;34m.\u001b[0m\u001b[0mempty\u001b[0m\u001b[0;34m(\u001b[0m\u001b[0;34m(\u001b[0m\u001b[0;36m0\u001b[0m\u001b[0;34m,\u001b[0m \u001b[0mnumOfZk\u001b[0m\u001b[0;34m)\u001b[0m\u001b[0;34m)\u001b[0m\u001b[0;34m\u001b[0m\u001b[0;34m\u001b[0m\u001b[0m\n\u001b[1;32m    491\u001b[0m         \u001b[0msensorIdList\u001b[0m \u001b[0;34m=\u001b[0m \u001b[0;34m[\u001b[0m\u001b[0;34m]\u001b[0m\u001b[0;34m\u001b[0m\u001b[0;34m\u001b[0m\u001b[0m\n",
      "\u001b[0;31mIndexError\u001b[0m: list index out of range"
     ]
    }
   ],
   "source": [
    "# Calculate the wavefront error and DOF\n",
    "listOfWfErr = wepCalc.calculateWavefrontErrors(intraRawExpData, extraRawExpData=extraRawExpData)\n",
    "ofcCalc.calculateCorrections(listOfWfErr)"
   ]
  },
  {
   "cell_type": "code",
   "execution_count": null,
   "metadata": {},
   "outputs": [],
   "source": [
    "# Record the wfs error with the same order as OPD for the comparison\n",
    "phosimCmpt.reorderAndSaveWfErrFile(listOfWfErr, sensorNameList,\n",
    "                                   zkFileName=wfsZkFileName)\n",
    "\n",
    "# Set the new aggregated DOF to phosimCmpt\n",
    "dofInUm = ofcCalc.getStateAggregated()\n",
    "phosimCmpt.setDofInUm(dofInUm)"
   ]
  },
  {
   "cell_type": "code",
   "execution_count": null,
   "metadata": {},
   "outputs": [],
   "source": [
    "# Save the DOF file\n",
    "phosimCmpt.saveDofInUmFileForNextIter(dofInUm, dofInUmFileName=dofInUmFileName)\n",
    "\n",
    "# Add the observation ID by 10 for the next iteration\n",
    "obsId += 10\n",
    "\n",
    "#### end of iteration "
   ]
  },
  {
   "cell_type": "code",
   "execution_count": null,
   "metadata": {},
   "outputs": [],
   "source": [
    "# Summarize the FWHM\n",
    "pssnFiles = [os.path.join(baseOutputDir, \"%s%d\" % (iterDefaultDirName, num),\n",
    "            outputImgDirName, opdPssnFileName) for num in range(iterNum)]\n",
    "saveToFilePath = os.path.join(baseOutputDir, \"fwhmIters.png\")\n",
    "plotFwhmOfIters(pssnFiles, saveToFilePath=saveToFilePath)"
   ]
  },
  {
   "cell_type": "code",
   "execution_count": null,
   "metadata": {},
   "outputs": [],
   "source": []
  }
 ],
 "metadata": {
  "kernelspec": {
   "display_name": "lsst-aos",
   "language": "python",
   "name": "lsst-aos"
  },
  "language_info": {
   "codemirror_mode": {
    "name": "ipython",
    "version": 3
   },
   "file_extension": ".py",
   "mimetype": "text/x-python",
   "name": "python",
   "nbconvert_exporter": "python",
   "pygments_lexer": "ipython3",
   "version": "3.7.3"
  }
 },
 "nbformat": 4,
 "nbformat_minor": 2
}
