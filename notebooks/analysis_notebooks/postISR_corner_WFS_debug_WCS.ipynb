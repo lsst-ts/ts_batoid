{
 "cells": [
  {
   "cell_type": "markdown",
   "metadata": {},
   "source": [
    "# postISR corner WFS: debug WCS with arrow stars"
   ]
  },
  {
   "cell_type": "markdown",
   "metadata": {},
   "source": [
    "A notebook to show the diffence in using `WcsSol` vs `PhosimWcsSol`. \n",
    "\n",
    "The latter is not compatible with `skySim` WCS. \n",
    "\n",
    "I use arrows simulated on corner wavefront sensors using `skySim`, and show how the results of PhoSim simulation get passed to `ts_wep`\n"
   ]
  },
  {
   "cell_type": "markdown",
   "metadata": {},
   "source": [
    "NB: We have to change the `bscDbType` manually before initializing `wep_calc`, because once `WEPCalculationFactory` is called, `updateSetting` won't do anything for `bscDbType` - because by then the sourceSelector had already been configured. The same with `expWcs`, since it's in the `__init` method of the `SourceSelector`. Other settings can be changed later , but before they are checked by the code . "
   ]
  },
  {
   "cell_type": "code",
   "execution_count": 62,
   "metadata": {},
   "outputs": [
    {
     "name": "stdout",
     "output_type": "stream",
     "text": [
      "/astro/store/epyc/users/suberlak/Commissioning/aos/ts_wep/policy/default.yaml contains :  file\n",
      "Removed old bsc1.db3 file\n"
     ]
    }
   ],
   "source": [
    "import os\n",
    "import argparse\n",
    "import numpy as np\n",
    "\n",
    "from lsst.utils import getPackageDir\n",
    "from lsst.ts.wep.ParamReader import ParamReader\n",
    "from lsst.ts.wep.WepController import WepController\n",
    "from lsst.ts.wep.Utility import CamType, FilterType, getModulePath, mapFilterRefToG, DefocalType\n",
    "from lsst.ts.wep.ctrlIntf.WEPCalculationFactory import WEPCalculationFactory\n",
    "\n",
    "from matplotlib import rcParams \n",
    "rcParams['ytick.labelsize'] = 15\n",
    "rcParams['xtick.labelsize'] = 15\n",
    "rcParams['axes.labelsize'] = 20\n",
    "rcParams['axes.linewidth'] = 2\n",
    "rcParams['font.size'] = 15\n",
    "rcParams['axes.titlesize'] = 18\n",
    "%matplotlib inline\n",
    "import matplotlib.pyplot as plt \n",
    "plt.style.use('dark_background')\n",
    "\n",
    "import sys\n",
    "sys.path.append('../analysis_tools/')\n",
    "import analysisTools as at\n",
    "\n",
    "#parts of analysis_tools/runCloseLoopPostISR.py\n",
    "save_postage_stamps=True \n",
    "run_deblender=False\n",
    "select_sensor = 'lsstcam' \n",
    "rerun='run1'\n",
    "db_filename = 'bsc1.db3'\n",
    "gaia_field_name=''\n",
    "rotAngInDeg = 0\n",
    "bscDbType='file'\n",
    "setting_filename = 'default.yaml'\n",
    "raInDeg=0\n",
    "decInDeg=0\n",
    "\n",
    "\n",
    "# updating bscDbType manually \n",
    "path_to_ts_wep = getPackageDir(\"ts_wep\")\n",
    "path_to_setting_file = os.path.join(path_to_ts_wep, 'policy',setting_filename)\n",
    "settingFile = ParamReader(filePath=path_to_setting_file)\n",
    "bscDbTypeInFile = settingFile.getSetting(\"bscDbType\")\n",
    "print('%s contains : '%path_to_setting_file, \n",
    "      bscDbTypeInFile)\n",
    "if bscDbTypeInFile != bscDbType:\n",
    "    # In the following we update the setting for bscDbType,\n",
    "    # saving the change in the default.yaml file \n",
    "    settingFile.updateSetting(\"bscDbType\", bscDbType)\n",
    "    settingFile.saveSetting(filePath=path_to_setting_file)\n",
    "\n",
    "    # check that the change indeed took place \n",
    "    settingFile = ParamReader(filePath=path_to_setting_file)\n",
    "    print('After change: ', settingFile.getSetting(\"bscDbType\"))\n",
    "\n",
    "bscDataDir = os.path.join(path_to_ts_wep, 'tests/testData')\n",
    "if db_filename  in os.listdir(bscDataDir):\n",
    "    os.remove(os.path.join(bscDataDir,db_filename))\n",
    "    print('Removed old %s file'%db_filename)\n",
    "    \n",
    "\n"
   ]
  },
  {
   "cell_type": "code",
   "execution_count": 63,
   "metadata": {},
   "outputs": [
    {
     "name": "stdout",
     "output_type": "stream",
     "text": [
      "After change: expWcs :  True\n",
      "select_sensor is lsstcam\n"
     ]
    }
   ],
   "source": [
    "# update expWcs setting ... \n",
    "expWcs = True # using PhoSim WCS Sol \n",
    "settingFile= ParamReader(filePath=path_to_setting_file)\n",
    "settingFile.updateSetting(\"expWcs\", expWcs)\n",
    "settingFile.saveSetting(filePath=path_to_setting_file)\n",
    "settingFile = ParamReader(filePath=path_to_setting_file)\n",
    "print('After change: expWcs : ', settingFile.getSetting(\"expWcs\"))\n",
    "\n",
    "\n",
    "\n",
    "########################\n",
    "# Initialize wep_calc\n",
    "########################\n",
    "print('select_sensor is %s'%select_sensor)\n",
    "if select_sensor == 'comcam':\n",
    "    wep_calc = WEPCalculationFactory.getCalculator(CamType.ComCam, closed_loop_input_dir)\n",
    "elif select_sensor  == 'lsstcam':\n",
    "    wep_calc = WEPCalculationFactory.getCalculator(CamType.LsstCam, closed_loop_input_dir)\n",
    "elif select_sensor == 'lsstfamcam':\n",
    "    wep_calc = WEPCalculationFactory.getCalculator(CamType.LsstFamCam, closed_loop_input_dir)\n",
    "\n",
    "    "
   ]
  },
  {
   "cell_type": "code",
   "execution_count": 64,
   "metadata": {},
   "outputs": [
    {
     "name": "stdout",
     "output_type": "stream",
     "text": [
      "\n",
      "Setting telescope boresight as (0.00, 0.00)\n",
      "\n",
      "Setting telescope rotation angle as 0.00\n",
      "Setting sky file as /epyc/users/suberlak/Commissioning/aos/ts_phosim/notebooks/analysis_scripts/results_wfs/arrowStars_2020_24_noPert/iter0/pert/skyLsstCamInfo.txt\n",
      "Setting postISR CCD inputs as /epyc/users/suberlak/Commissioning/aos/ts_phosim/notebooks/analysis_scripts/results_wfs/arrowStars_2020_24_noPert/input/rerun/run1\n"
     ]
    }
   ],
   "source": [
    "# this is only executed once \n",
    "# wep_calc._getTargetStar() is called \n",
    "#settingFile = wep_calc.getSettingFile()\n",
    "dbRelativePath = 'tests/testData/%s'%db_filename\n",
    "wep_calc.settingFile.updateSetting(\"defaultBscPath\", dbRelativePath)\n",
    "\n",
    "# if GAIA field name is not provided, we assume raInDeg, decInDeg as boresight \n",
    "print('\\nSetting telescope boresight as (%.2f, %.2f)'%(raInDeg,decInDeg))\n",
    "wep_calc.setBoresight(raInDeg, decInDeg)\n",
    "\n",
    "print('\\nSetting telescope rotation angle as %.2f'%rotAngInDeg)\n",
    "wep_calc.setRotAng(rotAngInDeg)\n",
    "\n",
    "# Set the output directory :   iter0/pert\n",
    "outputDirName = \"pert\"\n",
    "# set the sky file \n",
    "skyInfoFileName = 'skyLsstCamInfo.txt'\n",
    "baseOutputDir = topDir\n",
    "# the iteration directory \n",
    "iterCount = 0\n",
    "iterDirName = \"%s%d\" % (\"iter\", iterCount)\n",
    "outputDir = os.path.join(baseOutputDir, iterDirName, outputDirName)\n",
    "outputSkyInfoFilePath = os.path.join(outputDir, skyInfoFileName)\n",
    "print('Setting sky file as %s'%outputSkyInfoFilePath)\n",
    "wep_calc.setSkyFile(outputSkyInfoFilePath)\n",
    "\n",
    "\n",
    "# this is already part of \n",
    "# listOfWfErr = wepCalc.calculateWavefrontErrors(\n",
    "#                 intraRawExpData, postageImg=postageImg, postageImgDir = postageImgDir,\n",
    "#                 sensorNameToIdFileName=sensorNameToIdFileName)\n",
    "postISRdir = os.path.join(closed_loop_input_dir, 'rerun/%s'%rerun)\n",
    "print('Setting postISR CCD inputs as %s'%postISRdir)\n",
    "\n",
    "wep_calc.wepCntlr.setPostIsrCcdInputs(postISRdir)\n",
    "intraObsId = 9006002\n",
    "extraObsId = 9006001\n",
    "if select_sensor in ['lsstfamcam','comcam']:\n",
    "    obsIdList = [intraObsId, extraObsId]\n",
    "elif (select_sensor == 'lsstcam'):\n",
    "    obsIdList = [intraObsId]\n",
    "    \n"
   ]
  },
  {
   "cell_type": "code",
   "execution_count": 65,
   "metadata": {},
   "outputs": [
    {
     "name": "stdout",
     "output_type": "stream",
     "text": [
      "The skyFile is /epyc/users/suberlak/Commissioning/aos/ts_phosim/notebooks/analysis_scripts/results_wfs/arrowStars_2020_24_noPert/iter0/pert/skyLsstCamInfo.txt\n"
     ]
    }
   ],
   "source": [
    "################################\n",
    "# begin wep_calc._getTargetStar()\n",
    "\n",
    "from lsst.ts.wep.Utility import getModulePath, getConfigDir, BscDbType, \\\n",
    "    FilterType, abbrevDetectorName, getBscDbType, getImageType, \\\n",
    "    getCentroidFindType, ImageType, DefocalType\n",
    "    \n",
    "\n",
    "# Now inside WEPCalculation.py, \n",
    "# Get the target stars map neighboring stars\n",
    "#         neighborStarMap = self._getTargetStar(intraObsIdList,\n",
    "#                                               DefocalType.Intra,\n",
    "#                                               lowMagnitude, highMagnitude)\n",
    "\n",
    "\n",
    "# inside _getTargetStar()\n",
    "# we select the appropriate method to query the database \n",
    "\n",
    "sourSelc = wep_calc.wepCntlr.getSourSelc()\n",
    "bscDbType = wep_calc._getBscDbType()\n",
    "\n",
    "if bscDbType in (BscDbType.LocalDb, BscDbType.LocalDbForStarFile,\n",
    "                         BscDbType.LocalDbFromImage, BscDbType.LocalDbFromRefCat):\n",
    "    dbRelativePath = wep_calc.settingFile.getSetting(\"defaultBscPath\")\n",
    "    dbAdress = os.path.join(getModulePath(), dbRelativePath)\n",
    "    sourSelc.connect(dbAdress)\n",
    "sourSelc.setObsMetaData(wep_calc.raInDeg, wep_calc.decInDeg, \n",
    "                        wep_calc.rotSkyPos)\n",
    "camDimOffset = wep_calc.settingFile.getSetting(\"camDimOffset\")\n",
    "skyFile = wep_calc._assignSkyFile()\n",
    "print('The skyFile is %s'%skyFile)\n"
   ]
  },
  {
   "cell_type": "code",
   "execution_count": 66,
   "metadata": {},
   "outputs": [
    {
     "name": "stdout",
     "output_type": "stream",
     "text": [
      "Using PhosimWcsSol\n",
      "{'visit': 9006002, 'filter': 'g', 'raftName': 'R00', 'detectorName': 'S22'}\n",
      "{'visit': 9006002, 'filter': 'g', 'raftName': 'R04', 'detectorName': 'S20'}\n",
      "{'visit': 9006002, 'filter': 'g', 'raftName': 'R40', 'detectorName': 'S02'}\n",
      "{'visit': 9006002, 'filter': 'g', 'raftName': 'R44', 'detectorName': 'S00'}\n",
      "{'visit': 9006002, 'filter': 'g', 'raftName': 'R00', 'detectorName': 'S22'}\n",
      "{'visit': 9006002, 'filter': 'g', 'raftName': 'R04', 'detectorName': 'S20'}\n",
      "{'visit': 9006002, 'filter': 'g', 'raftName': 'R40', 'detectorName': 'S02'}\n",
      "{'visit': 9006002, 'filter': 'g', 'raftName': 'R44', 'detectorName': 'S00'}\n"
     ]
    }
   ],
   "source": [
    "from lsst.ts.wep.ctrlIntf.PhosimWcsSol import PhosimWcsSol\n",
    "# Now get inside \n",
    "# neighborStarMap = sourSelc.getTargetStarByFile(skyFile, visitList, \n",
    "# offset=camDimOffset)[0]\n",
    "# Get inside SourceSelector.py\n",
    "# to dissect `sourSelc.getTargetStarByFile()`:\n",
    "visitList = obsIdList\n",
    "filterType = sourSelc.getFilter()\n",
    "mappedFilterType = mapFilterRefToG(filterType)\n",
    "if type(sourSelc.camera._wcs) == PhosimWcsSol:\n",
    "    print('Using PhosimWcsSol')\n",
    "    sourSelc.camera._wcs.setWcsDataFromIsrDir(mappedFilterType,\n",
    "                                                sourSelc.camera.getWfsCcdList(),\n",
    "                                            visitList[0])\n",
    "else:\n",
    "    print('Using ', sourSelc.camera._wcs)\n",
    "    \n",
    "skyFilePath = skyFile \n",
    "sourSelc.db.createTable(mappedFilterType)\n",
    "sourSelc.db.insertDataByFile(skyFilePath, mappedFilterType, skiprows=1)"
   ]
  },
  {
   "cell_type": "markdown",
   "metadata": {},
   "source": [
    "The next step would be to do \n",
    "    \n",
    "    neighborStarMap, starMap, wavefrontSensors = self.getTargetStar(offset=offset)\n",
    "\n",
    "where the following is done \n",
    "\n",
    "    wavefrontSensors = self.camera.getWavefrontSensor()\n",
    "    lowMagnitude, highMagnitude = self.filter.getMagBoundary()\n",
    "\n",
    "    # Query the star database\n",
    "    starMap = dict()\n",
    "    neighborStarMap = dict()\n",
    "    for detector, wavefrontSensor in wavefrontSensors.items():\n",
    "\n",
    "        # Get stars in this wavefront sensor for this observation field\n",
    "        stars = self.db.query(mappedFilterType, wavefrontSensor[0],\n",
    "                              wavefrontSensor[1], wavefrontSensor[2],\n",
    "                              wavefrontSensor[3])"
   ]
  },
  {
   "cell_type": "markdown",
   "metadata": {},
   "source": [
    "So I first check the location of each sensor as encoded in `camera.getWavefrontSensor()`"
   ]
  },
  {
   "cell_type": "code",
   "execution_count": 67,
   "metadata": {},
   "outputs": [
    {
     "name": "stdout",
     "output_type": "stream",
     "text": [
      "R:0,0 S:2,2,A\n",
      "R:0,4 S:2,0,A\n",
      "R:4,0 S:0,2,A\n",
      "R:4,4 S:0,0,A\n",
      "R:0,0 S:2,2,B\n",
      "R:0,4 S:2,0,B\n",
      "R:4,0 S:0,2,B\n",
      "R:4,4 S:0,0,B\n"
     ]
    },
    {
     "data": {
      "image/png": "[encoded data removed]",
      "text/plain": [
       "<Figure size 432x288 with 1 Axes>"
      ]
     },
     "metadata": {
      "needs_background": "dark"
     },
     "output_type": "display_data"
    }
   ],
   "source": [
    "%matplotlib inline\n",
    "\n",
    "fig,ax = plt.subplots(1,1,)\n",
    "#thes coords are center of each sensor \n",
    "wavefrontSensors= sourSelc.camera.getWavefrontSensor()\n",
    "for detector, wavefrontSensor in wavefrontSensors.items():\n",
    "    print(detector)#, wavefrontSensor)  \n",
    " \n",
    "    corner1 = wavefrontSensor[0]\n",
    "    corner2 = wavefrontSensor[1]\n",
    "    corner3 = wavefrontSensor[2]\n",
    "    corner4 = wavefrontSensor[3]\n",
    "    ra = np.array([corner1[0], corner2[0], corner3[0], corner4[0]])\n",
    "    decl = np.array([corner1[1], corner2[1], corner3[1], corner4[1]])\n",
    "    \n",
    "    # switch from (0,360) to (-180,180) \n",
    "    # just for plotting \n",
    "    m = ra>180\n",
    "    ra[m] = ra[m] - 360\n",
    "    #print(ra)\n",
    "    #print(decl)\n",
    "    ax.scatter(ra,decl)\n",
    "ax.set_xlabel('Ra [deg]')\n",
    "ax.set_xlabel('Decl [deg]')\n",
    "ax.grid()"
   ]
  },
  {
   "cell_type": "markdown",
   "metadata": {},
   "source": [
    "Compare that to the information in sky file. First, plot the perceived detector boundaries atop the skyFile : those are the boundaries used to query the database  "
   ]
  },
  {
   "cell_type": "code",
   "execution_count": 68,
   "metadata": {},
   "outputs": [
    {
     "data": {
      "text/plain": [
       "Text(0, 0.5, 'Decl')"
      ]
     },
     "execution_count": 68,
     "metadata": {},
     "output_type": "execute_result"
    },
    {
     "data": {
      "image/png": "[encoded data removed]",
      "text/plain": [
       "<Figure size 504x504 with 1 Axes>"
      ]
     },
     "metadata": {
      "needs_background": "dark"
     },
     "output_type": "display_data"
    }
   ],
   "source": [
    "skyInfo = np.loadtxt(skyFilePath,skiprows=1)\n",
    "\n",
    "skyStarId = skyInfo[:,0] ; skyRa = skyInfo[:,1] ; skyDecl = skyInfo[:,2] ; skyMag =skyInfo[:,3]\n",
    "\n",
    "\n",
    "fig,ax = plt.subplots(1,1,figsize=(7,7))\n",
    "\n",
    "#the coords are center of each sensor from \n",
    "# sourSelc.camera.getWavefrontSensor()\n",
    "wavefrontSensors= sourSelc.camera.getWavefrontSensor()\n",
    "for detector, wavefrontSensor in wavefrontSensors.items():\n",
    "    #print(detector)#, wavefrontSensor)  \n",
    " \n",
    "    corner1 = wavefrontSensor[0]\n",
    "    corner2 = wavefrontSensor[1]\n",
    "    corner3 = wavefrontSensor[2]\n",
    "    corner4 = wavefrontSensor[3]\n",
    "    ra = np.array([corner1[0], corner2[0], corner3[0], corner4[0]])\n",
    "    decl = np.array([corner1[1], corner2[1], corner3[1], corner4[1]])\n",
    "    m = ra>180\n",
    "    ra[m] = ra[m] - 360\n",
    "    #print(ra)\n",
    "    #print(decl)\n",
    "    ax.scatter(ra,decl)\n",
    "skyRaShifted = skyRa.copy()\n",
    "mask = skyRa > 180\n",
    "skyRaShifted[mask] = skyRaShifted[mask]-360\n",
    "ax.scatter(skyRaShifted, skyDecl,s=4)\n",
    "ax.set_xlabel('RA')\n",
    "ax.set_ylabel('Decl')\n"
   ]
  },
  {
   "cell_type": "markdown",
   "metadata": {},
   "source": [
    "They're off when using `PhosimWcsSol` !   In fact, show the result of querying the star database  for `R:0,4 S:2,0,A` , plotting the stars.getRA , stars.getDecl atop the input star catalog , showing which stars get selected based on the detector boundaries : "
   ]
  },
  {
   "cell_type": "code",
   "execution_count": 69,
   "metadata": {},
   "outputs": [],
   "source": [
    "# Query the star database\n",
    "starMap = dict()\n",
    "neighborStarMap = dict()\n",
    "\n",
    "# do it for a second set of stars ... \n",
    "#for detector, wavefrontSensor in wavefrontSensors.items():\n",
    "\n",
    "detector = 'R:0,4 S:2,0,A'\n",
    "wavefrontSensor = wavefrontSensors[detector]\n",
    "\n",
    "# Get stars in this wavefront sensor for this observation field\n",
    "stars = sourSelc.db.query(mappedFilterType, wavefrontSensor[0],\n",
    "                          wavefrontSensor[1], wavefrontSensor[2],\n",
    "                          wavefrontSensor[3])"
   ]
  },
  {
   "cell_type": "code",
   "execution_count": 70,
   "metadata": {},
   "outputs": [
    {
     "data": {
      "text/plain": [
       "<matplotlib.collections.PathCollection at 0x7f5cb5b59f10>"
      ]
     },
     "execution_count": 70,
     "metadata": {},
     "output_type": "execute_result"
    },
    {
     "data": {
      "image/png": "[encoded data removed]",
      "text/plain": [
       "<Figure size 432x288 with 1 Axes>"
      ]
     },
     "metadata": {
      "needs_background": "dark"
     },
     "output_type": "display_data"
    }
   ],
   "source": [
    "# the database is filled with LocalDatabaseForStarFile.insertDataByFile\n",
    "# it is queried with DefaultDatabase.query that passes to \n",
    "# LocalDatabase._queryTable\n",
    "\n",
    "# for one sensor only, as selected above \n",
    "corner1=wavefrontSensor[0]\n",
    "corner2=wavefrontSensor[1]\n",
    "corner3=wavefrontSensor[2]\n",
    "corner4=wavefrontSensor[3]\n",
    "ra = [corner1[0], corner2[0], corner3[0], corner4[0]]\n",
    "decl = [corner1[1], corner2[1], corner3[1], corner4[1]]\n",
    "top = max(decl)\n",
    "bottom = min(decl)\n",
    "left = min(ra)\n",
    "right = max(ra)\n",
    "\n",
    "# same as \n",
    "#  command = \"SELECT simobjid, ra, decl, \" + \\\n",
    "#       filterType.name.lower() + \"mag\" + \\\n",
    "#       \" FROM \" + tableName + \\\n",
    "#       \" WHERE decl <= %f AND decl >= %f AND ra >= %f AND ra <= %f\"\n",
    "m = (skyDecl <= top) *(skyDecl >= bottom)*(skyRa >= left) *(skyRa <= right) \n",
    "\n",
    "# just for plotting \n",
    "# mask = skyRa > 180\n",
    "# skyRaShifted = skyRa.copy()\n",
    "# skyRaShifted[mask] = skyRaShifted[mask]-360\n",
    "plt.scatter(skyRa[m], skyDecl[m], marker='s', s=65)\n",
    "plt.scatter(stars.getRA(),stars.getDecl(),marker='+',c='r')"
   ]
  },
  {
   "cell_type": "markdown",
   "metadata": {},
   "source": [
    "So the problem is that not all the stars get selected..."
   ]
  },
  {
   "cell_type": "code",
   "execution_count": null,
   "metadata": {},
   "outputs": [],
   "source": []
  },
  {
   "cell_type": "markdown",
   "metadata": {},
   "source": [
    "Show how I got the arrow stars (ra,dec) coordinates using SkySim : "
   ]
  },
  {
   "cell_type": "code",
   "execution_count": 71,
   "metadata": {},
   "outputs": [
    {
     "name": "stdout",
     "output_type": "stream",
     "text": [
      "[1500 1500 1500 1500] [1900 2200 2500 2800]\n",
      "[ 400  700 1000 1300] [3000 3000 3000 3000]\n",
      "y=1.00x 1500.00\n",
      "[ 200  400  600  800 1000 1200 1400] [1700. 1900. 2100. 2300. 2500. 2700. 2900.]\n",
      "[1500. 1500. 1500. 1500.  400.  700. 1000. 1300.  200.  400.  600.  800.\n",
      " 1000. 1200. 1400. 1500.] [1900. 2200. 2500. 2800. 3000. 3000. 3000. 3000. 1700. 1900. 2100. 2300.\n",
      " 2500. 2700. 2900. 3000.]\n"
     ]
    }
   ],
   "source": [
    "from lsst.ts.phosim.SkySim import SkySim\n",
    "import sys\n",
    "sys.path.append('/epyc/users/suberlak/Commissioning/aos/ts_phosim/notebooks/analysis_tools/')\n",
    "import analysisTools as at\n",
    "\n",
    "mjd = 57648  # arbitrary observation date \n",
    "raInDeg = 0 # telescope pointing in degrees \n",
    "declInDeg = 0\n",
    "rotSkyPos = 0 # rotation angle in degrees \n",
    "starMag = 15 # star magnitude \n",
    "\n",
    "# Declare the SkySim()\n",
    "skySim = SkySim()\n",
    "\n",
    "# Set the observation information\n",
    "skySim.setObservationMetaData(raInDeg, declInDeg, rotSkyPos, mjd)\n",
    "\n",
    "sensorName = [\"R44_S00_C0\", \"R00_S22_C0\",\n",
    "              \"R40_S02_C0\", \"R04_S20_C0\",\n",
    "              \"R44_S00_C1\", \"R00_S22_C1\",\n",
    "              \"R40_S02_C1\", \"R04_S20_C1\",\n",
    "             ]\n",
    "\n",
    "# add arrows  per half-sensor \n",
    "xPx, yPx = at.pixel_arrow(x_vertex=1500, y_vertex=3000, width=1100, \n",
    "                spacing=300, diag_spacing=200, xmin=0, xmax=2000,\n",
    "                ymin=0, ymax=4072, xy_offset=1300, print_shape=False )\n",
    "\n",
    "\n",
    "from astropy.table import Table\n",
    "store_x = []\n",
    "store_y = []\n",
    "store_sen = [] \n",
    "imType = []\n",
    "\n",
    "starId = 0 \n",
    "for sensor in sensorName:\n",
    "    for i in range(len(xPx)):\n",
    "        skySim.addStarByChipPos(sensor, starId, xPx[i],\n",
    "                                yPx[i], starMag)\n",
    "        store_x.append(xPx[i])\n",
    "        store_y.append(yPx[i])\n",
    "        store_sen.append(sensor)\n",
    "        imType.append('arrow')\n",
    "        starId += 1 \n",
    "        \n",
    "# add outlines per half-sensor ... \n",
    "xPx, yPx = at.pixel_outline(xmin=0,  xmax=2000, ymin=0, \n",
    "                            ymax=4072,print_shape=False)\n",
    " \n",
    "for sensor in sensorName:\n",
    "    for i in range(len(xPx)):\n",
    "        skySim.addStarByChipPos(sensor, starId, xPx[i],\n",
    "                                yPx[i], starMag)\n",
    "        store_x.append(xPx[i])\n",
    "        store_y.append(yPx[i])\n",
    "        store_sen.append(sensor)\n",
    "        imType.append('outline')\n",
    "        starId += 1 \n",
    "        \n",
    "ra,dec = skySim.getRaDecInDeg()\n",
    "\n",
    "coords_wfs = Table(data=[ra,dec, store_x,store_y, store_sen, imType], \n",
    "             names=['ra','dec', 'xPx', 'yPx', 'sensorName', 'imType']  )\n",
    "\n",
    "\n",
    "# shift just for plotting \n",
    "m = coords_wfs['ra']>180\n",
    "coords_wfs['ra'][m]  = coords_wfs['ra'][m]-360\n",
    "\n"
   ]
  },
  {
   "cell_type": "markdown",
   "metadata": {},
   "source": [
    "Plot the SkySim detector outlines as well as arrows, on top of the `sourSelc.camera.getWavefrontSensor` detector boundaries :"
   ]
  },
  {
   "cell_type": "code",
   "execution_count": 73,
   "metadata": {},
   "outputs": [
    {
     "name": "stdout",
     "output_type": "stream",
     "text": [
      "R:0,0 S:2,2,A\n",
      "R:0,4 S:2,0,A\n",
      "R:4,0 S:0,2,A\n",
      "R:4,4 S:0,0,A\n",
      "R:0,0 S:2,2,B\n",
      "R:0,4 S:2,0,B\n",
      "R:4,0 S:0,2,B\n",
      "R:4,4 S:0,0,B\n"
     ]
    },
    {
     "data": {
      "image/png": "[encoded data removed]",
      "text/plain": [
       "<Figure size 648x648 with 1 Axes>"
      ]
     },
     "metadata": {
      "needs_background": "dark"
     },
     "output_type": "display_data"
    }
   ],
   "source": [
    "fig,ax = plt.subplots(1,1,figsize=(9,9))\n",
    "lim = 1.9\n",
    "\n",
    "\n",
    "wavefrontSensors= sourSelc.camera.getWavefrontSensor()\n",
    "for detector, wavefrontSensor in wavefrontSensors.items():\n",
    "    print(detector)#, wavefrontSensor)  \n",
    " \n",
    "    corner1 = wavefrontSensor[0]\n",
    "    corner2 = wavefrontSensor[1]\n",
    "    corner3 = wavefrontSensor[2]\n",
    "    corner4 = wavefrontSensor[3]\n",
    "    ra = np.array([corner1[0], corner2[0], corner3[0], corner4[0]])\n",
    "    decl = np.array([corner1[1], corner2[1], corner3[1], corner4[1]])\n",
    "    m = ra>180\n",
    "    ra[m] = ra[m] - 360\n",
    "    #print(ra)\n",
    "    #print(decl)\n",
    "    ax.scatter(ra,decl)\n",
    "    \n",
    "\n",
    "\n",
    "# plot WFS (LsstCam)\n",
    "for part,color in zip(['C0','C1'], ['blue','orange']):\n",
    "    m = [s.endswith(part) for s in coords_wfs['sensorName']]\n",
    "    ax.scatter(coords_wfs['ra'][m], coords_wfs['dec'][m],c=color,s=1)\n",
    "    ax.set_xlim(-lim,lim)\n",
    "    ax.set_ylim(-lim,lim)\n",
    "    \n",
    "\n",
    "ax.set_xlabel('RA')\n",
    "ax.set_ylabel('Decl')\n",
    "\n",
    "ax.grid()\n",
    "if expWcs :\n",
    "    title  = \"Phosim\"\n",
    "else:\n",
    "    title = \"\"\n",
    "plt.title('SkySim (arrows)  vs %sWcsSol (thick dots)'%title)\n",
    "plt.savefig('SkySim_corner_sensors_%sWcsSol.png'%title,bbox_inches='tight')\n"
   ]
  },
  {
   "cell_type": "code",
   "execution_count": 72,
   "metadata": {},
   "outputs": [
    {
     "data": {
      "text/plain": [
       "True"
      ]
     },
     "execution_count": 72,
     "metadata": {},
     "output_type": "execute_result"
    }
   ],
   "source": [
    "expWcs\n"
   ]
  },
  {
   "cell_type": "code",
   "execution_count": null,
   "metadata": {},
   "outputs": [],
   "source": []
  }
 ],
 "metadata": {
  "kernelspec": {
   "display_name": "lsst_phosim",
   "language": "python",
   "name": "lsst_phosim"
  },
  "language_info": {
   "codemirror_mode": {
    "name": "ipython",
    "version": 3
   },
   "file_extension": ".py",
   "mimetype": "text/x-python",
   "name": "python",
   "nbconvert_exporter": "python",
   "pygments_lexer": "ipython3",
   "version": "3.7.6"
  }
 },
 "nbformat": 4,
 "nbformat_minor": 2
}
